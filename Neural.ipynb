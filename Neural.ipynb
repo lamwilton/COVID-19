{
 "cells": [
  {
   "cell_type": "markdown",
   "source": [
    "# Multilayer perceptron Neural net for county level medicare and COVID-19 data  \n",
    "Author: Ting Fung Lam  \n",
    "Predicts number of cases/deaths of covid-19 of a county"
   ],
   "metadata": {
    "collapsed": false,
    "pycharm": {
     "name": "#%% md\n"
    }
   }
  },
  {
   "cell_type": "markdown",
   "source": [
    "Reading data and  \n",
    "Selecting only columns of interest from medicare_df and filling nulls"
   ],
   "metadata": {
    "collapsed": false,
    "pycharm": {
     "name": "#%% md\n"
    }
   }
  },
  {
   "cell_type": "code",
   "execution_count": 20,
   "metadata": {
    "collapsed": true,
    "pycharm": {
     "is_executing": false
    }
   },
   "outputs": [
    {
     "name": "stderr",
     "text": [
      "c:\\users\\administrator\\appdata\\local\\programs\\python\\python38\\lib\\site-packages\\IPython\\core\\interactiveshell.py:3062: DtypeWarning: Columns (10) have mixed types.Specify dtype option on import or set low_memory=False.\n  has_raised = await self.run_ast_nodes(code_ast.body, cell_name,\n"
     ],
     "output_type": "stream"
    },
    {
     "data": {
      "text/plain": "    Zip_Code  NUM_HCPCS  NUM_Services  NUM_Medicare_BEN  \\\n0  215021854         23        1670.0               578   \n1  602011718         20        8149.0              3703   \n2  436233536         60        3085.0               278   \n3  158251367         29         857.0               260   \n4  441061716         29         155.0                71   \n\n   Total_Submitted_Charge_Amount  Total_Medicare_Allowed_Amount  \\\n0                       800850.0                      177181.14   \n1                      1272161.0                      319561.26   \n2                       288873.0                      161220.25   \n3                       132744.0                       88655.94   \n4                        33700.0                       14572.28   \n\n   Total_Medicare_Payment_Amount  Total_Medicare_Standardized_Payment_Amount  \\\n0                      137084.55                                   138279.12   \n1                      243698.97                                   235917.60   \n2                      119726.66                                   123488.10   \n3                       66084.78                                    70643.97   \n4                       11244.68                                    12001.69   \n\n   NUM_HCPCS_Associated_With_Drug_Services  NUM_Drug_Services  ...  \\\n0                                      0.0                0.0  ...   \n1                                      0.0                0.0  ...   \n2                                      2.0             1609.0  ...   \n3                                      0.0                0.0  ...   \n4                                      0.0                0.0  ...   \n\n   PCT_BEN_Depression  PCT_BEN_Diabetes  PCT_BEN_Hyperlipidemia  \\\n0                46.0              51.0                    67.0   \n1                12.0              20.0                    34.0   \n2                45.0              41.0                    50.0   \n3                50.0              44.0                    66.0   \n4                21.0              20.0                    35.0   \n\n   PCT_BEN_Hypertension  PCT_BEN_Ischemic_Heart_Disease  PCT_BEN_Osteoporosis  \\\n0                  75.0                            56.0                   9.0   \n1                  55.0                            27.0                   9.0   \n2                  74.0                            39.0                  10.0   \n3                  75.0                            64.0                  20.0   \n4                  48.0                            23.0                  15.0   \n\n   PCT_BEN_Rheumatoid_Arthritis_Osteoarthritis  \\\n0                                         49.0   \n1                                         36.0   \n2                                         75.0   \n3                                         48.0   \n4                                         42.0   \n\n   PCT_BEN_Schizophrenia_Other_Psychotic_Disorders  PCT_BEN_Stroke  \\\n0                                              8.0            13.0   \n1                                              1.0             3.0   \n2                                              4.0             5.0   \n3                                             13.0            11.0   \n4                                              0.0             0.0   \n\n   Average_HCC_Risk_Score_of_BEN  \n0                         2.1178  \n1                         1.1024  \n2                         1.6807  \n3                         2.1173  \n4                         1.0032  \n\n[5 rows x 54 columns]",
      "text/html": "<div>\n<style scoped>\n    .dataframe tbody tr th:only-of-type {\n        vertical-align: middle;\n    }\n\n    .dataframe tbody tr th {\n        vertical-align: top;\n    }\n\n    .dataframe thead th {\n        text-align: right;\n    }\n</style>\n<table border=\"1\" class=\"dataframe\">\n  <thead>\n    <tr style=\"text-align: right;\">\n      <th></th>\n      <th>Zip_Code</th>\n      <th>NUM_HCPCS</th>\n      <th>NUM_Services</th>\n      <th>NUM_Medicare_BEN</th>\n      <th>Total_Submitted_Charge_Amount</th>\n      <th>Total_Medicare_Allowed_Amount</th>\n      <th>Total_Medicare_Payment_Amount</th>\n      <th>Total_Medicare_Standardized_Payment_Amount</th>\n      <th>NUM_HCPCS_Associated_With_Drug_Services</th>\n      <th>NUM_Drug_Services</th>\n      <th>...</th>\n      <th>PCT_BEN_Depression</th>\n      <th>PCT_BEN_Diabetes</th>\n      <th>PCT_BEN_Hyperlipidemia</th>\n      <th>PCT_BEN_Hypertension</th>\n      <th>PCT_BEN_Ischemic_Heart_Disease</th>\n      <th>PCT_BEN_Osteoporosis</th>\n      <th>PCT_BEN_Rheumatoid_Arthritis_Osteoarthritis</th>\n      <th>PCT_BEN_Schizophrenia_Other_Psychotic_Disorders</th>\n      <th>PCT_BEN_Stroke</th>\n      <th>Average_HCC_Risk_Score_of_BEN</th>\n    </tr>\n  </thead>\n  <tbody>\n    <tr>\n      <th>0</th>\n      <td>215021854</td>\n      <td>23</td>\n      <td>1670.0</td>\n      <td>578</td>\n      <td>800850.0</td>\n      <td>177181.14</td>\n      <td>137084.55</td>\n      <td>138279.12</td>\n      <td>0.0</td>\n      <td>0.0</td>\n      <td>...</td>\n      <td>46.0</td>\n      <td>51.0</td>\n      <td>67.0</td>\n      <td>75.0</td>\n      <td>56.0</td>\n      <td>9.0</td>\n      <td>49.0</td>\n      <td>8.0</td>\n      <td>13.0</td>\n      <td>2.1178</td>\n    </tr>\n    <tr>\n      <th>1</th>\n      <td>602011718</td>\n      <td>20</td>\n      <td>8149.0</td>\n      <td>3703</td>\n      <td>1272161.0</td>\n      <td>319561.26</td>\n      <td>243698.97</td>\n      <td>235917.60</td>\n      <td>0.0</td>\n      <td>0.0</td>\n      <td>...</td>\n      <td>12.0</td>\n      <td>20.0</td>\n      <td>34.0</td>\n      <td>55.0</td>\n      <td>27.0</td>\n      <td>9.0</td>\n      <td>36.0</td>\n      <td>1.0</td>\n      <td>3.0</td>\n      <td>1.1024</td>\n    </tr>\n    <tr>\n      <th>2</th>\n      <td>436233536</td>\n      <td>60</td>\n      <td>3085.0</td>\n      <td>278</td>\n      <td>288873.0</td>\n      <td>161220.25</td>\n      <td>119726.66</td>\n      <td>123488.10</td>\n      <td>2.0</td>\n      <td>1609.0</td>\n      <td>...</td>\n      <td>45.0</td>\n      <td>41.0</td>\n      <td>50.0</td>\n      <td>74.0</td>\n      <td>39.0</td>\n      <td>10.0</td>\n      <td>75.0</td>\n      <td>4.0</td>\n      <td>5.0</td>\n      <td>1.6807</td>\n    </tr>\n    <tr>\n      <th>3</th>\n      <td>158251367</td>\n      <td>29</td>\n      <td>857.0</td>\n      <td>260</td>\n      <td>132744.0</td>\n      <td>88655.94</td>\n      <td>66084.78</td>\n      <td>70643.97</td>\n      <td>0.0</td>\n      <td>0.0</td>\n      <td>...</td>\n      <td>50.0</td>\n      <td>44.0</td>\n      <td>66.0</td>\n      <td>75.0</td>\n      <td>64.0</td>\n      <td>20.0</td>\n      <td>48.0</td>\n      <td>13.0</td>\n      <td>11.0</td>\n      <td>2.1173</td>\n    </tr>\n    <tr>\n      <th>4</th>\n      <td>441061716</td>\n      <td>29</td>\n      <td>155.0</td>\n      <td>71</td>\n      <td>33700.0</td>\n      <td>14572.28</td>\n      <td>11244.68</td>\n      <td>12001.69</td>\n      <td>0.0</td>\n      <td>0.0</td>\n      <td>...</td>\n      <td>21.0</td>\n      <td>20.0</td>\n      <td>35.0</td>\n      <td>48.0</td>\n      <td>23.0</td>\n      <td>15.0</td>\n      <td>42.0</td>\n      <td>0.0</td>\n      <td>0.0</td>\n      <td>1.0032</td>\n    </tr>\n  </tbody>\n</table>\n<p>5 rows × 54 columns</p>\n</div>"
     },
     "metadata": {},
     "output_type": "execute_result",
     "execution_count": 20
    }
   ],
   "source": [
    "import pandas as pd\n",
    "\n",
    "hospital_df = pd.read_csv(\"Hospitals_County_COVID_4.10.20.csv\", thousands=',')\n",
    "medicare_df = pd.read_csv(\"Medicare_2017.csv\", thousands=',')\n",
    "column_list = ['Zip_Code', 'NUM_HCPCS', 'NUM_Services', 'NUM_Medicare_BEN',\n",
    "               'Total_Submitted_Charge_Amount', 'Total_Medicare_Allowed_Amount',\n",
    "               'Total_Medicare_Payment_Amount',\n",
    "               'Total_Medicare_Standardized_Payment_Amount',\n",
    "               'NUM_HCPCS_Associated_With_Drug_Services', 'NUM_Drug_Services',\n",
    "               'NUM_Medicare_BEN_With_Drug_Services',\n",
    "               'Total_Drug_Submitted_Charge_Amount',\n",
    "               'Total_Drug_Medicare_Allowed_Amount',\n",
    "               'Total_Drug_Medicare_Payment_Amount',\n",
    "               'Total_Drug_Medicare_Standardized_Payment_Amount',\n",
    "               'NUM_HCPCS_Associated_With_Medical_Services', 'NUM_Medical_Services',\n",
    "               'NUM_Medicare_BEN_With_Medical_Services',\n",
    "               'Total_Medical_Submitted_Charge_Amount',\n",
    "               'Total_Medical_Medicare_Allowed_Amount',\n",
    "               'Total_Medical_Medicare_Payment_Amount',\n",
    "               'Total_Medical_Medicare_Standardized_Payment_Amount',\n",
    "               'Average_Age_of_BEN', 'NUM_BEN_Age_Less_65', 'NUM_BEN_Age_65_to_74',\n",
    "               'NUM_BEN_Age_75_to_84', 'NUM_BEN_Age_Greater_84', 'NUM_Female_BEN',\n",
    "               'NUM_Male_BEN', 'NUM_Non-Hispanic_White_BEN',\n",
    "               'NUM_Black_or_African_American_BEN', 'NUM_Asian_Pacific_Islander_BEN',\n",
    "               'NUM_Hispanic_BEN', 'NUM_American_IndianAlaska_Native_BEN',\n",
    "               'NUM_BEN_With_Race_Not_Elsewhere_Classified',\n",
    "               'NUM_BEN_With_Medicare_Only_Entitlement',\n",
    "               'NUM_BEN_With_Medicare_Medicaid_Entitlement',\n",
    "               'PCT_BEN_Atrial_Fibrillation', 'PCT_BEN_Alzheimers_Disease_or_Dementia',\n",
    "               'PCT_BEN_Asthma', 'PCT_BEN_Cancer', 'PCT_BEN_Heart_Failure',\n",
    "               'PCT_BEN_Chronic_Kidney_Disease',\n",
    "               'PCT_BEN_Chronic_Obstructive_Pulmonary_Disease', 'PCT_BEN_Depression',\n",
    "               'PCT_BEN_Diabetes', 'PCT_BEN_Hyperlipidemia', 'PCT_BEN_Hypertension',\n",
    "               'PCT_BEN_Ischemic_Heart_Disease', 'PCT_BEN_Osteoporosis',\n",
    "               'PCT_BEN_Rheumatoid_Arthritis_Osteoarthritis',\n",
    "               'PCT_BEN_Schizophrenia_Other_Psychotic_Disorders', 'PCT_BEN_Stroke',\n",
    "               'Average_HCC_Risk_Score_of_BEN']\n",
    "medicare_df = medicare_df[column_list]\n",
    "medicare_df = medicare_df.fillna(0)\n",
    "medicare_df.head()"
   ]
  },
  {
   "cell_type": "markdown",
   "source": [
    "Formatting the Zip_Code column "
   ],
   "metadata": {
    "collapsed": false,
    "pycharm": {
     "name": "#%% md\n"
    }
   }
  },
  {
   "cell_type": "code",
   "execution_count": 21,
   "outputs": [
    {
     "data": {
      "text/plain": "   Zip_Code  NUM_HCPCS  NUM_Services  NUM_Medicare_BEN  \\\n0   21502.0         23        1670.0               578   \n1   60201.0         20        8149.0              3703   \n2   43623.0         60        3085.0               278   \n3   15825.0         29         857.0               260   \n4   44106.0         29         155.0                71   \n\n   Total_Submitted_Charge_Amount  Total_Medicare_Allowed_Amount  \\\n0                       800850.0                      177181.14   \n1                      1272161.0                      319561.26   \n2                       288873.0                      161220.25   \n3                       132744.0                       88655.94   \n4                        33700.0                       14572.28   \n\n   Total_Medicare_Payment_Amount  Total_Medicare_Standardized_Payment_Amount  \\\n0                      137084.55                                   138279.12   \n1                      243698.97                                   235917.60   \n2                      119726.66                                   123488.10   \n3                       66084.78                                    70643.97   \n4                       11244.68                                    12001.69   \n\n   NUM_HCPCS_Associated_With_Drug_Services  NUM_Drug_Services  ...  \\\n0                                      0.0                0.0  ...   \n1                                      0.0                0.0  ...   \n2                                      2.0             1609.0  ...   \n3                                      0.0                0.0  ...   \n4                                      0.0                0.0  ...   \n\n   PCT_BEN_Depression  PCT_BEN_Diabetes  PCT_BEN_Hyperlipidemia  \\\n0                46.0              51.0                    67.0   \n1                12.0              20.0                    34.0   \n2                45.0              41.0                    50.0   \n3                50.0              44.0                    66.0   \n4                21.0              20.0                    35.0   \n\n   PCT_BEN_Hypertension  PCT_BEN_Ischemic_Heart_Disease  PCT_BEN_Osteoporosis  \\\n0                  75.0                            56.0                   9.0   \n1                  55.0                            27.0                   9.0   \n2                  74.0                            39.0                  10.0   \n3                  75.0                            64.0                  20.0   \n4                  48.0                            23.0                  15.0   \n\n   PCT_BEN_Rheumatoid_Arthritis_Osteoarthritis  \\\n0                                         49.0   \n1                                         36.0   \n2                                         75.0   \n3                                         48.0   \n4                                         42.0   \n\n   PCT_BEN_Schizophrenia_Other_Psychotic_Disorders  PCT_BEN_Stroke  \\\n0                                              8.0            13.0   \n1                                              1.0             3.0   \n2                                              4.0             5.0   \n3                                             13.0            11.0   \n4                                              0.0             0.0   \n\n   Average_HCC_Risk_Score_of_BEN  \n0                         2.1178  \n1                         1.1024  \n2                         1.6807  \n3                         2.1173  \n4                         1.0032  \n\n[5 rows x 54 columns]",
      "text/html": "<div>\n<style scoped>\n    .dataframe tbody tr th:only-of-type {\n        vertical-align: middle;\n    }\n\n    .dataframe tbody tr th {\n        vertical-align: top;\n    }\n\n    .dataframe thead th {\n        text-align: right;\n    }\n</style>\n<table border=\"1\" class=\"dataframe\">\n  <thead>\n    <tr style=\"text-align: right;\">\n      <th></th>\n      <th>Zip_Code</th>\n      <th>NUM_HCPCS</th>\n      <th>NUM_Services</th>\n      <th>NUM_Medicare_BEN</th>\n      <th>Total_Submitted_Charge_Amount</th>\n      <th>Total_Medicare_Allowed_Amount</th>\n      <th>Total_Medicare_Payment_Amount</th>\n      <th>Total_Medicare_Standardized_Payment_Amount</th>\n      <th>NUM_HCPCS_Associated_With_Drug_Services</th>\n      <th>NUM_Drug_Services</th>\n      <th>...</th>\n      <th>PCT_BEN_Depression</th>\n      <th>PCT_BEN_Diabetes</th>\n      <th>PCT_BEN_Hyperlipidemia</th>\n      <th>PCT_BEN_Hypertension</th>\n      <th>PCT_BEN_Ischemic_Heart_Disease</th>\n      <th>PCT_BEN_Osteoporosis</th>\n      <th>PCT_BEN_Rheumatoid_Arthritis_Osteoarthritis</th>\n      <th>PCT_BEN_Schizophrenia_Other_Psychotic_Disorders</th>\n      <th>PCT_BEN_Stroke</th>\n      <th>Average_HCC_Risk_Score_of_BEN</th>\n    </tr>\n  </thead>\n  <tbody>\n    <tr>\n      <th>0</th>\n      <td>21502.0</td>\n      <td>23</td>\n      <td>1670.0</td>\n      <td>578</td>\n      <td>800850.0</td>\n      <td>177181.14</td>\n      <td>137084.55</td>\n      <td>138279.12</td>\n      <td>0.0</td>\n      <td>0.0</td>\n      <td>...</td>\n      <td>46.0</td>\n      <td>51.0</td>\n      <td>67.0</td>\n      <td>75.0</td>\n      <td>56.0</td>\n      <td>9.0</td>\n      <td>49.0</td>\n      <td>8.0</td>\n      <td>13.0</td>\n      <td>2.1178</td>\n    </tr>\n    <tr>\n      <th>1</th>\n      <td>60201.0</td>\n      <td>20</td>\n      <td>8149.0</td>\n      <td>3703</td>\n      <td>1272161.0</td>\n      <td>319561.26</td>\n      <td>243698.97</td>\n      <td>235917.60</td>\n      <td>0.0</td>\n      <td>0.0</td>\n      <td>...</td>\n      <td>12.0</td>\n      <td>20.0</td>\n      <td>34.0</td>\n      <td>55.0</td>\n      <td>27.0</td>\n      <td>9.0</td>\n      <td>36.0</td>\n      <td>1.0</td>\n      <td>3.0</td>\n      <td>1.1024</td>\n    </tr>\n    <tr>\n      <th>2</th>\n      <td>43623.0</td>\n      <td>60</td>\n      <td>3085.0</td>\n      <td>278</td>\n      <td>288873.0</td>\n      <td>161220.25</td>\n      <td>119726.66</td>\n      <td>123488.10</td>\n      <td>2.0</td>\n      <td>1609.0</td>\n      <td>...</td>\n      <td>45.0</td>\n      <td>41.0</td>\n      <td>50.0</td>\n      <td>74.0</td>\n      <td>39.0</td>\n      <td>10.0</td>\n      <td>75.0</td>\n      <td>4.0</td>\n      <td>5.0</td>\n      <td>1.6807</td>\n    </tr>\n    <tr>\n      <th>3</th>\n      <td>15825.0</td>\n      <td>29</td>\n      <td>857.0</td>\n      <td>260</td>\n      <td>132744.0</td>\n      <td>88655.94</td>\n      <td>66084.78</td>\n      <td>70643.97</td>\n      <td>0.0</td>\n      <td>0.0</td>\n      <td>...</td>\n      <td>50.0</td>\n      <td>44.0</td>\n      <td>66.0</td>\n      <td>75.0</td>\n      <td>64.0</td>\n      <td>20.0</td>\n      <td>48.0</td>\n      <td>13.0</td>\n      <td>11.0</td>\n      <td>2.1173</td>\n    </tr>\n    <tr>\n      <th>4</th>\n      <td>44106.0</td>\n      <td>29</td>\n      <td>155.0</td>\n      <td>71</td>\n      <td>33700.0</td>\n      <td>14572.28</td>\n      <td>11244.68</td>\n      <td>12001.69</td>\n      <td>0.0</td>\n      <td>0.0</td>\n      <td>...</td>\n      <td>21.0</td>\n      <td>20.0</td>\n      <td>35.0</td>\n      <td>48.0</td>\n      <td>23.0</td>\n      <td>15.0</td>\n      <td>42.0</td>\n      <td>0.0</td>\n      <td>0.0</td>\n      <td>1.0032</td>\n    </tr>\n  </tbody>\n</table>\n<p>5 rows × 54 columns</p>\n</div>"
     },
     "metadata": {},
     "output_type": "execute_result",
     "execution_count": 21
    }
   ],
   "source": [
    "medicare_df['Zip_Code'] = medicare_df['Zip_Code'].astype(str).str.slice(stop=5)\n",
    "medicare_df['Zip_Code'] = medicare_df.apply(pd.to_numeric, errors='coerce')\n",
    "medicare_df = medicare_df.fillna(0)\n",
    "medicare_df.head()"
   ],
   "metadata": {
    "collapsed": false,
    "pycharm": {
     "name": "#%%\n",
     "is_executing": false
    }
   }
  },
  {
   "cell_type": "markdown",
   "source": [
    "Compute sum and average for the respective columns of medicare table, group by Zip_Code  \n",
    "Then put them back together by concat"
   ],
   "metadata": {
    "collapsed": false,
    "pycharm": {
     "name": "#%% md\n"
    }
   }
  },
  {
   "cell_type": "code",
   "execution_count": 22,
   "outputs": [
    {
     "data": {
      "text/plain": "   Zip_Code  NUM_HCPCS  NUM_Services  NUM_Medicare_BEN  \\\n0       0.0        497       13702.0              5457   \n1       1.0         69         926.0               384   \n2      80.0         12         195.0                77   \n3      96.0          6          67.0                27   \n4     115.0         18        1154.0               450   \n\n   Total_Submitted_Charge_Amount  Total_Medicare_Allowed_Amount  \\\n0                     4220040.48                     1223773.71   \n1                      381997.00                       92143.88   \n2                       14742.98                       14616.36   \n3                       11719.90                       11719.90   \n4                      437354.00                      120603.99   \n\n   Total_Medicare_Payment_Amount  Total_Medicare_Standardized_Payment_Amount  \\\n0                      918604.37                                   917482.14   \n1                       70859.78                                    76989.29   \n2                        9455.60                                    11451.76   \n3                        8796.86                                     9888.65   \n4                       92876.22                                    90738.11   \n\n   NUM_HCPCS_Associated_With_Drug_Services  NUM_Drug_Services  ...  \\\n0                                      2.0              278.0  ...   \n1                                      0.0                0.0  ...   \n2                                      0.0                0.0  ...   \n3                                      0.0                0.0  ...   \n4                                      0.0                0.0  ...   \n\n   NUM_Female_BEN  NUM_Male_BEN  NUM_Non-Hispanic_White_BEN  \\\n0          3057.0        2336.0                      3960.0   \n1           221.0         163.0                       367.0   \n2             0.0           0.0                         0.0   \n3             0.0           0.0                         0.0   \n4           249.0         201.0                       414.0   \n\n   NUM_Black_or_African_American_BEN  NUM_Asian_Pacific_Islander_BEN  \\\n0                              376.0                             0.0   \n1                                0.0                             0.0   \n2                                0.0                             0.0   \n3                                0.0                             0.0   \n4                                0.0                             0.0   \n\n   NUM_Hispanic_BEN  NUM_American_IndianAlaska_Native_BEN  \\\n0             134.0                                  16.0   \n1               0.0                                   0.0   \n2               0.0                                   0.0   \n3               0.0                                   0.0   \n4              18.0                                   0.0   \n\n   NUM_BEN_With_Race_Not_Elsewhere_Classified  \\\n0                                        34.0   \n1                                         0.0   \n2                                         0.0   \n3                                         0.0   \n4                                         0.0   \n\n   NUM_BEN_With_Medicare_Only_Entitlement  \\\n0                                  3482.0   \n1                                   324.0   \n2                                    77.0   \n3                                    27.0   \n4                                   271.0   \n\n   NUM_BEN_With_Medicare_Medicaid_Entitlement  \n0                                      1938.0  \n1                                        60.0  \n2                                         0.0  \n3                                         0.0  \n4                                       179.0  \n\n[5 rows x 36 columns]",
      "text/html": "<div>\n<style scoped>\n    .dataframe tbody tr th:only-of-type {\n        vertical-align: middle;\n    }\n\n    .dataframe tbody tr th {\n        vertical-align: top;\n    }\n\n    .dataframe thead th {\n        text-align: right;\n    }\n</style>\n<table border=\"1\" class=\"dataframe\">\n  <thead>\n    <tr style=\"text-align: right;\">\n      <th></th>\n      <th>Zip_Code</th>\n      <th>NUM_HCPCS</th>\n      <th>NUM_Services</th>\n      <th>NUM_Medicare_BEN</th>\n      <th>Total_Submitted_Charge_Amount</th>\n      <th>Total_Medicare_Allowed_Amount</th>\n      <th>Total_Medicare_Payment_Amount</th>\n      <th>Total_Medicare_Standardized_Payment_Amount</th>\n      <th>NUM_HCPCS_Associated_With_Drug_Services</th>\n      <th>NUM_Drug_Services</th>\n      <th>...</th>\n      <th>NUM_Female_BEN</th>\n      <th>NUM_Male_BEN</th>\n      <th>NUM_Non-Hispanic_White_BEN</th>\n      <th>NUM_Black_or_African_American_BEN</th>\n      <th>NUM_Asian_Pacific_Islander_BEN</th>\n      <th>NUM_Hispanic_BEN</th>\n      <th>NUM_American_IndianAlaska_Native_BEN</th>\n      <th>NUM_BEN_With_Race_Not_Elsewhere_Classified</th>\n      <th>NUM_BEN_With_Medicare_Only_Entitlement</th>\n      <th>NUM_BEN_With_Medicare_Medicaid_Entitlement</th>\n    </tr>\n  </thead>\n  <tbody>\n    <tr>\n      <th>0</th>\n      <td>0.0</td>\n      <td>497</td>\n      <td>13702.0</td>\n      <td>5457</td>\n      <td>4220040.48</td>\n      <td>1223773.71</td>\n      <td>918604.37</td>\n      <td>917482.14</td>\n      <td>2.0</td>\n      <td>278.0</td>\n      <td>...</td>\n      <td>3057.0</td>\n      <td>2336.0</td>\n      <td>3960.0</td>\n      <td>376.0</td>\n      <td>0.0</td>\n      <td>134.0</td>\n      <td>16.0</td>\n      <td>34.0</td>\n      <td>3482.0</td>\n      <td>1938.0</td>\n    </tr>\n    <tr>\n      <th>1</th>\n      <td>1.0</td>\n      <td>69</td>\n      <td>926.0</td>\n      <td>384</td>\n      <td>381997.00</td>\n      <td>92143.88</td>\n      <td>70859.78</td>\n      <td>76989.29</td>\n      <td>0.0</td>\n      <td>0.0</td>\n      <td>...</td>\n      <td>221.0</td>\n      <td>163.0</td>\n      <td>367.0</td>\n      <td>0.0</td>\n      <td>0.0</td>\n      <td>0.0</td>\n      <td>0.0</td>\n      <td>0.0</td>\n      <td>324.0</td>\n      <td>60.0</td>\n    </tr>\n    <tr>\n      <th>2</th>\n      <td>80.0</td>\n      <td>12</td>\n      <td>195.0</td>\n      <td>77</td>\n      <td>14742.98</td>\n      <td>14616.36</td>\n      <td>9455.60</td>\n      <td>11451.76</td>\n      <td>0.0</td>\n      <td>0.0</td>\n      <td>...</td>\n      <td>0.0</td>\n      <td>0.0</td>\n      <td>0.0</td>\n      <td>0.0</td>\n      <td>0.0</td>\n      <td>0.0</td>\n      <td>0.0</td>\n      <td>0.0</td>\n      <td>77.0</td>\n      <td>0.0</td>\n    </tr>\n    <tr>\n      <th>3</th>\n      <td>96.0</td>\n      <td>6</td>\n      <td>67.0</td>\n      <td>27</td>\n      <td>11719.90</td>\n      <td>11719.90</td>\n      <td>8796.86</td>\n      <td>9888.65</td>\n      <td>0.0</td>\n      <td>0.0</td>\n      <td>...</td>\n      <td>0.0</td>\n      <td>0.0</td>\n      <td>0.0</td>\n      <td>0.0</td>\n      <td>0.0</td>\n      <td>0.0</td>\n      <td>0.0</td>\n      <td>0.0</td>\n      <td>27.0</td>\n      <td>0.0</td>\n    </tr>\n    <tr>\n      <th>4</th>\n      <td>115.0</td>\n      <td>18</td>\n      <td>1154.0</td>\n      <td>450</td>\n      <td>437354.00</td>\n      <td>120603.99</td>\n      <td>92876.22</td>\n      <td>90738.11</td>\n      <td>0.0</td>\n      <td>0.0</td>\n      <td>...</td>\n      <td>249.0</td>\n      <td>201.0</td>\n      <td>414.0</td>\n      <td>0.0</td>\n      <td>0.0</td>\n      <td>18.0</td>\n      <td>0.0</td>\n      <td>0.0</td>\n      <td>271.0</td>\n      <td>179.0</td>\n    </tr>\n  </tbody>\n</table>\n<p>5 rows × 36 columns</p>\n</div>"
     },
     "metadata": {},
     "output_type": "execute_result",
     "execution_count": 22
    }
   ],
   "source": [
    "sum = medicare_df.groupby(by='Zip_Code').sum().reset_index()\n",
    "sum_columns = ['Zip_Code', 'NUM_HCPCS', 'NUM_Services', 'NUM_Medicare_BEN',\n",
    "               'Total_Submitted_Charge_Amount', 'Total_Medicare_Allowed_Amount',\n",
    "               'Total_Medicare_Payment_Amount',\n",
    "               'Total_Medicare_Standardized_Payment_Amount',\n",
    "               'NUM_HCPCS_Associated_With_Drug_Services', 'NUM_Drug_Services',\n",
    "               'NUM_Medicare_BEN_With_Drug_Services',\n",
    "               'Total_Drug_Submitted_Charge_Amount',\n",
    "               'Total_Drug_Medicare_Allowed_Amount',\n",
    "               'Total_Drug_Medicare_Payment_Amount',\n",
    "               'Total_Drug_Medicare_Standardized_Payment_Amount',\n",
    "               'NUM_HCPCS_Associated_With_Medical_Services', 'NUM_Medical_Services',\n",
    "               'NUM_Medicare_BEN_With_Medical_Services',\n",
    "               'Total_Medical_Submitted_Charge_Amount',\n",
    "               'Total_Medical_Medicare_Allowed_Amount',\n",
    "               'Total_Medical_Medicare_Payment_Amount',\n",
    "               'Total_Medical_Medicare_Standardized_Payment_Amount','NUM_BEN_Age_Less_65', 'NUM_BEN_Age_65_to_74',\n",
    "               'NUM_BEN_Age_75_to_84', 'NUM_BEN_Age_Greater_84', 'NUM_Female_BEN',\n",
    "               'NUM_Male_BEN', 'NUM_Non-Hispanic_White_BEN',\n",
    "               'NUM_Black_or_African_American_BEN', 'NUM_Asian_Pacific_Islander_BEN',\n",
    "               'NUM_Hispanic_BEN', 'NUM_American_IndianAlaska_Native_BEN',\n",
    "               'NUM_BEN_With_Race_Not_Elsewhere_Classified',\n",
    "               'NUM_BEN_With_Medicare_Only_Entitlement',\n",
    "               'NUM_BEN_With_Medicare_Medicaid_Entitlement',]\n",
    "sum = sum[sum_columns]\n",
    "sum.head()"
   ],
   "metadata": {
    "collapsed": false,
    "pycharm": {
     "name": "#%%\n",
     "is_executing": false
    }
   }
  },
  {
   "cell_type": "code",
   "execution_count": 23,
   "outputs": [
    {
     "data": {
      "text/plain": "   Average_Age_of_BEN  PCT_BEN_Atrial_Fibrillation  \\\n0                69.6                        11.12   \n1                73.0                        23.00   \n2                75.0                         0.00   \n3                68.0                         0.00   \n4                76.0                        38.00   \n\n   PCT_BEN_Alzheimers_Disease_or_Dementia  PCT_BEN_Asthma  PCT_BEN_Cancer  \\\n0                                   21.32             9.4            9.16   \n1                                   10.00             8.0           14.00   \n2                                   18.00             0.0           16.00   \n3                                   59.00             0.0            0.00   \n4                                   38.00            17.0           18.00   \n\n   PCT_BEN_Heart_Failure  PCT_BEN_Chronic_Kidney_Disease  \\\n0                  27.92                           42.16   \n1                  32.00                           52.00   \n2                  25.00                           55.00   \n3                   0.00                            0.00   \n4                  50.00                           69.00   \n\n   PCT_BEN_Chronic_Obstructive_Pulmonary_Disease  PCT_BEN_Depression  \\\n0                                          24.72               40.88   \n1                                          24.00               33.00   \n2                                           0.00                0.00   \n3                                           0.00               52.00   \n4                                          37.00               51.00   \n\n   PCT_BEN_Diabetes  PCT_BEN_Hyperlipidemia  PCT_BEN_Hypertension  \\\n0             36.64                   52.24                 68.52   \n1             40.00                   56.00                 75.00   \n2             61.00                   43.00                 75.00   \n3             67.00                   56.00                 75.00   \n4             36.00                   68.00                 75.00   \n\n   PCT_BEN_Ischemic_Heart_Disease  PCT_BEN_Osteoporosis  \\\n0                           40.52                   5.8   \n1                           44.00                  14.0   \n2                           29.00                   0.0   \n3                            0.00                   0.0   \n4                           52.00                  23.0   \n\n   PCT_BEN_Rheumatoid_Arthritis_Osteoarthritis  \\\n0                                        44.32   \n1                                        50.00   \n2                                        44.00   \n3                                        67.00   \n4                                        48.00   \n\n   PCT_BEN_Schizophrenia_Other_Psychotic_Disorders  PCT_BEN_Stroke  \n0                                             5.32            7.08  \n1                                             0.00            7.00  \n2                                             0.00            0.00  \n3                                             0.00            0.00  \n4                                            12.00           13.00  ",
      "text/html": "<div>\n<style scoped>\n    .dataframe tbody tr th:only-of-type {\n        vertical-align: middle;\n    }\n\n    .dataframe tbody tr th {\n        vertical-align: top;\n    }\n\n    .dataframe thead th {\n        text-align: right;\n    }\n</style>\n<table border=\"1\" class=\"dataframe\">\n  <thead>\n    <tr style=\"text-align: right;\">\n      <th></th>\n      <th>Average_Age_of_BEN</th>\n      <th>PCT_BEN_Atrial_Fibrillation</th>\n      <th>PCT_BEN_Alzheimers_Disease_or_Dementia</th>\n      <th>PCT_BEN_Asthma</th>\n      <th>PCT_BEN_Cancer</th>\n      <th>PCT_BEN_Heart_Failure</th>\n      <th>PCT_BEN_Chronic_Kidney_Disease</th>\n      <th>PCT_BEN_Chronic_Obstructive_Pulmonary_Disease</th>\n      <th>PCT_BEN_Depression</th>\n      <th>PCT_BEN_Diabetes</th>\n      <th>PCT_BEN_Hyperlipidemia</th>\n      <th>PCT_BEN_Hypertension</th>\n      <th>PCT_BEN_Ischemic_Heart_Disease</th>\n      <th>PCT_BEN_Osteoporosis</th>\n      <th>PCT_BEN_Rheumatoid_Arthritis_Osteoarthritis</th>\n      <th>PCT_BEN_Schizophrenia_Other_Psychotic_Disorders</th>\n      <th>PCT_BEN_Stroke</th>\n    </tr>\n  </thead>\n  <tbody>\n    <tr>\n      <th>0</th>\n      <td>69.6</td>\n      <td>11.12</td>\n      <td>21.32</td>\n      <td>9.4</td>\n      <td>9.16</td>\n      <td>27.92</td>\n      <td>42.16</td>\n      <td>24.72</td>\n      <td>40.88</td>\n      <td>36.64</td>\n      <td>52.24</td>\n      <td>68.52</td>\n      <td>40.52</td>\n      <td>5.8</td>\n      <td>44.32</td>\n      <td>5.32</td>\n      <td>7.08</td>\n    </tr>\n    <tr>\n      <th>1</th>\n      <td>73.0</td>\n      <td>23.00</td>\n      <td>10.00</td>\n      <td>8.0</td>\n      <td>14.00</td>\n      <td>32.00</td>\n      <td>52.00</td>\n      <td>24.00</td>\n      <td>33.00</td>\n      <td>40.00</td>\n      <td>56.00</td>\n      <td>75.00</td>\n      <td>44.00</td>\n      <td>14.0</td>\n      <td>50.00</td>\n      <td>0.00</td>\n      <td>7.00</td>\n    </tr>\n    <tr>\n      <th>2</th>\n      <td>75.0</td>\n      <td>0.00</td>\n      <td>18.00</td>\n      <td>0.0</td>\n      <td>16.00</td>\n      <td>25.00</td>\n      <td>55.00</td>\n      <td>0.00</td>\n      <td>0.00</td>\n      <td>61.00</td>\n      <td>43.00</td>\n      <td>75.00</td>\n      <td>29.00</td>\n      <td>0.0</td>\n      <td>44.00</td>\n      <td>0.00</td>\n      <td>0.00</td>\n    </tr>\n    <tr>\n      <th>3</th>\n      <td>68.0</td>\n      <td>0.00</td>\n      <td>59.00</td>\n      <td>0.0</td>\n      <td>0.00</td>\n      <td>0.00</td>\n      <td>0.00</td>\n      <td>0.00</td>\n      <td>52.00</td>\n      <td>67.00</td>\n      <td>56.00</td>\n      <td>75.00</td>\n      <td>0.00</td>\n      <td>0.0</td>\n      <td>67.00</td>\n      <td>0.00</td>\n      <td>0.00</td>\n    </tr>\n    <tr>\n      <th>4</th>\n      <td>76.0</td>\n      <td>38.00</td>\n      <td>38.00</td>\n      <td>17.0</td>\n      <td>18.00</td>\n      <td>50.00</td>\n      <td>69.00</td>\n      <td>37.00</td>\n      <td>51.00</td>\n      <td>36.00</td>\n      <td>68.00</td>\n      <td>75.00</td>\n      <td>52.00</td>\n      <td>23.0</td>\n      <td>48.00</td>\n      <td>12.00</td>\n      <td>13.00</td>\n    </tr>\n  </tbody>\n</table>\n</div>"
     },
     "metadata": {},
     "output_type": "execute_result",
     "execution_count": 23
    }
   ],
   "source": [
    "average = medicare_df.groupby(by='Zip_Code').mean().reset_index()\n",
    "average_columns = ['Average_Age_of_BEN', 'PCT_BEN_Atrial_Fibrillation', 'PCT_BEN_Alzheimers_Disease_or_Dementia',\n",
    "               'PCT_BEN_Asthma', 'PCT_BEN_Cancer', 'PCT_BEN_Heart_Failure',\n",
    "               'PCT_BEN_Chronic_Kidney_Disease',\n",
    "               'PCT_BEN_Chronic_Obstructive_Pulmonary_Disease', 'PCT_BEN_Depression',\n",
    "               'PCT_BEN_Diabetes', 'PCT_BEN_Hyperlipidemia', 'PCT_BEN_Hypertension',\n",
    "               'PCT_BEN_Ischemic_Heart_Disease', 'PCT_BEN_Osteoporosis',\n",
    "               'PCT_BEN_Rheumatoid_Arthritis_Osteoarthritis',\n",
    "               'PCT_BEN_Schizophrenia_Other_Psychotic_Disorders', 'PCT_BEN_Stroke',]\n",
    "average = average[average_columns]\n",
    "average.head()"
   ],
   "metadata": {
    "collapsed": false,
    "pycharm": {
     "name": "#%%\n",
     "is_executing": false
    }
   }
  },
  {
   "cell_type": "code",
   "execution_count": 24,
   "outputs": [
    {
     "data": {
      "text/plain": "       Zip_Code  NUM_HCPCS  NUM_Services  NUM_Medicare_BEN  \\\n0           0.0        497       13702.0              5457   \n1           1.0         69         926.0               384   \n2          80.0         12         195.0                77   \n3          96.0          6          67.0                27   \n4         115.0         18        1154.0               450   \n...         ...        ...           ...               ...   \n24756   99922.0         21         113.0                56   \n24757   99925.0         52        1508.8               439   \n24758   99926.0         60       71254.0               306   \n24759   99928.0         87        1162.0                79   \n24760   99929.0        107        2249.5               422   \n\n       Total_Submitted_Charge_Amount  Total_Medicare_Allowed_Amount  \\\n0                         4220040.48                     1223773.71   \n1                          381997.00                       92143.88   \n2                           14742.98                       14616.36   \n3                           11719.90                       11719.90   \n4                          437354.00                      120603.99   \n...                              ...                            ...   \n24756                       16448.36                        6641.87   \n24757                      423382.03                      105399.19   \n24758                     5406780.03                     2096708.18   \n24759                      121552.12                       39599.84   \n24760                      284772.94                      126968.54   \n\n       Total_Medicare_Payment_Amount  \\\n0                          918604.37   \n1                           70859.78   \n2                            9455.60   \n3                            8796.86   \n4                           92876.22   \n...                              ...   \n24756                        4855.14   \n24757                       79956.90   \n24758                     1576771.21   \n24759                       29722.79   \n24760                       90750.81   \n\n       Total_Medicare_Standardized_Payment_Amount  \\\n0                                       917482.14   \n1                                        76989.29   \n2                                        11451.76   \n3                                         9888.65   \n4                                        90738.11   \n...                                           ...   \n24756                                     4583.19   \n24757                                    75996.60   \n24758                                  1654689.34   \n24759                                    24645.37   \n24760                                    79207.18   \n\n       NUM_HCPCS_Associated_With_Drug_Services  NUM_Drug_Services  ...  \\\n0                                          2.0              278.0  ...   \n1                                          0.0                0.0  ...   \n2                                          0.0                0.0  ...   \n3                                          0.0                0.0  ...   \n4                                          0.0                0.0  ...   \n...                                        ...                ...  ...   \n24756                                      0.0                0.0  ...   \n24757                                      0.0                0.0  ...   \n24758                                     28.0            66751.0  ...   \n24759                                     28.0              448.0  ...   \n24760                                      6.0               61.0  ...   \n\n       PCT_BEN_Chronic_Obstructive_Pulmonary_Disease  PCT_BEN_Depression  \\\n0                                              24.72           40.880000   \n1                                              24.00           33.000000   \n2                                               0.00            0.000000   \n3                                               0.00           52.000000   \n4                                              37.00           51.000000   \n...                                              ...                 ...   \n24756                                           0.00           13.000000   \n24757                                          20.50           20.500000   \n24758                                          13.00           16.333333   \n24759                                           0.00           19.000000   \n24760                                           2.40            7.400000   \n\n       PCT_BEN_Diabetes  PCT_BEN_Hyperlipidemia  PCT_BEN_Hypertension  \\\n0             36.640000               52.240000             68.520000   \n1             40.000000               56.000000             75.000000   \n2             61.000000               43.000000             75.000000   \n3             67.000000               56.000000             75.000000   \n4             36.000000               68.000000             75.000000   \n...                 ...                     ...                   ...   \n24756          0.000000               14.500000             26.000000   \n24757         23.500000               25.750000             56.000000   \n24758         42.333333               54.333333             67.333333   \n24759         37.000000               51.000000             58.000000   \n24760         22.400000               15.000000             61.200000   \n\n       PCT_BEN_Ischemic_Heart_Disease  PCT_BEN_Osteoporosis  \\\n0                               40.52                   5.8   \n1                               44.00                  14.0   \n2                               29.00                   0.0   \n3                                0.00                   0.0   \n4                               52.00                  23.0   \n...                               ...                   ...   \n24756                           15.50                   0.0   \n24757                           30.50                   2.0   \n24758                           16.00                   9.0   \n24759                           20.00                   0.0   \n24760                           33.80                   0.0   \n\n       PCT_BEN_Rheumatoid_Arthritis_Osteoarthritis  \\\n0                                        44.320000   \n1                                        50.000000   \n2                                        44.000000   \n3                                        67.000000   \n4                                        48.000000   \n...                                            ...   \n24756                                    25.000000   \n24757                                    36.750000   \n24758                                    52.333333   \n24759                                    44.000000   \n24760                                    51.200000   \n\n       PCT_BEN_Schizophrenia_Other_Psychotic_Disorders  PCT_BEN_Stroke  \n0                                                 5.32            7.08  \n1                                                 0.00            7.00  \n2                                                 0.00            0.00  \n3                                                 0.00            0.00  \n4                                                12.00           13.00  \n...                                                ...             ...  \n24756                                             0.00            0.00  \n24757                                             1.50            0.00  \n24758                                             0.00            0.00  \n24759                                             0.00            0.00  \n24760                                             0.00            0.00  \n\n[24761 rows x 53 columns]",
      "text/html": "<div>\n<style scoped>\n    .dataframe tbody tr th:only-of-type {\n        vertical-align: middle;\n    }\n\n    .dataframe tbody tr th {\n        vertical-align: top;\n    }\n\n    .dataframe thead th {\n        text-align: right;\n    }\n</style>\n<table border=\"1\" class=\"dataframe\">\n  <thead>\n    <tr style=\"text-align: right;\">\n      <th></th>\n      <th>Zip_Code</th>\n      <th>NUM_HCPCS</th>\n      <th>NUM_Services</th>\n      <th>NUM_Medicare_BEN</th>\n      <th>Total_Submitted_Charge_Amount</th>\n      <th>Total_Medicare_Allowed_Amount</th>\n      <th>Total_Medicare_Payment_Amount</th>\n      <th>Total_Medicare_Standardized_Payment_Amount</th>\n      <th>NUM_HCPCS_Associated_With_Drug_Services</th>\n      <th>NUM_Drug_Services</th>\n      <th>...</th>\n      <th>PCT_BEN_Chronic_Obstructive_Pulmonary_Disease</th>\n      <th>PCT_BEN_Depression</th>\n      <th>PCT_BEN_Diabetes</th>\n      <th>PCT_BEN_Hyperlipidemia</th>\n      <th>PCT_BEN_Hypertension</th>\n      <th>PCT_BEN_Ischemic_Heart_Disease</th>\n      <th>PCT_BEN_Osteoporosis</th>\n      <th>PCT_BEN_Rheumatoid_Arthritis_Osteoarthritis</th>\n      <th>PCT_BEN_Schizophrenia_Other_Psychotic_Disorders</th>\n      <th>PCT_BEN_Stroke</th>\n    </tr>\n  </thead>\n  <tbody>\n    <tr>\n      <th>0</th>\n      <td>0.0</td>\n      <td>497</td>\n      <td>13702.0</td>\n      <td>5457</td>\n      <td>4220040.48</td>\n      <td>1223773.71</td>\n      <td>918604.37</td>\n      <td>917482.14</td>\n      <td>2.0</td>\n      <td>278.0</td>\n      <td>...</td>\n      <td>24.72</td>\n      <td>40.880000</td>\n      <td>36.640000</td>\n      <td>52.240000</td>\n      <td>68.520000</td>\n      <td>40.52</td>\n      <td>5.8</td>\n      <td>44.320000</td>\n      <td>5.32</td>\n      <td>7.08</td>\n    </tr>\n    <tr>\n      <th>1</th>\n      <td>1.0</td>\n      <td>69</td>\n      <td>926.0</td>\n      <td>384</td>\n      <td>381997.00</td>\n      <td>92143.88</td>\n      <td>70859.78</td>\n      <td>76989.29</td>\n      <td>0.0</td>\n      <td>0.0</td>\n      <td>...</td>\n      <td>24.00</td>\n      <td>33.000000</td>\n      <td>40.000000</td>\n      <td>56.000000</td>\n      <td>75.000000</td>\n      <td>44.00</td>\n      <td>14.0</td>\n      <td>50.000000</td>\n      <td>0.00</td>\n      <td>7.00</td>\n    </tr>\n    <tr>\n      <th>2</th>\n      <td>80.0</td>\n      <td>12</td>\n      <td>195.0</td>\n      <td>77</td>\n      <td>14742.98</td>\n      <td>14616.36</td>\n      <td>9455.60</td>\n      <td>11451.76</td>\n      <td>0.0</td>\n      <td>0.0</td>\n      <td>...</td>\n      <td>0.00</td>\n      <td>0.000000</td>\n      <td>61.000000</td>\n      <td>43.000000</td>\n      <td>75.000000</td>\n      <td>29.00</td>\n      <td>0.0</td>\n      <td>44.000000</td>\n      <td>0.00</td>\n      <td>0.00</td>\n    </tr>\n    <tr>\n      <th>3</th>\n      <td>96.0</td>\n      <td>6</td>\n      <td>67.0</td>\n      <td>27</td>\n      <td>11719.90</td>\n      <td>11719.90</td>\n      <td>8796.86</td>\n      <td>9888.65</td>\n      <td>0.0</td>\n      <td>0.0</td>\n      <td>...</td>\n      <td>0.00</td>\n      <td>52.000000</td>\n      <td>67.000000</td>\n      <td>56.000000</td>\n      <td>75.000000</td>\n      <td>0.00</td>\n      <td>0.0</td>\n      <td>67.000000</td>\n      <td>0.00</td>\n      <td>0.00</td>\n    </tr>\n    <tr>\n      <th>4</th>\n      <td>115.0</td>\n      <td>18</td>\n      <td>1154.0</td>\n      <td>450</td>\n      <td>437354.00</td>\n      <td>120603.99</td>\n      <td>92876.22</td>\n      <td>90738.11</td>\n      <td>0.0</td>\n      <td>0.0</td>\n      <td>...</td>\n      <td>37.00</td>\n      <td>51.000000</td>\n      <td>36.000000</td>\n      <td>68.000000</td>\n      <td>75.000000</td>\n      <td>52.00</td>\n      <td>23.0</td>\n      <td>48.000000</td>\n      <td>12.00</td>\n      <td>13.00</td>\n    </tr>\n    <tr>\n      <th>...</th>\n      <td>...</td>\n      <td>...</td>\n      <td>...</td>\n      <td>...</td>\n      <td>...</td>\n      <td>...</td>\n      <td>...</td>\n      <td>...</td>\n      <td>...</td>\n      <td>...</td>\n      <td>...</td>\n      <td>...</td>\n      <td>...</td>\n      <td>...</td>\n      <td>...</td>\n      <td>...</td>\n      <td>...</td>\n      <td>...</td>\n      <td>...</td>\n      <td>...</td>\n      <td>...</td>\n    </tr>\n    <tr>\n      <th>24756</th>\n      <td>99922.0</td>\n      <td>21</td>\n      <td>113.0</td>\n      <td>56</td>\n      <td>16448.36</td>\n      <td>6641.87</td>\n      <td>4855.14</td>\n      <td>4583.19</td>\n      <td>0.0</td>\n      <td>0.0</td>\n      <td>...</td>\n      <td>0.00</td>\n      <td>13.000000</td>\n      <td>0.000000</td>\n      <td>14.500000</td>\n      <td>26.000000</td>\n      <td>15.50</td>\n      <td>0.0</td>\n      <td>25.000000</td>\n      <td>0.00</td>\n      <td>0.00</td>\n    </tr>\n    <tr>\n      <th>24757</th>\n      <td>99925.0</td>\n      <td>52</td>\n      <td>1508.8</td>\n      <td>439</td>\n      <td>423382.03</td>\n      <td>105399.19</td>\n      <td>79956.90</td>\n      <td>75996.60</td>\n      <td>0.0</td>\n      <td>0.0</td>\n      <td>...</td>\n      <td>20.50</td>\n      <td>20.500000</td>\n      <td>23.500000</td>\n      <td>25.750000</td>\n      <td>56.000000</td>\n      <td>30.50</td>\n      <td>2.0</td>\n      <td>36.750000</td>\n      <td>1.50</td>\n      <td>0.00</td>\n    </tr>\n    <tr>\n      <th>24758</th>\n      <td>99926.0</td>\n      <td>60</td>\n      <td>71254.0</td>\n      <td>306</td>\n      <td>5406780.03</td>\n      <td>2096708.18</td>\n      <td>1576771.21</td>\n      <td>1654689.34</td>\n      <td>28.0</td>\n      <td>66751.0</td>\n      <td>...</td>\n      <td>13.00</td>\n      <td>16.333333</td>\n      <td>42.333333</td>\n      <td>54.333333</td>\n      <td>67.333333</td>\n      <td>16.00</td>\n      <td>9.0</td>\n      <td>52.333333</td>\n      <td>0.00</td>\n      <td>0.00</td>\n    </tr>\n    <tr>\n      <th>24759</th>\n      <td>99928.0</td>\n      <td>87</td>\n      <td>1162.0</td>\n      <td>79</td>\n      <td>121552.12</td>\n      <td>39599.84</td>\n      <td>29722.79</td>\n      <td>24645.37</td>\n      <td>28.0</td>\n      <td>448.0</td>\n      <td>...</td>\n      <td>0.00</td>\n      <td>19.000000</td>\n      <td>37.000000</td>\n      <td>51.000000</td>\n      <td>58.000000</td>\n      <td>20.00</td>\n      <td>0.0</td>\n      <td>44.000000</td>\n      <td>0.00</td>\n      <td>0.00</td>\n    </tr>\n    <tr>\n      <th>24760</th>\n      <td>99929.0</td>\n      <td>107</td>\n      <td>2249.5</td>\n      <td>422</td>\n      <td>284772.94</td>\n      <td>126968.54</td>\n      <td>90750.81</td>\n      <td>79207.18</td>\n      <td>6.0</td>\n      <td>61.0</td>\n      <td>...</td>\n      <td>2.40</td>\n      <td>7.400000</td>\n      <td>22.400000</td>\n      <td>15.000000</td>\n      <td>61.200000</td>\n      <td>33.80</td>\n      <td>0.0</td>\n      <td>51.200000</td>\n      <td>0.00</td>\n      <td>0.00</td>\n    </tr>\n  </tbody>\n</table>\n<p>24761 rows × 53 columns</p>\n</div>"
     },
     "metadata": {},
     "output_type": "execute_result",
     "execution_count": 24
    }
   ],
   "source": [
    "medicare_group_df = pd.concat([sum, average], axis=1)\n",
    "medicare_group_df"
   ],
   "metadata": {
    "collapsed": false,
    "pycharm": {
     "name": "#%%\n",
     "is_executing": false
    }
   }
  },
  {
   "cell_type": "markdown",
   "source": [
    "COUNT the number of entries GROUP BY each zip code, and save to output_count.csv"
   ],
   "metadata": {
    "collapsed": false,
    "pycharm": {
     "name": "#%% md\n"
    }
   }
  },
  {
   "cell_type": "code",
   "execution_count": 25,
   "outputs": [
    {
     "data": {
      "text/plain": "       Zip_Code  NUM_HCPCS\n0           0.0         25\n1           1.0          1\n2          80.0          1\n3          96.0          1\n4         115.0          1\n...         ...        ...\n24756   99922.0          2\n24757   99925.0          4\n24758   99926.0          3\n24759   99928.0          1\n24760   99929.0          5\n\n[24761 rows x 2 columns]",
      "text/html": "<div>\n<style scoped>\n    .dataframe tbody tr th:only-of-type {\n        vertical-align: middle;\n    }\n\n    .dataframe tbody tr th {\n        vertical-align: top;\n    }\n\n    .dataframe thead th {\n        text-align: right;\n    }\n</style>\n<table border=\"1\" class=\"dataframe\">\n  <thead>\n    <tr style=\"text-align: right;\">\n      <th></th>\n      <th>Zip_Code</th>\n      <th>NUM_HCPCS</th>\n    </tr>\n  </thead>\n  <tbody>\n    <tr>\n      <th>0</th>\n      <td>0.0</td>\n      <td>25</td>\n    </tr>\n    <tr>\n      <th>1</th>\n      <td>1.0</td>\n      <td>1</td>\n    </tr>\n    <tr>\n      <th>2</th>\n      <td>80.0</td>\n      <td>1</td>\n    </tr>\n    <tr>\n      <th>3</th>\n      <td>96.0</td>\n      <td>1</td>\n    </tr>\n    <tr>\n      <th>4</th>\n      <td>115.0</td>\n      <td>1</td>\n    </tr>\n    <tr>\n      <th>...</th>\n      <td>...</td>\n      <td>...</td>\n    </tr>\n    <tr>\n      <th>24756</th>\n      <td>99922.0</td>\n      <td>2</td>\n    </tr>\n    <tr>\n      <th>24757</th>\n      <td>99925.0</td>\n      <td>4</td>\n    </tr>\n    <tr>\n      <th>24758</th>\n      <td>99926.0</td>\n      <td>3</td>\n    </tr>\n    <tr>\n      <th>24759</th>\n      <td>99928.0</td>\n      <td>1</td>\n    </tr>\n    <tr>\n      <th>24760</th>\n      <td>99929.0</td>\n      <td>5</td>\n    </tr>\n  </tbody>\n</table>\n<p>24761 rows × 2 columns</p>\n</div>"
     },
     "metadata": {},
     "output_type": "execute_result",
     "execution_count": 25
    }
   ],
   "source": [
    "count = medicare_df.iloc[:, 0:2].groupby(by='Zip_Code').count().reset_index()\n",
    "count.to_csv('output_count.csv')\n",
    "count"
   ],
   "metadata": {
    "collapsed": false,
    "pycharm": {
     "name": "#%%\n",
     "is_executing": false
    }
   }
  },
  {
   "cell_type": "markdown",
   "source": [
    "INNER JOIN the hospital and medicare tables ON Zip_Code"
   ],
   "metadata": {
    "collapsed": false,
    "pycharm": {
     "name": "#%% md\n"
    }
   }
  },
  {
   "cell_type": "code",
   "execution_count": 26,
   "outputs": [
    {
     "data": {
      "text/plain": "   Zip_Code  NUM_HCPCS  NUM_Services  NUM_Medicare_BEN  \\\n0   21502.0         23        1670.0               578   \n1   21502.0         23        1670.0               578   \n2   21502.0          8        1827.0               601   \n3   21502.0          8        1827.0               601   \n4   21502.0         49        8450.0              1029   \n\n   Total_Submitted_Charge_Amount  Total_Medicare_Allowed_Amount  \\\n0                      800850.00                      177181.14   \n1                      800850.00                      177181.14   \n2                     1282363.64                      187382.74   \n3                     1282363.64                      187382.74   \n4                     2379228.00                      881333.53   \n\n   Total_Medicare_Payment_Amount  Total_Medicare_Standardized_Payment_Amount  \\\n0                      137084.55                                   138279.12   \n1                      137084.55                                   138279.12   \n2                      145298.83                                   142633.13   \n3                      145298.83                                   142633.13   \n4                      719342.57                                   717252.38   \n\n   NUM_HCPCS_Associated_With_Drug_Services  NUM_Drug_Services  ...  \\\n0                                      0.0                0.0  ...   \n1                                      0.0                0.0  ...   \n2                                      0.0                0.0  ...   \n3                                      0.0                0.0  ...   \n4                                      0.0                0.0  ...   \n\n   COUNTYFIPS    COUNTY                           HOSPITAL_DESC  \\\n0       24001  ALLEGANY  GENERAL MEDICAL AND SURGICAL HOSPITALS   \n1       24001  ALLEGANY  GENERAL MEDICAL AND SURGICAL HOSPITALS   \n2       24001  ALLEGANY  GENERAL MEDICAL AND SURGICAL HOSPITALS   \n3       24001  ALLEGANY  GENERAL MEDICAL AND SURGICAL HOSPITALS   \n4       24001  ALLEGANY  GENERAL MEDICAL AND SURGICAL HOSPITALS   \n\n                OWNER  BEDS         TRAUMA  HELIPAD  POPULATION_COUNTY  \\\n0          NON-PROFIT   371      LEVEL III        Y              70416   \n1  GOVERNMENT - STATE    80  NOT AVAILABLE        N              70416   \n2          NON-PROFIT   371      LEVEL III        Y              70416   \n3  GOVERNMENT - STATE    80  NOT AVAILABLE        N              70416   \n4          NON-PROFIT   371      LEVEL III        Y              70416   \n\n   COVID_CASES_4.10.20  COVID_DEATHS_4.10.20  \n0                   10                     0  \n1                   10                     0  \n2                   10                     0  \n3                   10                     0  \n4                   10                     0  \n\n[5 rows x 75 columns]",
      "text/html": "<div>\n<style scoped>\n    .dataframe tbody tr th:only-of-type {\n        vertical-align: middle;\n    }\n\n    .dataframe tbody tr th {\n        vertical-align: top;\n    }\n\n    .dataframe thead th {\n        text-align: right;\n    }\n</style>\n<table border=\"1\" class=\"dataframe\">\n  <thead>\n    <tr style=\"text-align: right;\">\n      <th></th>\n      <th>Zip_Code</th>\n      <th>NUM_HCPCS</th>\n      <th>NUM_Services</th>\n      <th>NUM_Medicare_BEN</th>\n      <th>Total_Submitted_Charge_Amount</th>\n      <th>Total_Medicare_Allowed_Amount</th>\n      <th>Total_Medicare_Payment_Amount</th>\n      <th>Total_Medicare_Standardized_Payment_Amount</th>\n      <th>NUM_HCPCS_Associated_With_Drug_Services</th>\n      <th>NUM_Drug_Services</th>\n      <th>...</th>\n      <th>COUNTYFIPS</th>\n      <th>COUNTY</th>\n      <th>HOSPITAL_DESC</th>\n      <th>OWNER</th>\n      <th>BEDS</th>\n      <th>TRAUMA</th>\n      <th>HELIPAD</th>\n      <th>POPULATION_COUNTY</th>\n      <th>COVID_CASES_4.10.20</th>\n      <th>COVID_DEATHS_4.10.20</th>\n    </tr>\n  </thead>\n  <tbody>\n    <tr>\n      <th>0</th>\n      <td>21502.0</td>\n      <td>23</td>\n      <td>1670.0</td>\n      <td>578</td>\n      <td>800850.00</td>\n      <td>177181.14</td>\n      <td>137084.55</td>\n      <td>138279.12</td>\n      <td>0.0</td>\n      <td>0.0</td>\n      <td>...</td>\n      <td>24001</td>\n      <td>ALLEGANY</td>\n      <td>GENERAL MEDICAL AND SURGICAL HOSPITALS</td>\n      <td>NON-PROFIT</td>\n      <td>371</td>\n      <td>LEVEL III</td>\n      <td>Y</td>\n      <td>70416</td>\n      <td>10</td>\n      <td>0</td>\n    </tr>\n    <tr>\n      <th>1</th>\n      <td>21502.0</td>\n      <td>23</td>\n      <td>1670.0</td>\n      <td>578</td>\n      <td>800850.00</td>\n      <td>177181.14</td>\n      <td>137084.55</td>\n      <td>138279.12</td>\n      <td>0.0</td>\n      <td>0.0</td>\n      <td>...</td>\n      <td>24001</td>\n      <td>ALLEGANY</td>\n      <td>GENERAL MEDICAL AND SURGICAL HOSPITALS</td>\n      <td>GOVERNMENT - STATE</td>\n      <td>80</td>\n      <td>NOT AVAILABLE</td>\n      <td>N</td>\n      <td>70416</td>\n      <td>10</td>\n      <td>0</td>\n    </tr>\n    <tr>\n      <th>2</th>\n      <td>21502.0</td>\n      <td>8</td>\n      <td>1827.0</td>\n      <td>601</td>\n      <td>1282363.64</td>\n      <td>187382.74</td>\n      <td>145298.83</td>\n      <td>142633.13</td>\n      <td>0.0</td>\n      <td>0.0</td>\n      <td>...</td>\n      <td>24001</td>\n      <td>ALLEGANY</td>\n      <td>GENERAL MEDICAL AND SURGICAL HOSPITALS</td>\n      <td>NON-PROFIT</td>\n      <td>371</td>\n      <td>LEVEL III</td>\n      <td>Y</td>\n      <td>70416</td>\n      <td>10</td>\n      <td>0</td>\n    </tr>\n    <tr>\n      <th>3</th>\n      <td>21502.0</td>\n      <td>8</td>\n      <td>1827.0</td>\n      <td>601</td>\n      <td>1282363.64</td>\n      <td>187382.74</td>\n      <td>145298.83</td>\n      <td>142633.13</td>\n      <td>0.0</td>\n      <td>0.0</td>\n      <td>...</td>\n      <td>24001</td>\n      <td>ALLEGANY</td>\n      <td>GENERAL MEDICAL AND SURGICAL HOSPITALS</td>\n      <td>GOVERNMENT - STATE</td>\n      <td>80</td>\n      <td>NOT AVAILABLE</td>\n      <td>N</td>\n      <td>70416</td>\n      <td>10</td>\n      <td>0</td>\n    </tr>\n    <tr>\n      <th>4</th>\n      <td>21502.0</td>\n      <td>49</td>\n      <td>8450.0</td>\n      <td>1029</td>\n      <td>2379228.00</td>\n      <td>881333.53</td>\n      <td>719342.57</td>\n      <td>717252.38</td>\n      <td>0.0</td>\n      <td>0.0</td>\n      <td>...</td>\n      <td>24001</td>\n      <td>ALLEGANY</td>\n      <td>GENERAL MEDICAL AND SURGICAL HOSPITALS</td>\n      <td>NON-PROFIT</td>\n      <td>371</td>\n      <td>LEVEL III</td>\n      <td>Y</td>\n      <td>70416</td>\n      <td>10</td>\n      <td>0</td>\n    </tr>\n  </tbody>\n</table>\n<p>5 rows × 75 columns</p>\n</div>"
     },
     "metadata": {},
     "output_type": "execute_result",
     "execution_count": 26
    }
   ],
   "source": [
    "merge_df = pd.merge(medicare_df, hospital_df, how='inner', left_on='Zip_Code', right_on='ZIP')\n",
    "merge_df.head()"
   ],
   "metadata": {
    "collapsed": false,
    "pycharm": {
     "name": "#%%\n",
     "is_executing": false
    }
   }
  },
  {
   "cell_type": "markdown",
   "source": [
    "Export csv of Zip_Code and COUNTYFRIPS"
   ],
   "metadata": {
    "collapsed": false,
    "pycharm": {
     "name": "#%% md\n"
    }
   }
  },
  {
   "cell_type": "code",
   "execution_count": 27,
   "outputs": [
    {
     "data": {
      "text/plain": "         Zip_Code  COUNTYFIPS\n0         21502.0       24001\n1         21502.0       24001\n2         21502.0       24001\n3         21502.0       24001\n4         21502.0       24001\n...           ...         ...\n1399502   24070.0       51161\n1399503   92669.0        6059\n1399504   73841.0       40153\n1399505   72858.0       48029\n1399506    1833.0       25009\n\n[1399507 rows x 2 columns]",
      "text/html": "<div>\n<style scoped>\n    .dataframe tbody tr th:only-of-type {\n        vertical-align: middle;\n    }\n\n    .dataframe tbody tr th {\n        vertical-align: top;\n    }\n\n    .dataframe thead th {\n        text-align: right;\n    }\n</style>\n<table border=\"1\" class=\"dataframe\">\n  <thead>\n    <tr style=\"text-align: right;\">\n      <th></th>\n      <th>Zip_Code</th>\n      <th>COUNTYFIPS</th>\n    </tr>\n  </thead>\n  <tbody>\n    <tr>\n      <th>0</th>\n      <td>21502.0</td>\n      <td>24001</td>\n    </tr>\n    <tr>\n      <th>1</th>\n      <td>21502.0</td>\n      <td>24001</td>\n    </tr>\n    <tr>\n      <th>2</th>\n      <td>21502.0</td>\n      <td>24001</td>\n    </tr>\n    <tr>\n      <th>3</th>\n      <td>21502.0</td>\n      <td>24001</td>\n    </tr>\n    <tr>\n      <th>4</th>\n      <td>21502.0</td>\n      <td>24001</td>\n    </tr>\n    <tr>\n      <th>...</th>\n      <td>...</td>\n      <td>...</td>\n    </tr>\n    <tr>\n      <th>1399502</th>\n      <td>24070.0</td>\n      <td>51161</td>\n    </tr>\n    <tr>\n      <th>1399503</th>\n      <td>92669.0</td>\n      <td>6059</td>\n    </tr>\n    <tr>\n      <th>1399504</th>\n      <td>73841.0</td>\n      <td>40153</td>\n    </tr>\n    <tr>\n      <th>1399505</th>\n      <td>72858.0</td>\n      <td>48029</td>\n    </tr>\n    <tr>\n      <th>1399506</th>\n      <td>1833.0</td>\n      <td>25009</td>\n    </tr>\n  </tbody>\n</table>\n<p>1399507 rows × 2 columns</p>\n</div>"
     },
     "metadata": {},
     "output_type": "execute_result",
     "execution_count": 27
    }
   ],
   "source": [
    "zip_fips = merge_df.loc[:, [\"Zip_Code\", \"COUNTYFIPS\"]]\n",
    "zip_fips.to_csv(\"Output_Zip_Fips.csv\")\n",
    "zip_fips"
   ],
   "metadata": {
    "collapsed": false,
    "pycharm": {
     "name": "#%%\n",
     "is_executing": false
    }
   }
  },
  {
   "cell_type": "markdown",
   "source": [
    "Repeat sum/average GROUP BY COUNTYFIPS"
   ],
   "metadata": {
    "collapsed": false,
    "pycharm": {
     "name": "#%% md\n"
    }
   }
  },
  {
   "cell_type": "code",
   "execution_count": 28,
   "outputs": [
    {
     "data": {
      "text/plain": "   COUNTYFIPS  NUM_HCPCS  NUM_Services  NUM_Medicare_BEN  \\\n0        1001        649       23608.4              5744   \n1        1003      17736     1602538.8            162262   \n2        1005        738       93074.1              8758   \n3        1007        539       30371.2              3917   \n4        1009        656       69980.4              6690   \n\n   Total_Submitted_Charge_Amount  Total_Medicare_Allowed_Amount  \\\n0                   5.642743e+06                     1601574.96   \n1                   1.515522e+08                    55396151.32   \n2                   8.347437e+06                     3250431.51   \n3                   2.129942e+06                     1155227.84   \n4                   5.193917e+06                     2358346.25   \n\n   Total_Medicare_Payment_Amount  Total_Medicare_Standardized_Payment_Amount  \\\n0                     1211002.80                                  1322271.14   \n1                    41633885.71                                 44788496.62   \n2                     2436659.90                                  2543344.20   \n3                      862891.22                                   891117.87   \n4                     1774046.43                                  1766102.27   \n\n   NUM_HCPCS_Associated_With_Drug_Services  NUM_Drug_Services  ...  \\\n0                                     80.0             2511.0  ...   \n1                                   1438.0           918468.0  ...   \n2                                     60.0             3336.0  ...   \n3                                     31.0              451.0  ...   \n4                                     93.0             3023.0  ...   \n\n   NUM_Female_BEN  NUM_Male_BEN  NUM_Non-Hispanic_White_BEN  \\\n0          3228.0        2484.0                      3753.0   \n1         90735.0       69942.0                    132868.0   \n2          5251.0        3507.0                      5335.0   \n3          2237.0        1489.0                      2634.0   \n4          3987.0        2690.0                      4152.0   \n\n   NUM_Black_or_African_American_BEN  NUM_Asian_Pacific_Islander_BEN  \\\n0                              690.0                             0.0   \n1                             7786.0                           146.0   \n2                             1134.0                             0.0   \n3                               11.0                             0.0   \n4                               14.0                             0.0   \n\n   NUM_Hispanic_BEN  NUM_American_IndianAlaska_Native_BEN  \\\n0               0.0                                   0.0   \n1             578.0                                 274.0   \n2              28.0                                   0.0   \n3               0.0                                   0.0   \n4               0.0                                   0.0   \n\n   NUM_BEN_With_Race_Not_Elsewhere_Classified  \\\n0                                         0.0   \n1                                       529.0   \n2                                         0.0   \n3                                         0.0   \n4                                         0.0   \n\n   NUM_BEN_With_Medicare_Only_Entitlement  \\\n0                                  4159.0   \n1                                128890.0   \n2                                  5359.0   \n3                                  2203.0   \n4                                  4280.0   \n\n   NUM_BEN_With_Medicare_Medicaid_Entitlement  \n0                                      1345.0  \n1                                     21063.0  \n2                                      3359.0  \n3                                      1404.0  \n4                                      2229.0  \n\n[5 rows x 36 columns]",
      "text/html": "<div>\n<style scoped>\n    .dataframe tbody tr th:only-of-type {\n        vertical-align: middle;\n    }\n\n    .dataframe tbody tr th {\n        vertical-align: top;\n    }\n\n    .dataframe thead th {\n        text-align: right;\n    }\n</style>\n<table border=\"1\" class=\"dataframe\">\n  <thead>\n    <tr style=\"text-align: right;\">\n      <th></th>\n      <th>COUNTYFIPS</th>\n      <th>NUM_HCPCS</th>\n      <th>NUM_Services</th>\n      <th>NUM_Medicare_BEN</th>\n      <th>Total_Submitted_Charge_Amount</th>\n      <th>Total_Medicare_Allowed_Amount</th>\n      <th>Total_Medicare_Payment_Amount</th>\n      <th>Total_Medicare_Standardized_Payment_Amount</th>\n      <th>NUM_HCPCS_Associated_With_Drug_Services</th>\n      <th>NUM_Drug_Services</th>\n      <th>...</th>\n      <th>NUM_Female_BEN</th>\n      <th>NUM_Male_BEN</th>\n      <th>NUM_Non-Hispanic_White_BEN</th>\n      <th>NUM_Black_or_African_American_BEN</th>\n      <th>NUM_Asian_Pacific_Islander_BEN</th>\n      <th>NUM_Hispanic_BEN</th>\n      <th>NUM_American_IndianAlaska_Native_BEN</th>\n      <th>NUM_BEN_With_Race_Not_Elsewhere_Classified</th>\n      <th>NUM_BEN_With_Medicare_Only_Entitlement</th>\n      <th>NUM_BEN_With_Medicare_Medicaid_Entitlement</th>\n    </tr>\n  </thead>\n  <tbody>\n    <tr>\n      <th>0</th>\n      <td>1001</td>\n      <td>649</td>\n      <td>23608.4</td>\n      <td>5744</td>\n      <td>5.642743e+06</td>\n      <td>1601574.96</td>\n      <td>1211002.80</td>\n      <td>1322271.14</td>\n      <td>80.0</td>\n      <td>2511.0</td>\n      <td>...</td>\n      <td>3228.0</td>\n      <td>2484.0</td>\n      <td>3753.0</td>\n      <td>690.0</td>\n      <td>0.0</td>\n      <td>0.0</td>\n      <td>0.0</td>\n      <td>0.0</td>\n      <td>4159.0</td>\n      <td>1345.0</td>\n    </tr>\n    <tr>\n      <th>1</th>\n      <td>1003</td>\n      <td>17736</td>\n      <td>1602538.8</td>\n      <td>162262</td>\n      <td>1.515522e+08</td>\n      <td>55396151.32</td>\n      <td>41633885.71</td>\n      <td>44788496.62</td>\n      <td>1438.0</td>\n      <td>918468.0</td>\n      <td>...</td>\n      <td>90735.0</td>\n      <td>69942.0</td>\n      <td>132868.0</td>\n      <td>7786.0</td>\n      <td>146.0</td>\n      <td>578.0</td>\n      <td>274.0</td>\n      <td>529.0</td>\n      <td>128890.0</td>\n      <td>21063.0</td>\n    </tr>\n    <tr>\n      <th>2</th>\n      <td>1005</td>\n      <td>738</td>\n      <td>93074.1</td>\n      <td>8758</td>\n      <td>8.347437e+06</td>\n      <td>3250431.51</td>\n      <td>2436659.90</td>\n      <td>2543344.20</td>\n      <td>60.0</td>\n      <td>3336.0</td>\n      <td>...</td>\n      <td>5251.0</td>\n      <td>3507.0</td>\n      <td>5335.0</td>\n      <td>1134.0</td>\n      <td>0.0</td>\n      <td>28.0</td>\n      <td>0.0</td>\n      <td>0.0</td>\n      <td>5359.0</td>\n      <td>3359.0</td>\n    </tr>\n    <tr>\n      <th>3</th>\n      <td>1007</td>\n      <td>539</td>\n      <td>30371.2</td>\n      <td>3917</td>\n      <td>2.129942e+06</td>\n      <td>1155227.84</td>\n      <td>862891.22</td>\n      <td>891117.87</td>\n      <td>31.0</td>\n      <td>451.0</td>\n      <td>...</td>\n      <td>2237.0</td>\n      <td>1489.0</td>\n      <td>2634.0</td>\n      <td>11.0</td>\n      <td>0.0</td>\n      <td>0.0</td>\n      <td>0.0</td>\n      <td>0.0</td>\n      <td>2203.0</td>\n      <td>1404.0</td>\n    </tr>\n    <tr>\n      <th>4</th>\n      <td>1009</td>\n      <td>656</td>\n      <td>69980.4</td>\n      <td>6690</td>\n      <td>5.193917e+06</td>\n      <td>2358346.25</td>\n      <td>1774046.43</td>\n      <td>1766102.27</td>\n      <td>93.0</td>\n      <td>3023.0</td>\n      <td>...</td>\n      <td>3987.0</td>\n      <td>2690.0</td>\n      <td>4152.0</td>\n      <td>14.0</td>\n      <td>0.0</td>\n      <td>0.0</td>\n      <td>0.0</td>\n      <td>0.0</td>\n      <td>4280.0</td>\n      <td>2229.0</td>\n    </tr>\n  </tbody>\n</table>\n<p>5 rows × 36 columns</p>\n</div>"
     },
     "metadata": {},
     "output_type": "execute_result",
     "execution_count": 28
    }
   ],
   "source": [
    "sum = merge_df.groupby(by='COUNTYFIPS').sum().reset_index()\n",
    "sum_columns = ['COUNTYFIPS', 'NUM_HCPCS', 'NUM_Services', 'NUM_Medicare_BEN',\n",
    "               'Total_Submitted_Charge_Amount', 'Total_Medicare_Allowed_Amount',\n",
    "               'Total_Medicare_Payment_Amount',\n",
    "               'Total_Medicare_Standardized_Payment_Amount',\n",
    "               'NUM_HCPCS_Associated_With_Drug_Services', 'NUM_Drug_Services',\n",
    "               'NUM_Medicare_BEN_With_Drug_Services',\n",
    "               'Total_Drug_Submitted_Charge_Amount',\n",
    "               'Total_Drug_Medicare_Allowed_Amount',\n",
    "               'Total_Drug_Medicare_Payment_Amount',\n",
    "               'Total_Drug_Medicare_Standardized_Payment_Amount',\n",
    "               'NUM_HCPCS_Associated_With_Medical_Services', 'NUM_Medical_Services',\n",
    "               'NUM_Medicare_BEN_With_Medical_Services',\n",
    "               'Total_Medical_Submitted_Charge_Amount',\n",
    "               'Total_Medical_Medicare_Allowed_Amount',\n",
    "               'Total_Medical_Medicare_Payment_Amount',\n",
    "               'Total_Medical_Medicare_Standardized_Payment_Amount','NUM_BEN_Age_Less_65', 'NUM_BEN_Age_65_to_74',\n",
    "               'NUM_BEN_Age_75_to_84', 'NUM_BEN_Age_Greater_84', 'NUM_Female_BEN',\n",
    "               'NUM_Male_BEN', 'NUM_Non-Hispanic_White_BEN',\n",
    "               'NUM_Black_or_African_American_BEN', 'NUM_Asian_Pacific_Islander_BEN',\n",
    "               'NUM_Hispanic_BEN', 'NUM_American_IndianAlaska_Native_BEN',\n",
    "               'NUM_BEN_With_Race_Not_Elsewhere_Classified',\n",
    "               'NUM_BEN_With_Medicare_Only_Entitlement',\n",
    "               'NUM_BEN_With_Medicare_Medicaid_Entitlement',]\n",
    "sum = sum[sum_columns]\n",
    "sum.head()"
   ],
   "metadata": {
    "collapsed": false,
    "pycharm": {
     "name": "#%%\n",
     "is_executing": false
    }
   }
  },
  {
   "cell_type": "code",
   "execution_count": 29,
   "outputs": [
    {
     "data": {
      "text/plain": "   Average_Age_of_BEN  PCT_BEN_Atrial_Fibrillation  \\\n0           71.076923                    11.769231   \n1           71.638202                    10.970787   \n2           70.928571                     8.642857   \n3           70.000000                     8.666667   \n4           71.538462                     7.346154   \n\n   PCT_BEN_Alzheimers_Disease_or_Dementia  PCT_BEN_Asthma  PCT_BEN_Cancer  \\\n0                               13.692308        5.307692        9.461538   \n1                               12.038202        6.020225        9.164045   \n2                               14.750000        6.607143        8.642857   \n3                               16.033333        4.466667        4.366667   \n4                               16.038462        5.615385        4.692308   \n\n   PCT_BEN_Heart_Failure  PCT_BEN_Chronic_Kidney_Disease  \\\n0              23.807692                       36.307692   \n1              16.923596                       28.525843   \n2              17.892857                       33.428571   \n3              20.133333                       34.866667   \n4              18.769231                       28.576923   \n\n   PCT_BEN_Chronic_Obstructive_Pulmonary_Disease  PCT_BEN_Depression  \\\n0                                      19.230769           21.653846   \n1                                      14.817978           25.094382   \n2                                      14.928571           23.892857   \n3                                      14.966667           21.400000   \n4                                      19.115385           27.384615   \n\n   PCT_BEN_Diabetes  PCT_BEN_Hyperlipidemia  PCT_BEN_Hypertension  \\\n0         34.923077               57.500000             68.500000   \n1         28.071910               50.604494             67.505618   \n2         36.928571               56.035714             73.178571   \n3         30.500000               44.266667             68.933333   \n4         32.423077               58.307692             73.384615   \n\n   PCT_BEN_Ischemic_Heart_Disease  PCT_BEN_Osteoporosis  \\\n0                       40.076923              5.769231   \n1                       36.462921              6.233708   \n2                       31.714286              3.857143   \n3                       28.733333              5.800000   \n4                       34.230769              5.115385   \n\n   PCT_BEN_Rheumatoid_Arthritis_Osteoarthritis  \\\n0                                    45.000000   \n1                                    49.602247   \n2                                    49.785714   \n3                                    41.566667   \n4                                    40.769231   \n\n   PCT_BEN_Schizophrenia_Other_Psychotic_Disorders  PCT_BEN_Stroke  \n0                                         4.115385        6.923077  \n1                                         3.856180        4.265169  \n2                                         6.071429        5.500000  \n3                                         3.766667        5.533333  \n4                                         4.000000        5.038462  ",
      "text/html": "<div>\n<style scoped>\n    .dataframe tbody tr th:only-of-type {\n        vertical-align: middle;\n    }\n\n    .dataframe tbody tr th {\n        vertical-align: top;\n    }\n\n    .dataframe thead th {\n        text-align: right;\n    }\n</style>\n<table border=\"1\" class=\"dataframe\">\n  <thead>\n    <tr style=\"text-align: right;\">\n      <th></th>\n      <th>Average_Age_of_BEN</th>\n      <th>PCT_BEN_Atrial_Fibrillation</th>\n      <th>PCT_BEN_Alzheimers_Disease_or_Dementia</th>\n      <th>PCT_BEN_Asthma</th>\n      <th>PCT_BEN_Cancer</th>\n      <th>PCT_BEN_Heart_Failure</th>\n      <th>PCT_BEN_Chronic_Kidney_Disease</th>\n      <th>PCT_BEN_Chronic_Obstructive_Pulmonary_Disease</th>\n      <th>PCT_BEN_Depression</th>\n      <th>PCT_BEN_Diabetes</th>\n      <th>PCT_BEN_Hyperlipidemia</th>\n      <th>PCT_BEN_Hypertension</th>\n      <th>PCT_BEN_Ischemic_Heart_Disease</th>\n      <th>PCT_BEN_Osteoporosis</th>\n      <th>PCT_BEN_Rheumatoid_Arthritis_Osteoarthritis</th>\n      <th>PCT_BEN_Schizophrenia_Other_Psychotic_Disorders</th>\n      <th>PCT_BEN_Stroke</th>\n    </tr>\n  </thead>\n  <tbody>\n    <tr>\n      <th>0</th>\n      <td>71.076923</td>\n      <td>11.769231</td>\n      <td>13.692308</td>\n      <td>5.307692</td>\n      <td>9.461538</td>\n      <td>23.807692</td>\n      <td>36.307692</td>\n      <td>19.230769</td>\n      <td>21.653846</td>\n      <td>34.923077</td>\n      <td>57.500000</td>\n      <td>68.500000</td>\n      <td>40.076923</td>\n      <td>5.769231</td>\n      <td>45.000000</td>\n      <td>4.115385</td>\n      <td>6.923077</td>\n    </tr>\n    <tr>\n      <th>1</th>\n      <td>71.638202</td>\n      <td>10.970787</td>\n      <td>12.038202</td>\n      <td>6.020225</td>\n      <td>9.164045</td>\n      <td>16.923596</td>\n      <td>28.525843</td>\n      <td>14.817978</td>\n      <td>25.094382</td>\n      <td>28.071910</td>\n      <td>50.604494</td>\n      <td>67.505618</td>\n      <td>36.462921</td>\n      <td>6.233708</td>\n      <td>49.602247</td>\n      <td>3.856180</td>\n      <td>4.265169</td>\n    </tr>\n    <tr>\n      <th>2</th>\n      <td>70.928571</td>\n      <td>8.642857</td>\n      <td>14.750000</td>\n      <td>6.607143</td>\n      <td>8.642857</td>\n      <td>17.892857</td>\n      <td>33.428571</td>\n      <td>14.928571</td>\n      <td>23.892857</td>\n      <td>36.928571</td>\n      <td>56.035714</td>\n      <td>73.178571</td>\n      <td>31.714286</td>\n      <td>3.857143</td>\n      <td>49.785714</td>\n      <td>6.071429</td>\n      <td>5.500000</td>\n    </tr>\n    <tr>\n      <th>3</th>\n      <td>70.000000</td>\n      <td>8.666667</td>\n      <td>16.033333</td>\n      <td>4.466667</td>\n      <td>4.366667</td>\n      <td>20.133333</td>\n      <td>34.866667</td>\n      <td>14.966667</td>\n      <td>21.400000</td>\n      <td>30.500000</td>\n      <td>44.266667</td>\n      <td>68.933333</td>\n      <td>28.733333</td>\n      <td>5.800000</td>\n      <td>41.566667</td>\n      <td>3.766667</td>\n      <td>5.533333</td>\n    </tr>\n    <tr>\n      <th>4</th>\n      <td>71.538462</td>\n      <td>7.346154</td>\n      <td>16.038462</td>\n      <td>5.615385</td>\n      <td>4.692308</td>\n      <td>18.769231</td>\n      <td>28.576923</td>\n      <td>19.115385</td>\n      <td>27.384615</td>\n      <td>32.423077</td>\n      <td>58.307692</td>\n      <td>73.384615</td>\n      <td>34.230769</td>\n      <td>5.115385</td>\n      <td>40.769231</td>\n      <td>4.000000</td>\n      <td>5.038462</td>\n    </tr>\n  </tbody>\n</table>\n</div>"
     },
     "metadata": {},
     "output_type": "execute_result",
     "execution_count": 29
    }
   ],
   "source": [
    "average = merge_df.groupby(by='COUNTYFIPS').mean().reset_index()\n",
    "average_columns = ['Average_Age_of_BEN', 'PCT_BEN_Atrial_Fibrillation', 'PCT_BEN_Alzheimers_Disease_or_Dementia',\n",
    "               'PCT_BEN_Asthma', 'PCT_BEN_Cancer', 'PCT_BEN_Heart_Failure',\n",
    "               'PCT_BEN_Chronic_Kidney_Disease',\n",
    "               'PCT_BEN_Chronic_Obstructive_Pulmonary_Disease', 'PCT_BEN_Depression',\n",
    "               'PCT_BEN_Diabetes', 'PCT_BEN_Hyperlipidemia', 'PCT_BEN_Hypertension',\n",
    "               'PCT_BEN_Ischemic_Heart_Disease', 'PCT_BEN_Osteoporosis',\n",
    "               'PCT_BEN_Rheumatoid_Arthritis_Osteoarthritis',\n",
    "               'PCT_BEN_Schizophrenia_Other_Psychotic_Disorders', 'PCT_BEN_Stroke',]\n",
    "average = average[average_columns]\n",
    "average.head()"
   ],
   "metadata": {
    "collapsed": false,
    "pycharm": {
     "name": "#%%\n",
     "is_executing": false
    }
   }
  },
  {
   "cell_type": "code",
   "execution_count": 30,
   "outputs": [
    {
     "data": {
      "text/plain": "      COUNTYFIPS  NUM_HCPCS  NUM_Services  NUM_Medicare_BEN  \\\n0           1001        649       23608.4              5744   \n1           1003      17736     1602538.8            162262   \n2           1005        738       93074.1              8758   \n3           1007        539       30371.2              3917   \n4           1009        656       69980.4              6690   \n...          ...        ...           ...               ...   \n2525       56037       3118      180247.3             24430   \n2526       56039       3707      123737.1             19474   \n2527       56041       1305       52681.9              8436   \n2528       56043        451       25644.3              3605   \n2529       56045        277       16037.0              1847   \n\n      Total_Submitted_Charge_Amount  Total_Medicare_Allowed_Amount  \\\n0                      5.642743e+06                     1601574.96   \n1                      1.515522e+08                    55396151.32   \n2                      8.347437e+06                     3250431.51   \n3                      2.129942e+06                     1155227.84   \n4                      5.193917e+06                     2358346.25   \n...                             ...                            ...   \n2525                   4.199070e+07                     9361492.71   \n2526                   1.759663e+07                     5335013.71   \n2527                   7.084807e+06                     2634476.75   \n2528                   2.650999e+06                     1204296.03   \n2529                   6.767309e+05                      374177.73   \n\n      Total_Medicare_Payment_Amount  \\\n0                        1211002.80   \n1                       41633885.71   \n2                        2436659.90   \n3                         862891.22   \n4                        1774046.43   \n...                             ...   \n2525                     6968556.74   \n2526                     3964972.08   \n2527                     1941228.35   \n2528                      858835.18   \n2529                      278743.70   \n\n      Total_Medicare_Standardized_Payment_Amount  \\\n0                                     1322271.14   \n1                                    44788496.62   \n2                                     2543344.20   \n3                                      891117.87   \n4                                     1766102.27   \n...                                          ...   \n2525                                  6774301.39   \n2526                                  3984418.68   \n2527                                  1923237.45   \n2528                                   860269.73   \n2529                                   232141.73   \n\n      NUM_HCPCS_Associated_With_Drug_Services  NUM_Drug_Services  ...  \\\n0                                        80.0             2511.0  ...   \n1                                      1438.0           918468.0  ...   \n2                                        60.0             3336.0  ...   \n3                                        31.0              451.0  ...   \n4                                        93.0             3023.0  ...   \n...                                       ...                ...  ...   \n2525                                    157.0             5408.0  ...   \n2526                                    111.0            54315.0  ...   \n2527                                     51.0             1456.0  ...   \n2528                                     49.0             3797.0  ...   \n2529                                      7.0              141.0  ...   \n\n      PCT_BEN_Chronic_Obstructive_Pulmonary_Disease  PCT_BEN_Depression  \\\n0                                         19.230769           21.653846   \n1                                         14.817978           25.094382   \n2                                         14.928571           23.892857   \n3                                         14.966667           21.400000   \n4                                         19.115385           27.384615   \n...                                             ...                 ...   \n2525                                      17.543689           19.737864   \n2526                                       6.660194           18.019417   \n2527                                      12.333333           29.444444   \n2528                                       8.650000           28.450000   \n2529                                      17.071429           16.500000   \n\n      PCT_BEN_Diabetes  PCT_BEN_Hyperlipidemia  PCT_BEN_Hypertension  \\\n0            34.923077               57.500000             68.500000   \n1            28.071910               50.604494             67.505618   \n2            36.928571               56.035714             73.178571   \n3            30.500000               44.266667             68.933333   \n4            32.423077               58.307692             73.384615   \n...                ...                     ...                   ...   \n2525         22.087379               22.184466             48.456311   \n2526         12.378641               25.766990             41.029126   \n2527         21.095238               21.206349             43.555556   \n2528         23.400000               22.100000             40.400000   \n2529         29.428571               32.714286             48.142857   \n\n      PCT_BEN_Ischemic_Heart_Disease  PCT_BEN_Osteoporosis  \\\n0                          40.076923              5.769231   \n1                          36.462921              6.233708   \n2                          31.714286              3.857143   \n3                          28.733333              5.800000   \n4                          34.230769              5.115385   \n...                              ...                   ...   \n2525                       23.631068              2.864078   \n2526                       17.291262              3.126214   \n2527                       16.761905              0.952381   \n2528                       22.750000              3.750000   \n2529                       27.214286              9.000000   \n\n      PCT_BEN_Rheumatoid_Arthritis_Osteoarthritis  \\\n0                                       45.000000   \n1                                       49.602247   \n2                                       49.785714   \n3                                       41.566667   \n4                                       40.769231   \n...                                           ...   \n2525                                    34.339806   \n2526                                    41.184466   \n2527                                    27.746032   \n2528                                    33.350000   \n2529                                    35.214286   \n\n      PCT_BEN_Schizophrenia_Other_Psychotic_Disorders  PCT_BEN_Stroke  \n0                                            4.115385        6.923077  \n1                                            3.856180        4.265169  \n2                                            6.071429        5.500000  \n3                                            3.766667        5.533333  \n4                                            4.000000        5.038462  \n...                                               ...             ...  \n2525                                         2.077670        1.456311  \n2526                                         0.592233        1.077670  \n2527                                        15.523810        0.825397  \n2528                                         1.700000        1.300000  \n2529                                         0.642857        2.285714  \n\n[2530 rows x 53 columns]",
      "text/html": "<div>\n<style scoped>\n    .dataframe tbody tr th:only-of-type {\n        vertical-align: middle;\n    }\n\n    .dataframe tbody tr th {\n        vertical-align: top;\n    }\n\n    .dataframe thead th {\n        text-align: right;\n    }\n</style>\n<table border=\"1\" class=\"dataframe\">\n  <thead>\n    <tr style=\"text-align: right;\">\n      <th></th>\n      <th>COUNTYFIPS</th>\n      <th>NUM_HCPCS</th>\n      <th>NUM_Services</th>\n      <th>NUM_Medicare_BEN</th>\n      <th>Total_Submitted_Charge_Amount</th>\n      <th>Total_Medicare_Allowed_Amount</th>\n      <th>Total_Medicare_Payment_Amount</th>\n      <th>Total_Medicare_Standardized_Payment_Amount</th>\n      <th>NUM_HCPCS_Associated_With_Drug_Services</th>\n      <th>NUM_Drug_Services</th>\n      <th>...</th>\n      <th>PCT_BEN_Chronic_Obstructive_Pulmonary_Disease</th>\n      <th>PCT_BEN_Depression</th>\n      <th>PCT_BEN_Diabetes</th>\n      <th>PCT_BEN_Hyperlipidemia</th>\n      <th>PCT_BEN_Hypertension</th>\n      <th>PCT_BEN_Ischemic_Heart_Disease</th>\n      <th>PCT_BEN_Osteoporosis</th>\n      <th>PCT_BEN_Rheumatoid_Arthritis_Osteoarthritis</th>\n      <th>PCT_BEN_Schizophrenia_Other_Psychotic_Disorders</th>\n      <th>PCT_BEN_Stroke</th>\n    </tr>\n  </thead>\n  <tbody>\n    <tr>\n      <th>0</th>\n      <td>1001</td>\n      <td>649</td>\n      <td>23608.4</td>\n      <td>5744</td>\n      <td>5.642743e+06</td>\n      <td>1601574.96</td>\n      <td>1211002.80</td>\n      <td>1322271.14</td>\n      <td>80.0</td>\n      <td>2511.0</td>\n      <td>...</td>\n      <td>19.230769</td>\n      <td>21.653846</td>\n      <td>34.923077</td>\n      <td>57.500000</td>\n      <td>68.500000</td>\n      <td>40.076923</td>\n      <td>5.769231</td>\n      <td>45.000000</td>\n      <td>4.115385</td>\n      <td>6.923077</td>\n    </tr>\n    <tr>\n      <th>1</th>\n      <td>1003</td>\n      <td>17736</td>\n      <td>1602538.8</td>\n      <td>162262</td>\n      <td>1.515522e+08</td>\n      <td>55396151.32</td>\n      <td>41633885.71</td>\n      <td>44788496.62</td>\n      <td>1438.0</td>\n      <td>918468.0</td>\n      <td>...</td>\n      <td>14.817978</td>\n      <td>25.094382</td>\n      <td>28.071910</td>\n      <td>50.604494</td>\n      <td>67.505618</td>\n      <td>36.462921</td>\n      <td>6.233708</td>\n      <td>49.602247</td>\n      <td>3.856180</td>\n      <td>4.265169</td>\n    </tr>\n    <tr>\n      <th>2</th>\n      <td>1005</td>\n      <td>738</td>\n      <td>93074.1</td>\n      <td>8758</td>\n      <td>8.347437e+06</td>\n      <td>3250431.51</td>\n      <td>2436659.90</td>\n      <td>2543344.20</td>\n      <td>60.0</td>\n      <td>3336.0</td>\n      <td>...</td>\n      <td>14.928571</td>\n      <td>23.892857</td>\n      <td>36.928571</td>\n      <td>56.035714</td>\n      <td>73.178571</td>\n      <td>31.714286</td>\n      <td>3.857143</td>\n      <td>49.785714</td>\n      <td>6.071429</td>\n      <td>5.500000</td>\n    </tr>\n    <tr>\n      <th>3</th>\n      <td>1007</td>\n      <td>539</td>\n      <td>30371.2</td>\n      <td>3917</td>\n      <td>2.129942e+06</td>\n      <td>1155227.84</td>\n      <td>862891.22</td>\n      <td>891117.87</td>\n      <td>31.0</td>\n      <td>451.0</td>\n      <td>...</td>\n      <td>14.966667</td>\n      <td>21.400000</td>\n      <td>30.500000</td>\n      <td>44.266667</td>\n      <td>68.933333</td>\n      <td>28.733333</td>\n      <td>5.800000</td>\n      <td>41.566667</td>\n      <td>3.766667</td>\n      <td>5.533333</td>\n    </tr>\n    <tr>\n      <th>4</th>\n      <td>1009</td>\n      <td>656</td>\n      <td>69980.4</td>\n      <td>6690</td>\n      <td>5.193917e+06</td>\n      <td>2358346.25</td>\n      <td>1774046.43</td>\n      <td>1766102.27</td>\n      <td>93.0</td>\n      <td>3023.0</td>\n      <td>...</td>\n      <td>19.115385</td>\n      <td>27.384615</td>\n      <td>32.423077</td>\n      <td>58.307692</td>\n      <td>73.384615</td>\n      <td>34.230769</td>\n      <td>5.115385</td>\n      <td>40.769231</td>\n      <td>4.000000</td>\n      <td>5.038462</td>\n    </tr>\n    <tr>\n      <th>...</th>\n      <td>...</td>\n      <td>...</td>\n      <td>...</td>\n      <td>...</td>\n      <td>...</td>\n      <td>...</td>\n      <td>...</td>\n      <td>...</td>\n      <td>...</td>\n      <td>...</td>\n      <td>...</td>\n      <td>...</td>\n      <td>...</td>\n      <td>...</td>\n      <td>...</td>\n      <td>...</td>\n      <td>...</td>\n      <td>...</td>\n      <td>...</td>\n      <td>...</td>\n      <td>...</td>\n    </tr>\n    <tr>\n      <th>2525</th>\n      <td>56037</td>\n      <td>3118</td>\n      <td>180247.3</td>\n      <td>24430</td>\n      <td>4.199070e+07</td>\n      <td>9361492.71</td>\n      <td>6968556.74</td>\n      <td>6774301.39</td>\n      <td>157.0</td>\n      <td>5408.0</td>\n      <td>...</td>\n      <td>17.543689</td>\n      <td>19.737864</td>\n      <td>22.087379</td>\n      <td>22.184466</td>\n      <td>48.456311</td>\n      <td>23.631068</td>\n      <td>2.864078</td>\n      <td>34.339806</td>\n      <td>2.077670</td>\n      <td>1.456311</td>\n    </tr>\n    <tr>\n      <th>2526</th>\n      <td>56039</td>\n      <td>3707</td>\n      <td>123737.1</td>\n      <td>19474</td>\n      <td>1.759663e+07</td>\n      <td>5335013.71</td>\n      <td>3964972.08</td>\n      <td>3984418.68</td>\n      <td>111.0</td>\n      <td>54315.0</td>\n      <td>...</td>\n      <td>6.660194</td>\n      <td>18.019417</td>\n      <td>12.378641</td>\n      <td>25.766990</td>\n      <td>41.029126</td>\n      <td>17.291262</td>\n      <td>3.126214</td>\n      <td>41.184466</td>\n      <td>0.592233</td>\n      <td>1.077670</td>\n    </tr>\n    <tr>\n      <th>2527</th>\n      <td>56041</td>\n      <td>1305</td>\n      <td>52681.9</td>\n      <td>8436</td>\n      <td>7.084807e+06</td>\n      <td>2634476.75</td>\n      <td>1941228.35</td>\n      <td>1923237.45</td>\n      <td>51.0</td>\n      <td>1456.0</td>\n      <td>...</td>\n      <td>12.333333</td>\n      <td>29.444444</td>\n      <td>21.095238</td>\n      <td>21.206349</td>\n      <td>43.555556</td>\n      <td>16.761905</td>\n      <td>0.952381</td>\n      <td>27.746032</td>\n      <td>15.523810</td>\n      <td>0.825397</td>\n    </tr>\n    <tr>\n      <th>2528</th>\n      <td>56043</td>\n      <td>451</td>\n      <td>25644.3</td>\n      <td>3605</td>\n      <td>2.650999e+06</td>\n      <td>1204296.03</td>\n      <td>858835.18</td>\n      <td>860269.73</td>\n      <td>49.0</td>\n      <td>3797.0</td>\n      <td>...</td>\n      <td>8.650000</td>\n      <td>28.450000</td>\n      <td>23.400000</td>\n      <td>22.100000</td>\n      <td>40.400000</td>\n      <td>22.750000</td>\n      <td>3.750000</td>\n      <td>33.350000</td>\n      <td>1.700000</td>\n      <td>1.300000</td>\n    </tr>\n    <tr>\n      <th>2529</th>\n      <td>56045</td>\n      <td>277</td>\n      <td>16037.0</td>\n      <td>1847</td>\n      <td>6.767309e+05</td>\n      <td>374177.73</td>\n      <td>278743.70</td>\n      <td>232141.73</td>\n      <td>7.0</td>\n      <td>141.0</td>\n      <td>...</td>\n      <td>17.071429</td>\n      <td>16.500000</td>\n      <td>29.428571</td>\n      <td>32.714286</td>\n      <td>48.142857</td>\n      <td>27.214286</td>\n      <td>9.000000</td>\n      <td>35.214286</td>\n      <td>0.642857</td>\n      <td>2.285714</td>\n    </tr>\n  </tbody>\n</table>\n<p>2530 rows × 53 columns</p>\n</div>"
     },
     "metadata": {},
     "output_type": "execute_result",
     "execution_count": 30
    }
   ],
   "source": [
    "merge_df = pd.concat([sum, average], axis=1)\n",
    "merge_df"
   ],
   "metadata": {
    "collapsed": false,
    "pycharm": {
     "name": "#%%\n",
     "is_executing": false
    }
   }
  },
  {
   "cell_type": "markdown",
   "source": [
    "Extracting county data from hospital data"
   ],
   "metadata": {
    "collapsed": false,
    "pycharm": {
     "name": "#%% md\n",
     "is_executing": false
    }
   }
  },
  {
   "cell_type": "code",
   "execution_count": 31,
   "outputs": [
    {
     "data": {
      "text/plain": "      COUNTYFIPS  POPULATION_COUNTY  COVID_CASES_4.10.20  COVID_DEATHS_4.10.20\n0          30079               1077                    0                     0\n1          20071               1232                    0                     0\n2          30011               1252                    0                     0\n3          30033               1258                    0                     0\n4          31149               1357                    0                     0\n...          ...                ...                  ...                   ...\n7491       46043               2921                    0                     0\n7492       46045               3829                    0                     0\n7494       37003              37497                    2                     0\n7495       46031               4086                    1                     0\n7496       51127              23091                   13                     0\n\n[2554 rows x 4 columns]",
      "text/html": "<div>\n<style scoped>\n    .dataframe tbody tr th:only-of-type {\n        vertical-align: middle;\n    }\n\n    .dataframe tbody tr th {\n        vertical-align: top;\n    }\n\n    .dataframe thead th {\n        text-align: right;\n    }\n</style>\n<table border=\"1\" class=\"dataframe\">\n  <thead>\n    <tr style=\"text-align: right;\">\n      <th></th>\n      <th>COUNTYFIPS</th>\n      <th>POPULATION_COUNTY</th>\n      <th>COVID_CASES_4.10.20</th>\n      <th>COVID_DEATHS_4.10.20</th>\n    </tr>\n  </thead>\n  <tbody>\n    <tr>\n      <th>0</th>\n      <td>30079</td>\n      <td>1077</td>\n      <td>0</td>\n      <td>0</td>\n    </tr>\n    <tr>\n      <th>1</th>\n      <td>20071</td>\n      <td>1232</td>\n      <td>0</td>\n      <td>0</td>\n    </tr>\n    <tr>\n      <th>2</th>\n      <td>30011</td>\n      <td>1252</td>\n      <td>0</td>\n      <td>0</td>\n    </tr>\n    <tr>\n      <th>3</th>\n      <td>30033</td>\n      <td>1258</td>\n      <td>0</td>\n      <td>0</td>\n    </tr>\n    <tr>\n      <th>4</th>\n      <td>31149</td>\n      <td>1357</td>\n      <td>0</td>\n      <td>0</td>\n    </tr>\n    <tr>\n      <th>...</th>\n      <td>...</td>\n      <td>...</td>\n      <td>...</td>\n      <td>...</td>\n    </tr>\n    <tr>\n      <th>7491</th>\n      <td>46043</td>\n      <td>2921</td>\n      <td>0</td>\n      <td>0</td>\n    </tr>\n    <tr>\n      <th>7492</th>\n      <td>46045</td>\n      <td>3829</td>\n      <td>0</td>\n      <td>0</td>\n    </tr>\n    <tr>\n      <th>7494</th>\n      <td>37003</td>\n      <td>37497</td>\n      <td>2</td>\n      <td>0</td>\n    </tr>\n    <tr>\n      <th>7495</th>\n      <td>46031</td>\n      <td>4086</td>\n      <td>1</td>\n      <td>0</td>\n    </tr>\n    <tr>\n      <th>7496</th>\n      <td>51127</td>\n      <td>23091</td>\n      <td>13</td>\n      <td>0</td>\n    </tr>\n  </tbody>\n</table>\n<p>2554 rows × 4 columns</p>\n</div>"
     },
     "metadata": {},
     "output_type": "execute_result",
     "execution_count": 31
    }
   ],
   "source": [
    "column_list = ['COUNTYFIPS', 'POPULATION_COUNTY', 'COVID_CASES_4.10.20', 'COVID_DEATHS_4.10.20']\n",
    "hospital_df = hospital_df[column_list].drop_duplicates(column_list)\n",
    "hospital_df"
   ],
   "metadata": {
    "collapsed": false,
    "pycharm": {
     "name": "#%%\n",
     "is_executing": false
    }
   }
  },
  {
   "cell_type": "code",
   "execution_count": 32,
   "outputs": [
    {
     "data": {
      "text/plain": "      COUNTYFIPS  NUM_HCPCS  NUM_Services  NUM_Medicare_BEN  \\\n0           1001        649       23608.4              5744   \n1           1003      17736     1602538.8            162262   \n2           1005        738       93074.1              8758   \n3           1007        539       30371.2              3917   \n4           1009        656       69980.4              6690   \n...          ...        ...           ...               ...   \n2525       56037       3118      180247.3             24430   \n2526       56039       3707      123737.1             19474   \n2527       56041       1305       52681.9              8436   \n2528       56043        451       25644.3              3605   \n2529       56045        277       16037.0              1847   \n\n      Total_Submitted_Charge_Amount  Total_Medicare_Allowed_Amount  \\\n0                      5.642743e+06                     1601574.96   \n1                      1.515522e+08                    55396151.32   \n2                      8.347437e+06                     3250431.51   \n3                      2.129942e+06                     1155227.84   \n4                      5.193917e+06                     2358346.25   \n...                             ...                            ...   \n2525                   4.199070e+07                     9361492.71   \n2526                   1.759663e+07                     5335013.71   \n2527                   7.084807e+06                     2634476.75   \n2528                   2.650999e+06                     1204296.03   \n2529                   6.767309e+05                      374177.73   \n\n      Total_Medicare_Payment_Amount  \\\n0                        1211002.80   \n1                       41633885.71   \n2                        2436659.90   \n3                         862891.22   \n4                        1774046.43   \n...                             ...   \n2525                     6968556.74   \n2526                     3964972.08   \n2527                     1941228.35   \n2528                      858835.18   \n2529                      278743.70   \n\n      Total_Medicare_Standardized_Payment_Amount  \\\n0                                     1322271.14   \n1                                    44788496.62   \n2                                     2543344.20   \n3                                      891117.87   \n4                                     1766102.27   \n...                                          ...   \n2525                                  6774301.39   \n2526                                  3984418.68   \n2527                                  1923237.45   \n2528                                   860269.73   \n2529                                   232141.73   \n\n      NUM_HCPCS_Associated_With_Drug_Services  NUM_Drug_Services  ...  \\\n0                                        80.0             2511.0  ...   \n1                                      1438.0           918468.0  ...   \n2                                        60.0             3336.0  ...   \n3                                        31.0              451.0  ...   \n4                                        93.0             3023.0  ...   \n...                                       ...                ...  ...   \n2525                                    157.0             5408.0  ...   \n2526                                    111.0            54315.0  ...   \n2527                                     51.0             1456.0  ...   \n2528                                     49.0             3797.0  ...   \n2529                                      7.0              141.0  ...   \n\n      PCT_BEN_Hyperlipidemia  PCT_BEN_Hypertension  \\\n0                  57.500000             68.500000   \n1                  50.604494             67.505618   \n2                  56.035714             73.178571   \n3                  44.266667             68.933333   \n4                  58.307692             73.384615   \n...                      ...                   ...   \n2525               22.184466             48.456311   \n2526               25.766990             41.029126   \n2527               21.206349             43.555556   \n2528               22.100000             40.400000   \n2529               32.714286             48.142857   \n\n      PCT_BEN_Ischemic_Heart_Disease  PCT_BEN_Osteoporosis  \\\n0                          40.076923              5.769231   \n1                          36.462921              6.233708   \n2                          31.714286              3.857143   \n3                          28.733333              5.800000   \n4                          34.230769              5.115385   \n...                              ...                   ...   \n2525                       23.631068              2.864078   \n2526                       17.291262              3.126214   \n2527                       16.761905              0.952381   \n2528                       22.750000              3.750000   \n2529                       27.214286              9.000000   \n\n      PCT_BEN_Rheumatoid_Arthritis_Osteoarthritis  \\\n0                                       45.000000   \n1                                       49.602247   \n2                                       49.785714   \n3                                       41.566667   \n4                                       40.769231   \n...                                           ...   \n2525                                    34.339806   \n2526                                    41.184466   \n2527                                    27.746032   \n2528                                    33.350000   \n2529                                    35.214286   \n\n      PCT_BEN_Schizophrenia_Other_Psychotic_Disorders  PCT_BEN_Stroke  \\\n0                                            4.115385        6.923077   \n1                                            3.856180        4.265169   \n2                                            6.071429        5.500000   \n3                                            3.766667        5.533333   \n4                                            4.000000        5.038462   \n...                                               ...             ...   \n2525                                         2.077670        1.456311   \n2526                                         0.592233        1.077670   \n2527                                        15.523810        0.825397   \n2528                                         1.700000        1.300000   \n2529                                         0.642857        2.285714   \n\n      POPULATION_COUNTY  COVID_CASES_4.10.20  COVID_DEATHS_4.10.20  \n0                 55869                   17                     1  \n1                223234                   59                     0  \n2                 24686                    9                     0  \n3                 22394                   11                     0  \n4                 57826                   12                     0  \n...                 ...                  ...                   ...  \n2525              42343                    7                     0  \n2526              23464                   53                     0  \n2527              20226                    4                     0  \n2528               7805                    5                     0  \n2529               6927                    0                     0  \n\n[2530 rows x 56 columns]",
      "text/html": "<div>\n<style scoped>\n    .dataframe tbody tr th:only-of-type {\n        vertical-align: middle;\n    }\n\n    .dataframe tbody tr th {\n        vertical-align: top;\n    }\n\n    .dataframe thead th {\n        text-align: right;\n    }\n</style>\n<table border=\"1\" class=\"dataframe\">\n  <thead>\n    <tr style=\"text-align: right;\">\n      <th></th>\n      <th>COUNTYFIPS</th>\n      <th>NUM_HCPCS</th>\n      <th>NUM_Services</th>\n      <th>NUM_Medicare_BEN</th>\n      <th>Total_Submitted_Charge_Amount</th>\n      <th>Total_Medicare_Allowed_Amount</th>\n      <th>Total_Medicare_Payment_Amount</th>\n      <th>Total_Medicare_Standardized_Payment_Amount</th>\n      <th>NUM_HCPCS_Associated_With_Drug_Services</th>\n      <th>NUM_Drug_Services</th>\n      <th>...</th>\n      <th>PCT_BEN_Hyperlipidemia</th>\n      <th>PCT_BEN_Hypertension</th>\n      <th>PCT_BEN_Ischemic_Heart_Disease</th>\n      <th>PCT_BEN_Osteoporosis</th>\n      <th>PCT_BEN_Rheumatoid_Arthritis_Osteoarthritis</th>\n      <th>PCT_BEN_Schizophrenia_Other_Psychotic_Disorders</th>\n      <th>PCT_BEN_Stroke</th>\n      <th>POPULATION_COUNTY</th>\n      <th>COVID_CASES_4.10.20</th>\n      <th>COVID_DEATHS_4.10.20</th>\n    </tr>\n  </thead>\n  <tbody>\n    <tr>\n      <th>0</th>\n      <td>1001</td>\n      <td>649</td>\n      <td>23608.4</td>\n      <td>5744</td>\n      <td>5.642743e+06</td>\n      <td>1601574.96</td>\n      <td>1211002.80</td>\n      <td>1322271.14</td>\n      <td>80.0</td>\n      <td>2511.0</td>\n      <td>...</td>\n      <td>57.500000</td>\n      <td>68.500000</td>\n      <td>40.076923</td>\n      <td>5.769231</td>\n      <td>45.000000</td>\n      <td>4.115385</td>\n      <td>6.923077</td>\n      <td>55869</td>\n      <td>17</td>\n      <td>1</td>\n    </tr>\n    <tr>\n      <th>1</th>\n      <td>1003</td>\n      <td>17736</td>\n      <td>1602538.8</td>\n      <td>162262</td>\n      <td>1.515522e+08</td>\n      <td>55396151.32</td>\n      <td>41633885.71</td>\n      <td>44788496.62</td>\n      <td>1438.0</td>\n      <td>918468.0</td>\n      <td>...</td>\n      <td>50.604494</td>\n      <td>67.505618</td>\n      <td>36.462921</td>\n      <td>6.233708</td>\n      <td>49.602247</td>\n      <td>3.856180</td>\n      <td>4.265169</td>\n      <td>223234</td>\n      <td>59</td>\n      <td>0</td>\n    </tr>\n    <tr>\n      <th>2</th>\n      <td>1005</td>\n      <td>738</td>\n      <td>93074.1</td>\n      <td>8758</td>\n      <td>8.347437e+06</td>\n      <td>3250431.51</td>\n      <td>2436659.90</td>\n      <td>2543344.20</td>\n      <td>60.0</td>\n      <td>3336.0</td>\n      <td>...</td>\n      <td>56.035714</td>\n      <td>73.178571</td>\n      <td>31.714286</td>\n      <td>3.857143</td>\n      <td>49.785714</td>\n      <td>6.071429</td>\n      <td>5.500000</td>\n      <td>24686</td>\n      <td>9</td>\n      <td>0</td>\n    </tr>\n    <tr>\n      <th>3</th>\n      <td>1007</td>\n      <td>539</td>\n      <td>30371.2</td>\n      <td>3917</td>\n      <td>2.129942e+06</td>\n      <td>1155227.84</td>\n      <td>862891.22</td>\n      <td>891117.87</td>\n      <td>31.0</td>\n      <td>451.0</td>\n      <td>...</td>\n      <td>44.266667</td>\n      <td>68.933333</td>\n      <td>28.733333</td>\n      <td>5.800000</td>\n      <td>41.566667</td>\n      <td>3.766667</td>\n      <td>5.533333</td>\n      <td>22394</td>\n      <td>11</td>\n      <td>0</td>\n    </tr>\n    <tr>\n      <th>4</th>\n      <td>1009</td>\n      <td>656</td>\n      <td>69980.4</td>\n      <td>6690</td>\n      <td>5.193917e+06</td>\n      <td>2358346.25</td>\n      <td>1774046.43</td>\n      <td>1766102.27</td>\n      <td>93.0</td>\n      <td>3023.0</td>\n      <td>...</td>\n      <td>58.307692</td>\n      <td>73.384615</td>\n      <td>34.230769</td>\n      <td>5.115385</td>\n      <td>40.769231</td>\n      <td>4.000000</td>\n      <td>5.038462</td>\n      <td>57826</td>\n      <td>12</td>\n      <td>0</td>\n    </tr>\n    <tr>\n      <th>...</th>\n      <td>...</td>\n      <td>...</td>\n      <td>...</td>\n      <td>...</td>\n      <td>...</td>\n      <td>...</td>\n      <td>...</td>\n      <td>...</td>\n      <td>...</td>\n      <td>...</td>\n      <td>...</td>\n      <td>...</td>\n      <td>...</td>\n      <td>...</td>\n      <td>...</td>\n      <td>...</td>\n      <td>...</td>\n      <td>...</td>\n      <td>...</td>\n      <td>...</td>\n      <td>...</td>\n    </tr>\n    <tr>\n      <th>2525</th>\n      <td>56037</td>\n      <td>3118</td>\n      <td>180247.3</td>\n      <td>24430</td>\n      <td>4.199070e+07</td>\n      <td>9361492.71</td>\n      <td>6968556.74</td>\n      <td>6774301.39</td>\n      <td>157.0</td>\n      <td>5408.0</td>\n      <td>...</td>\n      <td>22.184466</td>\n      <td>48.456311</td>\n      <td>23.631068</td>\n      <td>2.864078</td>\n      <td>34.339806</td>\n      <td>2.077670</td>\n      <td>1.456311</td>\n      <td>42343</td>\n      <td>7</td>\n      <td>0</td>\n    </tr>\n    <tr>\n      <th>2526</th>\n      <td>56039</td>\n      <td>3707</td>\n      <td>123737.1</td>\n      <td>19474</td>\n      <td>1.759663e+07</td>\n      <td>5335013.71</td>\n      <td>3964972.08</td>\n      <td>3984418.68</td>\n      <td>111.0</td>\n      <td>54315.0</td>\n      <td>...</td>\n      <td>25.766990</td>\n      <td>41.029126</td>\n      <td>17.291262</td>\n      <td>3.126214</td>\n      <td>41.184466</td>\n      <td>0.592233</td>\n      <td>1.077670</td>\n      <td>23464</td>\n      <td>53</td>\n      <td>0</td>\n    </tr>\n    <tr>\n      <th>2527</th>\n      <td>56041</td>\n      <td>1305</td>\n      <td>52681.9</td>\n      <td>8436</td>\n      <td>7.084807e+06</td>\n      <td>2634476.75</td>\n      <td>1941228.35</td>\n      <td>1923237.45</td>\n      <td>51.0</td>\n      <td>1456.0</td>\n      <td>...</td>\n      <td>21.206349</td>\n      <td>43.555556</td>\n      <td>16.761905</td>\n      <td>0.952381</td>\n      <td>27.746032</td>\n      <td>15.523810</td>\n      <td>0.825397</td>\n      <td>20226</td>\n      <td>4</td>\n      <td>0</td>\n    </tr>\n    <tr>\n      <th>2528</th>\n      <td>56043</td>\n      <td>451</td>\n      <td>25644.3</td>\n      <td>3605</td>\n      <td>2.650999e+06</td>\n      <td>1204296.03</td>\n      <td>858835.18</td>\n      <td>860269.73</td>\n      <td>49.0</td>\n      <td>3797.0</td>\n      <td>...</td>\n      <td>22.100000</td>\n      <td>40.400000</td>\n      <td>22.750000</td>\n      <td>3.750000</td>\n      <td>33.350000</td>\n      <td>1.700000</td>\n      <td>1.300000</td>\n      <td>7805</td>\n      <td>5</td>\n      <td>0</td>\n    </tr>\n    <tr>\n      <th>2529</th>\n      <td>56045</td>\n      <td>277</td>\n      <td>16037.0</td>\n      <td>1847</td>\n      <td>6.767309e+05</td>\n      <td>374177.73</td>\n      <td>278743.70</td>\n      <td>232141.73</td>\n      <td>7.0</td>\n      <td>141.0</td>\n      <td>...</td>\n      <td>32.714286</td>\n      <td>48.142857</td>\n      <td>27.214286</td>\n      <td>9.000000</td>\n      <td>35.214286</td>\n      <td>0.642857</td>\n      <td>2.285714</td>\n      <td>6927</td>\n      <td>0</td>\n      <td>0</td>\n    </tr>\n  </tbody>\n</table>\n<p>2530 rows × 56 columns</p>\n</div>"
     },
     "metadata": {},
     "output_type": "execute_result",
     "execution_count": 32
    }
   ],
   "source": [
    "final_df = pd.merge(merge_df, hospital_df, on='COUNTYFIPS')\n",
    "final_df"
   ],
   "metadata": {
    "collapsed": false,
    "pycharm": {
     "name": "#%%\n",
     "is_executing": false
    }
   }
  },
  {
   "cell_type": "markdown",
   "source": [
    "\n",
    "## Neural Net  \n",
    "Defining np arrays of features X and labels y "
   ],
   "metadata": {
    "collapsed": false
   }
  },
  {
   "cell_type": "code",
   "execution_count": 33,
   "outputs": [],
   "source": [
    "X = final_df.loc[:, 'NUM_HCPCS':'POPULATION_COUNTY'].values\n",
    "y = final_df['COVID_CASES_4.10.20'].values"
   ],
   "metadata": {
    "collapsed": false,
    "pycharm": {
     "name": "#%%\n",
     "is_executing": false
    }
   }
  },
  {
   "cell_type": "markdown",
   "source": [
    "Training and testing Multilayer perceptron using Keras  \n",
    "Outputs Mean squared error and mean absolute error at the end"
   ],
   "metadata": {
    "collapsed": false,
    "pycharm": {
     "name": "#%% md\n"
    }
   }
  },
  {
   "cell_type": "code",
   "execution_count": 34,
   "outputs": [
    {
     "name": "stdout",
     "text": [
      "Epoch 1/100\n",
      "\r 1/51 [..............................] - ETA: 0s - loss: 27305.7812 - mae: 65.5898",
      "\b\b\b\b\b\b\b\b\b\b\b\b\b\b\b\b\b\b\b\b\b\b\b\b\b\b\b\b\b\b\b\b\b\b\b\b\b\b\b\b\b\b\b\b\b\b\b\b\b\b\b\b\b\b\b\b\b\b\b\b\b\b\b\b\b\b\b\b\b\b\b\b\b\b\b\b\b\b\b\b\b\b\r13/51 [======>.......................] - ETA: 0s - loss: 1624358.7500 - mae: 182.9531",
      "\b\b\b\b\b\b\b\b\b\b\b\b\b\b\b\b\b\b\b\b\b\b\b\b\b\b\b\b\b\b\b\b\b\b\b\b\b\b\b\b\b\b\b\b\b\b\b\b\b\b\b\b\b\b\b\b\b\b\b\b\b\b\b\b\b\b\b\b\b\b\b\b\b\b\b\b\b\b\b\b\b\b\b\b\b\r24/51 [=============>................] - ETA: 0s - loss: 1110629.6250 - mae: 164.8065",
      "\b\b\b\b\b\b\b\b\b\b\b\b\b\b\b\b\b\b\b\b\b\b\b\b\b\b\b\b\b\b\b\b\b\b\b\b\b\b\b\b\b\b\b\b\b\b\b\b\b\b\b\b\b\b\b\b\b\b\b\b\b\b\b\b\b\b\b\b\b\b\b\b\b\b\b\b\b\b\b\b\b\b\b\b\b\r37/51 [====================>.........] - ETA: 0s - loss: 1025845.0000 - mae: 165.7819",
      "\b\b\b\b\b\b\b\b\b\b\b\b\b\b\b\b\b\b\b\b\b\b\b\b\b\b\b\b\b\b\b\b\b\b\b\b\b\b\b\b\b\b\b\b\b\b\b\b\b\b\b\b\b\b\b\b\b\b\b\b\b\b\b\b\b\b\b\b\b\b\b\b\b\b\b\b\b\b\b\b\b\b\b\b\b\r51/51 [==============================] - 0s 8ms/step - loss: 969341.4375 - mae: 155.1966 - val_loss: 3355204.2500 - val_mae: 258.7339\n",
      "Epoch 2/100\n\r 1/51 [..............................] - ETA: 0s - loss: 905734.1250 - mae: 190.6822",
      "\b\b\b\b\b\b\b\b\b\b\b\b\b\b\b\b\b\b\b\b\b\b\b\b\b\b\b\b\b\b\b\b\b\b\b\b\b\b\b\b\b\b\b\b\b\b\b\b\b\b\b\b\b\b\b\b\b\b\b\b\b\b\b\b\b\b\b\b\b\b\b\b\b\b\b\b\b\b\b\b\b\b\b\b\r16/51 [========>.....................] - ETA: 0s - loss: 1283885.2500 - mae: 189.1377",
      "\b\b\b\b\b\b\b\b\b\b\b\b\b\b\b\b\b\b\b\b\b\b\b\b\b\b\b\b\b\b\b\b\b\b\b\b\b\b\b\b\b\b\b\b\b\b\b\b\b\b\b\b\b\b\b\b\b\b\b\b\b\b\b\b\b\b\b\b\b\b\b\b\b\b\b\b\b\b\b\b\b\b\b\b\b\r31/51 [=================>............] - ETA: 0s - loss: 709656.8125 - mae: 132.8849 ",
      "\b\b\b\b\b\b\b\b\b\b\b\b\b\b\b\b\b\b\b\b\b\b\b\b\b\b\b\b\b\b\b\b\b\b\b\b\b\b\b\b\b\b\b\b\b\b\b\b\b\b\b\b\b\b\b\b\b\b\b\b\b\b\b\b\b\b\b\b\b\b\b\b\b\b\b\b\b\b\b\b\b\b\b\b\r44/51 [========================>.....] - ETA: 0s - loss: 986770.8125 - mae: 150.6605",
      "\b\b\b\b\b\b\b\b\b\b\b\b\b\b\b\b\b\b\b\b\b\b\b\b\b\b\b\b\b\b\b\b\b\b\b\b\b\b\b\b\b\b\b\b\b\b\b\b\b\b\b\b\b\b\b\b\b\b\b\b\b\b\b\b\b\b\b\b\b\b\b\b\b\b\b\b\b\b\b\b\b\b\b\b\r51/51 [==============================] - 0s 4ms/step - loss: 919477.2500 - mae: 146.2435 - val_loss: 3257248.2500 - val_mae: 255.0266\n",
      "Epoch 3/100\n\r 1/51 [..............................] - ETA: 0s - loss: 1300925.8750 - mae: 261.7263",
      "\b\b\b\b\b\b\b\b\b\b\b\b\b\b\b\b\b\b\b\b\b\b\b\b\b\b\b\b\b\b\b\b\b\b\b\b\b\b\b\b\b\b\b\b\b\b\b\b\b\b\b\b\b\b\b\b\b\b\b\b\b\b\b\b\b\b\b\b\b\b\b\b\b\b\b\b\b\b\b\b\b\b\b\b\b\r15/51 [=======>......................] - ETA: 0s - loss: 570502.8125 - mae: 145.3744 ",
      "\b\b\b\b\b\b\b\b\b\b\b\b\b\b\b\b\b\b\b\b\b\b\b\b\b\b\b\b\b\b\b\b\b\b\b\b\b\b\b\b\b\b\b\b\b\b\b\b\b\b\b\b\b\b\b\b\b\b\b\b\b\b\b\b\b\b\b\b\b\b\b\b\b\b\b\b\b\b\b\b\b\b\b\b\r23/51 [============>.................] - ETA: 0s - loss: 697428.1875 - mae: 155.3573",
      "\b\b\b\b\b\b\b\b\b\b\b\b\b\b\b\b\b\b\b\b\b\b\b\b\b\b\b\b\b\b\b\b\b\b\b\b\b\b\b\b\b\b\b\b\b\b\b\b\b\b\b\b\b\b\b\b\b\b\b\b\b\b\b\b\b\b\b\b\b\b\b\b\b\b\b\b\b\b\b\b\b\b\b\b\r38/51 [=====================>........] - ETA: 0s - loss: 1123675.2500 - mae: 168.7079",
      "\b\b\b\b\b\b\b\b\b\b\b\b\b\b\b\b\b\b\b\b\b\b\b\b\b\b\b\b\b\b\b\b\b\b\b\b\b\b\b\b\b\b\b\b\b\b\b\b\b\b\b\b\b\b\b\b\b\b\b\b\b\b\b\b\b\b\b\b\b\b\b\b\b\b\b\b\b\b\b\b\b\b\b\b\b",
      "\r51/51 [==============================] - 0s 5ms/step - loss: 864083.8125 - mae: 151.2182 - val_loss: 3200836.2500 - val_mae: 253.4762\n",
      "Epoch 4/100\n\r 1/51 [..............................] - ETA: 0s - loss: 4926.0972 - mae: 42.0931",
      "\b\b\b\b\b\b\b\b\b\b\b\b\b\b\b\b\b\b\b\b\b\b\b\b\b\b\b\b\b\b\b\b\b\b\b\b\b\b\b\b\b\b\b\b\b\b\b\b\b\b\b\b\b\b\b\b\b\b\b\b\b\b\b\b\b\b\b\b\b\b\b\b\b\b\b\b\b\b\b\b\b\r16/51 [========>.....................] - ETA: 0s - loss: 365788.6250 - mae: 114.5910",
      "\b\b\b\b\b\b\b\b\b\b\b\b\b\b\b\b\b\b\b\b\b\b\b\b\b\b\b\b\b\b\b\b\b\b\b\b\b\b\b\b\b\b\b\b\b\b\b\b\b\b\b\b\b\b\b\b\b\b\b\b\b\b\b\b\b\b\b\b\b\b\b\b\b\b\b\b\b\b\b\b\b\b\b\b\r30/51 [================>.............] - ETA: 0s - loss: 1134014.0000 - mae: 166.7863",
      "\b\b\b\b\b\b\b\b\b\b\b\b\b\b\b\b\b\b\b\b\b\b\b\b\b\b\b\b\b\b\b\b\b\b\b\b\b\b\b\b\b\b\b\b\b\b\b\b\b\b\b\b\b\b\b\b\b\b\b\b\b\b\b\b\b\b\b\b\b\b\b\b\b\b\b\b\b\b\b\b\b\b\b\b\b\r44/51 [========================>.....] - ETA: 0s - loss: 923840.7500 - mae: 157.2828 ",
      "\b\b\b\b\b\b\b\b\b\b\b\b\b\b\b\b\b\b\b\b\b\b\b\b\b\b\b\b\b\b\b\b\b\b\b\b\b\b\b\b\b\b\b\b\b\b\b\b\b\b\b\b\b\b\b\b\b\b\b\b\b\b\b\b\b\b\b\b\b\b\b\b\b\b\b\b\b\b\b\b\b\b\b\b\r51/51 [==============================] - 0s 4ms/step - loss: 842339.6250 - mae: 153.1055 - val_loss: 3145721.5000 - val_mae: 253.4170\n",
      "Epoch 5/100\n\r 1/51 [..............................] - ETA: 0s - loss: 2865068.5000 - mae: 352.3296",
      "\b\b\b\b\b\b\b\b\b\b\b\b\b\b\b\b\b\b\b\b\b\b\b\b\b\b\b\b\b\b\b\b\b\b\b\b\b\b\b\b\b\b\b\b\b\b\b\b\b\b\b\b\b\b\b\b\b\b\b\b\b\b\b\b\b\b\b\b\b\b\b\b\b\b\b\b\b\b\b\b\b\b\b\b\b",
      "\r15/51 [=======>......................] - ETA: 0s - loss: 1075065.2500 - mae: 166.6279",
      "\b\b\b\b\b\b\b\b\b\b\b\b\b\b\b\b\b\b\b\b\b\b\b\b\b\b\b\b\b\b\b\b\b\b\b\b\b\b\b\b\b\b\b\b\b\b\b\b\b\b\b\b\b\b\b\b\b\b\b\b\b\b\b\b\b\b\b\b\b\b\b\b\b\b\b\b\b\b\b\b\b\b\b\b\b",
      "\r29/51 [================>.............] - ETA: 0s - loss: 1069068.8750 - mae: 158.0067",
      "\b\b\b\b\b\b\b\b\b\b\b\b\b\b\b\b\b\b\b\b\b\b\b\b\b\b\b\b\b\b\b\b\b\b\b\b\b\b\b\b\b\b\b\b\b\b\b\b\b\b\b\b\b\b\b\b\b\b\b\b\b\b\b\b\b\b\b\b\b\b\b\b\b\b\b\b\b\b\b\b\b\b\b\b\b\r45/51 [=========================>....] - ETA: 0s - loss: 815750.5625 - mae: 151.0108 ",
      "\b\b\b\b\b\b\b\b\b\b\b\b\b\b\b\b\b\b\b\b\b\b\b\b\b\b\b\b\b\b\b\b\b\b\b\b\b\b\b\b\b\b\b\b\b\b\b\b\b\b\b\b\b\b\b\b\b\b\b\b\b\b\b\b\b\b\b\b\b\b\b\b\b\b\b\b\b\b\b\b\b\b\b\b\r51/51 [==============================] - 0s 4ms/step - loss: 827435.3125 - mae: 158.9423 - val_loss: 3107854.7500 - val_mae: 250.5632\n",
      "Epoch 6/100\n\r 1/51 [..............................] - ETA: 0s - loss: 77733.2656 - mae: 121.2068",
      "\b\b\b\b\b\b\b\b\b\b\b\b\b\b\b\b\b\b\b\b\b\b\b\b\b\b\b\b\b\b\b\b\b\b\b\b\b\b\b\b\b\b\b\b\b\b\b\b\b\b\b\b\b\b\b\b\b\b\b\b\b\b\b\b\b\b\b\b\b\b\b\b\b\b\b\b\b\b\b\b\b\b\b\r 9/51 [====>.........................] - ETA: 0s - loss: 234909.7500 - mae: 128.4340",
      "\b\b\b\b\b\b\b\b\b\b\b\b\b\b\b\b\b\b\b\b\b\b\b\b\b\b\b\b\b\b\b\b\b\b\b\b\b\b\b\b\b\b\b\b\b\b\b\b\b\b\b\b\b\b\b\b\b\b\b\b\b\b\b\b\b\b\b\b\b\b\b\b\b\b\b\b\b\b\b\b\b\b\b\b",
      "\r24/51 [=============>................] - ETA: 0s - loss: 1226818.6250 - mae: 173.5151",
      "\b\b\b\b\b\b\b\b\b\b\b\b\b\b\b\b\b\b\b\b\b\b\b\b\b\b\b\b\b\b\b\b\b\b\b\b\b\b\b\b\b\b\b\b\b\b\b\b\b\b\b\b\b\b\b\b\b\b\b\b\b\b\b\b\b\b\b\b\b\b\b\b\b\b\b\b\b\b\b\b\b\b\b\b\b\r39/51 [=====================>........] - ETA: 0s - loss: 892369.2500 - mae: 165.2198 ",
      "\b\b\b\b\b\b\b\b\b\b\b\b\b\b\b\b\b\b\b\b\b\b\b\b\b\b\b\b\b\b\b\b\b\b\b\b\b\b\b\b\b\b\b\b\b\b\b\b\b\b\b\b\b\b\b\b\b\b\b\b\b\b\b\b\b\b\b\b\b\b\b\b\b\b\b\b\b\b\b\b\b\b\b\b",
      "\r51/51 [==============================] - 0s 5ms/step - loss: 816084.2500 - mae: 159.1859 - val_loss: 3076054.2500 - val_mae: 247.9766\n",
      "Epoch 7/100\n\r 1/51 [..............................] - ETA: 0s - loss: 5831.3926 - mae: 42.5569",
      "\b\b\b\b\b\b\b\b\b\b\b\b\b\b\b\b\b\b\b\b\b\b\b\b\b\b\b\b\b\b\b\b\b\b\b\b\b\b\b\b\b\b\b\b\b\b\b\b\b\b\b\b\b\b\b\b\b\b\b\b\b\b\b\b\b\b\b\b\b\b\b\b\b\b\b\b\b\b\b\b\b",
      "\r14/51 [=======>......................] - ETA: 0s - loss: 789211.5625 - mae: 127.0045",
      "\b\b\b\b\b\b\b\b\b\b\b\b\b\b\b\b\b\b\b\b\b\b\b\b\b\b\b\b\b\b\b\b\b\b\b\b\b\b\b\b\b\b\b\b\b\b\b\b\b\b\b\b\b\b\b\b\b\b\b\b\b\b\b\b\b\b\b\b\b\b\b\b\b\b\b\b\b\b\b\b\b\b\b\b",
      "\r28/51 [===============>..............] - ETA: 0s - loss: 1149429.6250 - mae: 165.8564",
      "\b\b\b\b\b\b\b\b\b\b\b\b\b\b\b\b\b\b\b\b\b\b\b\b\b\b\b\b\b\b\b\b\b\b\b\b\b\b\b\b\b\b\b\b\b\b\b\b\b\b\b\b\b\b\b\b\b\b\b\b\b\b\b\b\b\b\b\b\b\b\b\b\b\b\b\b\b\b\b\b\b\b\b\b\b\r39/51 [=====================>........] - ETA: 0s - loss: 955702.2500 - mae: 165.6677 ",
      "\b\b\b\b\b\b\b\b\b\b\b\b\b\b\b\b\b\b\b\b\b\b\b\b\b\b\b\b\b\b\b\b\b\b\b\b\b\b\b\b\b\b\b\b\b\b\b\b\b\b\b\b\b\b\b\b\b\b\b\b\b\b\b\b\b\b\b\b\b\b\b\b\b\b\b\b\b\b\b\b\b\b\b\b",
      "\r51/51 [==============================] - 0s 5ms/step - loss: 798567.3750 - mae: 159.2908 - val_loss: 3042871.7500 - val_mae: 244.6445\n",
      "Epoch 8/100\n\r 1/51 [..............................] - ETA: 0s - loss: 9446882.0000 - mae: 634.6526",
      "\b\b\b\b\b\b\b\b\b\b\b\b\b\b\b\b\b\b\b\b\b\b\b\b\b\b\b\b\b\b\b\b\b\b\b\b\b\b\b\b\b\b\b\b\b\b\b\b\b\b\b\b\b\b\b\b\b\b\b\b\b\b\b\b\b\b\b\b\b\b\b\b\b\b\b\b\b\b\b\b\b\b\b\b\b\r15/51 [=======>......................] - ETA: 0s - loss: 912385.3125 - mae: 162.9020 ",
      "\b\b\b\b\b\b\b\b\b\b\b\b\b\b\b\b\b\b\b\b\b\b\b\b\b\b\b\b\b\b\b\b\b\b\b\b\b\b\b\b\b\b\b\b\b\b\b\b\b\b\b\b\b\b\b\b\b\b\b\b\b\b\b\b\b\b\b\b\b\b\b\b\b\b\b\b\b\b\b\b\b\b\b\b\r29/51 [================>.............] - ETA: 0s - loss: 545412.8125 - mae: 136.0195",
      "\b\b\b\b\b\b\b\b\b\b\b\b\b\b\b\b\b\b\b\b\b\b\b\b\b\b\b\b\b\b\b\b\b\b\b\b\b\b\b\b\b\b\b\b\b\b\b\b\b\b\b\b\b\b\b\b\b\b\b\b\b\b\b\b\b\b\b\b\b\b\b\b\b\b\b\b\b\b\b\b\b\b\b\b\r42/51 [=======================>......] - ETA: 0s - loss: 835920.5000 - mae: 149.9986",
      "\b\b\b\b\b\b\b\b\b\b\b\b\b\b\b\b\b\b\b\b\b\b\b\b\b\b\b\b\b\b\b\b\b\b\b\b\b\b\b\b\b\b\b\b\b\b\b\b\b\b\b\b\b\b\b\b\b\b\b\b\b\b\b\b\b\b\b\b\b\b\b\b\b\b\b\b\b\b\b\b\b\b\b\b",
      "\r51/51 [==============================] - 0s 5ms/step - loss: 780200.1875 - mae: 155.4897 - val_loss: 2965886.2500 - val_mae: 246.4939\n",
      "Epoch 9/100\n\r 1/51 [..............................] - ETA: 0s - loss: 964062.8750 - mae: 282.9542",
      "\b\b\b\b\b\b\b\b\b\b\b\b\b\b\b\b\b\b\b\b\b\b\b\b\b\b\b\b\b\b\b\b\b\b\b\b\b\b\b\b\b\b\b\b\b\b\b\b\b\b\b\b\b\b\b\b\b\b\b\b\b\b\b\b\b\b\b\b\b\b\b\b\b\b\b\b\b\b\b\b\b\b\b\b\r15/51 [=======>......................] - ETA: 0s - loss: 475872.1250 - mae: 170.1733",
      "\b\b\b\b\b\b\b\b\b\b\b\b\b\b\b\b\b\b\b\b\b\b\b\b\b\b\b\b\b\b\b\b\b\b\b\b\b\b\b\b\b\b\b\b\b\b\b\b\b\b\b\b\b\b\b\b\b\b\b\b\b\b\b\b\b\b\b\b\b\b\b\b\b\b\b\b\b\b\b\b\b\b\b\b\r32/51 [=================>............] - ETA: 0s - loss: 762832.1250 - mae: 164.0470",
      "\b\b\b\b\b\b\b\b\b\b\b\b\b\b\b\b\b\b\b\b\b\b\b\b\b\b\b\b\b\b\b\b\b\b\b\b\b\b\b\b\b\b\b\b\b\b\b\b\b\b\b\b\b\b\b\b\b\b\b\b\b\b\b\b\b\b\b\b\b\b\b\b\b\b\b\b\b\b\b\b\b\b\b\b\r48/51 [===========================>..] - ETA: 0s - loss: 799566.2500 - mae: 163.3479",
      "\b\b\b\b\b\b\b\b\b\b\b\b\b\b\b\b\b\b\b\b\b\b\b\b\b\b\b\b\b\b\b\b\b\b\b\b\b\b\b\b\b\b\b\b\b\b\b\b\b\b\b\b\b\b\b\b\b\b\b\b\b\b\b\b\b\b\b\b\b\b\b\b\b\b\b\b\b\b\b\b\b\b\b\b\r51/51 [==============================] - 0s 4ms/step - loss: 754132.0000 - mae: 158.9266 - val_loss: 2903176.5000 - val_mae: 247.8630\n",
      "Epoch 10/100\n\r 1/51 [..............................] - ETA: 0s - loss: 18973.5820 - mae: 58.9472",
      "\b\b\b\b\b\b\b\b\b\b\b\b\b\b\b\b\b\b\b\b\b\b\b\b\b\b\b\b\b\b\b\b\b\b\b\b\b\b\b\b\b\b\b\b\b\b\b\b\b\b\b\b\b\b\b\b\b\b\b\b\b\b\b\b\b\b\b\b\b\b\b\b\b\b\b\b\b\b\b\b\b\b\r13/51 [======>.......................] - ETA: 0s - loss: 1203375.3750 - mae: 189.6752",
      "\b\b\b\b\b\b\b\b\b\b\b\b\b\b\b\b\b\b\b\b\b\b\b\b\b\b\b\b\b\b\b\b\b\b\b\b\b\b\b\b\b\b\b\b\b\b\b\b\b\b\b\b\b\b\b\b\b\b\b\b\b\b\b\b\b\b\b\b\b\b\b\b\b\b\b\b\b\b\b\b\b\b\b\b\b\r22/51 [===========>..................] - ETA: 0s - loss: 837673.2500 - mae: 156.5742 ",
      "\b\b\b\b\b\b\b\b\b\b\b\b\b\b\b\b\b\b\b\b\b\b\b\b\b\b\b\b\b\b\b\b\b\b\b\b\b\b\b\b\b\b\b\b\b\b\b\b\b\b\b\b\b\b\b\b\b\b\b\b\b\b\b\b\b\b\b\b\b\b\b\b\b\b\b\b\b\b\b\b\b\b\b\b\r37/51 [====================>.........] - ETA: 0s - loss: 673669.1875 - mae: 153.3789",
      "\b\b\b\b\b\b\b\b\b\b\b\b\b\b\b\b\b\b\b\b\b\b\b\b\b\b\b\b\b\b\b\b\b\b\b\b\b\b\b\b\b\b\b\b\b\b\b\b\b\b\b\b\b\b\b\b\b\b\b\b\b\b\b\b\b\b\b\b\b\b\b\b\b\b\b\b\b\b\b\b\b\b\b\b\r50/51 [============================>.] - ETA: 0s - loss: 756295.4375 - mae: 162.7614",
      "\b\b\b\b\b\b\b\b\b\b\b\b\b\b\b\b\b\b\b\b\b\b\b\b\b\b\b\b\b\b\b\b\b\b\b\b\b\b\b\b\b\b\b\b\b\b\b\b\b\b\b\b\b\b\b\b\b\b\b\b\b\b\b\b\b\b\b\b\b\b\b\b\b\b\b\b\b\b\b\b\b\b\b\b\r51/51 [==============================] - 0s 5ms/step - loss: 742724.6250 - mae: 161.9566 - val_loss: 2886723.7500 - val_mae: 242.6542\n",
      "Epoch 11/100\n\r 1/51 [..............................] - ETA: 0s - loss: 22578.5254 - mae: 77.5035",
      "\b\b\b\b\b\b\b\b\b\b\b\b\b\b\b\b\b\b\b\b\b\b\b\b\b\b\b\b\b\b\b\b\b\b\b\b\b\b\b\b\b\b\b\b\b\b\b\b\b\b\b\b\b\b\b\b\b\b\b\b\b\b\b\b\b\b\b\b\b\b\b\b\b\b\b\b\b\b\b\b\b\b\r15/51 [=======>......................] - ETA: 0s - loss: 740976.1875 - mae: 145.3907",
      "\b\b\b\b\b\b\b\b\b\b\b\b\b\b\b\b\b\b\b\b\b\b\b\b\b\b\b\b\b\b\b\b\b\b\b\b\b\b\b\b\b\b\b\b\b\b\b\b\b\b\b\b\b\b\b\b\b\b\b\b\b\b\b\b\b\b\b\b\b\b\b\b\b\b\b\b\b\b\b\b\b\b\b\b\r28/51 [===============>..............] - ETA: 0s - loss: 603068.3750 - mae: 157.6032",
      "\b\b\b\b\b\b\b\b\b\b\b\b\b\b\b\b\b\b\b\b\b\b\b\b\b\b\b\b\b\b\b\b\b\b\b\b\b\b\b\b\b\b\b\b\b\b\b\b\b\b\b\b\b\b\b\b\b\b\b\b\b\b\b\b\b\b\b\b\b\b\b\b\b\b\b\b\b\b\b\b\b\b\b\b\r39/51 [=====================>........] - ETA: 0s - loss: 854848.5625 - mae: 173.7203",
      "\b\b\b\b\b\b\b\b\b\b\b\b\b\b\b\b\b\b\b\b\b\b\b\b\b\b\b\b\b\b\b\b\b\b\b\b\b\b\b\b\b\b\b\b\b\b\b\b\b\b\b\b\b\b\b\b\b\b\b\b\b\b\b\b\b\b\b\b\b\b\b\b\b\b\b\b\b\b\b\b\b\b\b\b\r50/51 [============================>.] - ETA: 0s - loss: 726922.6250 - mae: 161.7610",
      "\b\b\b\b\b\b\b\b\b\b\b\b\b\b\b\b\b\b\b\b\b\b\b\b\b\b\b\b\b\b\b\b\b\b\b\b\b\b\b\b\b\b\b\b\b\b\b\b\b\b\b\b\b\b\b\b\b\b\b\b\b\b\b\b\b\b\b\b\b\b\b\b\b\b\b\b\b\b\b\b\b\b\b\b\r51/51 [==============================] - 0s 5ms/step - loss: 725515.3750 - mae: 163.7799 - val_loss: 2793182.2500 - val_mae: 246.4529\n",
      "Epoch 12/100\n\r 1/51 [..............................] - ETA: 0s - loss: 40577.2109 - mae: 126.3217",
      "\b\b\b\b\b\b\b\b\b\b\b\b\b\b\b\b\b\b\b\b\b\b\b\b\b\b\b\b\b\b\b\b\b\b\b\b\b\b\b\b\b\b\b\b\b\b\b\b\b\b\b\b\b\b\b\b\b\b\b\b\b\b\b\b\b\b\b\b\b\b\b\b\b\b\b\b\b\b\b\b\b\b\b\r13/51 [======>.......................] - ETA: 0s - loss: 826213.2500 - mae: 155.2032",
      "\b\b\b\b\b\b\b\b\b\b\b\b\b\b\b\b\b\b\b\b\b\b\b\b\b\b\b\b\b\b\b\b\b\b\b\b\b\b\b\b\b\b\b\b\b\b\b\b\b\b\b\b\b\b\b\b\b\b\b\b\b\b\b\b\b\b\b\b\b\b\b\b\b\b\b\b\b\b\b\b\b\b\b\b\r26/51 [==============>...............] - ETA: 0s - loss: 597386.0000 - mae: 151.3756",
      "\b\b\b\b\b\b\b\b\b\b\b\b\b\b\b\b\b\b\b\b\b\b\b\b\b\b\b\b\b\b\b\b\b\b\b\b\b\b\b\b\b\b\b\b\b\b\b\b\b\b\b\b\b\b\b\b\b\b\b\b\b\b\b\b\b\b\b\b\b\b\b\b\b\b\b\b\b\b\b\b\b\b\b\b\r41/51 [=======================>......] - ETA: 0s - loss: 787850.7500 - mae: 160.2325",
      "\b\b\b\b\b\b\b\b\b\b\b\b\b\b\b\b\b\b\b\b\b\b\b\b\b\b\b\b\b\b\b\b\b\b\b\b\b\b\b\b\b\b\b\b\b\b\b\b\b\b\b\b\b\b\b\b\b\b\b\b\b\b\b\b\b\b\b\b\b\b\b\b\b\b\b\b\b\b\b\b\b\b\b\b",
      "\r51/51 [==============================] - 0s 5ms/step - loss: 694593.1250 - mae: 163.5108 - val_loss: 2733433.7500 - val_mae: 246.7182\n",
      "Epoch 13/100\n\r 1/51 [..............................] - ETA: 0s - loss: 38365.8945 - mae: 70.1947",
      "\b\b\b\b\b\b\b\b\b\b\b\b\b\b\b\b\b\b\b\b\b\b\b\b\b\b\b\b\b\b\b\b\b\b\b\b\b\b\b\b\b\b\b\b\b\b\b\b\b\b\b\b\b\b\b\b\b\b\b\b\b\b\b\b\b\b\b\b\b\b\b\b\b\b\b\b\b\b\b\b\b\b\r18/51 [=========>....................] - ETA: 0s - loss: 120947.1094 - mae: 104.6373",
      "\b\b\b\b\b\b\b\b\b\b\b\b\b\b\b\b\b\b\b\b\b\b\b\b\b\b\b\b\b\b\b\b\b\b\b\b\b\b\b\b\b\b\b\b\b\b\b\b\b\b\b\b\b\b\b\b\b\b\b\b\b\b\b\b\b\b\b\b\b\b\b\b\b\b\b\b\b\b\b\b\b\b\b\b\r34/51 [===================>..........] - ETA: 0s - loss: 209704.8125 - mae: 123.0980",
      "\b\b\b\b\b\b\b\b\b\b\b\b\b\b\b\b\b\b\b\b\b\b\b\b\b\b\b\b\b\b\b\b\b\b\b\b\b\b\b\b\b\b\b\b\b\b\b\b\b\b\b\b\b\b\b\b\b\b\b\b\b\b\b\b\b\b\b\b\b\b\b\b\b\b\b\b\b\b\b\b\b\b\b\b\r50/51 [============================>.] - ETA: 0s - loss: 663254.2500 - mae: 158.0385",
      "\b\b\b\b\b\b\b\b\b\b\b\b\b\b\b\b\b\b\b\b\b\b\b\b\b\b\b\b\b\b\b\b\b\b\b\b\b\b\b\b\b\b\b\b\b\b\b\b\b\b\b\b\b\b\b\b\b\b\b\b\b\b\b\b\b\b\b\b\b\b\b\b\b\b\b\b\b\b\b\b\b\b\b\b\r51/51 [==============================] - 0s 4ms/step - loss: 666257.5625 - mae: 159.2977 - val_loss: 2609365.0000 - val_mae: 262.1737\n",
      "Epoch 14/100\n\r 1/51 [..............................] - ETA: 0s - loss: 35685.3125 - mae: 92.3254",
      "\b\b\b\b\b\b\b\b\b\b\b\b\b\b\b\b\b\b\b\b\b\b\b\b\b\b\b\b\b\b\b\b\b\b\b\b\b\b\b\b\b\b\b\b\b\b\b\b\b\b\b\b\b\b\b\b\b\b\b\b\b\b\b\b\b\b\b\b\b\b\b\b\b\b\b\b\b\b\b\b\b\b\r13/51 [======>.......................] - ETA: 0s - loss: 510221.9375 - mae: 202.3434",
      "\b\b\b\b\b\b\b\b\b\b\b\b\b\b\b\b\b\b\b\b\b\b\b\b\b\b\b\b\b\b\b\b\b\b\b\b\b\b\b\b\b\b\b\b\b\b\b\b\b\b\b\b\b\b\b\b\b\b\b\b\b\b\b\b\b\b\b\b\b\b\b\b\b\b\b\b\b\b\b\b\b\b\b\b\r25/51 [=============>................] - ETA: 0s - loss: 291628.5938 - mae: 153.0294",
      "\b\b\b\b\b\b\b\b\b\b\b\b\b\b\b\b\b\b\b\b\b\b\b\b\b\b\b\b\b\b\b\b\b\b\b\b\b\b\b\b\b\b\b\b\b\b\b\b\b\b\b\b\b\b\b\b\b\b\b\b\b\b\b\b\b\b\b\b\b\b\b\b\b\b\b\b\b\b\b\b\b\b\b\b\r38/51 [=====================>........] - ETA: 0s - loss: 515029.3750 - mae: 168.7768",
      "\b\b\b\b\b\b\b\b\b\b\b\b\b\b\b\b\b\b\b\b\b\b\b\b\b\b\b\b\b\b\b\b\b\b\b\b\b\b\b\b\b\b\b\b\b\b\b\b\b\b\b\b\b\b\b\b\b\b\b\b\b\b\b\b\b\b\b\b\b\b\b\b\b\b\b\b\b\b\b\b\b\b\b\b",
      "\r51/51 [==============================] - 0s 5ms/step - loss: 654067.3125 - mae: 176.3360 - val_loss: 2639533.2500 - val_mae: 240.8962\n",
      "Epoch 15/100\n\r 1/51 [..............................] - ETA: 0s - loss: 134231.2031 - mae: 159.6074",
      "\b\b\b\b\b\b\b\b\b\b\b\b\b\b\b\b\b\b\b\b\b\b\b\b\b\b\b\b\b\b\b\b\b\b\b\b\b\b\b\b\b\b\b\b\b\b\b\b\b\b\b\b\b\b\b\b\b\b\b\b\b\b\b\b\b\b\b\b\b\b\b\b\b\b\b\b\b\b\b\b\b\b\b\b\r14/51 [=======>......................] - ETA: 0s - loss: 1174641.7500 - mae: 185.8854",
      "\b\b\b\b\b\b\b\b\b\b\b\b\b\b\b\b\b\b\b\b\b\b\b\b\b\b\b\b\b\b\b\b\b\b\b\b\b\b\b\b\b\b\b\b\b\b\b\b\b\b\b\b\b\b\b\b\b\b\b\b\b\b\b\b\b\b\b\b\b\b\b\b\b\b\b\b\b\b\b\b\b\b\b\b\b",
      "\r25/51 [=============>................] - ETA: 0s - loss: 775638.8125 - mae: 169.8582 ",
      "\b\b\b\b\b\b\b\b\b\b\b\b\b\b\b\b\b\b\b\b\b\b\b\b\b\b\b\b\b\b\b\b\b\b\b\b\b\b\b\b\b\b\b\b\b\b\b\b\b\b\b\b\b\b\b\b\b\b\b\b\b\b\b\b\b\b\b\b\b\b\b\b\b\b\b\b\b\b\b\b\b\b\b\b\r40/51 [======================>.......] - ETA: 0s - loss: 762943.3750 - mae: 170.6520",
      "\b\b\b\b\b\b\b\b\b\b\b\b\b\b\b\b\b\b\b\b\b\b\b\b\b\b\b\b\b\b\b\b\b\b\b\b\b\b\b\b\b\b\b\b\b\b\b\b\b\b\b\b\b\b\b\b\b\b\b\b\b\b\b\b\b\b\b\b\b\b\b\b\b\b\b\b\b\b\b\b\b\b\b\b\r49/51 [===========================>..] - ETA: 0s - loss: 671105.5000 - mae: 164.5229",
      "\b\b\b\b\b\b\b\b\b\b\b\b\b\b\b\b\b\b\b\b\b\b\b\b\b\b\b\b\b\b\b\b\b\b\b\b\b\b\b\b\b\b\b\b\b\b\b\b\b\b\b\b\b\b\b\b\b\b\b\b\b\b\b\b\b\b\b\b\b\b\b\b\b\b\b\b\b\b\b\b\b\b\b\b\r51/51 [==============================] - 0s 5ms/step - loss: 646344.3125 - mae: 162.4226 - val_loss: 2615629.5000 - val_mae: 238.5739\n",
      "Epoch 16/100\n\r 1/51 [..............................] - ETA: 0s - loss: 20819.3047 - mae: 74.4908",
      "\b\b\b\b\b\b\b\b\b\b\b\b\b\b\b\b\b\b\b\b\b\b\b\b\b\b\b\b\b\b\b\b\b\b\b\b\b\b\b\b\b\b\b\b\b\b\b\b\b\b\b\b\b\b\b\b\b\b\b\b\b\b\b\b\b\b\b\b\b\b\b\b\b\b\b\b\b\b\b\b\b\b\r15/51 [=======>......................] - ETA: 0s - loss: 889014.8750 - mae: 165.4435",
      "\b\b\b\b\b\b\b\b\b\b\b\b\b\b\b\b\b\b\b\b\b\b\b\b\b\b\b\b\b\b\b\b\b\b\b\b\b\b\b\b\b\b\b\b\b\b\b\b\b\b\b\b\b\b\b\b\b\b\b\b\b\b\b\b\b\b\b\b\b\b\b\b\b\b\b\b\b\b\b\b\b\b\b\b\r30/51 [================>.............] - ETA: 0s - loss: 871630.8750 - mae: 169.1624",
      "\b\b\b\b\b\b\b\b\b\b\b\b\b\b\b\b\b\b\b\b\b\b\b\b\b\b\b\b\b\b\b\b\b\b\b\b\b\b\b\b\b\b\b\b\b\b\b\b\b\b\b\b\b\b\b\b\b\b\b\b\b\b\b\b\b\b\b\b\b\b\b\b\b\b\b\b\b\b\b\b\b\b\b\b\r45/51 [=========================>....] - ETA: 0s - loss: 680854.8125 - mae: 167.4392",
      "\b\b\b\b\b\b\b\b\b\b\b\b\b\b\b\b\b\b\b\b\b\b\b\b\b\b\b\b\b\b\b\b\b\b\b\b\b\b\b\b\b\b\b\b\b\b\b\b\b\b\b\b\b\b\b\b\b\b\b\b\b\b\b\b\b\b\b\b\b\b\b\b\b\b\b\b\b\b\b\b\b\b\b\b\r51/51 [==============================] - 0s 4ms/step - loss: 624433.8125 - mae: 165.8991 - val_loss: 2503475.5000 - val_mae: 241.6694\n",
      "Epoch 17/100",
      "\n\r 1/51 [..............................] - ETA: 0s - loss: 69446.4219 - mae: 107.4279",
      "\b\b\b\b\b\b\b\b\b\b\b\b\b\b\b\b\b\b\b\b\b\b\b\b\b\b\b\b\b\b\b\b\b\b\b\b\b\b\b\b\b\b\b\b\b\b\b\b\b\b\b\b\b\b\b\b\b\b\b\b\b\b\b\b\b\b\b\b\b\b\b\b\b\b\b\b\b\b\b\b\b\b\b\r 6/51 [==>...........................] - ETA: 0s - loss: 254717.5625 - mae: 142.8688",
      "\b\b\b\b\b\b\b\b\b\b\b\b\b\b\b\b\b\b\b\b\b\b\b\b\b\b\b\b\b\b\b\b\b\b\b\b\b\b\b\b\b\b\b\b\b\b\b\b\b\b\b\b\b\b\b\b\b\b\b\b\b\b\b\b\b\b\b\b\b\b\b\b\b\b\b\b\b\b\b\b\b\b\b\b",
      "\r20/51 [==========>...................] - ETA: 0s - loss: 163513.7188 - mae: 117.2967",
      "\b\b\b\b\b\b\b\b\b\b\b\b\b\b\b\b\b\b\b\b\b\b\b\b\b\b\b\b\b\b\b\b\b\b\b\b\b\b\b\b\b\b\b\b\b\b\b\b\b\b\b\b\b\b\b\b\b\b\b\b\b\b\b\b\b\b\b\b\b\b\b\b\b\b\b\b\b\b\b\b\b\b\b\b\r34/51 [===================>..........] - ETA: 0s - loss: 221827.8594 - mae: 134.1715",
      "\b\b\b\b\b\b\b\b\b\b\b\b\b\b\b\b\b\b\b\b\b\b\b\b\b\b\b\b\b\b\b\b\b\b\b\b\b\b\b\b\b\b\b\b\b\b\b\b\b\b\b\b\b\b\b\b\b\b\b\b\b\b\b\b\b\b\b\b\b\b\b\b\b\b\b\b\b\b\b\b\b\b\b\b\r49/51 [===========================>..] - ETA: 0s - loss: 627308.0625 - mae: 165.1891",
      "\b\b\b\b\b\b\b\b\b\b\b\b\b\b\b\b\b\b\b\b\b\b\b\b\b\b\b\b\b\b\b\b\b\b\b\b\b\b\b\b\b\b\b\b\b\b\b\b\b\b\b\b\b\b\b\b\b\b\b\b\b\b\b\b\b\b\b\b\b\b\b\b\b\b\b\b\b\b\b\b\b\b\b\b\r51/51 [==============================] - 0s 5ms/step - loss: 608127.9375 - mae: 164.5948 - val_loss: 2415854.7500 - val_mae: 245.5520\n",
      "Epoch 18/100\n\r 1/51 [..............................] - ETA: 0s - loss: 32232.0488 - mae: 97.4351",
      "\b\b\b\b\b\b\b\b\b\b\b\b\b\b\b\b\b\b\b\b\b\b\b\b\b\b\b\b\b\b\b\b\b\b\b\b\b\b\b\b\b\b\b\b\b\b\b\b\b\b\b\b\b\b\b\b\b\b\b\b\b\b\b\b\b\b\b\b\b\b\b\b\b\b\b\b\b\b\b\b\b\b\r11/51 [=====>........................] - ETA: 0s - loss: 199096.1875 - mae: 129.1238",
      "\b\b\b\b\b\b\b\b\b\b\b\b\b\b\b\b\b\b\b\b\b\b\b\b\b\b\b\b\b\b\b\b\b\b\b\b\b\b\b\b\b\b\b\b\b\b\b\b\b\b\b\b\b\b\b\b\b\b\b\b\b\b\b\b\b\b\b\b\b\b\b\b\b\b\b\b\b\b\b\b\b\b\b\b\r26/51 [==============>...............] - ETA: 0s - loss: 264114.3125 - mae: 144.3902",
      "\b\b\b\b\b\b\b\b\b\b\b\b\b\b\b\b\b\b\b\b\b\b\b\b\b\b\b\b\b\b\b\b\b\b\b\b\b\b\b\b\b\b\b\b\b\b\b\b\b\b\b\b\b\b\b\b\b\b\b\b\b\b\b\b\b\b\b\b\b\b\b\b\b\b\b\b\b\b\b\b\b\b\b\b\r40/51 [======================>.......] - ETA: 0s - loss: 522320.7500 - mae: 164.8812",
      "\b\b\b\b\b\b\b\b\b\b\b\b\b\b\b\b\b\b\b\b\b\b\b\b\b\b\b\b\b\b\b\b\b\b\b\b\b\b\b\b\b\b\b\b\b\b\b\b\b\b\b\b\b\b\b\b\b\b\b\b\b\b\b\b\b\b\b\b\b\b\b\b\b\b\b\b\b\b\b\b\b\b\b\b",
      "\r51/51 [==============================] - 0s 5ms/step - loss: 590390.6250 - mae: 168.0835 - val_loss: 2374082.7500 - val_mae: 243.6949\n",
      "Epoch 19/100\n\r 1/51 [..............................] - ETA: 0s - loss: 41900.4375 - mae: 106.9248",
      "\b\b\b\b\b\b\b\b\b\b\b\b\b\b\b\b\b\b\b\b\b\b\b\b\b\b\b\b\b\b\b\b\b\b\b\b\b\b\b\b\b\b\b\b\b\b\b\b\b\b\b\b\b\b\b\b\b\b\b\b\b\b\b\b\b\b\b\b\b\b\b\b\b\b\b\b\b\b\b\b\b\b\b",
      "\r13/51 [======>.......................] - ETA: 0s - loss: 261521.3906 - mae: 146.7537",
      "\b\b\b\b\b\b\b\b\b\b\b\b\b\b\b\b\b\b\b\b\b\b\b\b\b\b\b\b\b\b\b\b\b\b\b\b\b\b\b\b\b\b\b\b\b\b\b\b\b\b\b\b\b\b\b\b\b\b\b\b\b\b\b\b\b\b\b\b\b\b\b\b\b\b\b\b\b\b\b\b\b\b\b\b",
      "\r25/51 [=============>................] - ETA: 0s - loss: 633286.6250 - mae: 162.7064",
      "\b\b\b\b\b\b\b\b\b\b\b\b\b\b\b\b\b\b\b\b\b\b\b\b\b\b\b\b\b\b\b\b\b\b\b\b\b\b\b\b\b\b\b\b\b\b\b\b\b\b\b\b\b\b\b\b\b\b\b\b\b\b\b\b\b\b\b\b\b\b\b\b\b\b\b\b\b\b\b\b\b\b\b\b\r38/51 [=====================>........] - ETA: 0s - loss: 728989.9375 - mae: 177.8818",
      "\b\b\b\b\b\b\b\b\b\b\b\b\b\b\b\b\b\b\b\b\b\b\b\b\b\b\b\b\b\b\b\b\b\b\b\b\b\b\b\b\b\b\b\b\b\b\b\b\b\b\b\b\b\b\b\b\b\b\b\b\b\b\b\b\b\b\b\b\b\b\b\b\b\b\b\b\b\b\b\b\b\b\b\b\r46/51 [==========================>...] - ETA: 0s - loss: 614954.3125 - mae: 168.7913",
      "\b\b\b\b\b\b\b\b\b\b\b\b\b\b\b\b\b\b\b\b\b\b\b\b\b\b\b\b\b\b\b\b\b\b\b\b\b\b\b\b\b\b\b\b\b\b\b\b\b\b\b\b\b\b\b\b\b\b\b\b\b\b\b\b\b\b\b\b\b\b\b\b\b\b\b\b\b\b\b\b\b\b\b\b\r51/51 [==============================] - 0s 5ms/step - loss: 585145.3125 - mae: 166.4695 - val_loss: 2379435.7500 - val_mae: 236.8878\n",
      "Epoch 20/100\n\r 1/51 [..............................] - ETA: 0s - loss: 20494.5586 - mae: 87.0809",
      "\b\b\b\b\b\b\b\b\b\b\b\b\b\b\b\b\b\b\b\b\b\b\b\b\b\b\b\b\b\b\b\b\b\b\b\b\b\b\b\b\b\b\b\b\b\b\b\b\b\b\b\b\b\b\b\b\b\b\b\b\b\b\b\b\b\b\b\b\b\b\b\b\b\b\b\b\b\b\b\b\b\b\r15/51 [=======>......................] - ETA: 0s - loss: 276064.4688 - mae: 149.2998",
      "\b\b\b\b\b\b\b\b\b\b\b\b\b\b\b\b\b\b\b\b\b\b\b\b\b\b\b\b\b\b\b\b\b\b\b\b\b\b\b\b\b\b\b\b\b\b\b\b\b\b\b\b\b\b\b\b\b\b\b\b\b\b\b\b\b\b\b\b\b\b\b\b\b\b\b\b\b\b\b\b\b\b\b\b",
      "\r30/51 [================>.............] - ETA: 0s - loss: 253879.7656 - mae: 139.9796",
      "\b\b\b\b\b\b\b\b\b\b\b\b\b\b\b\b\b\b\b\b\b\b\b\b\b\b\b\b\b\b\b\b\b\b\b\b\b\b\b\b\b\b\b\b\b\b\b\b\b\b\b\b\b\b\b\b\b\b\b\b\b\b\b\b\b\b\b\b\b\b\b\b\b\b\b\b\b\b\b\b\b\b\b\b\r43/51 [========================>.....] - ETA: 0s - loss: 616739.4375 - mae: 160.4519",
      "\b\b\b\b\b\b\b\b\b\b\b\b\b\b\b\b\b\b\b\b\b\b\b\b\b\b\b\b\b\b\b\b\b\b\b\b\b\b\b\b\b\b\b\b\b\b\b\b\b\b\b\b\b\b\b\b\b\b\b\b\b\b\b\b\b\b\b\b\b\b\b\b\b\b\b\b\b\b\b\b\b\b\b\b",
      "\r51/51 [==============================] - 0s 4ms/step - loss: 566031.3125 - mae: 163.6257 - val_loss: 2377565.5000 - val_mae: 231.8993\n",
      "Epoch 21/100\n\r 1/51 [..............................] - ETA: 0s - loss: 66506.0781 - mae: 106.8951",
      "\b\b\b\b\b\b\b\b\b\b\b\b\b\b\b\b\b\b\b\b\b\b\b\b\b\b\b\b\b\b\b\b\b\b\b\b\b\b\b\b\b\b\b\b\b\b\b\b\b\b\b\b\b\b\b\b\b\b\b\b\b\b\b\b\b\b\b\b\b\b\b\b\b\b\b\b\b\b\b\b\b\b\b\r 6/51 [==>...........................] - ETA: 0s - loss: 34085.3398 - mae: 95.7732 ",
      "\b\b\b\b\b\b\b\b\b\b\b\b\b\b\b\b\b\b\b\b\b\b\b\b\b\b\b\b\b\b\b\b\b\b\b\b\b\b\b\b\b\b\b\b\b\b\b\b\b\b\b\b\b\b\b\b\b\b\b\b\b\b\b\b\b\b\b\b\b\b\b\b\b\b\b\b\b\b\b\b\b\b\r20/51 [==========>...................] - ETA: 0s - loss: 201852.9688 - mae: 130.2016",
      "\b\b\b\b\b\b\b\b\b\b\b\b\b\b\b\b\b\b\b\b\b\b\b\b\b\b\b\b\b\b\b\b\b\b\b\b\b\b\b\b\b\b\b\b\b\b\b\b\b\b\b\b\b\b\b\b\b\b\b\b\b\b\b\b\b\b\b\b\b\b\b\b\b\b\b\b\b\b\b\b\b\b\b\b\r35/51 [===================>..........] - ETA: 0s - loss: 581597.9375 - mae: 171.5544",
      "\b\b\b\b\b\b\b\b\b\b\b\b\b\b\b\b\b\b\b\b\b\b\b\b\b\b\b\b\b\b\b\b\b\b\b\b\b\b\b\b\b\b\b\b\b\b\b\b\b\b\b\b\b\b\b\b\b\b\b\b\b\b\b\b\b\b\b\b\b\b\b\b\b\b\b\b\b\b\b\b\b\b\b\b\r48/51 [===========================>..] - ETA: 0s - loss: 445131.8438 - mae: 153.2273",
      "\b\b\b\b\b\b\b\b\b\b\b\b\b\b\b\b\b\b\b\b\b\b\b\b\b\b\b\b\b\b\b\b\b\b\b\b\b\b\b\b\b\b\b\b\b\b\b\b\b\b\b\b\b\b\b\b\b\b\b\b\b\b\b\b\b\b\b\b\b\b\b\b\b\b\b\b\b\b\b\b\b\b\b\b\r51/51 [==============================] - 0s 5ms/step - loss: 562299.1250 - mae: 160.1422 - val_loss: 2217269.2500 - val_mae: 243.5274\n",
      "Epoch 22/100\n\r 1/51 [..............................] - ETA: 0s - loss: 55004.0312 - mae: 132.9696",
      "\b\b\b\b\b\b\b\b\b\b\b\b\b\b\b\b\b\b\b\b\b\b\b\b\b\b\b\b\b\b\b\b\b\b\b\b\b\b\b\b\b\b\b\b\b\b\b\b\b\b\b\b\b\b\b\b\b\b\b\b\b\b\b\b\b\b\b\b\b\b\b\b\b\b\b\b\b\b\b\b\b\b\b\r14/51 [=======>......................] - ETA: 0s - loss: 934962.1250 - mae: 179.1517",
      "\b\b\b\b\b\b\b\b\b\b\b\b\b\b\b\b\b\b\b\b\b\b\b\b\b\b\b\b\b\b\b\b\b\b\b\b\b\b\b\b\b\b\b\b\b\b\b\b\b\b\b\b\b\b\b\b\b\b\b\b\b\b\b\b\b\b\b\b\b\b\b\b\b\b\b\b\b\b\b\b\b\b\b\b\r25/51 [=============>................] - ETA: 0s - loss: 623879.1875 - mae: 169.1897",
      "\b\b\b\b\b\b\b\b\b\b\b\b\b\b\b\b\b\b\b\b\b\b\b\b\b\b\b\b\b\b\b\b\b\b\b\b\b\b\b\b\b\b\b\b\b\b\b\b\b\b\b\b\b\b\b\b\b\b\b\b\b\b\b\b\b\b\b\b\b\b\b\b\b\b\b\b\b\b\b\b\b\b\b\b\r38/51 [=====================>........] - ETA: 0s - loss: 463127.3125 - mae: 155.2910",
      "\b\b\b\b\b\b\b\b\b\b\b\b\b\b\b\b\b\b\b\b\b\b\b\b\b\b\b\b\b\b\b\b\b\b\b\b\b\b\b\b\b\b\b\b\b\b\b\b\b\b\b\b\b\b\b\b\b\b\b\b\b\b\b\b\b\b\b\b\b\b\b\b\b\b\b\b\b\b\b\b\b\b\b\b\r51/51 [==============================] - 0s 5ms/step - loss: 529068.6250 - mae: 161.0404 - val_loss: 2144929.0000 - val_mae: 245.4128\n",
      "Epoch 23/100\n\r 1/51 [..............................] - ETA: 0s - loss: 215275.9219 - mae: 177.2648",
      "\b\b\b\b\b\b\b\b\b\b\b\b\b\b\b\b\b\b\b\b\b\b\b\b\b\b\b\b\b\b\b\b\b\b\b\b\b\b\b\b\b\b\b\b\b\b\b\b\b\b\b\b\b\b\b\b\b\b\b\b\b\b\b\b\b\b\b\b\b\b\b\b\b\b\b\b\b\b\b\b\b\b\b\b\r14/51 [=======>......................] - ETA: 0s - loss: 311778.1875 - mae: 158.0216",
      "\b\b\b\b\b\b\b\b\b\b\b\b\b\b\b\b\b\b\b\b\b\b\b\b\b\b\b\b\b\b\b\b\b\b\b\b\b\b\b\b\b\b\b\b\b\b\b\b\b\b\b\b\b\b\b\b\b\b\b\b\b\b\b\b\b\b\b\b\b\b\b\b\b\b\b\b\b\b\b\b\b\b\b\b\r29/51 [================>.............] - ETA: 0s - loss: 580223.1875 - mae: 164.2108",
      "\b\b\b\b\b\b\b\b\b\b\b\b\b\b\b\b\b\b\b\b\b\b\b\b\b\b\b\b\b\b\b\b\b\b\b\b\b\b\b\b\b\b\b\b\b\b\b\b\b\b\b\b\b\b\b\b\b\b\b\b\b\b\b\b\b\b\b\b\b\b\b\b\b\b\b\b\b\b\b\b\b\b\b\b\r44/51 [========================>.....] - ETA: 0s - loss: 601008.1250 - mae: 168.2416",
      "\b\b\b\b\b\b\b\b\b\b\b\b\b\b\b\b\b\b\b\b\b\b\b\b\b\b\b\b\b\b\b\b\b\b\b\b\b\b\b\b\b\b\b\b\b\b\b\b\b\b\b\b\b\b\b\b\b\b\b\b\b\b\b\b\b\b\b\b\b\b\b\b\b\b\b\b\b\b\b\b\b\b\b\b",
      "\r51/51 [==============================] - 0s 5ms/step - loss: 528242.6875 - mae: 159.2864 - val_loss: 2124343.0000 - val_mae: 235.9530\n",
      "Epoch 24/100\n\r 1/51 [..............................] - ETA: 0s - loss: 26085.5117 - mae: 83.0455",
      "\b\b\b\b\b\b\b\b\b\b\b\b\b\b\b\b\b\b\b\b\b\b\b\b\b\b\b\b\b\b\b\b\b\b\b\b\b\b\b\b\b\b\b\b\b\b\b\b\b\b\b\b\b\b\b\b\b\b\b\b\b\b\b\b\b\b\b\b\b\b\b\b\b\b\b\b\b\b\b\b\b\b",
      "\r15/51 [=======>......................] - ETA: 0s - loss: 800888.8750 - mae: 163.6014",
      "\b\b\b\b\b\b\b\b\b\b\b\b\b\b\b\b\b\b\b\b\b\b\b\b\b\b\b\b\b\b\b\b\b\b\b\b\b\b\b\b\b\b\b\b\b\b\b\b\b\b\b\b\b\b\b\b\b\b\b\b\b\b\b\b\b\b\b\b\b\b\b\b\b\b\b\b\b\b\b\b\b\b\b\b\r29/51 [================>.............] - ETA: 0s - loss: 529169.0625 - mae: 148.4058",
      "\b\b\b\b\b\b\b\b\b\b\b\b\b\b\b\b\b\b\b\b\b\b\b\b\b\b\b\b\b\b\b\b\b\b\b\b\b\b\b\b\b\b\b\b\b\b\b\b\b\b\b\b\b\b\b\b\b\b\b\b\b\b\b\b\b\b\b\b\b\b\b\b\b\b\b\b\b\b\b\b\b\b\b\b\r43/51 [========================>.....] - ETA: 0s - loss: 560369.5625 - mae: 151.3630",
      "\b\b\b\b\b\b\b\b\b\b\b\b\b\b\b\b\b\b\b\b\b\b\b\b\b\b\b\b\b\b\b\b\b\b\b\b\b\b\b\b\b\b\b\b\b\b\b\b\b\b\b\b\b\b\b\b\b\b\b\b\b\b\b\b\b\b\b\b\b\b\b\b\b\b\b\b\b\b\b\b\b\b\b\b",
      "\r51/51 [==============================] - 0s 5ms/step - loss: 520391.8438 - mae: 157.4476 - val_loss: 2040204.1250 - val_mae: 244.1508\n",
      "Epoch 25/100\n\r 1/51 [..............................] - ETA: 0s - loss: 159326.2031 - mae: 132.5262",
      "\b\b\b\b\b\b\b\b\b\b\b\b\b\b\b\b\b\b\b\b\b\b\b\b\b\b\b\b\b\b\b\b\b\b\b\b\b\b\b\b\b\b\b\b\b\b\b\b\b\b\b\b\b\b\b\b\b\b\b\b\b\b\b\b\b\b\b\b\b\b\b\b\b\b\b\b\b\b\b\b\b\b\b\b\r13/51 [======>.......................] - ETA: 0s - loss: 96824.9531 - mae: 112.3263 ",
      "\b\b\b\b\b\b\b\b\b\b\b\b\b\b\b\b\b\b\b\b\b\b\b\b\b\b\b\b\b\b\b\b\b\b\b\b\b\b\b\b\b\b\b\b\b\b\b\b\b\b\b\b\b\b\b\b\b\b\b\b\b\b\b\b\b\b\b\b\b\b\b\b\b\b\b\b\b\b\b\b\b\b\b\r25/51 [=============>................] - ETA: 0s - loss: 390292.4688 - mae: 138.6047",
      "\b\b\b\b\b\b\b\b\b\b\b\b\b\b\b\b\b\b\b\b\b\b\b\b\b\b\b\b\b\b\b\b\b\b\b\b\b\b\b\b\b\b\b\b\b\b\b\b\b\b\b\b\b\b\b\b\b\b\b\b\b\b\b\b\b\b\b\b\b\b\b\b\b\b\b\b\b\b\b\b\b\b\b\b\r40/51 [======================>.......] - ETA: 0s - loss: 333670.4375 - mae: 142.6551",
      "\b\b\b\b\b\b\b\b\b\b\b\b\b\b\b\b\b\b\b\b\b\b\b\b\b\b\b\b\b\b\b\b\b\b\b\b\b\b\b\b\b\b\b\b\b\b\b\b\b\b\b\b\b\b\b\b\b\b\b\b\b\b\b\b\b\b\b\b\b\b\b\b\b\b\b\b\b\b\b\b\b\b\b\b",
      "\r51/51 [==============================] - 0s 5ms/step - loss: 504335.4375 - mae: 154.7413 - val_loss: 1988684.2500 - val_mae: 240.6870\n",
      "Epoch 26/100\n\r 1/51 [..............................] - ETA: 0s - loss: 23817.6816 - mae: 88.6775",
      "\b\b\b\b\b\b\b\b\b\b\b\b\b\b\b\b\b\b\b\b\b\b\b\b\b\b\b\b\b\b\b\b\b\b\b\b\b\b\b\b\b\b\b\b\b\b\b\b\b\b\b\b\b\b\b\b\b\b\b\b\b\b\b\b\b\b\b\b\b\b\b\b\b\b\b\b\b\b\b\b\b\b",
      "\r15/51 [=======>......................] - ETA: 0s - loss: 149270.6875 - mae: 126.5465",
      "\b\b\b\b\b\b\b\b\b\b\b\b\b\b\b\b\b\b\b\b\b\b\b\b\b\b\b\b\b\b\b\b\b\b\b\b\b\b\b\b\b\b\b\b\b\b\b\b\b\b\b\b\b\b\b\b\b\b\b\b\b\b\b\b\b\b\b\b\b\b\b\b\b\b\b\b\b\b\b\b\b\b\b\b",
      "\r29/51 [================>.............] - ETA: 0s - loss: 212614.9688 - mae: 144.6059",
      "\b\b\b\b\b\b\b\b\b\b\b\b\b\b\b\b\b\b\b\b\b\b\b\b\b\b\b\b\b\b\b\b\b\b\b\b\b\b\b\b\b\b\b\b\b\b\b\b\b\b\b\b\b\b\b\b\b\b\b\b\b\b\b\b\b\b\b\b\b\b\b\b\b\b\b\b\b\b\b\b\b\b\b\b\r43/51 [========================>.....] - ETA: 0s - loss: 505745.7188 - mae: 154.0947",
      "\b\b\b\b\b\b\b\b\b\b\b\b\b\b\b\b\b\b\b\b\b\b\b\b\b\b\b\b\b\b\b\b\b\b\b\b\b\b\b\b\b\b\b\b\b\b\b\b\b\b\b\b\b\b\b\b\b\b\b\b\b\b\b\b\b\b\b\b\b\b\b\b\b\b\b\b\b\b\b\b\b\b\b\b\r51/51 [==============================] - 0s 4ms/step - loss: 478588.9688 - mae: 160.5354 - val_loss: 2006672.8750 - val_mae: 223.2274\n",
      "Epoch 27/100\n",
      "\r 1/51 [..............................] - ETA: 0s - loss: 10937.2031 - mae: 64.8232",
      "\b\b\b\b\b\b\b\b\b\b\b\b\b\b\b\b\b\b\b\b\b\b\b\b\b\b\b\b\b\b\b\b\b\b\b\b\b\b\b\b\b\b\b\b\b\b\b\b\b\b\b\b\b\b\b\b\b\b\b\b\b\b\b\b\b\b\b\b\b\b\b\b\b\b\b\b\b\b\b\b\b\b\r13/51 [======>.......................] - ETA: 0s - loss: 574160.2500 - mae: 142.5956",
      "\b\b\b\b\b\b\b\b\b\b\b\b\b\b\b\b\b\b\b\b\b\b\b\b\b\b\b\b\b\b\b\b\b\b\b\b\b\b\b\b\b\b\b\b\b\b\b\b\b\b\b\b\b\b\b\b\b\b\b\b\b\b\b\b\b\b\b\b\b\b\b\b\b\b\b\b\b\b\b\b\b\b\b\b\r27/51 [==============>...............] - ETA: 0s - loss: 364131.9375 - mae: 132.1015",
      "\b\b\b\b\b\b\b\b\b\b\b\b\b\b\b\b\b\b\b\b\b\b\b\b\b\b\b\b\b\b\b\b\b\b\b\b\b\b\b\b\b\b\b\b\b\b\b\b\b\b\b\b\b\b\b\b\b\b\b\b\b\b\b\b\b\b\b\b\b\b\b\b\b\b\b\b\b\b\b\b\b\b\b\b\r38/51 [=====================>........] - ETA: 0s - loss: 313377.7500 - mae: 133.0478",
      "\b\b\b\b\b\b\b\b\b\b\b\b\b\b\b\b\b\b\b\b\b\b\b\b\b\b\b\b\b\b\b\b\b\b\b\b\b\b\b\b\b\b\b\b\b\b\b\b\b\b\b\b\b\b\b\b\b\b\b\b\b\b\b\b\b\b\b\b\b\b\b\b\b\b\b\b\b\b\b\b\b\b\b\b\r51/51 [==============================] - 0s 5ms/step - loss: 467243.3438 - mae: 148.9220 - val_loss: 1882474.7500 - val_mae: 231.4123\n",
      "Epoch 28/100\n\r 1/51 [..............................] - ETA: 0s - loss: 232823.7969 - mae: 150.0198",
      "\b\b\b\b\b\b\b\b\b\b\b\b\b\b\b\b\b\b\b\b\b\b\b\b\b\b\b\b\b\b\b\b\b\b\b\b\b\b\b\b\b\b\b\b\b\b\b\b\b\b\b\b\b\b\b\b\b\b\b\b\b\b\b\b\b\b\b\b\b\b\b\b\b\b\b\b\b\b\b\b\b\b\b\b\r14/51 [=======>......................] - ETA: 0s - loss: 526691.0000 - mae: 151.3188",
      "\b\b\b\b\b\b\b\b\b\b\b\b\b\b\b\b\b\b\b\b\b\b\b\b\b\b\b\b\b\b\b\b\b\b\b\b\b\b\b\b\b\b\b\b\b\b\b\b\b\b\b\b\b\b\b\b\b\b\b\b\b\b\b\b\b\b\b\b\b\b\b\b\b\b\b\b\b\b\b\b\b\b\b\b\r28/51 [===============>..............] - ETA: 0s - loss: 395806.9375 - mae: 152.5472",
      "\b\b\b\b\b\b\b\b\b\b\b\b\b\b\b\b\b\b\b\b\b\b\b\b\b\b\b\b\b\b\b\b\b\b\b\b\b\b\b\b\b\b\b\b\b\b\b\b\b\b\b\b\b\b\b\b\b\b\b\b\b\b\b\b\b\b\b\b\b\b\b\b\b\b\b\b\b\b\b\b\b\b\b\b\r41/51 [=======================>......] - ETA: 0s - loss: 522226.2500 - mae: 160.5913",
      "\b\b\b\b\b\b\b\b\b\b\b\b\b\b\b\b\b\b\b\b\b\b\b\b\b\b\b\b\b\b\b\b\b\b\b\b\b\b\b\b\b\b\b\b\b\b\b\b\b\b\b\b\b\b\b\b\b\b\b\b\b\b\b\b\b\b\b\b\b\b\b\b\b\b\b\b\b\b\b\b\b\b\b\b",
      "\r51/51 [==============================] - 0s 5ms/step - loss: 447016.7500 - mae: 154.8965 - val_loss: 1947805.7500 - val_mae: 217.0025\n",
      "Epoch 29/100\n\r 1/51 [..............................] - ETA: 0s - loss: 206476.5312 - mae: 138.1206",
      "\b\b\b\b\b\b\b\b\b\b\b\b\b\b\b\b\b\b\b\b\b\b\b\b\b\b\b\b\b\b\b\b\b\b\b\b\b\b\b\b\b\b\b\b\b\b\b\b\b\b\b\b\b\b\b\b\b\b\b\b\b\b\b\b\b\b\b\b\b\b\b\b\b\b\b\b\b\b\b\b\b\b\b\b\r16/51 [========>.....................] - ETA: 0s - loss: 807496.5000 - mae: 187.9978",
      "\b\b\b\b\b\b\b\b\b\b\b\b\b\b\b\b\b\b\b\b\b\b\b\b\b\b\b\b\b\b\b\b\b\b\b\b\b\b\b\b\b\b\b\b\b\b\b\b\b\b\b\b\b\b\b\b\b\b\b\b\b\b\b\b\b\b\b\b\b\b\b\b\b\b\b\b\b\b\b\b\b\b\b\b\r31/51 [=================>............] - ETA: 0s - loss: 457308.8750 - mae: 149.2245",
      "\b\b\b\b\b\b\b\b\b\b\b\b\b\b\b\b\b\b\b\b\b\b\b\b\b\b\b\b\b\b\b\b\b\b\b\b\b\b\b\b\b\b\b\b\b\b\b\b\b\b\b\b\b\b\b\b\b\b\b\b\b\b\b\b\b\b\b\b\b\b\b\b\b\b\b\b\b\b\b\b\b\b\b\b\r47/51 [==========================>...] - ETA: 0s - loss: 362074.2188 - mae: 142.5635",
      "\b\b\b\b\b\b\b\b\b\b\b\b\b\b\b\b\b\b\b\b\b\b\b\b\b\b\b\b\b\b\b\b\b\b\b\b\b\b\b\b\b\b\b\b\b\b\b\b\b\b\b\b\b\b\b\b\b\b\b\b\b\b\b\b\b\b\b\b\b\b\b\b\b\b\b\b\b\b\b\b\b\b\b\b\r51/51 [==============================] - 0s 4ms/step - loss: 456202.4688 - mae: 147.5807 - val_loss: 1783322.7500 - val_mae: 235.9474\n",
      "Epoch 30/100\n\r 1/51 [..............................] - ETA: 0s - loss: 61800.5508 - mae: 114.6668",
      "\b\b\b\b\b\b\b\b\b\b\b\b\b\b\b\b\b\b\b\b\b\b\b\b\b\b\b\b\b\b\b\b\b\b\b\b\b\b\b\b\b\b\b\b\b\b\b\b\b\b\b\b\b\b\b\b\b\b\b\b\b\b\b\b\b\b\b\b\b\b\b\b\b\b\b\b\b\b\b\b\b\b\b\r14/51 [=======>......................] - ETA: 0s - loss: 1029014.5625 - mae: 178.7405",
      "\b\b\b\b\b\b\b\b\b\b\b\b\b\b\b\b\b\b\b\b\b\b\b\b\b\b\b\b\b\b\b\b\b\b\b\b\b\b\b\b\b\b\b\b\b\b\b\b\b\b\b\b\b\b\b\b\b\b\b\b\b\b\b\b\b\b\b\b\b\b\b\b\b\b\b\b\b\b\b\b\b\b\b\b\b\r26/51 [==============>...............] - ETA: 0s - loss: 638143.6875 - mae: 165.7727 ",
      "\b\b\b\b\b\b\b\b\b\b\b\b\b\b\b\b\b\b\b\b\b\b\b\b\b\b\b\b\b\b\b\b\b\b\b\b\b\b\b\b\b\b\b\b\b\b\b\b\b\b\b\b\b\b\b\b\b\b\b\b\b\b\b\b\b\b\b\b\b\b\b\b\b\b\b\b\b\b\b\b\b\b\b\b\r42/51 [=======================>......] - ETA: 0s - loss: 481627.3438 - mae: 153.7372",
      "\b\b\b\b\b\b\b\b\b\b\b\b\b\b\b\b\b\b\b\b\b\b\b\b\b\b\b\b\b\b\b\b\b\b\b\b\b\b\b\b\b\b\b\b\b\b\b\b\b\b\b\b\b\b\b\b\b\b\b\b\b\b\b\b\b\b\b\b\b\b\b\b\b\b\b\b\b\b\b\b\b\b\b\b",
      "\r51/51 [==============================] - 0s 5ms/step - loss: 414755.5938 - mae: 147.0824 - val_loss: 1910944.7500 - val_mae: 211.7335\n",
      "Epoch 31/100\n\r 1/51 [..............................] - ETA: 0s - loss: 137046.4375 - mae: 140.0128",
      "\b\b\b\b\b\b\b\b\b\b\b\b\b\b\b\b\b\b\b\b\b\b\b\b\b\b\b\b\b\b\b\b\b\b\b\b\b\b\b\b\b\b\b\b\b\b\b\b\b\b\b\b\b\b\b\b\b\b\b\b\b\b\b\b\b\b\b\b\b\b\b\b\b\b\b\b\b\b\b\b\b\b\b\b",
      "\r14/51 [=======>......................] - ETA: 0s - loss: 87759.1016 - mae: 101.7932 ",
      "\b\b\b\b\b\b\b\b\b\b\b\b\b\b\b\b\b\b\b\b\b\b\b\b\b\b\b\b\b\b\b\b\b\b\b\b\b\b\b\b\b\b\b\b\b\b\b\b\b\b\b\b\b\b\b\b\b\b\b\b\b\b\b\b\b\b\b\b\b\b\b\b\b\b\b\b\b\b\b\b\b\b\b",
      "\r26/51 [==============>...............] - ETA: 0s - loss: 167995.7188 - mae: 124.3079",
      "\b\b\b\b\b\b\b\b\b\b\b\b\b\b\b\b\b\b\b\b\b\b\b\b\b\b\b\b\b\b\b\b\b\b\b\b\b\b\b\b\b\b\b\b\b\b\b\b\b\b\b\b\b\b\b\b\b\b\b\b\b\b\b\b\b\b\b\b\b\b\b\b\b\b\b\b\b\b\b\b\b\b\b\b\r39/51 [=====================>........] - ETA: 0s - loss: 310457.1250 - mae: 131.8742",
      "\b\b\b\b\b\b\b\b\b\b\b\b\b\b\b\b\b\b\b\b\b\b\b\b\b\b\b\b\b\b\b\b\b\b\b\b\b\b\b\b\b\b\b\b\b\b\b\b\b\b\b\b\b\b\b\b\b\b\b\b\b\b\b\b\b\b\b\b\b\b\b\b\b\b\b\b\b\b\b\b\b\b\b\b\r45/51 [=========================>....] - ETA: 0s - loss: 293158.5312 - mae: 132.8993",
      "\b\b\b\b\b\b\b\b\b\b\b\b\b\b\b\b\b\b\b\b\b\b\b\b\b\b\b\b\b\b\b\b\b\b\b\b\b\b\b\b\b\b\b\b\b\b\b\b\b\b\b\b\b\b\b\b\b\b\b\b\b\b\b\b\b\b\b\b\b\b\b\b\b\b\b\b\b\b\b\b\b\b\b\b\r51/51 [==============================] - 0s 5ms/step - loss: 406190.0938 - mae: 139.3856 - val_loss: 1677301.7500 - val_mae: 239.6259\n",
      "Epoch 32/100\n\r 1/51 [..............................] - ETA: 0s - loss: 2394.8433 - mae: 33.9820",
      "\b\b\b\b\b\b\b\b\b\b\b\b\b\b\b\b\b\b\b\b\b\b\b\b\b\b\b\b\b\b\b\b\b\b\b\b\b\b\b\b\b\b\b\b\b\b\b\b\b\b\b\b\b\b\b\b\b\b\b\b\b\b\b\b\b\b\b\b\b\b\b\b\b\b\b\b\b\b\b\b\b\r16/51 [========>.....................] - ETA: 0s - loss: 400424.3750 - mae: 121.9950",
      "\b\b\b\b\b\b\b\b\b\b\b\b\b\b\b\b\b\b\b\b\b\b\b\b\b\b\b\b\b\b\b\b\b\b\b\b\b\b\b\b\b\b\b\b\b\b\b\b\b\b\b\b\b\b\b\b\b\b\b\b\b\b\b\b\b\b\b\b\b\b\b\b\b\b\b\b\b\b\b\b\b\b\b\b",
      "\r31/51 [=================>............] - ETA: 0s - loss: 576893.0625 - mae: 155.1915",
      "\b\b\b\b\b\b\b\b\b\b\b\b\b\b\b\b\b\b\b\b\b\b\b\b\b\b\b\b\b\b\b\b\b\b\b\b\b\b\b\b\b\b\b\b\b\b\b\b\b\b\b\b\b\b\b\b\b\b\b\b\b\b\b\b\b\b\b\b\b\b\b\b\b\b\b\b\b\b\b\b\b\b\b\b\r45/51 [=========================>....] - ETA: 0s - loss: 447756.6250 - mae: 147.6326",
      "\b\b\b\b\b\b\b\b\b\b\b\b\b\b\b\b\b\b\b\b\b\b\b\b\b\b\b\b\b\b\b\b\b\b\b\b\b\b\b\b\b\b\b\b\b\b\b\b\b\b\b\b\b\b\b\b\b\b\b\b\b\b\b\b\b\b\b\b\b\b\b\b\b\b\b\b\b\b\b\b\b\b\b\b\r51/51 [==============================] - 0s 4ms/step - loss: 419705.5938 - mae: 148.0254 - val_loss: 1698634.7500 - val_mae: 215.8152\n",
      "Epoch 33/100\n\r 1/51 [..............................] - ETA: 0s - loss: 348875.8125 - mae: 196.0522",
      "\b\b\b\b\b\b\b\b\b\b\b\b\b\b\b\b\b\b\b\b\b\b\b\b\b\b\b\b\b\b\b\b\b\b\b\b\b\b\b\b\b\b\b\b\b\b\b\b\b\b\b\b\b\b\b\b\b\b\b\b\b\b\b\b\b\b\b\b\b\b\b\b\b\b\b\b\b\b\b\b\b\b\b\b\r11/51 [=====>........................] - ETA: 0s - loss: 973252.9375 - mae: 188.0513",
      "\b\b\b\b\b\b\b\b\b\b\b\b\b\b\b\b\b\b\b\b\b\b\b\b\b\b\b\b\b\b\b\b\b\b\b\b\b\b\b\b\b\b\b\b\b\b\b\b\b\b\b\b\b\b\b\b\b\b\b\b\b\b\b\b\b\b\b\b\b\b\b\b\b\b\b\b\b\b\b\b\b\b\b\b\r24/51 [=============>................] - ETA: 0s - loss: 477794.3750 - mae: 135.1652",
      "\b\b\b\b\b\b\b\b\b\b\b\b\b\b\b\b\b\b\b\b\b\b\b\b\b\b\b\b\b\b\b\b\b\b\b\b\b\b\b\b\b\b\b\b\b\b\b\b\b\b\b\b\b\b\b\b\b\b\b\b\b\b\b\b\b\b\b\b\b\b\b\b\b\b\b\b\b\b\b\b\b\b\b\b\r38/51 [=====================>........] - ETA: 0s - loss: 502578.3750 - mae: 141.6061",
      "\b\b\b\b\b\b\b\b\b\b\b\b\b\b\b\b\b\b\b\b\b\b\b\b\b\b\b\b\b\b\b\b\b\b\b\b\b\b\b\b\b\b\b\b\b\b\b\b\b\b\b\b\b\b\b\b\b\b\b\b\b\b\b\b\b\b\b\b\b\b\b\b\b\b\b\b\b\b\b\b\b\b\b\b\r51/51 [==============================] - 0s 5ms/step - loss: 410462.5625 - mae: 140.7265 - val_loss: 1727864.0000 - val_mae: 201.8525\n",
      "Epoch 34/100\n\r 1/51 [..............................] - ETA: 0s - loss: 140955.1406 - mae: 140.4211",
      "\b\b\b\b\b\b\b\b\b\b\b\b\b\b\b\b\b\b\b\b\b\b\b\b\b\b\b\b\b\b\b\b\b\b\b\b\b\b\b\b\b\b\b\b\b\b\b\b\b\b\b\b\b\b\b\b\b\b\b\b\b\b\b\b\b\b\b\b\b\b\b\b\b\b\b\b\b\b\b\b\b\b\b\b\r13/51 [======>.......................] - ETA: 0s - loss: 763894.3125 - mae: 158.6720",
      "\b\b\b\b\b\b\b\b\b\b\b\b\b\b\b\b\b\b\b\b\b\b\b\b\b\b\b\b\b\b\b\b\b\b\b\b\b\b\b\b\b\b\b\b\b\b\b\b\b\b\b\b\b\b\b\b\b\b\b\b\b\b\b\b\b\b\b\b\b\b\b\b\b\b\b\b\b\b\b\b\b\b\b\b",
      "\r27/51 [==============>...............] - ETA: 0s - loss: 629736.5625 - mae: 153.5557",
      "\b\b\b\b\b\b\b\b\b\b\b\b\b\b\b\b\b\b\b\b\b\b\b\b\b\b\b\b\b\b\b\b\b\b\b\b\b\b\b\b\b\b\b\b\b\b\b\b\b\b\b\b\b\b\b\b\b\b\b\b\b\b\b\b\b\b\b\b\b\b\b\b\b\b\b\b\b\b\b\b\b\b\b\b\r35/51 [===================>..........] - ETA: 0s - loss: 499220.6250 - mae: 136.8970",
      "\b\b\b\b\b\b\b\b\b\b\b\b\b\b\b\b\b\b\b\b\b\b\b\b\b\b\b\b\b\b\b\b\b\b\b\b\b\b\b\b\b\b\b\b\b\b\b\b\b\b\b\b\b\b\b\b\b\b\b\b\b\b\b\b\b\b\b\b\b\b\b\b\b\b\b\b\b\b\b\b\b\b\b\b\r47/51 [==========================>...] - ETA: 0s - loss: 431513.4375 - mae: 139.0980",
      "\b\b\b\b\b\b\b\b\b\b\b\b\b\b\b\b\b\b\b\b\b\b\b\b\b\b\b\b\b\b\b\b\b\b\b\b\b\b\b\b\b\b\b\b\b\b\b\b\b\b\b\b\b\b\b\b\b\b\b\b\b\b\b\b\b\b\b\b\b\b\b\b\b\b\b\b\b\b\b\b\b\b\b\b\r51/51 [==============================] - 0s 5ms/step - loss: 404948.2812 - mae: 135.0249 - val_loss: 1741753.3750 - val_mae: 199.4460\n",
      "Epoch 35/100\n\r 1/51 [..............................] - ETA: 0s - loss: 142073.9531 - mae: 126.8111",
      "\b\b\b\b\b\b\b\b\b\b\b\b\b\b\b\b\b\b\b\b\b\b\b\b\b\b\b\b\b\b\b\b\b\b\b\b\b\b\b\b\b\b\b\b\b\b\b\b\b\b\b\b\b\b\b\b\b\b\b\b\b\b\b\b\b\b\b\b\b\b\b\b\b\b\b\b\b\b\b\b\b\b\b\b\r14/51 [=======>......................] - ETA: 0s - loss: 486569.6562 - mae: 122.8288",
      "\b\b\b\b\b\b\b\b\b\b\b\b\b\b\b\b\b\b\b\b\b\b\b\b\b\b\b\b\b\b\b\b\b\b\b\b\b\b\b\b\b\b\b\b\b\b\b\b\b\b\b\b\b\b\b\b\b\b\b\b\b\b\b\b\b\b\b\b\b\b\b\b\b\b\b\b\b\b\b\b\b\b\b\b\r28/51 [===============>..............] - ETA: 0s - loss: 607147.6250 - mae: 154.9118",
      "\b\b\b\b\b\b\b\b\b\b\b\b\b\b\b\b\b\b\b\b\b\b\b\b\b\b\b\b\b\b\b\b\b\b\b\b\b\b\b\b\b\b\b\b\b\b\b\b\b\b\b\b\b\b\b\b\b\b\b\b\b\b\b\b\b\b\b\b\b\b\b\b\b\b\b\b\b\b\b\b\b\b\b\b\r36/51 [====================>.........] - ETA: 0s - loss: 498635.2812 - mae: 145.1377",
      "\b\b\b\b\b\b\b\b\b\b\b\b\b\b\b\b\b\b\b\b\b\b\b\b\b\b\b\b\b\b\b\b\b\b\b\b\b\b\b\b\b\b\b\b\b\b\b\b\b\b\b\b\b\b\b\b\b\b\b\b\b\b\b\b\b\b\b\b\b\b\b\b\b\b\b\b\b\b\b\b\b\b\b\b\r47/51 [==========================>...] - ETA: 0s - loss: 401886.4688 - mae: 133.3344",
      "\b\b\b\b\b\b\b\b\b\b\b\b\b\b\b\b\b\b\b\b\b\b\b\b\b\b\b\b\b\b\b\b\b\b\b\b\b\b\b\b\b\b\b\b\b\b\b\b\b\b\b\b\b\b\b\b\b\b\b\b\b\b\b\b\b\b\b\b\b\b\b\b\b\b\b\b\b\b\b\b\b\b\b\b\r51/51 [==============================] - 0s 5ms/step - loss: 373653.5625 - mae: 129.8397 - val_loss: 1609697.5000 - val_mae: 198.2959\n",
      "Epoch 36/100\n\r 1/51 [..............................] - ETA: 0s - loss: 5097.9404 - mae: 32.9584",
      "\b\b\b\b\b\b\b\b\b\b\b\b\b\b\b\b\b\b\b\b\b\b\b\b\b\b\b\b\b\b\b\b\b\b\b\b\b\b\b\b\b\b\b\b\b\b\b\b\b\b\b\b\b\b\b\b\b\b\b\b\b\b\b\b\b\b\b\b\b\b\b\b\b\b\b\b\b\b\b\b\b\r14/51 [=======>......................] - ETA: 0s - loss: 452288.7500 - mae: 121.5790",
      "\b\b\b\b\b\b\b\b\b\b\b\b\b\b\b\b\b\b\b\b\b\b\b\b\b\b\b\b\b\b\b\b\b\b\b\b\b\b\b\b\b\b\b\b\b\b\b\b\b\b\b\b\b\b\b\b\b\b\b\b\b\b\b\b\b\b\b\b\b\b\b\b\b\b\b\b\b\b\b\b\b\b\b\b\r27/51 [==============>...............] - ETA: 0s - loss: 557134.4375 - mae: 146.9326",
      "\b\b\b\b\b\b\b\b\b\b\b\b\b\b\b\b\b\b\b\b\b\b\b\b\b\b\b\b\b\b\b\b\b\b\b\b\b\b\b\b\b\b\b\b\b\b\b\b\b\b\b\b\b\b\b\b\b\b\b\b\b\b\b\b\b\b\b\b\b\b\b\b\b\b\b\b\b\b\b\b\b\b\b\b\r42/51 [=======================>......] - ETA: 0s - loss: 451397.9062 - mae: 143.8558",
      "\b\b\b\b\b\b\b\b\b\b\b\b\b\b\b\b\b\b\b\b\b\b\b\b\b\b\b\b\b\b\b\b\b\b\b\b\b\b\b\b\b\b\b\b\b\b\b\b\b\b\b\b\b\b\b\b\b\b\b\b\b\b\b\b\b\b\b\b\b\b\b\b\b\b\b\b\b\b\b\b\b\b\b\b\r",
      "51/51 [==============================] - 0s 5ms/step - loss: 378361.3750 - mae: 132.2358 - val_loss: 1605318.6250 - val_mae: 195.8632\n",
      "Epoch 37/100\n\r 1/51 [..............................] - ETA: 0s - loss: 168584.0312 - mae: 151.1448",
      "\b\b\b\b\b\b\b\b\b\b\b\b\b\b\b\b\b\b\b\b\b\b\b\b\b\b\b\b\b\b\b\b\b\b\b\b\b\b\b\b\b\b\b\b\b\b\b\b\b\b\b\b\b\b\b\b\b\b\b\b\b\b\b\b\b\b\b\b\b\b\b\b\b\b\b\b\b\b\b\b\b\b\b\b",
      "\r13/51 [======>.......................] - ETA: 0s - loss: 74374.9844 - mae: 92.9790  ",
      "\b\b\b\b\b\b\b\b\b\b\b\b\b\b\b\b\b\b\b\b\b\b\b\b\b\b\b\b\b\b\b\b\b\b\b\b\b\b\b\b\b\b\b\b\b\b\b\b\b\b\b\b\b\b\b\b\b\b\b\b\b\b\b\b\b\b\b\b\b\b\b\b\b\b\b\b\b\b\b\b\b\b\r28/51 [===============>..............] - ETA: 0s - loss: 330666.7188 - mae: 107.5178",
      "\b\b\b\b\b\b\b\b\b\b\b\b\b\b\b\b\b\b\b\b\b\b\b\b\b\b\b\b\b\b\b\b\b\b\b\b\b\b\b\b\b\b\b\b\b\b\b\b\b\b\b\b\b\b\b\b\b\b\b\b\b\b\b\b\b\b\b\b\b\b\b\b\b\b\b\b\b\b\b\b\b\b\b\b\r43/51 [========================>.....] - ETA: 0s - loss: 255034.0469 - mae: 104.5602",
      "\b\b\b\b\b\b\b\b\b\b\b\b\b\b\b\b\b\b\b\b\b\b\b\b\b\b\b\b\b\b\b\b\b\b\b\b\b\b\b\b\b\b\b\b\b\b\b\b\b\b\b\b\b\b\b\b\b\b\b\b\b\b\b\b\b\b\b\b\b\b\b\b\b\b\b\b\b\b\b\b\b\b\b\b\r51/51 [==============================] - 0s 5ms/step - loss: 375204.4062 - mae: 123.7685 - val_loss: 1501608.7500 - val_mae: 191.8405\n",
      "Epoch 38/100\n\r 1/51 [..............................] - ETA: 0s - loss: 50275.3906 - mae: 75.0865",
      "\b\b\b\b\b\b\b\b\b\b\b\b\b\b\b\b\b\b\b\b\b\b\b\b\b\b\b\b\b\b\b\b\b\b\b\b\b\b\b\b\b\b\b\b\b\b\b\b\b\b\b\b\b\b\b\b\b\b\b\b\b\b\b\b\b\b\b\b\b\b\b\b\b\b\b\b\b\b\b\b\b\b",
      "\r14/51 [=======>......................] - ETA: 0s - loss: 97514.2109 - mae: 99.0717",
      "\b\b\b\b\b\b\b\b\b\b\b\b\b\b\b\b\b\b\b\b\b\b\b\b\b\b\b\b\b\b\b\b\b\b\b\b\b\b\b\b\b\b\b\b\b\b\b\b\b\b\b\b\b\b\b\b\b\b\b\b\b\b\b\b\b\b\b\b\b\b\b\b\b\b\b\b\b\b\b\b\b\b",
      "\r26/51 [==============>...............] - ETA: 0s - loss: 332487.9375 - mae: 130.0778",
      "\b\b\b\b\b\b\b\b\b\b\b\b\b\b\b\b\b\b\b\b\b\b\b\b\b\b\b\b\b\b\b\b\b\b\b\b\b\b\b\b\b\b\b\b\b\b\b\b\b\b\b\b\b\b\b\b\b\b\b\b\b\b\b\b\b\b\b\b\b\b\b\b\b\b\b\b\b\b\b\b\b\b\b\b\r35/51 [===================>..........] - ETA: 0s - loss: 279596.4375 - mae: 123.1419",
      "\b\b\b\b\b\b\b\b\b\b\b\b\b\b\b\b\b\b\b\b\b\b\b\b\b\b\b\b\b\b\b\b\b\b\b\b\b\b\b\b\b\b\b\b\b\b\b\b\b\b\b\b\b\b\b\b\b\b\b\b\b\b\b\b\b\b\b\b\b\b\b\b\b\b\b\b\b\b\b\b\b\b\b\b\r49/51 [===========================>..] - ETA: 0s - loss: 352574.4062 - mae: 122.3030",
      "\b\b\b\b\b\b\b\b\b\b\b\b\b\b\b\b\b\b\b\b\b\b\b\b\b\b\b\b\b\b\b\b\b\b\b\b\b\b\b\b\b\b\b\b\b\b\b\b\b\b\b\b\b\b\b\b\b\b\b\b\b\b\b\b\b\b\b\b\b\b\b\b\b\b\b\b\b\b\b\b\b\b\b\b\r51/51 [==============================] - 0s 5ms/step - loss: 343473.5312 - mae: 122.6299 - val_loss: 1422101.5000 - val_mae: 201.4924\n",
      "Epoch 39/100\n\r 1/51 [..............................] - ETA: 0s - loss: 136850.6250 - mae: 124.5170",
      "\b\b\b\b\b\b\b\b\b\b\b\b\b\b\b\b\b\b\b\b\b\b\b\b\b\b\b\b\b\b\b\b\b\b\b\b\b\b\b\b\b\b\b\b\b\b\b\b\b\b\b\b\b\b\b\b\b\b\b\b\b\b\b\b\b\b\b\b\b\b\b\b\b\b\b\b\b\b\b\b\b\b\b\b\r14/51 [=======>......................] - ETA: 0s - loss: 142659.1094 - mae: 109.3605",
      "\b\b\b\b\b\b\b\b\b\b\b\b\b\b\b\b\b\b\b\b\b\b\b\b\b\b\b\b\b\b\b\b\b\b\b\b\b\b\b\b\b\b\b\b\b\b\b\b\b\b\b\b\b\b\b\b\b\b\b\b\b\b\b\b\b\b\b\b\b\b\b\b\b\b\b\b\b\b\b\b\b\b\b\b\r29/51 [================>.............] - ETA: 0s - loss: 97435.0625 - mae: 91.3499  ",
      "\b\b\b\b\b\b\b\b\b\b\b\b\b\b\b\b\b\b\b\b\b\b\b\b\b\b\b\b\b\b\b\b\b\b\b\b\b\b\b\b\b\b\b\b\b\b\b\b\b\b\b\b\b\b\b\b\b\b\b\b\b\b\b\b\b\b\b\b\b\b\b\b\b\b\b\b\b\b\b\b\b\b\r44/51 [========================>.....] - ETA: 0s - loss: 362095.0312 - mae: 122.7519",
      "\b\b\b\b\b\b\b\b\b\b\b\b\b\b\b\b\b\b\b\b\b\b\b\b\b\b\b\b\b\b\b\b\b\b\b\b\b\b\b\b\b\b\b\b\b\b\b\b\b\b\b\b\b\b\b\b\b\b\b\b\b\b\b\b\b\b\b\b\b\b\b\b\b\b\b\b\b\b\b\b\b\b\b\b\r51/51 [==============================] - 0s 5ms/step - loss: 322527.3438 - mae: 118.3877 - val_loss: 1448536.5000 - val_mae: 185.9390\n",
      "Epoch 40/100\n\r 1/51 [..............................] - ETA: 0s - loss: 375440.6250 - mae: 195.6918",
      "\b\b\b\b\b\b\b\b\b\b\b\b\b\b\b\b\b\b\b\b\b\b\b\b\b\b\b\b\b\b\b\b\b\b\b\b\b\b\b\b\b\b\b\b\b\b\b\b\b\b\b\b\b\b\b\b\b\b\b\b\b\b\b\b\b\b\b\b\b\b\b\b\b\b\b\b\b\b\b\b\b\b\b\b\r17/51 [=========>....................] - ETA: 0s - loss: 728996.1875 - mae: 160.3217",
      "\b\b\b\b\b\b\b\b\b\b\b\b\b\b\b\b\b\b\b\b\b\b\b\b\b\b\b\b\b\b\b\b\b\b\b\b\b\b\b\b\b\b\b\b\b\b\b\b\b\b\b\b\b\b\b\b\b\b\b\b\b\b\b\b\b\b\b\b\b\b\b\b\b\b\b\b\b\b\b\b\b\b\b\b\r30/51 [================>.............] - ETA: 0s - loss: 441514.6250 - mae: 127.0464",
      "\b\b\b\b\b\b\b\b\b\b\b\b\b\b\b\b\b\b\b\b\b\b\b\b\b\b\b\b\b\b\b\b\b\b\b\b\b\b\b\b\b\b\b\b\b\b\b\b\b\b\b\b\b\b\b\b\b\b\b\b\b\b\b\b\b\b\b\b\b\b\b\b\b\b\b\b\b\b\b\b\b\b\b\b\r45/51 [=========================>....] - ETA: 0s - loss: 327540.6250 - mae: 117.1187",
      "\b\b\b\b\b\b\b\b\b\b\b\b\b\b\b\b\b\b\b\b\b\b\b\b\b\b\b\b\b\b\b\b\b\b\b\b\b\b\b\b\b\b\b\b\b\b\b\b\b\b\b\b\b\b\b\b\b\b\b\b\b\b\b\b\b\b\b\b\b\b\b\b\b\b\b\b\b\b\b\b\b\b\b\b\r51/51 [==============================] - 0s 4ms/step - loss: 308199.6875 - mae: 115.7983 - val_loss: 1444722.5000 - val_mae: 179.7418\n",
      "Epoch 41/100\n\r 1/51 [..............................] - ETA: 0s - loss: 312708.9375 - mae: 163.8257",
      "\b\b\b\b\b\b\b\b\b\b\b\b\b\b\b\b\b\b\b\b\b\b\b\b\b\b\b\b\b\b\b\b\b\b\b\b\b\b\b\b\b\b\b\b\b\b\b\b\b\b\b\b\b\b\b\b\b\b\b\b\b\b\b\b\b\b\b\b\b\b\b\b\b\b\b\b\b\b\b\b\b\b\b\b",
      "\r14/51 [=======>......................] - ETA: 0s - loss: 197770.1250 - mae: 114.4670",
      "\b\b\b\b\b\b\b\b\b\b\b\b\b\b\b\b\b\b\b\b\b\b\b\b\b\b\b\b\b\b\b\b\b\b\b\b\b\b\b\b\b\b\b\b\b\b\b\b\b\b\b\b\b\b\b\b\b\b\b\b\b\b\b\b\b\b\b\b\b\b\b\b\b\b\b\b\b\b\b\b\b\b\b\b\r27/51 [==============>...............] - ETA: 0s - loss: 314731.3750 - mae: 123.7862",
      "\b\b\b\b\b\b\b\b\b\b\b\b\b\b\b\b\b\b\b\b\b\b\b\b\b\b\b\b\b\b\b\b\b\b\b\b\b\b\b\b\b\b\b\b\b\b\b\b\b\b\b\b\b\b\b\b\b\b\b\b\b\b\b\b\b\b\b\b\b\b\b\b\b\b\b\b\b\b\b\b\b\b\b\b\r41/51 [=======================>......] - ETA: 0s - loss: 242402.6094 - mae: 113.3470",
      "\b\b\b\b\b\b\b\b\b\b\b\b\b\b\b\b\b\b\b\b\b\b\b\b\b\b\b\b\b\b\b\b\b\b\b\b\b\b\b\b\b\b\b\b\b\b\b\b\b\b\b\b\b\b\b\b\b\b\b\b\b\b\b\b\b\b\b\b\b\b\b\b\b\b\b\b\b\b\b\b\b\b\b\b\r51/51 [==============================] - 0s 5ms/step - loss: 318340.1875 - mae: 115.6365 - val_loss: 1245610.5000 - val_mae: 184.7208\n",
      "Epoch 42/100\n",
      "\r 1/51 [..............................] - ETA: 0s - loss: 89158.9219 - mae: 81.8013",
      "\b\b\b\b\b\b\b\b\b\b\b\b\b\b\b\b\b\b\b\b\b\b\b\b\b\b\b\b\b\b\b\b\b\b\b\b\b\b\b\b\b\b\b\b\b\b\b\b\b\b\b\b\b\b\b\b\b\b\b\b\b\b\b\b\b\b\b\b\b\b\b\b\b\b\b\b\b\b\b\b\b\b",
      "\r15/51 [=======>......................] - ETA: 0s - loss: 453626.0938 - mae: 138.3064",
      "\b\b\b\b\b\b\b\b\b\b\b\b\b\b\b\b\b\b\b\b\b\b\b\b\b\b\b\b\b\b\b\b\b\b\b\b\b\b\b\b\b\b\b\b\b\b\b\b\b\b\b\b\b\b\b\b\b\b\b\b\b\b\b\b\b\b\b\b\b\b\b\b\b\b\b\b\b\b\b\b\b\b\b\b",
      "\r29/51 [================>.............] - ETA: 0s - loss: 466764.2812 - mae: 133.7280",
      "\b\b\b\b\b\b\b\b\b\b\b\b\b\b\b\b\b\b\b\b\b\b\b\b\b\b\b\b\b\b\b\b\b\b\b\b\b\b\b\b\b\b\b\b\b\b\b\b\b\b\b\b\b\b\b\b\b\b\b\b\b\b\b\b\b\b\b\b\b\b\b\b\b\b\b\b\b\b\b\b\b\b\b\b\r41/51 [=======================>......] - ETA: 0s - loss: 350717.9062 - mae: 116.5887",
      "\b\b\b\b\b\b\b\b\b\b\b\b\b\b\b\b\b\b\b\b\b\b\b\b\b\b\b\b\b\b\b\b\b\b\b\b\b\b\b\b\b\b\b\b\b\b\b\b\b\b\b\b\b\b\b\b\b\b\b\b\b\b\b\b\b\b\b\b\b\b\b\b\b\b\b\b\b\b\b\b\b\b\b\b",
      "\r51/51 [==============================] - 0s 5ms/step - loss: 303528.8438 - mae: 112.9043 - val_loss: 1267079.7500 - val_mae: 192.6212\n",
      "Epoch 43/100\n\r 1/51 [..............................] - ETA: 0s - loss: 26933.3184 - mae: 61.0213",
      "\b\b\b\b\b\b\b\b\b\b\b\b\b\b\b\b\b\b\b\b\b\b\b\b\b\b\b\b\b\b\b\b\b\b\b\b\b\b\b\b\b\b\b\b\b\b\b\b\b\b\b\b\b\b\b\b\b\b\b\b\b\b\b\b\b\b\b\b\b\b\b\b\b\b\b\b\b\b\b\b\b\b\r17/51 [=========>....................] - ETA: 0s - loss: 62932.5938 - mae: 86.4731",
      "\b\b\b\b\b\b\b\b\b\b\b\b\b\b\b\b\b\b\b\b\b\b\b\b\b\b\b\b\b\b\b\b\b\b\b\b\b\b\b\b\b\b\b\b\b\b\b\b\b\b\b\b\b\b\b\b\b\b\b\b\b\b\b\b\b\b\b\b\b\b\b\b\b\b\b\b\b\b\b\b\b\b\r32/51 [=================>............] - ETA: 0s - loss: 363920.8750 - mae: 116.3391",
      "\b\b\b\b\b\b\b\b\b\b\b\b\b\b\b\b\b\b\b\b\b\b\b\b\b\b\b\b\b\b\b\b\b\b\b\b\b\b\b\b\b\b\b\b\b\b\b\b\b\b\b\b\b\b\b\b\b\b\b\b\b\b\b\b\b\b\b\b\b\b\b\b\b\b\b\b\b\b\b\b\b\b\b\b\r46/51 [==========================>...] - ETA: 0s - loss: 302862.1875 - mae: 111.0491",
      "\b\b\b\b\b\b\b\b\b\b\b\b\b\b\b\b\b\b\b\b\b\b\b\b\b\b\b\b\b\b\b\b\b\b\b\b\b\b\b\b\b\b\b\b\b\b\b\b\b\b\b\b\b\b\b\b\b\b\b\b\b\b\b\b\b\b\b\b\b\b\b\b\b\b\b\b\b\b\b\b\b\b\b\b\r51/51 [==============================] - 0s 4ms/step - loss: 276002.7188 - mae: 107.0386 - val_loss: 1273956.0000 - val_mae: 174.7342\n",
      "Epoch 44/100\n\r 1/51 [..............................] - ETA: 0s - loss: 1696.7742 - mae: 17.6446",
      "\b\b\b\b\b\b\b\b\b\b\b\b\b\b\b\b\b\b\b\b\b\b\b\b\b\b\b\b\b\b\b\b\b\b\b\b\b\b\b\b\b\b\b\b\b\b\b\b\b\b\b\b\b\b\b\b\b\b\b\b\b\b\b\b\b\b\b\b\b\b\b\b\b\b\b\b\b\b\b\b\b\r15/51 [=======>......................] - ETA: 0s - loss: 445214.1875 - mae: 124.9503",
      "\b\b\b\b\b\b\b\b\b\b\b\b\b\b\b\b\b\b\b\b\b\b\b\b\b\b\b\b\b\b\b\b\b\b\b\b\b\b\b\b\b\b\b\b\b\b\b\b\b\b\b\b\b\b\b\b\b\b\b\b\b\b\b\b\b\b\b\b\b\b\b\b\b\b\b\b\b\b\b\b\b\b\b\b\r28/51 [===============>..............] - ETA: 0s - loss: 273570.3438 - mae: 105.0788",
      "\b\b\b\b\b\b\b\b\b\b\b\b\b\b\b\b\b\b\b\b\b\b\b\b\b\b\b\b\b\b\b\b\b\b\b\b\b\b\b\b\b\b\b\b\b\b\b\b\b\b\b\b\b\b\b\b\b\b\b\b\b\b\b\b\b\b\b\b\b\b\b\b\b\b\b\b\b\b\b\b\b\b\b\b\r41/51 [=======================>......] - ETA: 0s - loss: 327116.5312 - mae: 111.7006",
      "\b\b\b\b\b\b\b\b\b\b\b\b\b\b\b\b\b\b\b\b\b\b\b\b\b\b\b\b\b\b\b\b\b\b\b\b\b\b\b\b\b\b\b\b\b\b\b\b\b\b\b\b\b\b\b\b\b\b\b\b\b\b\b\b\b\b\b\b\b\b\b\b\b\b\b\b\b\b\b\b\b\b\b\b\r51/51 [==============================] - 0s 5ms/step - loss: 281681.9062 - mae: 107.9432 - val_loss: 1238730.8750 - val_mae: 176.9477\n",
      "Epoch 45/100\n\r 1/51 [..............................] - ETA: 0s - loss: 8263.3027 - mae: 40.5358",
      "\b\b\b\b\b\b\b\b\b\b\b\b\b\b\b\b\b\b\b\b\b\b\b\b\b\b\b\b\b\b\b\b\b\b\b\b\b\b\b\b\b\b\b\b\b\b\b\b\b\b\b\b\b\b\b\b\b\b\b\b\b\b\b\b\b\b\b\b\b\b\b\b\b\b\b\b\b\b\b\b\b\r14/51 [=======>......................] - ETA: 0s - loss: 180120.8438 - mae: 110.0877",
      "\b\b\b\b\b\b\b\b\b\b\b\b\b\b\b\b\b\b\b\b\b\b\b\b\b\b\b\b\b\b\b\b\b\b\b\b\b\b\b\b\b\b\b\b\b\b\b\b\b\b\b\b\b\b\b\b\b\b\b\b\b\b\b\b\b\b\b\b\b\b\b\b\b\b\b\b\b\b\b\b\b\b\b\b",
      "\r27/51 [==============>...............] - ETA: 0s - loss: 126529.5078 - mae: 95.0874 ",
      "\b\b\b\b\b\b\b\b\b\b\b\b\b\b\b\b\b\b\b\b\b\b\b\b\b\b\b\b\b\b\b\b\b\b\b\b\b\b\b\b\b\b\b\b\b\b\b\b\b\b\b\b\b\b\b\b\b\b\b\b\b\b\b\b\b\b\b\b\b\b\b\b\b\b\b\b\b\b\b\b\b\b\b\r40/51 [======================>.......] - ETA: 0s - loss: 211632.1719 - mae: 99.1844",
      "\b\b\b\b\b\b\b\b\b\b\b\b\b\b\b\b\b\b\b\b\b\b\b\b\b\b\b\b\b\b\b\b\b\b\b\b\b\b\b\b\b\b\b\b\b\b\b\b\b\b\b\b\b\b\b\b\b\b\b\b\b\b\b\b\b\b\b\b\b\b\b\b\b\b\b\b\b\b\b\b\b\b\b\r50/51 [============================>.] - ETA: 0s - loss: 283966.4688 - mae: 101.3711",
      "\b\b\b\b\b\b\b\b\b\b\b\b\b\b\b\b\b\b\b\b\b\b\b\b\b\b\b\b\b\b\b\b\b\b\b\b\b\b\b\b\b\b\b\b\b\b\b\b\b\b\b\b\b\b\b\b\b\b\b\b\b\b\b\b\b\b\b\b\b\b\b\b\b\b\b\b\b\b\b\b\b\b\b\b\r51/51 [==============================] - 0s 5ms/step - loss: 281232.5938 - mae: 101.9534 - val_loss: 1159339.6250 - val_mae: 180.2271\n",
      "Epoch 46/100\n\r 1/51 [..............................] - ETA: 0s - loss: 171247.0312 - mae: 163.1462",
      "\b\b\b\b\b\b\b\b\b\b\b\b\b\b\b\b\b\b\b\b\b\b\b\b\b\b\b\b\b\b\b\b\b\b\b\b\b\b\b\b\b\b\b\b\b\b\b\b\b\b\b\b\b\b\b\b\b\b\b\b\b\b\b\b\b\b\b\b\b\b\b\b\b\b\b\b\b\b\b\b\b\b\b\b\r16/51 [========>.....................] - ETA: 0s - loss: 334021.5938 - mae: 119.9061",
      "\b\b\b\b\b\b\b\b\b\b\b\b\b\b\b\b\b\b\b\b\b\b\b\b\b\b\b\b\b\b\b\b\b\b\b\b\b\b\b\b\b\b\b\b\b\b\b\b\b\b\b\b\b\b\b\b\b\b\b\b\b\b\b\b\b\b\b\b\b\b\b\b\b\b\b\b\b\b\b\b\b\b\b\b\r31/51 [=================>............] - ETA: 0s - loss: 219163.9688 - mae: 104.5013",
      "\b\b\b\b\b\b\b\b\b\b\b\b\b\b\b\b\b\b\b\b\b\b\b\b\b\b\b\b\b\b\b\b\b\b\b\b\b\b\b\b\b\b\b\b\b\b\b\b\b\b\b\b\b\b\b\b\b\b\b\b\b\b\b\b\b\b\b\b\b\b\b\b\b\b\b\b\b\b\b\b\b\b\b\b\r44/51 [========================>.....] - ETA: 0s - loss: 310905.0938 - mae: 108.7485",
      "\b\b\b\b\b\b\b\b\b\b\b\b\b\b\b\b\b\b\b\b\b\b\b\b\b\b\b\b\b\b\b\b\b\b\b\b\b\b\b\b\b\b\b\b\b\b\b\b\b\b\b\b\b\b\b\b\b\b\b\b\b\b\b\b\b\b\b\b\b\b\b\b\b\b\b\b\b\b\b\b\b\b\b\b",
      "\r51/51 [==============================] - 0s 4ms/step - loss: 274851.4688 - mae: 104.2717 - val_loss: 1137627.3750 - val_mae: 173.3151\n",
      "Epoch 47/100\n\r 1/51 [..............................] - ETA: 0s - loss: 12644.7012 - mae: 43.7575",
      "\b\b\b\b\b\b\b\b\b\b\b\b\b\b\b\b\b\b\b\b\b\b\b\b\b\b\b\b\b\b\b\b\b\b\b\b\b\b\b\b\b\b\b\b\b\b\b\b\b\b\b\b\b\b\b\b\b\b\b\b\b\b\b\b\b\b\b\b\b\b\b\b\b\b\b\b\b\b\b\b\b\b",
      "\r11/51 [=====>........................] - ETA: 0s - loss: 32451.7324 - mae: 64.5039",
      "\b\b\b\b\b\b\b\b\b\b\b\b\b\b\b\b\b\b\b\b\b\b\b\b\b\b\b\b\b\b\b\b\b\b\b\b\b\b\b\b\b\b\b\b\b\b\b\b\b\b\b\b\b\b\b\b\b\b\b\b\b\b\b\b\b\b\b\b\b\b\b\b\b\b\b\b\b\b\b\b\b\b",
      "\r25/51 [=============>................] - ETA: 0s - loss: 69729.4922 - mae: 80.0022",
      "\b\b\b\b\b\b\b\b\b\b\b\b\b\b\b\b\b\b\b\b\b\b\b\b\b\b\b\b\b\b\b\b\b\b\b\b\b\b\b\b\b\b\b\b\b\b\b\b\b\b\b\b\b\b\b\b\b\b\b\b\b\b\b\b\b\b\b\b\b\b\b\b\b\b\b\b\b\b\b\b\b\b\r40/51 [======================>.......] - ETA: 0s - loss: 189512.0781 - mae: 91.2020",
      "\b\b\b\b\b\b\b\b\b\b\b\b\b\b\b\b\b\b\b\b\b\b\b\b\b\b\b\b\b\b\b\b\b\b\b\b\b\b\b\b\b\b\b\b\b\b\b\b\b\b\b\b\b\b\b\b\b\b\b\b\b\b\b\b\b\b\b\b\b\b\b\b\b\b\b\b\b\b\b\b\b\b\b",
      "\r51/51 [==============================] - 0s 5ms/step - loss: 261038.3750 - mae: 103.2543 - val_loss: 1049887.1250 - val_mae: 169.8712\n",
      "Epoch 48/100\n\r 1/51 [..............................] - ETA: 0s - loss: 38750.0703 - mae: 87.3513",
      "\b\b\b\b\b\b\b\b\b\b\b\b\b\b\b\b\b\b\b\b\b\b\b\b\b\b\b\b\b\b\b\b\b\b\b\b\b\b\b\b\b\b\b\b\b\b\b\b\b\b\b\b\b\b\b\b\b\b\b\b\b\b\b\b\b\b\b\b\b\b\b\b\b\b\b\b\b\b\b\b\b\b",
      "\r13/51 [======>.......................] - ETA: 0s - loss: 439018.7812 - mae: 146.1059",
      "\b\b\b\b\b\b\b\b\b\b\b\b\b\b\b\b\b\b\b\b\b\b\b\b\b\b\b\b\b\b\b\b\b\b\b\b\b\b\b\b\b\b\b\b\b\b\b\b\b\b\b\b\b\b\b\b\b\b\b\b\b\b\b\b\b\b\b\b\b\b\b\b\b\b\b\b\b\b\b\b\b\b\b\b\r26/51 [==============>...............] - ETA: 0s - loss: 251425.9219 - mae: 111.8908",
      "\b\b\b\b\b\b\b\b\b\b\b\b\b\b\b\b\b\b\b\b\b\b\b\b\b\b\b\b\b\b\b\b\b\b\b\b\b\b\b\b\b\b\b\b\b\b\b\b\b\b\b\b\b\b\b\b\b\b\b\b\b\b\b\b\b\b\b\b\b\b\b\b\b\b\b\b\b\b\b\b\b\b\b\b\r40/51 [======================>.......] - ETA: 0s - loss: 308205.7812 - mae: 112.3090",
      "\b\b\b\b\b\b\b\b\b\b\b\b\b\b\b\b\b\b\b\b\b\b\b\b\b\b\b\b\b\b\b\b\b\b\b\b\b\b\b\b\b\b\b\b\b\b\b\b\b\b\b\b\b\b\b\b\b\b\b\b\b\b\b\b\b\b\b\b\b\b\b\b\b\b\b\b\b\b\b\b\b\b\b\b\r51/51 [==============================] - 0s 5ms/step - loss: 253933.6406 - mae: 106.2620 - val_loss: 1090434.6250 - val_mae: 169.8628\n",
      "Epoch 49/100\n\r 1/51 [..............................] - ETA: 0s - loss: 40638.9375 - mae: 82.9870",
      "\b\b\b\b\b\b\b\b\b\b\b\b\b\b\b\b\b\b\b\b\b\b\b\b\b\b\b\b\b\b\b\b\b\b\b\b\b\b\b\b\b\b\b\b\b\b\b\b\b\b\b\b\b\b\b\b\b\b\b\b\b\b\b\b\b\b\b\b\b\b\b\b\b\b\b\b\b\b\b\b\b\b\r12/51 [======>.......................] - ETA: 0s - loss: 78066.6172 - mae: 81.7473",
      "\b\b\b\b\b\b\b\b\b\b\b\b\b\b\b\b\b\b\b\b\b\b\b\b\b\b\b\b\b\b\b\b\b\b\b\b\b\b\b\b\b\b\b\b\b\b\b\b\b\b\b\b\b\b\b\b\b\b\b\b\b\b\b\b\b\b\b\b\b\b\b\b\b\b\b\b\b\b\b\b\b\b",
      "\r24/51 [=============>................] - ETA: 0s - loss: 224834.2656 - mae: 99.2244",
      "\b\b\b\b\b\b\b\b\b\b\b\b\b\b\b\b\b\b\b\b\b\b\b\b\b\b\b\b\b\b\b\b\b\b\b\b\b\b\b\b\b\b\b\b\b\b\b\b\b\b\b\b\b\b\b\b\b\b\b\b\b\b\b\b\b\b\b\b\b\b\b\b\b\b\b\b\b\b\b\b\b\b\b\r37/51 [====================>.........] - ETA: 0s - loss: 180164.2500 - mae: 97.2526",
      "\b\b\b\b\b\b\b\b\b\b\b\b\b\b\b\b\b\b\b\b\b\b\b\b\b\b\b\b\b\b\b\b\b\b\b\b\b\b\b\b\b\b\b\b\b\b\b\b\b\b\b\b\b\b\b\b\b\b\b\b\b\b\b\b\b\b\b\b\b\b\b\b\b\b\b\b\b\b\b\b\b\b\b\r47/51 [==========================>...] - ETA: 0s - loss: 270479.0312 - mae: 106.2855",
      "\b\b\b\b\b\b\b\b\b\b\b\b\b\b\b\b\b\b\b\b\b\b\b\b\b\b\b\b\b\b\b\b\b\b\b\b\b\b\b\b\b\b\b\b\b\b\b\b\b\b\b\b\b\b\b\b\b\b\b\b\b\b\b\b\b\b\b\b\b\b\b\b\b\b\b\b\b\b\b\b\b\b\b\b\r51/51 [==============================] - 0s 5ms/step - loss: 256099.7500 - mae: 105.1134 - val_loss: 1127998.6250 - val_mae: 164.9632\n",
      "Epoch 50/100\n\r 1/51 [..............................] - ETA: 0s - loss: 34417.3398 - mae: 74.4288",
      "\b\b\b\b\b\b\b\b\b\b\b\b\b\b\b\b\b\b\b\b\b\b\b\b\b\b\b\b\b\b\b\b\b\b\b\b\b\b\b\b\b\b\b\b\b\b\b\b\b\b\b\b\b\b\b\b\b\b\b\b\b\b\b\b\b\b\b\b\b\b\b\b\b\b\b\b\b\b\b\b\b\b\r16/51 [========>.....................] - ETA: 0s - loss: 90604.9922 - mae: 80.7779",
      "\b\b\b\b\b\b\b\b\b\b\b\b\b\b\b\b\b\b\b\b\b\b\b\b\b\b\b\b\b\b\b\b\b\b\b\b\b\b\b\b\b\b\b\b\b\b\b\b\b\b\b\b\b\b\b\b\b\b\b\b\b\b\b\b\b\b\b\b\b\b\b\b\b\b\b\b\b\b\b\b\b\b\r30/51 [================>.............] - ETA: 0s - loss: 231921.7656 - mae: 90.6304",
      "\b\b\b\b\b\b\b\b\b\b\b\b\b\b\b\b\b\b\b\b\b\b\b\b\b\b\b\b\b\b\b\b\b\b\b\b\b\b\b\b\b\b\b\b\b\b\b\b\b\b\b\b\b\b\b\b\b\b\b\b\b\b\b\b\b\b\b\b\b\b\b\b\b\b\b\b\b\b\b\b\b\b\b\r44/51 [========================>.....] - ETA: 0s - loss: 194836.1562 - mae: 95.0557",
      "\b\b\b\b\b\b\b\b\b\b\b\b\b\b\b\b\b\b\b\b\b\b\b\b\b\b\b\b\b\b\b\b\b\b\b\b\b\b\b\b\b\b\b\b\b\b\b\b\b\b\b\b\b\b\b\b\b\b\b\b\b\b\b\b\b\b\b\b\b\b\b\b\b\b\b\b\b\b\b\b\b\b\b\r51/51 [==============================] - 0s 4ms/step - loss: 246191.8594 - mae: 101.4566 - val_loss: 997617.2500 - val_mae: 162.8783\n",
      "Epoch 51/100\n\r 1/51 [..............................] - ETA: 0s - loss: 129413.3750 - mae: 125.8416",
      "\b\b\b\b\b\b\b\b\b\b\b\b\b\b\b\b\b\b\b\b\b\b\b\b\b\b\b\b\b\b\b\b\b\b\b\b\b\b\b\b\b\b\b\b\b\b\b\b\b\b\b\b\b\b\b\b\b\b\b\b\b\b\b\b\b\b\b\b\b\b\b\b\b\b\b\b\b\b\b\b\b\b\b\b",
      "\r 8/51 [===>..........................] - ETA: 0s - loss: 35678.3828 - mae: 68.4127  ",
      "\b\b\b\b\b\b\b\b\b\b\b\b\b\b\b\b\b\b\b\b\b\b\b\b\b\b\b\b\b\b\b\b\b\b\b\b\b\b\b\b\b\b\b\b\b\b\b\b\b\b\b\b\b\b\b\b\b\b\b\b\b\b\b\b\b\b\b\b\b\b\b\b\b\b\b\b\b\b\b\b\b\b",
      "\r22/51 [===========>..................] - ETA: 0s - loss: 264650.1250 - mae: 110.4373",
      "\b\b\b\b\b\b\b\b\b\b\b\b\b\b\b\b\b\b\b\b\b\b\b\b\b\b\b\b\b\b\b\b\b\b\b\b\b\b\b\b\b\b\b\b\b\b\b\b\b\b\b\b\b\b\b\b\b\b\b\b\b\b\b\b\b\b\b\b\b\b\b\b\b\b\b\b\b\b\b\b\b\b\b\b\r37/51 [====================>.........] - ETA: 0s - loss: 196233.4062 - mae: 99.3047 ",
      "\b\b\b\b\b\b\b\b\b\b\b\b\b\b\b\b\b\b\b\b\b\b\b\b\b\b\b\b\b\b\b\b\b\b\b\b\b\b\b\b\b\b\b\b\b\b\b\b\b\b\b\b\b\b\b\b\b\b\b\b\b\b\b\b\b\b\b\b\b\b\b\b\b\b\b\b\b\b\b\b\b\b\b",
      "\r51/51 [==============================] - 0s 5ms/step - loss: 290181.8438 - mae: 100.5113 - val_loss: 1017705.5625 - val_mae: 182.8492\n",
      "Epoch 52/100\n\r 1/51 [..............................] - ETA: 0s - loss: 22378.1074 - mae: 53.0469",
      "\b\b\b\b\b\b\b\b\b\b\b\b\b\b\b\b\b\b\b\b\b\b\b\b\b\b\b\b\b\b\b\b\b\b\b\b\b\b\b\b\b\b\b\b\b\b\b\b\b\b\b\b\b\b\b\b\b\b\b\b\b\b\b\b\b\b\b\b\b\b\b\b\b\b\b\b\b\b\b\b\b\b\r10/51 [====>.........................] - ETA: 0s - loss: 161155.0000 - mae: 86.6523",
      "\b\b\b\b\b\b\b\b\b\b\b\b\b\b\b\b\b\b\b\b\b\b\b\b\b\b\b\b\b\b\b\b\b\b\b\b\b\b\b\b\b\b\b\b\b\b\b\b\b\b\b\b\b\b\b\b\b\b\b\b\b\b\b\b\b\b\b\b\b\b\b\b\b\b\b\b\b\b\b\b\b\b\b",
      "\r23/51 [============>.................] - ETA: 0s - loss: 110701.7031 - mae: 89.8635",
      "\b\b\b\b\b\b\b\b\b\b\b\b\b\b\b\b\b\b\b\b\b\b\b\b\b\b\b\b\b\b\b\b\b\b\b\b\b\b\b\b\b\b\b\b\b\b\b\b\b\b\b\b\b\b\b\b\b\b\b\b\b\b\b\b\b\b\b\b\b\b\b\b\b\b\b\b\b\b\b\b\b\b\b\r38/51 [=====================>........] - ETA: 0s - loss: 206418.5000 - mae: 99.9012",
      "\b\b\b\b\b\b\b\b\b\b\b\b\b\b\b\b\b\b\b\b\b\b\b\b\b\b\b\b\b\b\b\b\b\b\b\b\b\b\b\b\b\b\b\b\b\b\b\b\b\b\b\b\b\b\b\b\b\b\b\b\b\b\b\b\b\b\b\b\b\b\b\b\b\b\b\b\b\b\b\b\b\b\b\r50/51 [============================>.] - ETA: 0s - loss: 251999.6562 - mae: 99.9621",
      "\b\b\b\b\b\b\b\b\b\b\b\b\b\b\b\b\b\b\b\b\b\b\b\b\b\b\b\b\b\b\b\b\b\b\b\b\b\b\b\b\b\b\b\b\b\b\b\b\b\b\b\b\b\b\b\b\b\b\b\b\b\b\b\b\b\b\b\b\b\b\b\b\b\b\b\b\b\b\b\b\b\b\b\r51/51 [==============================] - 0s 5ms/step - loss: 247648.6250 - mae: 99.6061 - val_loss: 948849.7500 - val_mae: 167.5687\n",
      "Epoch 53/100\n\r 1/51 [..............................] - ETA: 0s - loss: 283605.0000 - mae: 193.1906",
      "\b\b\b\b\b\b\b\b\b\b\b\b\b\b\b\b\b\b\b\b\b\b\b\b\b\b\b\b\b\b\b\b\b\b\b\b\b\b\b\b\b\b\b\b\b\b\b\b\b\b\b\b\b\b\b\b\b\b\b\b\b\b\b\b\b\b\b\b\b\b\b\b\b\b\b\b\b\b\b\b\b\b\b\b\r16/51 [========>.....................] - ETA: 0s - loss: 116970.6797 - mae: 99.8572 ",
      "\b\b\b\b\b\b\b\b\b\b\b\b\b\b\b\b\b\b\b\b\b\b\b\b\b\b\b\b\b\b\b\b\b\b\b\b\b\b\b\b\b\b\b\b\b\b\b\b\b\b\b\b\b\b\b\b\b\b\b\b\b\b\b\b\b\b\b\b\b\b\b\b\b\b\b\b\b\b\b\b\b\b\b\r31/51 [=================>............] - ETA: 0s - loss: 301360.8125 - mae: 116.7650",
      "\b\b\b\b\b\b\b\b\b\b\b\b\b\b\b\b\b\b\b\b\b\b\b\b\b\b\b\b\b\b\b\b\b\b\b\b\b\b\b\b\b\b\b\b\b\b\b\b\b\b\b\b\b\b\b\b\b\b\b\b\b\b\b\b\b\b\b\b\b\b\b\b\b\b\b\b\b\b\b\b\b\b\b\b\r39/51 [=====================>........] - ETA: 0s - loss: 252421.3906 - mae: 108.0705",
      "\b\b\b\b\b\b\b\b\b\b\b\b\b\b\b\b\b\b\b\b\b\b\b\b\b\b\b\b\b\b\b\b\b\b\b\b\b\b\b\b\b\b\b\b\b\b\b\b\b\b\b\b\b\b\b\b\b\b\b\b\b\b\b\b\b\b\b\b\b\b\b\b\b\b\b\b\b\b\b\b\b\b\b\b",
      "\r51/51 [==============================] - 0s 5ms/step - loss: 218051.3750 - mae: 102.9818 - val_loss: 1126517.5000 - val_mae: 168.6109\n",
      "Epoch 54/100\n\r 1/51 [..............................] - ETA: 0s - loss: 621263.0000 - mae: 224.3702",
      "\b\b\b\b\b\b\b\b\b\b\b\b\b\b\b\b\b\b\b\b\b\b\b\b\b\b\b\b\b\b\b\b\b\b\b\b\b\b\b\b\b\b\b\b\b\b\b\b\b\b\b\b\b\b\b\b\b\b\b\b\b\b\b\b\b\b\b\b\b\b\b\b\b\b\b\b\b\b\b\b\b\b\b\b\r14/51 [=======>......................] - ETA: 0s - loss: 117326.3828 - mae: 81.2577 ",
      "\b\b\b\b\b\b\b\b\b\b\b\b\b\b\b\b\b\b\b\b\b\b\b\b\b\b\b\b\b\b\b\b\b\b\b\b\b\b\b\b\b\b\b\b\b\b\b\b\b\b\b\b\b\b\b\b\b\b\b\b\b\b\b\b\b\b\b\b\b\b\b\b\b\b\b\b\b\b\b\b\b\b\b\r28/51 [===============>..............] - ETA: 0s - loss: 110381.5234 - mae: 88.3193",
      "\b\b\b\b\b\b\b\b\b\b\b\b\b\b\b\b\b\b\b\b\b\b\b\b\b\b\b\b\b\b\b\b\b\b\b\b\b\b\b\b\b\b\b\b\b\b\b\b\b\b\b\b\b\b\b\b\b\b\b\b\b\b\b\b\b\b\b\b\b\b\b\b\b\b\b\b\b\b\b\b\b\b\b\r43/51 [========================>.....] - ETA: 0s - loss: 250104.4375 - mae: 105.8647",
      "\b\b\b\b\b\b\b\b\b\b\b\b\b\b\b\b\b\b\b\b\b\b\b\b\b\b\b\b\b\b\b\b\b\b\b\b\b\b\b\b\b\b\b\b\b\b\b\b\b\b\b\b\b\b\b\b\b\b\b\b\b\b\b\b\b\b\b\b\b\b\b\b\b\b\b\b\b\b\b\b\b\b\b\b\r51/51 [==============================] - 0s 5ms/step - loss: 219432.4531 - mae: 100.9333 - val_loss: 950177.6875 - val_mae: 157.5767\n",
      "Epoch 55/100\n\r 1/51 [..............................] - ETA: 0s - loss: 1956.3800 - mae: 21.0678",
      "\b\b\b\b\b\b\b\b\b\b\b\b\b\b\b\b\b\b\b\b\b\b\b\b\b\b\b\b\b\b\b\b\b\b\b\b\b\b\b\b\b\b\b\b\b\b\b\b\b\b\b\b\b\b\b\b\b\b\b\b\b\b\b\b\b\b\b\b\b\b\b\b\b\b\b\b\b\b\b\b\b\r16/51 [========>.....................] - ETA: 0s - loss: 76891.2344 - mae: 73.3324",
      "\b\b\b\b\b\b\b\b\b\b\b\b\b\b\b\b\b\b\b\b\b\b\b\b\b\b\b\b\b\b\b\b\b\b\b\b\b\b\b\b\b\b\b\b\b\b\b\b\b\b\b\b\b\b\b\b\b\b\b\b\b\b\b\b\b\b\b\b\b\b\b\b\b\b\b\b\b\b\b\b\b\b\r30/51 [================>.............] - ETA: 0s - loss: 83846.2969 - mae: 80.2819",
      "\b\b\b\b\b\b\b\b\b\b\b\b\b\b\b\b\b\b\b\b\b\b\b\b\b\b\b\b\b\b\b\b\b\b\b\b\b\b\b\b\b\b\b\b\b\b\b\b\b\b\b\b\b\b\b\b\b\b\b\b\b\b\b\b\b\b\b\b\b\b\b\b\b\b\b\b\b\b\b\b\b\b\r43/51 [========================>.....] - ETA: 0s - loss: 266463.3125 - mae: 101.5950",
      "\b\b\b\b\b\b\b\b\b\b\b\b\b\b\b\b\b\b\b\b\b\b\b\b\b\b\b\b\b\b\b\b\b\b\b\b\b\b\b\b\b\b\b\b\b\b\b\b\b\b\b\b\b\b\b\b\b\b\b\b\b\b\b\b\b\b\b\b\b\b\b\b\b\b\b\b\b\b\b\b\b\b\b\b\r51/51 [==============================] - 0s 4ms/step - loss: 234338.0625 - mae: 97.1824 - val_loss: 937853.8750 - val_mae: 165.1774\n",
      "Epoch 56/100\n",
      "\r 1/51 [..............................] - ETA: 0s - loss: 3126788.2500 - mae: 456.2714",
      "\b\b\b\b\b\b\b\b\b\b\b\b\b\b\b\b\b\b\b\b\b\b\b\b\b\b\b\b\b\b\b\b\b\b\b\b\b\b\b\b\b\b\b\b\b\b\b\b\b\b\b\b\b\b\b\b\b\b\b\b\b\b\b\b\b\b\b\b\b\b\b\b\b\b\b\b\b\b\b\b\b\b\b\b\b\r13/51 [======>.......................] - ETA: 0s - loss: 362183.6562 - mae: 122.1327 ",
      "\b\b\b\b\b\b\b\b\b\b\b\b\b\b\b\b\b\b\b\b\b\b\b\b\b\b\b\b\b\b\b\b\b\b\b\b\b\b\b\b\b\b\b\b\b\b\b\b\b\b\b\b\b\b\b\b\b\b\b\b\b\b\b\b\b\b\b\b\b\b\b\b\b\b\b\b\b\b\b\b\b\b\b\b\r23/51 [============>.................] - ETA: 0s - loss: 260298.2812 - mae: 114.9495",
      "\b\b\b\b\b\b\b\b\b\b\b\b\b\b\b\b\b\b\b\b\b\b\b\b\b\b\b\b\b\b\b\b\b\b\b\b\b\b\b\b\b\b\b\b\b\b\b\b\b\b\b\b\b\b\b\b\b\b\b\b\b\b\b\b\b\b\b\b\b\b\b\b\b\b\b\b\b\b\b\b\b\b\b\b\r39/51 [=====================>........] - ETA: 0s - loss: 172968.7188 - mae: 95.3127 ",
      "\b\b\b\b\b\b\b\b\b\b\b\b\b\b\b\b\b\b\b\b\b\b\b\b\b\b\b\b\b\b\b\b\b\b\b\b\b\b\b\b\b\b\b\b\b\b\b\b\b\b\b\b\b\b\b\b\b\b\b\b\b\b\b\b\b\b\b\b\b\b\b\b\b\b\b\b\b\b\b\b\b\b\b\r51/51 [==============================] - ETA: 0s - loss: 209863.9062 - mae: 97.8902",
      "\b\b\b\b\b\b\b\b\b\b\b\b\b\b\b\b\b\b\b\b\b\b\b\b\b\b\b\b\b\b\b\b\b\b\b\b\b\b\b\b\b\b\b\b\b\b\b\b\b\b\b\b\b\b\b\b\b\b\b\b\b\b\b\b\b\b\b\b\b\b\b\b\b\b\b\b\b\b\b\b\b\b\b\r51/51 [==============================] - 0s 5ms/step - loss: 209863.9062 - mae: 97.8902 - val_loss: 935125.6875 - val_mae: 166.7879\n",
      "Epoch 57/100\n\r 1/51 [..............................] - ETA: 0s - loss: 20319.9785 - mae: 64.2759",
      "\b\b\b\b\b\b\b\b\b\b\b\b\b\b\b\b\b\b\b\b\b\b\b\b\b\b\b\b\b\b\b\b\b\b\b\b\b\b\b\b\b\b\b\b\b\b\b\b\b\b\b\b\b\b\b\b\b\b\b\b\b\b\b\b\b\b\b\b\b\b\b\b\b\b\b\b\b\b\b\b\b\b\r14/51 [=======>......................] - ETA: 0s - loss: 345909.2188 - mae: 119.8341",
      "\b\b\b\b\b\b\b\b\b\b\b\b\b\b\b\b\b\b\b\b\b\b\b\b\b\b\b\b\b\b\b\b\b\b\b\b\b\b\b\b\b\b\b\b\b\b\b\b\b\b\b\b\b\b\b\b\b\b\b\b\b\b\b\b\b\b\b\b\b\b\b\b\b\b\b\b\b\b\b\b\b\b\b\b\r28/51 [===============>..............] - ETA: 0s - loss: 219094.7500 - mae: 100.6976",
      "\b\b\b\b\b\b\b\b\b\b\b\b\b\b\b\b\b\b\b\b\b\b\b\b\b\b\b\b\b\b\b\b\b\b\b\b\b\b\b\b\b\b\b\b\b\b\b\b\b\b\b\b\b\b\b\b\b\b\b\b\b\b\b\b\b\b\b\b\b\b\b\b\b\b\b\b\b\b\b\b\b\b\b\b\r40/51 [======================>.......] - ETA: 0s - loss: 265826.7188 - mae: 99.7929 ",
      "\b\b\b\b\b\b\b\b\b\b\b\b\b\b\b\b\b\b\b\b\b\b\b\b\b\b\b\b\b\b\b\b\b\b\b\b\b\b\b\b\b\b\b\b\b\b\b\b\b\b\b\b\b\b\b\b\b\b\b\b\b\b\b\b\b\b\b\b\b\b\b\b\b\b\b\b\b\b\b\b\b\b\b",
      "\r51/51 [==============================] - 0s 5ms/step - loss: 220852.5469 - mae: 95.0438 - val_loss: 865079.5625 - val_mae: 163.2904\n",
      "Epoch 58/100\n\r 1/51 [..............................] - ETA: 0s - loss: 98690.8984 - mae: 92.0134",
      "\b\b\b\b\b\b\b\b\b\b\b\b\b\b\b\b\b\b\b\b\b\b\b\b\b\b\b\b\b\b\b\b\b\b\b\b\b\b\b\b\b\b\b\b\b\b\b\b\b\b\b\b\b\b\b\b\b\b\b\b\b\b\b\b\b\b\b\b\b\b\b\b\b\b\b\b\b\b\b\b\b\b",
      "\r14/51 [=======>......................] - ETA: 0s - loss: 115482.8359 - mae: 89.8062",
      "\b\b\b\b\b\b\b\b\b\b\b\b\b\b\b\b\b\b\b\b\b\b\b\b\b\b\b\b\b\b\b\b\b\b\b\b\b\b\b\b\b\b\b\b\b\b\b\b\b\b\b\b\b\b\b\b\b\b\b\b\b\b\b\b\b\b\b\b\b\b\b\b\b\b\b\b\b\b\b\b\b\b\b",
      "\r28/51 [===============>..............] - ETA: 0s - loss: 220888.3750 - mae: 99.3650",
      "\b\b\b\b\b\b\b\b\b\b\b\b\b\b\b\b\b\b\b\b\b\b\b\b\b\b\b\b\b\b\b\b\b\b\b\b\b\b\b\b\b\b\b\b\b\b\b\b\b\b\b\b\b\b\b\b\b\b\b\b\b\b\b\b\b\b\b\b\b\b\b\b\b\b\b\b\b\b\b\b\b\b\b\r41/51 [=======================>......] - ETA: 0s - loss: 174844.6562 - mae: 93.7809",
      "\b\b\b\b\b\b\b\b\b\b\b\b\b\b\b\b\b\b\b\b\b\b\b\b\b\b\b\b\b\b\b\b\b\b\b\b\b\b\b\b\b\b\b\b\b\b\b\b\b\b\b\b\b\b\b\b\b\b\b\b\b\b\b\b\b\b\b\b\b\b\b\b\b\b\b\b\b\b\b\b\b\b\b\r51/51 [==============================] - 0s 5ms/step - loss: 207707.4062 - mae: 95.6007 - val_loss: 883991.5625 - val_mae: 172.5697\n",
      "Epoch 59/100\n\r 1/51 [..............................] - ETA: 0s - loss: 554956.0000 - mae: 207.6213",
      "\b\b\b\b\b\b\b\b\b\b\b\b\b\b\b\b\b\b\b\b\b\b\b\b\b\b\b\b\b\b\b\b\b\b\b\b\b\b\b\b\b\b\b\b\b\b\b\b\b\b\b\b\b\b\b\b\b\b\b\b\b\b\b\b\b\b\b\b\b\b\b\b\b\b\b\b\b\b\b\b\b\b\b\b\r13/51 [======>.......................] - ETA: 0s - loss: 130511.1641 - mae: 94.4111 ",
      "\b\b\b\b\b\b\b\b\b\b\b\b\b\b\b\b\b\b\b\b\b\b\b\b\b\b\b\b\b\b\b\b\b\b\b\b\b\b\b\b\b\b\b\b\b\b\b\b\b\b\b\b\b\b\b\b\b\b\b\b\b\b\b\b\b\b\b\b\b\b\b\b\b\b\b\b\b\b\b\b\b\b\b\r27/51 [==============>...............] - ETA: 0s - loss: 240562.3594 - mae: 101.2374",
      "\b\b\b\b\b\b\b\b\b\b\b\b\b\b\b\b\b\b\b\b\b\b\b\b\b\b\b\b\b\b\b\b\b\b\b\b\b\b\b\b\b\b\b\b\b\b\b\b\b\b\b\b\b\b\b\b\b\b\b\b\b\b\b\b\b\b\b\b\b\b\b\b\b\b\b\b\b\b\b\b\b\b\b\b\r42/51 [=======================>......] - ETA: 0s - loss: 232040.0938 - mae: 98.5457 ",
      "\b\b\b\b\b\b\b\b\b\b\b\b\b\b\b\b\b\b\b\b\b\b\b\b\b\b\b\b\b\b\b\b\b\b\b\b\b\b\b\b\b\b\b\b\b\b\b\b\b\b\b\b\b\b\b\b\b\b\b\b\b\b\b\b\b\b\b\b\b\b\b\b\b\b\b\b\b\b\b\b\b\b\b\r51/51 [==============================] - 0s 5ms/step - loss: 218663.4844 - mae: 98.6304 - val_loss: 896368.6250 - val_mae: 160.0983\n",
      "Epoch 60/100\n\r 1/51 [..............................] - ETA: 0s - loss: 11285.0439 - mae: 56.4559",
      "\b\b\b\b\b\b\b\b\b\b\b\b\b\b\b\b\b\b\b\b\b\b\b\b\b\b\b\b\b\b\b\b\b\b\b\b\b\b\b\b\b\b\b\b\b\b\b\b\b\b\b\b\b\b\b\b\b\b\b\b\b\b\b\b\b\b\b\b\b\b\b\b\b\b\b\b\b\b\b\b\b\b",
      "\r14/51 [=======>......................] - ETA: 0s - loss: 284208.0000 - mae: 102.2262",
      "\b\b\b\b\b\b\b\b\b\b\b\b\b\b\b\b\b\b\b\b\b\b\b\b\b\b\b\b\b\b\b\b\b\b\b\b\b\b\b\b\b\b\b\b\b\b\b\b\b\b\b\b\b\b\b\b\b\b\b\b\b\b\b\b\b\b\b\b\b\b\b\b\b\b\b\b\b\b\b\b\b\b\b\b",
      "\r22/51 [===========>..................] - ETA: 0s - loss: 363134.6562 - mae: 116.5587",
      "\b\b\b\b\b\b\b\b\b\b\b\b\b\b\b\b\b\b\b\b\b\b\b\b\b\b\b\b\b\b\b\b\b\b\b\b\b\b\b\b\b\b\b\b\b\b\b\b\b\b\b\b\b\b\b\b\b\b\b\b\b\b\b\b\b\b\b\b\b\b\b\b\b\b\b\b\b\b\b\b\b\b\b\b\r36/51 [====================>.........] - ETA: 0s - loss: 256279.0625 - mae: 108.7211",
      "\b\b\b\b\b\b\b\b\b\b\b\b\b\b\b\b\b\b\b\b\b\b\b\b\b\b\b\b\b\b\b\b\b\b\b\b\b\b\b\b\b\b\b\b\b\b\b\b\b\b\b\b\b\b\b\b\b\b\b\b\b\b\b\b\b\b\b\b\b\b\b\b\b\b\b\b\b\b\b\b\b\b\b\b",
      "\r51/51 [==============================] - 0s 5ms/step - loss: 202934.1250 - mae: 98.0786 - val_loss: 895198.2500 - val_mae: 161.2451\n",
      "Epoch 61/100\n\r 1/51 [..............................] - ETA: 0s - loss: 29585.7891 - mae: 66.5973",
      "\b\b\b\b\b\b\b\b\b\b\b\b\b\b\b\b\b\b\b\b\b\b\b\b\b\b\b\b\b\b\b\b\b\b\b\b\b\b\b\b\b\b\b\b\b\b\b\b\b\b\b\b\b\b\b\b\b\b\b\b\b\b\b\b\b\b\b\b\b\b\b\b\b\b\b\b\b\b\b\b\b\b\r12/51 [======>.......................] - ETA: 0s - loss: 97595.3750 - mae: 79.8910",
      "\b\b\b\b\b\b\b\b\b\b\b\b\b\b\b\b\b\b\b\b\b\b\b\b\b\b\b\b\b\b\b\b\b\b\b\b\b\b\b\b\b\b\b\b\b\b\b\b\b\b\b\b\b\b\b\b\b\b\b\b\b\b\b\b\b\b\b\b\b\b\b\b\b\b\b\b\b\b\b\b\b\b",
      "\r26/51 [==============>...............] - ETA: 0s - loss: 290602.2188 - mae: 102.2882",
      "\b\b\b\b\b\b\b\b\b\b\b\b\b\b\b\b\b\b\b\b\b\b\b\b\b\b\b\b\b\b\b\b\b\b\b\b\b\b\b\b\b\b\b\b\b\b\b\b\b\b\b\b\b\b\b\b\b\b\b\b\b\b\b\b\b\b\b\b\b\b\b\b\b\b\b\b\b\b\b\b\b\b\b\b\r39/51 [=====================>........] - ETA: 0s - loss: 217107.5312 - mae: 94.2017 ",
      "\b\b\b\b\b\b\b\b\b\b\b\b\b\b\b\b\b\b\b\b\b\b\b\b\b\b\b\b\b\b\b\b\b\b\b\b\b\b\b\b\b\b\b\b\b\b\b\b\b\b\b\b\b\b\b\b\b\b\b\b\b\b\b\b\b\b\b\b\b\b\b\b\b\b\b\b\b\b\b\b\b\b\b\r47/51 [==========================>...] - ETA: 0s - loss: 193381.5938 - mae: 92.3180",
      "\b\b\b\b\b\b\b\b\b\b\b\b\b\b\b\b\b\b\b\b\b\b\b\b\b\b\b\b\b\b\b\b\b\b\b\b\b\b\b\b\b\b\b\b\b\b\b\b\b\b\b\b\b\b\b\b\b\b\b\b\b\b\b\b\b\b\b\b\b\b\b\b\b\b\b\b\b\b\b\b\b\b\b\r51/51 [==============================] - 0s 5ms/step - loss: 188364.6094 - mae: 92.2822 - val_loss: 830175.8750 - val_mae: 160.8042\n",
      "Epoch 62/100\n\r 1/51 [..............................] - ETA: 0s - loss: 29956.8301 - mae: 58.0840",
      "\b\b\b\b\b\b\b\b\b\b\b\b\b\b\b\b\b\b\b\b\b\b\b\b\b\b\b\b\b\b\b\b\b\b\b\b\b\b\b\b\b\b\b\b\b\b\b\b\b\b\b\b\b\b\b\b\b\b\b\b\b\b\b\b\b\b\b\b\b\b\b\b\b\b\b\b\b\b\b\b\b\b",
      "\r15/51 [=======>......................] - ETA: 0s - loss: 216045.0156 - mae: 99.9674",
      "\b\b\b\b\b\b\b\b\b\b\b\b\b\b\b\b\b\b\b\b\b\b\b\b\b\b\b\b\b\b\b\b\b\b\b\b\b\b\b\b\b\b\b\b\b\b\b\b\b\b\b\b\b\b\b\b\b\b\b\b\b\b\b\b\b\b\b\b\b\b\b\b\b\b\b\b\b\b\b\b\b\b\b\r30/51 [================>.............] - ETA: 0s - loss: 251628.4219 - mae: 104.7379",
      "\b\b\b\b\b\b\b\b\b\b\b\b\b\b\b\b\b\b\b\b\b\b\b\b\b\b\b\b\b\b\b\b\b\b\b\b\b\b\b\b\b\b\b\b\b\b\b\b\b\b\b\b\b\b\b\b\b\b\b\b\b\b\b\b\b\b\b\b\b\b\b\b\b\b\b\b\b\b\b\b\b\b\b\b\r43/51 [========================>.....] - ETA: 0s - loss: 221879.7188 - mae: 101.3504",
      "\b\b\b\b\b\b\b\b\b\b\b\b\b\b\b\b\b\b\b\b\b\b\b\b\b\b\b\b\b\b\b\b\b\b\b\b\b\b\b\b\b\b\b\b\b\b\b\b\b\b\b\b\b\b\b\b\b\b\b\b\b\b\b\b\b\b\b\b\b\b\b\b\b\b\b\b\b\b\b\b\b\b\b\b\r51/51 [==============================] - 0s 4ms/step - loss: 195076.8594 - mae: 97.9699 - val_loss: 852630.1250 - val_mae: 156.6982\n",
      "Epoch 63/100\n\r 1/51 [..............................] - ETA: 0s - loss: 385943.5625 - mae: 170.5078",
      "\b\b\b\b\b\b\b\b\b\b\b\b\b\b\b\b\b\b\b\b\b\b\b\b\b\b\b\b\b\b\b\b\b\b\b\b\b\b\b\b\b\b\b\b\b\b\b\b\b\b\b\b\b\b\b\b\b\b\b\b\b\b\b\b\b\b\b\b\b\b\b\b\b\b\b\b\b\b\b\b\b\b\b\b",
      "\r11/51 [=====>........................] - ETA: 0s - loss: 79106.3438 - mae: 83.7305  ",
      "\b\b\b\b\b\b\b\b\b\b\b\b\b\b\b\b\b\b\b\b\b\b\b\b\b\b\b\b\b\b\b\b\b\b\b\b\b\b\b\b\b\b\b\b\b\b\b\b\b\b\b\b\b\b\b\b\b\b\b\b\b\b\b\b\b\b\b\b\b\b\b\b\b\b\b\b\b\b\b\b\b\b\r26/51 [==============>...............] - ETA: 0s - loss: 70749.0781 - mae: 76.0996",
      "\b\b\b\b\b\b\b\b\b\b\b\b\b\b\b\b\b\b\b\b\b\b\b\b\b\b\b\b\b\b\b\b\b\b\b\b\b\b\b\b\b\b\b\b\b\b\b\b\b\b\b\b\b\b\b\b\b\b\b\b\b\b\b\b\b\b\b\b\b\b\b\b\b\b\b\b\b\b\b\b\b\b\r41/51 [=======================>......] - ETA: 0s - loss: 204993.3594 - mae: 98.4993",
      "\b\b\b\b\b\b\b\b\b\b\b\b\b\b\b\b\b\b\b\b\b\b\b\b\b\b\b\b\b\b\b\b\b\b\b\b\b\b\b\b\b\b\b\b\b\b\b\b\b\b\b\b\b\b\b\b\b\b\b\b\b\b\b\b\b\b\b\b\b\b\b\b\b\b\b\b\b\b\b\b\b\b\b",
      "\r51/51 [==============================] - 0s 5ms/step - loss: 176575.3594 - mae: 94.8818 - val_loss: 775076.6250 - val_mae: 156.8384\n",
      "Epoch 64/100\n\r 1/51 [..............................] - ETA: 0s - loss: 39683.7773 - mae: 58.5106",
      "\b\b\b\b\b\b\b\b\b\b\b\b\b\b\b\b\b\b\b\b\b\b\b\b\b\b\b\b\b\b\b\b\b\b\b\b\b\b\b\b\b\b\b\b\b\b\b\b\b\b\b\b\b\b\b\b\b\b\b\b\b\b\b\b\b\b\b\b\b\b\b\b\b\b\b\b\b\b\b\b\b\b",
      "\r14/51 [=======>......................] - ETA: 0s - loss: 36870.8281 - mae: 64.9058",
      "\b\b\b\b\b\b\b\b\b\b\b\b\b\b\b\b\b\b\b\b\b\b\b\b\b\b\b\b\b\b\b\b\b\b\b\b\b\b\b\b\b\b\b\b\b\b\b\b\b\b\b\b\b\b\b\b\b\b\b\b\b\b\b\b\b\b\b\b\b\b\b\b\b\b\b\b\b\b\b\b\b\b\r27/51 [==============>...............] - ETA: 0s - loss: 139082.9688 - mae: 79.6362",
      "\b\b\b\b\b\b\b\b\b\b\b\b\b\b\b\b\b\b\b\b\b\b\b\b\b\b\b\b\b\b\b\b\b\b\b\b\b\b\b\b\b\b\b\b\b\b\b\b\b\b\b\b\b\b\b\b\b\b\b\b\b\b\b\b\b\b\b\b\b\b\b\b\b\b\b\b\b\b\b\b\b\b\b\r38/51 [=====================>........] - ETA: 0s - loss: 195111.1250 - mae: 92.4942",
      "\b\b\b\b\b\b\b\b\b\b\b\b\b\b\b\b\b\b\b\b\b\b\b\b\b\b\b\b\b\b\b\b\b\b\b\b\b\b\b\b\b\b\b\b\b\b\b\b\b\b\b\b\b\b\b\b\b\b\b\b\b\b\b\b\b\b\b\b\b\b\b\b\b\b\b\b\b\b\b\b\b\b\b",
      "\r51/51 [==============================] - 0s 5ms/step - loss: 214227.7812 - mae: 95.6852 - val_loss: 767279.0625 - val_mae: 158.5376\n",
      "Epoch 65/100\n\r 1/51 [..............................] - ETA: 0s - loss: 124382.2656 - mae: 111.2497",
      "\b\b\b\b\b\b\b\b\b\b\b\b\b\b\b\b\b\b\b\b\b\b\b\b\b\b\b\b\b\b\b\b\b\b\b\b\b\b\b\b\b\b\b\b\b\b\b\b\b\b\b\b\b\b\b\b\b\b\b\b\b\b\b\b\b\b\b\b\b\b\b\b\b\b\b\b\b\b\b\b\b\b\b\b",
      "\r14/51 [=======>......................] - ETA: 0s - loss: 236115.7344 - mae: 94.5047 ",
      "\b\b\b\b\b\b\b\b\b\b\b\b\b\b\b\b\b\b\b\b\b\b\b\b\b\b\b\b\b\b\b\b\b\b\b\b\b\b\b\b\b\b\b\b\b\b\b\b\b\b\b\b\b\b\b\b\b\b\b\b\b\b\b\b\b\b\b\b\b\b\b\b\b\b\b\b\b\b\b\b\b\b\b",
      "\r27/51 [==============>...............] - ETA: 0s - loss: 160313.6094 - mae: 88.4659",
      "\b\b\b\b\b\b\b\b\b\b\b\b\b\b\b\b\b\b\b\b\b\b\b\b\b\b\b\b\b\b\b\b\b\b\b\b\b\b\b\b\b\b\b\b\b\b\b\b\b\b\b\b\b\b\b\b\b\b\b\b\b\b\b\b\b\b\b\b\b\b\b\b\b\b\b\b\b\b\b\b\b\b\b\r40/51 [======================>.......] - ETA: 0s - loss: 234030.4531 - mae: 105.3788",
      "\b\b\b\b\b\b\b\b\b\b\b\b\b\b\b\b\b\b\b\b\b\b\b\b\b\b\b\b\b\b\b\b\b\b\b\b\b\b\b\b\b\b\b\b\b\b\b\b\b\b\b\b\b\b\b\b\b\b\b\b\b\b\b\b\b\b\b\b\b\b\b\b\b\b\b\b\b\b\b\b\b\b\b\b\r51/51 [==============================] - 0s 5ms/step - loss: 188902.8594 - mae: 94.8792 - val_loss: 786777.7500 - val_mae: 152.4870\n",
      "Epoch 66/100\n\r 1/51 [..............................] - ETA: 0s - loss: 89869.0469 - mae: 103.7595",
      "\b\b\b\b\b\b\b\b\b\b\b\b\b\b\b\b\b\b\b\b\b\b\b\b\b\b\b\b\b\b\b\b\b\b\b\b\b\b\b\b\b\b\b\b\b\b\b\b\b\b\b\b\b\b\b\b\b\b\b\b\b\b\b\b\b\b\b\b\b\b\b\b\b\b\b\b\b\b\b\b\b\b\b\r14/51 [=======>......................] - ETA: 0s - loss: 74715.0156 - mae: 71.8381 ",
      "\b\b\b\b\b\b\b\b\b\b\b\b\b\b\b\b\b\b\b\b\b\b\b\b\b\b\b\b\b\b\b\b\b\b\b\b\b\b\b\b\b\b\b\b\b\b\b\b\b\b\b\b\b\b\b\b\b\b\b\b\b\b\b\b\b\b\b\b\b\b\b\b\b\b\b\b\b\b\b\b\b\b\r28/51 [===============>..............] - ETA: 0s - loss: 163037.6719 - mae: 89.1562",
      "\b\b\b\b\b\b\b\b\b\b\b\b\b\b\b\b\b\b\b\b\b\b\b\b\b\b\b\b\b\b\b\b\b\b\b\b\b\b\b\b\b\b\b\b\b\b\b\b\b\b\b\b\b\b\b\b\b\b\b\b\b\b\b\b\b\b\b\b\b\b\b\b\b\b\b\b\b\b\b\b\b\b\b\r42/51 [=======================>......] - ETA: 0s - loss: 135875.5781 - mae: 87.6548",
      "\b\b\b\b\b\b\b\b\b\b\b\b\b\b\b\b\b\b\b\b\b\b\b\b\b\b\b\b\b\b\b\b\b\b\b\b\b\b\b\b\b\b\b\b\b\b\b\b\b\b\b\b\b\b\b\b\b\b\b\b\b\b\b\b\b\b\b\b\b\b\b\b\b\b\b\b\b\b\b\b\b\b\b",
      "\r51/51 [==============================] - 0s 5ms/step - loss: 187234.0625 - mae: 94.2892 - val_loss: 767940.6250 - val_mae: 156.2825\n",
      "Epoch 67/100\n\r 1/51 [..............................] - ETA: 0s - loss: 5848.6191 - mae: 39.8662",
      "\b\b\b\b\b\b\b\b\b\b\b\b\b\b\b\b\b\b\b\b\b\b\b\b\b\b\b\b\b\b\b\b\b\b\b\b\b\b\b\b\b\b\b\b\b\b\b\b\b\b\b\b\b\b\b\b\b\b\b\b\b\b\b\b\b\b\b\b\b\b\b\b\b\b\b\b\b\b\b\b\b",
      "\r15/51 [=======>......................] - ETA: 0s - loss: 76783.3906 - mae: 85.7885",
      "\b\b\b\b\b\b\b\b\b\b\b\b\b\b\b\b\b\b\b\b\b\b\b\b\b\b\b\b\b\b\b\b\b\b\b\b\b\b\b\b\b\b\b\b\b\b\b\b\b\b\b\b\b\b\b\b\b\b\b\b\b\b\b\b\b\b\b\b\b\b\b\b\b\b\b\b\b\b\b\b\b\b",
      "\r29/51 [================>.............] - ETA: 0s - loss: 229358.2812 - mae: 99.7380",
      "\b\b\b\b\b\b\b\b\b\b\b\b\b\b\b\b\b\b\b\b\b\b\b\b\b\b\b\b\b\b\b\b\b\b\b\b\b\b\b\b\b\b\b\b\b\b\b\b\b\b\b\b\b\b\b\b\b\b\b\b\b\b\b\b\b\b\b\b\b\b\b\b\b\b\b\b\b\b\b\b\b\b\b\r44/51 [========================>.....] - ETA: 0s - loss: 179909.4062 - mae: 94.6927",
      "\b\b\b\b\b\b\b\b\b\b\b\b\b\b\b\b\b\b\b\b\b\b\b\b\b\b\b\b\b\b\b\b\b\b\b\b\b\b\b\b\b\b\b\b\b\b\b\b\b\b\b\b\b\b\b\b\b\b\b\b\b\b\b\b\b\b\b\b\b\b\b\b\b\b\b\b\b\b\b\b\b\b\b\r51/51 [==============================] - 0s 4ms/step - loss: 163585.9375 - mae: 91.5054 - val_loss: 849748.5625 - val_mae: 155.9250\n",
      "Epoch 68/100\n\r 1/51 [..............................] - ETA: 0s - loss: 33725.3828 - mae: 71.3755",
      "\b\b\b\b\b\b\b\b\b\b\b\b\b\b\b\b\b\b\b\b\b\b\b\b\b\b\b\b\b\b\b\b\b\b\b\b\b\b\b\b\b\b\b\b\b\b\b\b\b\b\b\b\b\b\b\b\b\b\b\b\b\b\b\b\b\b\b\b\b\b\b\b\b\b\b\b\b\b\b\b\b\b",
      "\r13/51 [======>.......................] - ETA: 0s - loss: 56717.6523 - mae: 71.7607",
      "\b\b\b\b\b\b\b\b\b\b\b\b\b\b\b\b\b\b\b\b\b\b\b\b\b\b\b\b\b\b\b\b\b\b\b\b\b\b\b\b\b\b\b\b\b\b\b\b\b\b\b\b\b\b\b\b\b\b\b\b\b\b\b\b\b\b\b\b\b\b\b\b\b\b\b\b\b\b\b\b\b\b\r28/51 [===============>..............] - ETA: 0s - loss: 305719.9375 - mae: 102.6184",
      "\b\b\b\b\b\b\b\b\b\b\b\b\b\b\b\b\b\b\b\b\b\b\b\b\b\b\b\b\b\b\b\b\b\b\b\b\b\b\b\b\b\b\b\b\b\b\b\b\b\b\b\b\b\b\b\b\b\b\b\b\b\b\b\b\b\b\b\b\b\b\b\b\b\b\b\b\b\b\b\b\b\b\b\b\r40/51 [======================>.......] - ETA: 0s - loss: 243841.3438 - mae: 97.4985 ",
      "\b\b\b\b\b\b\b\b\b\b\b\b\b\b\b\b\b\b\b\b\b\b\b\b\b\b\b\b\b\b\b\b\b\b\b\b\b\b\b\b\b\b\b\b\b\b\b\b\b\b\b\b\b\b\b\b\b\b\b\b\b\b\b\b\b\b\b\b\b\b\b\b\b\b\b\b\b\b\b\b\b\b\b",
      "\r51/51 [==============================] - 0s 5ms/step - loss: 217267.4844 - mae: 93.5998 - val_loss: 799131.8750 - val_mae: 153.3475\n",
      "Epoch 69/100\n\r 1/51 [..............................] - ETA: 0s - loss: 2533.6558 - mae: 29.4504",
      "\b\b\b\b\b\b\b\b\b\b\b\b\b\b\b\b\b\b\b\b\b\b\b\b\b\b\b\b\b\b\b\b\b\b\b\b\b\b\b\b\b\b\b\b\b\b\b\b\b\b\b\b\b\b\b\b\b\b\b\b\b\b\b\b\b\b\b\b\b\b\b\b\b\b\b\b\b\b\b\b\b\r14/51 [=======>......................] - ETA: 0s - loss: 72050.4766 - mae: 68.3560",
      "\b\b\b\b\b\b\b\b\b\b\b\b\b\b\b\b\b\b\b\b\b\b\b\b\b\b\b\b\b\b\b\b\b\b\b\b\b\b\b\b\b\b\b\b\b\b\b\b\b\b\b\b\b\b\b\b\b\b\b\b\b\b\b\b\b\b\b\b\b\b\b\b\b\b\b\b\b\b\b\b\b\b\r28/51 [===============>..............] - ETA: 0s - loss: 280863.2812 - mae: 109.3303",
      "\b\b\b\b\b\b\b\b\b\b\b\b\b\b\b\b\b\b\b\b\b\b\b\b\b\b\b\b\b\b\b\b\b\b\b\b\b\b\b\b\b\b\b\b\b\b\b\b\b\b\b\b\b\b\b\b\b\b\b\b\b\b\b\b\b\b\b\b\b\b\b\b\b\b\b\b\b\b\b\b\b\b\b\b\r40/51 [======================>.......] - ETA: 0s - loss: 208552.9688 - mae: 96.5426 ",
      "\b\b\b\b\b\b\b\b\b\b\b\b\b\b\b\b\b\b\b\b\b\b\b\b\b\b\b\b\b\b\b\b\b\b\b\b\b\b\b\b\b\b\b\b\b\b\b\b\b\b\b\b\b\b\b\b\b\b\b\b\b\b\b\b\b\b\b\b\b\b\b\b\b\b\b\b\b\b\b\b\b\b\b\r51/51 [==============================] - 0s 5ms/step - loss: 171651.6875 - mae: 91.4620 - val_loss: 740945.6875 - val_mae: 151.5072\n",
      "Epoch 70/100\n\r 1/51 [..............................] - ETA: 0s - loss: 10529.5205 - mae: 50.6546",
      "\b\b\b\b\b\b\b\b\b\b\b\b\b\b\b\b\b\b\b\b\b\b\b\b\b\b\b\b\b\b\b\b\b\b\b\b\b\b\b\b\b\b\b\b\b\b\b\b\b\b\b\b\b\b\b\b\b\b\b\b\b\b\b\b\b\b\b\b\b\b\b\b\b\b\b\b\b\b\b\b\b\b\r14/51 [=======>......................] - ETA: 0s - loss: 34385.8828 - mae: 66.2334",
      "\b\b\b\b\b\b\b\b\b\b\b\b\b\b\b\b\b\b\b\b\b\b\b\b\b\b\b\b\b\b\b\b\b\b\b\b\b\b\b\b\b\b\b\b\b\b\b\b\b\b\b\b\b\b\b\b\b\b\b\b\b\b\b\b\b\b\b\b\b\b\b\b\b\b\b\b\b\b\b\b\b\b\r29/51 [================>.............] - ETA: 0s - loss: 186819.6719 - mae: 93.2928",
      "\b\b\b\b\b\b\b\b\b\b\b\b\b\b\b\b\b\b\b\b\b\b\b\b\b\b\b\b\b\b\b\b\b\b\b\b\b\b\b\b\b\b\b\b\b\b\b\b\b\b\b\b\b\b\b\b\b\b\b\b\b\b\b\b\b\b\b\b\b\b\b\b\b\b\b\b\b\b\b\b\b\b\b\r44/51 [========================>.....] - ETA: 0s - loss: 132488.6719 - mae: 80.6678",
      "\b\b\b\b\b\b\b\b\b\b\b\b\b\b\b\b\b\b\b\b\b\b\b\b\b\b\b\b\b\b\b\b\b\b\b\b\b\b\b\b\b\b\b\b\b\b\b\b\b\b\b\b\b\b\b\b\b\b\b\b\b\b\b\b\b\b\b\b\b\b\b\b\b\b\b\b\b\b\b\b\b\b\b\r51/51 [==============================] - 0s 4ms/step - loss: 198101.0625 - mae: 93.8755 - val_loss: 765021.2500 - val_mae: 149.4960\n",
      "Epoch 71/100\n\r 1/51 [..............................] - ETA: 0s - loss: 5896.3530 - mae: 26.8336",
      "\b\b\b\b\b\b\b\b\b\b\b\b\b\b\b\b\b\b\b\b\b\b\b\b\b\b\b\b\b\b\b\b\b\b\b\b\b\b\b\b\b\b\b\b\b\b\b\b\b\b\b\b\b\b\b\b\b\b\b\b\b\b\b\b\b\b\b\b\b\b\b\b\b\b\b\b\b\b\b\b\b",
      "\r14/51 [=======>......................] - ETA: 0s - loss: 211924.5781 - mae: 85.3162",
      "\b\b\b\b\b\b\b\b\b\b\b\b\b\b\b\b\b\b\b\b\b\b\b\b\b\b\b\b\b\b\b\b\b\b\b\b\b\b\b\b\b\b\b\b\b\b\b\b\b\b\b\b\b\b\b\b\b\b\b\b\b\b\b\b\b\b\b\b\b\b\b\b\b\b\b\b\b\b\b\b\b\b\b\r24/51 [=============>................] - ETA: 0s - loss: 182916.5000 - mae: 92.6424",
      "\b\b\b\b\b\b\b\b\b\b\b\b\b\b\b\b\b\b\b\b\b\b\b\b\b\b\b\b\b\b\b\b\b\b\b\b\b\b\b\b\b\b\b\b\b\b\b\b\b\b\b\b\b\b\b\b\b\b\b\b\b\b\b\b\b\b\b\b\b\b\b\b\b\b\b\b\b\b\b\b\b\b\b\r39/51 [=====================>........] - ETA: 0s - loss: 200346.6094 - mae: 98.1387",
      "\b\b\b\b\b\b\b\b\b\b\b\b\b\b\b\b\b\b\b\b\b\b\b\b\b\b\b\b\b\b\b\b\b\b\b\b\b\b\b\b\b\b\b\b\b\b\b\b\b\b\b\b\b\b\b\b\b\b\b\b\b\b\b\b\b\b\b\b\b\b\b\b\b\b\b\b\b\b\b\b\b\b\b",
      "\r51/51 [==============================] - 0s 5ms/step - loss: 159885.9531 - mae: 89.4072 - val_loss: 732526.5625 - val_mae: 152.7585\n",
      "Epoch 72/100\n\r 1/51 [..............................] - ETA: 0s - loss: 5234.0942 - mae: 30.0278",
      "\b\b\b\b\b\b\b\b\b\b\b\b\b\b\b\b\b\b\b\b\b\b\b\b\b\b\b\b\b\b\b\b\b\b\b\b\b\b\b\b\b\b\b\b\b\b\b\b\b\b\b\b\b\b\b\b\b\b\b\b\b\b\b\b\b\b\b\b\b\b\b\b\b\b\b\b\b\b\b\b\b",
      "\r13/51 [======>.......................] - ETA: 0s - loss: 340974.3125 - mae: 119.3498",
      "\b\b\b\b\b\b\b\b\b\b\b\b\b\b\b\b\b\b\b\b\b\b\b\b\b\b\b\b\b\b\b\b\b\b\b\b\b\b\b\b\b\b\b\b\b\b\b\b\b\b\b\b\b\b\b\b\b\b\b\b\b\b\b\b\b\b\b\b\b\b\b\b\b\b\b\b\b\b\b\b\b\b\b\b",
      "\r26/51 [==============>...............] - ETA: 0s - loss: 202851.3281 - mae: 92.0615 ",
      "\b\b\b\b\b\b\b\b\b\b\b\b\b\b\b\b\b\b\b\b\b\b\b\b\b\b\b\b\b\b\b\b\b\b\b\b\b\b\b\b\b\b\b\b\b\b\b\b\b\b\b\b\b\b\b\b\b\b\b\b\b\b\b\b\b\b\b\b\b\b\b\b\b\b\b\b\b\b\b\b\b\b\b\r40/51 [======================>.......] - ETA: 0s - loss: 158405.7500 - mae: 86.4214",
      "\b\b\b\b\b\b\b\b\b\b\b\b\b\b\b\b\b\b\b\b\b\b\b\b\b\b\b\b\b\b\b\b\b\b\b\b\b\b\b\b\b\b\b\b\b\b\b\b\b\b\b\b\b\b\b\b\b\b\b\b\b\b\b\b\b\b\b\b\b\b\b\b\b\b\b\b\b\b\b\b\b\b\b\r49/51 [===========================>..] - ETA: 0s - loss: 183035.7969 - mae: 91.3930",
      "\b\b\b\b\b\b\b\b\b\b\b\b\b\b\b\b\b\b\b\b\b\b\b\b\b\b\b\b\b\b\b\b\b\b\b\b\b\b\b\b\b\b\b\b\b\b\b\b\b\b\b\b\b\b\b\b\b\b\b\b\b\b\b\b\b\b\b\b\b\b\b\b\b\b\b\b\b\b\b\b\b\b\b\r51/51 [==============================] - 0s 5ms/step - loss: 177870.0938 - mae: 91.2068 - val_loss: 706016.2500 - val_mae: 156.0111\n",
      "Epoch 73/100\n\r 1/51 [..............................] - ETA: 0s - loss: 101498.1016 - mae: 94.9136",
      "\b\b\b\b\b\b\b\b\b\b\b\b\b\b\b\b\b\b\b\b\b\b\b\b\b\b\b\b\b\b\b\b\b\b\b\b\b\b\b\b\b\b\b\b\b\b\b\b\b\b\b\b\b\b\b\b\b\b\b\b\b\b\b\b\b\b\b\b\b\b\b\b\b\b\b\b\b\b\b\b\b\b\b\r15/51 [=======>......................] - ETA: 0s - loss: 39283.0781 - mae: 70.6952 ",
      "\b\b\b\b\b\b\b\b\b\b\b\b\b\b\b\b\b\b\b\b\b\b\b\b\b\b\b\b\b\b\b\b\b\b\b\b\b\b\b\b\b\b\b\b\b\b\b\b\b\b\b\b\b\b\b\b\b\b\b\b\b\b\b\b\b\b\b\b\b\b\b\b\b\b\b\b\b\b\b\b\b\b\r30/51 [================>.............] - ETA: 0s - loss: 187107.8594 - mae: 90.1329",
      "\b\b\b\b\b\b\b\b\b\b\b\b\b\b\b\b\b\b\b\b\b\b\b\b\b\b\b\b\b\b\b\b\b\b\b\b\b\b\b\b\b\b\b\b\b\b\b\b\b\b\b\b\b\b\b\b\b\b\b\b\b\b\b\b\b\b\b\b\b\b\b\b\b\b\b\b\b\b\b\b\b\b\b\r44/51 [========================>.....] - ETA: 0s - loss: 165957.4062 - mae: 91.1703",
      "\b\b\b\b\b\b\b\b\b\b\b\b\b\b\b\b\b\b\b\b\b\b\b\b\b\b\b\b\b\b\b\b\b\b\b\b\b\b\b\b\b\b\b\b\b\b\b\b\b\b\b\b\b\b\b\b\b\b\b\b\b\b\b\b\b\b\b\b\b\b\b\b\b\b\b\b\b\b\b\b\b\b\b\r51/51 [==============================] - 0s 4ms/step - loss: 156008.0625 - mae: 89.5381 - val_loss: 744082.1250 - val_mae: 149.2481\n",
      "Epoch 74/100\n\r 1/51 [..............................] - ETA: 0s - loss: 7795.1616 - mae: 36.3614",
      "\b\b\b\b\b\b\b\b\b\b\b\b\b\b\b\b\b\b\b\b\b\b\b\b\b\b\b\b\b\b\b\b\b\b\b\b\b\b\b\b\b\b\b\b\b\b\b\b\b\b\b\b\b\b\b\b\b\b\b\b\b\b\b\b\b\b\b\b\b\b\b\b\b\b\b\b\b\b\b\b\b\r12/51 [======>.......................] - ETA: 0s - loss: 28669.0059 - mae: 57.9963",
      "\b\b\b\b\b\b\b\b\b\b\b\b\b\b\b\b\b\b\b\b\b\b\b\b\b\b\b\b\b\b\b\b\b\b\b\b\b\b\b\b\b\b\b\b\b\b\b\b\b\b\b\b\b\b\b\b\b\b\b\b\b\b\b\b\b\b\b\b\b\b\b\b\b\b\b\b\b\b\b\b\b\b",
      "\r27/51 [==============>...............] - ETA: 0s - loss: 197331.5938 - mae: 96.0358",
      "\b\b\b\b\b\b\b\b\b\b\b\b\b\b\b\b\b\b\b\b\b\b\b\b\b\b\b\b\b\b\b\b\b\b\b\b\b\b\b\b\b\b\b\b\b\b\b\b\b\b\b\b\b\b\b\b\b\b\b\b\b\b\b\b\b\b\b\b\b\b\b\b\b\b\b\b\b\b\b\b\b\b\b\r42/51 [=======================>......] - ETA: 0s - loss: 171537.6250 - mae: 94.0359",
      "\b\b\b\b\b\b\b\b\b\b\b\b\b\b\b\b\b\b\b\b\b\b\b\b\b\b\b\b\b\b\b\b\b\b\b\b\b\b\b\b\b\b\b\b\b\b\b\b\b\b\b\b\b\b\b\b\b\b\b\b\b\b\b\b\b\b\b\b\b\b\b\b\b\b\b\b\b\b\b\b\b\b\b",
      "\r51/51 [==============================] - 0s 5ms/step - loss: 147994.7969 - mae: 89.9530 - val_loss: 767464.0000 - val_mae: 157.4032\n",
      "Epoch 75/100\n\r 1/51 [..............................] - ETA: 0s - loss: 7399.3164 - mae: 35.7535",
      "\b\b\b\b\b\b\b\b\b\b\b\b\b\b\b\b\b\b\b\b\b\b\b\b\b\b\b\b\b\b\b\b\b\b\b\b\b\b\b\b\b\b\b\b\b\b\b\b\b\b\b\b\b\b\b\b\b\b\b\b\b\b\b\b\b\b\b\b\b\b\b\b\b\b\b\b\b\b\b\b\b",
      "\r14/51 [=======>......................] - ETA: 0s - loss: 51226.7500 - mae: 71.6127",
      "\b\b\b\b\b\b\b\b\b\b\b\b\b\b\b\b\b\b\b\b\b\b\b\b\b\b\b\b\b\b\b\b\b\b\b\b\b\b\b\b\b\b\b\b\b\b\b\b\b\b\b\b\b\b\b\b\b\b\b\b\b\b\b\b\b\b\b\b\b\b\b\b\b\b\b\b\b\b\b\b\b\b",
      "\r27/51 [==============>...............] - ETA: 0s - loss: 50626.7227 - mae: 75.4155",
      "\b\b\b\b\b\b\b\b\b\b\b\b\b\b\b\b\b\b\b\b\b\b\b\b\b\b\b\b\b\b\b\b\b\b\b\b\b\b\b\b\b\b\b\b\b\b\b\b\b\b\b\b\b\b\b\b\b\b\b\b\b\b\b\b\b\b\b\b\b\b\b\b\b\b\b\b\b\b\b\b\b\b\r38/51 [=====================>........] - ETA: 0s - loss: 127707.8516 - mae: 83.4660",
      "\b\b\b\b\b\b\b\b\b\b\b\b\b\b\b\b\b\b\b\b\b\b\b\b\b\b\b\b\b\b\b\b\b\b\b\b\b\b\b\b\b\b\b\b\b\b\b\b\b\b\b\b\b\b\b\b\b\b\b\b\b\b\b\b\b\b\b\b\b\b\b\b\b\b\b\b\b\b\b\b\b\b\b\r50/51 [============================>.] - ETA: 0s - loss: 159418.6875 - mae: 89.5872",
      "\b\b\b\b\b\b\b\b\b\b\b\b\b\b\b\b\b\b\b\b\b\b\b\b\b\b\b\b\b\b\b\b\b\b\b\b\b\b\b\b\b\b\b\b\b\b\b\b\b\b\b\b\b\b\b\b\b\b\b\b\b\b\b\b\b\b\b\b\b\b\b\b\b\b\b\b\b\b\b\b\b\b\b\r51/51 [==============================] - 0s 5ms/step - loss: 156310.1406 - mae: 88.7247 - val_loss: 726425.7500 - val_mae: 148.6399\n",
      "Epoch 76/100\n\r 1/51 [..............................] - ETA: 0s - loss: 16730.1016 - mae: 43.6762",
      "\b\b\b\b\b\b\b\b\b\b\b\b\b\b\b\b\b\b\b\b\b\b\b\b\b\b\b\b\b\b\b\b\b\b\b\b\b\b\b\b\b\b\b\b\b\b\b\b\b\b\b\b\b\b\b\b\b\b\b\b\b\b\b\b\b\b\b\b\b\b\b\b\b\b\b\b\b\b\b\b\b\b\r16/51 [========>.....................] - ETA: 0s - loss: 33601.0469 - mae: 61.9329",
      "\b\b\b\b\b\b\b\b\b\b\b\b\b\b\b\b\b\b\b\b\b\b\b\b\b\b\b\b\b\b\b\b\b\b\b\b\b\b\b\b\b\b\b\b\b\b\b\b\b\b\b\b\b\b\b\b\b\b\b\b\b\b\b\b\b\b\b\b\b\b\b\b\b\b\b\b\b\b\b\b\b\b\r32/51 [=================>............] - ETA: 0s - loss: 110458.7422 - mae: 71.8544",
      "\b\b\b\b\b\b\b\b\b\b\b\b\b\b\b\b\b\b\b\b\b\b\b\b\b\b\b\b\b\b\b\b\b\b\b\b\b\b\b\b\b\b\b\b\b\b\b\b\b\b\b\b\b\b\b\b\b\b\b\b\b\b\b\b\b\b\b\b\b\b\b\b\b\b\b\b\b\b\b\b\b\b\b\r47/51 [==========================>...] - ETA: 0s - loss: 172996.7031 - mae: 90.5024",
      "\b\b\b\b\b\b\b\b\b\b\b\b\b\b\b\b\b\b\b\b\b\b\b\b\b\b\b\b\b\b\b\b\b\b\b\b\b\b\b\b\b\b\b\b\b\b\b\b\b\b\b\b\b\b\b\b\b\b\b\b\b\b\b\b\b\b\b\b\b\b\b\b\b\b\b\b\b\b\b\b\b\b\b",
      "\r51/51 [==============================] - 0s 5ms/step - loss: 161727.4688 - mae: 89.1142 - val_loss: 687492.7500 - val_mae: 147.4950\n",
      "Epoch 77/100\n\r 1/51 [..............................] - ETA: 0s - loss: 19787.7773 - mae: 55.3947",
      "\b\b\b\b\b\b\b\b\b\b\b\b\b\b\b\b\b\b\b\b\b\b\b\b\b\b\b\b\b\b\b\b\b\b\b\b\b\b\b\b\b\b\b\b\b\b\b\b\b\b\b\b\b\b\b\b\b\b\b\b\b\b\b\b\b\b\b\b\b\b\b\b\b\b\b\b\b\b\b\b\b\b",
      "\r15/51 [=======>......................] - ETA: 0s - loss: 111525.1719 - mae: 79.5278",
      "\b\b\b\b\b\b\b\b\b\b\b\b\b\b\b\b\b\b\b\b\b\b\b\b\b\b\b\b\b\b\b\b\b\b\b\b\b\b\b\b\b\b\b\b\b\b\b\b\b\b\b\b\b\b\b\b\b\b\b\b\b\b\b\b\b\b\b\b\b\b\b\b\b\b\b\b\b\b\b\b\b\b\b",
      "\r31/51 [=================>............] - ETA: 0s - loss: 136557.8438 - mae: 80.3254",
      "\b\b\b\b\b\b\b\b\b\b\b\b\b\b\b\b\b\b\b\b\b\b\b\b\b\b\b\b\b\b\b\b\b\b\b\b\b\b\b\b\b\b\b\b\b\b\b\b\b\b\b\b\b\b\b\b\b\b\b\b\b\b\b\b\b\b\b\b\b\b\b\b\b\b\b\b\b\b\b\b\b\b\b\r46/51 [==========================>...] - ETA: 0s - loss: 161635.5781 - mae: 90.4165",
      "\b\b\b\b\b\b\b\b\b\b\b\b\b\b\b\b\b\b\b\b\b\b\b\b\b\b\b\b\b\b\b\b\b\b\b\b\b\b\b\b\b\b\b\b\b\b\b\b\b\b\b\b\b\b\b\b\b\b\b\b\b\b\b\b\b\b\b\b\b\b\b\b\b\b\b\b\b\b\b\b\b\b\b\r51/51 [==============================] - 0s 4ms/step - loss: 150609.2812 - mae: 88.1315 - val_loss: 678301.6875 - val_mae: 147.9980\n",
      "Epoch 78/100\n\r 1/51 [..............................] - ETA: 0s - loss: 1241.5554 - mae: 20.5650",
      "\b\b\b\b\b\b\b\b\b\b\b\b\b\b\b\b\b\b\b\b\b\b\b\b\b\b\b\b\b\b\b\b\b\b\b\b\b\b\b\b\b\b\b\b\b\b\b\b\b\b\b\b\b\b\b\b\b\b\b\b\b\b\b\b\b\b\b\b\b\b\b\b\b\b\b\b\b\b\b\b\b\r15/51 [=======>......................] - ETA: 0s - loss: 179019.2031 - mae: 88.6442",
      "\b\b\b\b\b\b\b\b\b\b\b\b\b\b\b\b\b\b\b\b\b\b\b\b\b\b\b\b\b\b\b\b\b\b\b\b\b\b\b\b\b\b\b\b\b\b\b\b\b\b\b\b\b\b\b\b\b\b\b\b\b\b\b\b\b\b\b\b\b\b\b\b\b\b\b\b\b\b\b\b\b\b\b\r27/51 [==============>...............] - ETA: 0s - loss: 114399.9375 - mae: 79.0760",
      "\b\b\b\b\b\b\b\b\b\b\b\b\b\b\b\b\b\b\b\b\b\b\b\b\b\b\b\b\b\b\b\b\b\b\b\b\b\b\b\b\b\b\b\b\b\b\b\b\b\b\b\b\b\b\b\b\b\b\b\b\b\b\b\b\b\b\b\b\b\b\b\b\b\b\b\b\b\b\b\b\b\b\b\r41/51 [=======================>......] - ETA: 0s - loss: 105098.4375 - mae: 82.6095",
      "\b\b\b\b\b\b\b\b\b\b\b\b\b\b\b\b\b\b\b\b\b\b\b\b\b\b\b\b\b\b\b\b\b\b\b\b\b\b\b\b\b\b\b\b\b\b\b\b\b\b\b\b\b\b\b\b\b\b\b\b\b\b\b\b\b\b\b\b\b\b\b\b\b\b\b\b\b\b\b\b\b\b\b\r51/51 [==============================] - 0s 5ms/step - loss: 142618.7031 - mae: 88.8272 - val_loss: 642365.4375 - val_mae: 150.4855\n",
      "Epoch 79/100\n\r 1/51 [..............................] - ETA: 0s - loss: 84074.1562 - mae: 89.0626",
      "\b\b\b\b\b\b\b\b\b\b\b\b\b\b\b\b\b\b\b\b\b\b\b\b\b\b\b\b\b\b\b\b\b\b\b\b\b\b\b\b\b\b\b\b\b\b\b\b\b\b\b\b\b\b\b\b\b\b\b\b\b\b\b\b\b\b\b\b\b\b\b\b\b\b\b\b\b\b\b\b\b\b",
      "\r15/51 [=======>......................] - ETA: 0s - loss: 154322.0938 - mae: 88.0215",
      "\b\b\b\b\b\b\b\b\b\b\b\b\b\b\b\b\b\b\b\b\b\b\b\b\b\b\b\b\b\b\b\b\b\b\b\b\b\b\b\b\b\b\b\b\b\b\b\b\b\b\b\b\b\b\b\b\b\b\b\b\b\b\b\b\b\b\b\b\b\b\b\b\b\b\b\b\b\b\b\b\b\b\b",
      "\r29/51 [================>.............] - ETA: 0s - loss: 178913.9688 - mae: 97.2211",
      "\b\b\b\b\b\b\b\b\b\b\b\b\b\b\b\b\b\b\b\b\b\b\b\b\b\b\b\b\b\b\b\b\b\b\b\b\b\b\b\b\b\b\b\b\b\b\b\b\b\b\b\b\b\b\b\b\b\b\b\b\b\b\b\b\b\b\b\b\b\b\b\b\b\b\b\b\b\b\b\b\b\b\b\r44/51 [========================>.....] - ETA: 0s - loss: 147939.5625 - mae: 87.7057",
      "\b\b\b\b\b\b\b\b\b\b\b\b\b\b\b\b\b\b\b\b\b\b\b\b\b\b\b\b\b\b\b\b\b\b\b\b\b\b\b\b\b\b\b\b\b\b\b\b\b\b\b\b\b\b\b\b\b\b\b\b\b\b\b\b\b\b\b\b\b\b\b\b\b\b\b\b\b\b\b\b\b\b\b",
      "\r51/51 [==============================] - 0s 5ms/step - loss: 148730.7500 - mae: 88.6434 - val_loss: 677123.6250 - val_mae: 146.5723\n",
      "Epoch 80/100\n\r 1/51 [..............................] - ETA: 0s - loss: 2078.0645 - mae: 25.0983",
      "\b\b\b\b\b\b\b\b\b\b\b\b\b\b\b\b\b\b\b\b\b\b\b\b\b\b\b\b\b\b\b\b\b\b\b\b\b\b\b\b\b\b\b\b\b\b\b\b\b\b\b\b\b\b\b\b\b\b\b\b\b\b\b\b\b\b\b\b\b\b\b\b\b\b\b\b\b\b\b\b\b\r16/51 [========>.....................] - ETA: 0s - loss: 349630.5938 - mae: 132.6384",
      "\b\b\b\b\b\b\b\b\b\b\b\b\b\b\b\b\b\b\b\b\b\b\b\b\b\b\b\b\b\b\b\b\b\b\b\b\b\b\b\b\b\b\b\b\b\b\b\b\b\b\b\b\b\b\b\b\b\b\b\b\b\b\b\b\b\b\b\b\b\b\b\b\b\b\b\b\b\b\b\b\b\b\b\b\r30/51 [================>.............] - ETA: 0s - loss: 210217.6406 - mae: 102.2956",
      "\b\b\b\b\b\b\b\b\b\b\b\b\b\b\b\b\b\b\b\b\b\b\b\b\b\b\b\b\b\b\b\b\b\b\b\b\b\b\b\b\b\b\b\b\b\b\b\b\b\b\b\b\b\b\b\b\b\b\b\b\b\b\b\b\b\b\b\b\b\b\b\b\b\b\b\b\b\b\b\b\b\b\b\b\r43/51 [========================>.....] - ETA: 0s - loss: 154359.3750 - mae: 88.7911 ",
      "\b\b\b\b\b\b\b\b\b\b\b\b\b\b\b\b\b\b\b\b\b\b\b\b\b\b\b\b\b\b\b\b\b\b\b\b\b\b\b\b\b\b\b\b\b\b\b\b\b\b\b\b\b\b\b\b\b\b\b\b\b\b\b\b\b\b\b\b\b\b\b\b\b\b\b\b\b\b\b\b\b\b\b\r51/51 [==============================] - 0s 4ms/step - loss: 141000.0469 - mae: 86.8492 - val_loss: 629840.4375 - val_mae: 148.1536\n",
      "Epoch 81/100\n",
      "\r 1/51 [..............................] - ETA: 0s - loss: 20301.8887 - mae: 60.3472",
      "\b\b\b\b\b\b\b\b\b\b\b\b\b\b\b\b\b\b\b\b\b\b\b\b\b\b\b\b\b\b\b\b\b\b\b\b\b\b\b\b\b\b\b\b\b\b\b\b\b\b\b\b\b\b\b\b\b\b\b\b\b\b\b\b\b\b\b\b\b\b\b\b\b\b\b\b\b\b\b\b\b\b\r15/51 [=======>......................] - ETA: 0s - loss: 141121.7344 - mae: 84.5747",
      "\b\b\b\b\b\b\b\b\b\b\b\b\b\b\b\b\b\b\b\b\b\b\b\b\b\b\b\b\b\b\b\b\b\b\b\b\b\b\b\b\b\b\b\b\b\b\b\b\b\b\b\b\b\b\b\b\b\b\b\b\b\b\b\b\b\b\b\b\b\b\b\b\b\b\b\b\b\b\b\b\b\b\b\r",
      "24/51 [=============>................] - ETA: 0s - loss: 103834.8984 - mae: 81.7474",
      "\b\b\b\b\b\b\b\b\b\b\b\b\b\b\b\b\b\b\b\b\b\b\b\b\b\b\b\b\b\b\b\b\b\b\b\b\b\b\b\b\b\b\b\b\b\b\b\b\b\b\b\b\b\b\b\b\b\b\b\b\b\b\b\b\b\b\b\b\b\b\b\b\b\b\b\b\b\b\b\b\b\b\b\r38/51 [=====================>........] - ETA: 0s - loss: 132252.1875 - mae: 81.2606",
      "\b\b\b\b\b\b\b\b\b\b\b\b\b\b\b\b\b\b\b\b\b\b\b\b\b\b\b\b\b\b\b\b\b\b\b\b\b\b\b\b\b\b\b\b\b\b\b\b\b\b\b\b\b\b\b\b\b\b\b\b\b\b\b\b\b\b\b\b\b\b\b\b\b\b\b\b\b\b\b\b\b\b\b",
      "\r51/51 [==============================] - 0s 5ms/step - loss: 132009.8750 - mae: 85.0479 - val_loss: 644761.0000 - val_mae: 141.7937\n",
      "Epoch 82/100\n\r 1/51 [..............................] - ETA: 0s - loss: 21966.6953 - mae: 57.9327",
      "\b\b\b\b\b\b\b\b\b\b\b\b\b\b\b\b\b\b\b\b\b\b\b\b\b\b\b\b\b\b\b\b\b\b\b\b\b\b\b\b\b\b\b\b\b\b\b\b\b\b\b\b\b\b\b\b\b\b\b\b\b\b\b\b\b\b\b\b\b\b\b\b\b\b\b\b\b\b\b\b\b\b\r14/51 [=======>......................] - ETA: 0s - loss: 175615.8750 - mae: 94.4916",
      "\b\b\b\b\b\b\b\b\b\b\b\b\b\b\b\b\b\b\b\b\b\b\b\b\b\b\b\b\b\b\b\b\b\b\b\b\b\b\b\b\b\b\b\b\b\b\b\b\b\b\b\b\b\b\b\b\b\b\b\b\b\b\b\b\b\b\b\b\b\b\b\b\b\b\b\b\b\b\b\b\b\b\b",
      "\r22/51 [===========>..................] - ETA: 0s - loss: 121176.9531 - mae: 82.8172",
      "\b\b\b\b\b\b\b\b\b\b\b\b\b\b\b\b\b\b\b\b\b\b\b\b\b\b\b\b\b\b\b\b\b\b\b\b\b\b\b\b\b\b\b\b\b\b\b\b\b\b\b\b\b\b\b\b\b\b\b\b\b\b\b\b\b\b\b\b\b\b\b\b\b\b\b\b\b\b\b\b\b\b\b\r34/51 [===================>..........] - ETA: 0s - loss: 170769.3281 - mae: 90.4936",
      "\b\b\b\b\b\b\b\b\b\b\b\b\b\b\b\b\b\b\b\b\b\b\b\b\b\b\b\b\b\b\b\b\b\b\b\b\b\b\b\b\b\b\b\b\b\b\b\b\b\b\b\b\b\b\b\b\b\b\b\b\b\b\b\b\b\b\b\b\b\b\b\b\b\b\b\b\b\b\b\b\b\b\b\r47/51 [==========================>...] - ETA: 0s - loss: 142558.9688 - mae: 89.3118",
      "\b\b\b\b\b\b\b\b\b\b\b\b\b\b\b\b\b\b\b\b\b\b\b\b\b\b\b\b\b\b\b\b\b\b\b\b\b\b\b\b\b\b\b\b\b\b\b\b\b\b\b\b\b\b\b\b\b\b\b\b\b\b\b\b\b\b\b\b\b\b\b\b\b\b\b\b\b\b\b\b\b\b\b\r51/51 [==============================] - 0s 7ms/step - loss: 133811.4062 - mae: 87.6690 - val_loss: 602215.0625 - val_mae: 140.0468\n",
      "Epoch 83/100\n\r 1/51 [..............................] - ETA: 0s - loss: 5574.7764 - mae: 40.1156",
      "\b\b\b\b\b\b\b\b\b\b\b\b\b\b\b\b\b\b\b\b\b\b\b\b\b\b\b\b\b\b\b\b\b\b\b\b\b\b\b\b\b\b\b\b\b\b\b\b\b\b\b\b\b\b\b\b\b\b\b\b\b\b\b\b\b\b\b\b\b\b\b\b\b\b\b\b\b\b\b\b\b\r10/51 [====>.........................] - ETA: 0s - loss: 151169.8906 - mae: 96.3622",
      "\b\b\b\b\b\b\b\b\b\b\b\b\b\b\b\b\b\b\b\b\b\b\b\b\b\b\b\b\b\b\b\b\b\b\b\b\b\b\b\b\b\b\b\b\b\b\b\b\b\b\b\b\b\b\b\b\b\b\b\b\b\b\b\b\b\b\b\b\b\b\b\b\b\b\b\b\b\b\b\b\b\b\b\r21/51 [===========>..................] - ETA: 0s - loss: 199171.1719 - mae: 99.4633",
      "\b\b\b\b\b\b\b\b\b\b\b\b\b\b\b\b\b\b\b\b\b\b\b\b\b\b\b\b\b\b\b\b\b\b\b\b\b\b\b\b\b\b\b\b\b\b\b\b\b\b\b\b\b\b\b\b\b\b\b\b\b\b\b\b\b\b\b\b\b\b\b\b\b\b\b\b\b\b\b\b\b\b\b\r35/51 [===================>..........] - ETA: 0s - loss: 175293.3594 - mae: 93.7552",
      "\b\b\b\b\b\b\b\b\b\b\b\b\b\b\b\b\b\b\b\b\b\b\b\b\b\b\b\b\b\b\b\b\b\b\b\b\b\b\b\b\b\b\b\b\b\b\b\b\b\b\b\b\b\b\b\b\b\b\b\b\b\b\b\b\b\b\b\b\b\b\b\b\b\b\b\b\b\b\b\b\b\b\b\r48/51 [===========================>..] - ETA: 0s - loss: 144135.3594 - mae: 88.3627",
      "\b\b\b\b\b\b\b\b\b\b\b\b\b\b\b\b\b\b\b\b\b\b\b\b\b\b\b\b\b\b\b\b\b\b\b\b\b\b\b\b\b\b\b\b\b\b\b\b\b\b\b\b\b\b\b\b\b\b\b\b\b\b\b\b\b\b\b\b\b\b\b\b\b\b\b\b\b\b\b\b\b\b\b\r51/51 [==============================] - 0s 5ms/step - loss: 139029.7031 - mae: 88.7324 - val_loss: 616423.3125 - val_mae: 142.8363\n",
      "Epoch 84/100\n\r 1/51 [..............................] - ETA: 0s - loss: 32042.5156 - mae: 80.2279",
      "\b\b\b\b\b\b\b\b\b\b\b\b\b\b\b\b\b\b\b\b\b\b\b\b\b\b\b\b\b\b\b\b\b\b\b\b\b\b\b\b\b\b\b\b\b\b\b\b\b\b\b\b\b\b\b\b\b\b\b\b\b\b\b\b\b\b\b\b\b\b\b\b\b\b\b\b\b\b\b\b\b\b\r15/51 [=======>......................] - ETA: 0s - loss: 118220.0547 - mae: 90.1771",
      "\b\b\b\b\b\b\b\b\b\b\b\b\b\b\b\b\b\b\b\b\b\b\b\b\b\b\b\b\b\b\b\b\b\b\b\b\b\b\b\b\b\b\b\b\b\b\b\b\b\b\b\b\b\b\b\b\b\b\b\b\b\b\b\b\b\b\b\b\b\b\b\b\b\b\b\b\b\b\b\b\b\b\b\r27/51 [==============>...............] - ETA: 0s - loss: 105361.5938 - mae: 88.0533",
      "\b\b\b\b\b\b\b\b\b\b\b\b\b\b\b\b\b\b\b\b\b\b\b\b\b\b\b\b\b\b\b\b\b\b\b\b\b\b\b\b\b\b\b\b\b\b\b\b\b\b\b\b\b\b\b\b\b\b\b\b\b\b\b\b\b\b\b\b\b\b\b\b\b\b\b\b\b\b\b\b\b\b\b\r39/51 [=====================>........] - ETA: 0s - loss: 96790.9609 - mae: 81.3364 ",
      "\b\b\b\b\b\b\b\b\b\b\b\b\b\b\b\b\b\b\b\b\b\b\b\b\b\b\b\b\b\b\b\b\b\b\b\b\b\b\b\b\b\b\b\b\b\b\b\b\b\b\b\b\b\b\b\b\b\b\b\b\b\b\b\b\b\b\b\b\b\b\b\b\b\b\b\b\b\b\b\b\b\b\r50/51 [============================>.] - ETA: 0s - loss: 160273.7188 - mae: 91.3465",
      "\b\b\b\b\b\b\b\b\b\b\b\b\b\b\b\b\b\b\b\b\b\b\b\b\b\b\b\b\b\b\b\b\b\b\b\b\b\b\b\b\b\b\b\b\b\b\b\b\b\b\b\b\b\b\b\b\b\b\b\b\b\b\b\b\b\b\b\b\b\b\b\b\b\b\b\b\b\b\b\b\b\b\b\r51/51 [==============================] - 0s 5ms/step - loss: 157216.2031 - mae: 90.6282 - val_loss: 577325.6875 - val_mae: 142.6009\n",
      "Epoch 85/100\n\r 1/51 [..............................] - ETA: 0s - loss: 3939.8464 - mae: 27.2768",
      "\b\b\b\b\b\b\b\b\b\b\b\b\b\b\b\b\b\b\b\b\b\b\b\b\b\b\b\b\b\b\b\b\b\b\b\b\b\b\b\b\b\b\b\b\b\b\b\b\b\b\b\b\b\b\b\b\b\b\b\b\b\b\b\b\b\b\b\b\b\b\b\b\b\b\b\b\b\b\b\b\b\r15/51 [=======>......................] - ETA: 0s - loss: 39829.9922 - mae: 73.4104",
      "\b\b\b\b\b\b\b\b\b\b\b\b\b\b\b\b\b\b\b\b\b\b\b\b\b\b\b\b\b\b\b\b\b\b\b\b\b\b\b\b\b\b\b\b\b\b\b\b\b\b\b\b\b\b\b\b\b\b\b\b\b\b\b\b\b\b\b\b\b\b\b\b\b\b\b\b\b\b\b\b\b\b\r25/51 [=============>................] - ETA: 0s - loss: 67193.7891 - mae: 76.8188",
      "\b\b\b\b\b\b\b\b\b\b\b\b\b\b\b\b\b\b\b\b\b\b\b\b\b\b\b\b\b\b\b\b\b\b\b\b\b\b\b\b\b\b\b\b\b\b\b\b\b\b\b\b\b\b\b\b\b\b\b\b\b\b\b\b\b\b\b\b\b\b\b\b\b\b\b\b\b\b\b\b\b\b\r40/51 [======================>.......] - ETA: 0s - loss: 95277.3906 - mae: 78.0921",
      "\b\b\b\b\b\b\b\b\b\b\b\b\b\b\b\b\b\b\b\b\b\b\b\b\b\b\b\b\b\b\b\b\b\b\b\b\b\b\b\b\b\b\b\b\b\b\b\b\b\b\b\b\b\b\b\b\b\b\b\b\b\b\b\b\b\b\b\b\b\b\b\b\b\b\b\b\b\b\b\b\b\b",
      "\r51/51 [==============================] - 0s 5ms/step - loss: 105242.1797 - mae: 79.8912 - val_loss: 512175.3125 - val_mae: 143.7232\n",
      "Epoch 86/100\n\r 1/51 [..............................] - ETA: 0s - loss: 40504.0938 - mae: 86.6570",
      "\b\b\b\b\b\b\b\b\b\b\b\b\b\b\b\b\b\b\b\b\b\b\b\b\b\b\b\b\b\b\b\b\b\b\b\b\b\b\b\b\b\b\b\b\b\b\b\b\b\b\b\b\b\b\b\b\b\b\b\b\b\b\b\b\b\b\b\b\b\b\b\b\b\b\b\b\b\b\b\b\b\b\r15/51 [=======>......................] - ETA: 0s - loss: 66821.1250 - mae: 71.1771",
      "\b\b\b\b\b\b\b\b\b\b\b\b\b\b\b\b\b\b\b\b\b\b\b\b\b\b\b\b\b\b\b\b\b\b\b\b\b\b\b\b\b\b\b\b\b\b\b\b\b\b\b\b\b\b\b\b\b\b\b\b\b\b\b\b\b\b\b\b\b\b\b\b\b\b\b\b\b\b\b\b\b\b\r30/51 [================>.............] - ETA: 0s - loss: 141808.2188 - mae: 88.8962",
      "\b\b\b\b\b\b\b\b\b\b\b\b\b\b\b\b\b\b\b\b\b\b\b\b\b\b\b\b\b\b\b\b\b\b\b\b\b\b\b\b\b\b\b\b\b\b\b\b\b\b\b\b\b\b\b\b\b\b\b\b\b\b\b\b\b\b\b\b\b\b\b\b\b\b\b\b\b\b\b\b\b\b\b\r45/51 [=========================>....] - ETA: 0s - loss: 130524.4141 - mae: 87.7294",
      "\b\b\b\b\b\b\b\b\b\b\b\b\b\b\b\b\b\b\b\b\b\b\b\b\b\b\b\b\b\b\b\b\b\b\b\b\b\b\b\b\b\b\b\b\b\b\b\b\b\b\b\b\b\b\b\b\b\b\b\b\b\b\b\b\b\b\b\b\b\b\b\b\b\b\b\b\b\b\b\b\b\b\b\r51/51 [==============================] - 0s 4ms/step - loss: 122688.9922 - mae: 85.9805 - val_loss: 477531.3438 - val_mae: 138.9897\n",
      "Epoch 87/100\n\r 1/51 [..............................] - ETA: 0s - loss: 21758.6328 - mae: 80.4544",
      "\b\b\b\b\b\b\b\b\b\b\b\b\b\b\b\b\b\b\b\b\b\b\b\b\b\b\b\b\b\b\b\b\b\b\b\b\b\b\b\b\b\b\b\b\b\b\b\b\b\b\b\b\b\b\b\b\b\b\b\b\b\b\b\b\b\b\b\b\b\b\b\b\b\b\b\b\b\b\b\b\b\b\r15/51 [=======>......................] - ETA: 0s - loss: 68836.1094 - mae: 80.1806",
      "\b\b\b\b\b\b\b\b\b\b\b\b\b\b\b\b\b\b\b\b\b\b\b\b\b\b\b\b\b\b\b\b\b\b\b\b\b\b\b\b\b\b\b\b\b\b\b\b\b\b\b\b\b\b\b\b\b\b\b\b\b\b\b\b\b\b\b\b\b\b\b\b\b\b\b\b\b\b\b\b\b\b\r27/51 [==============>...............] - ETA: 0s - loss: 97742.6016 - mae: 80.8387",
      "\b\b\b\b\b\b\b\b\b\b\b\b\b\b\b\b\b\b\b\b\b\b\b\b\b\b\b\b\b\b\b\b\b\b\b\b\b\b\b\b\b\b\b\b\b\b\b\b\b\b\b\b\b\b\b\b\b\b\b\b\b\b\b\b\b\b\b\b\b\b\b\b\b\b\b\b\b\b\b\b\b\b\r42/51 [=======================>......] - ETA: 0s - loss: 151185.3281 - mae: 94.3125",
      "\b\b\b\b\b\b\b\b\b\b\b\b\b\b\b\b\b\b\b\b\b\b\b\b\b\b\b\b\b\b\b\b\b\b\b\b\b\b\b\b\b\b\b\b\b\b\b\b\b\b\b\b\b\b\b\b\b\b\b\b\b\b\b\b\b\b\b\b\b\b\b\b\b\b\b\b\b\b\b\b\b\b\b\r51/51 [==============================] - 0s 5ms/step - loss: 131225.5156 - mae: 89.1213 - val_loss: 506938.4688 - val_mae: 139.2372\n",
      "Epoch 88/100\n\r 1/51 [..............................] - ETA: 0s - loss: 46005.9219 - mae: 74.7019",
      "\b\b\b\b\b\b\b\b\b\b\b\b\b\b\b\b\b\b\b\b\b\b\b\b\b\b\b\b\b\b\b\b\b\b\b\b\b\b\b\b\b\b\b\b\b\b\b\b\b\b\b\b\b\b\b\b\b\b\b\b\b\b\b\b\b\b\b\b\b\b\b\b\b\b\b\b\b\b\b\b\b\b\r13/51 [======>.......................] - ETA: 0s - loss: 168275.2656 - mae: 92.9585",
      "\b\b\b\b\b\b\b\b\b\b\b\b\b\b\b\b\b\b\b\b\b\b\b\b\b\b\b\b\b\b\b\b\b\b\b\b\b\b\b\b\b\b\b\b\b\b\b\b\b\b\b\b\b\b\b\b\b\b\b\b\b\b\b\b\b\b\b\b\b\b\b\b\b\b\b\b\b\b\b\b\b\b\b\r28/51 [===============>..............] - ETA: 0s - loss: 139244.4219 - mae: 94.0704",
      "\b\b\b\b\b\b\b\b\b\b\b\b\b\b\b\b\b\b\b\b\b\b\b\b\b\b\b\b\b\b\b\b\b\b\b\b\b\b\b\b\b\b\b\b\b\b\b\b\b\b\b\b\b\b\b\b\b\b\b\b\b\b\b\b\b\b\b\b\b\b\b\b\b\b\b\b\b\b\b\b\b\b\b\r41/51 [=======================>......] - ETA: 0s - loss: 101277.1797 - mae: 80.8737",
      "\b\b\b\b\b\b\b\b\b\b\b\b\b\b\b\b\b\b\b\b\b\b\b\b\b\b\b\b\b\b\b\b\b\b\b\b\b\b\b\b\b\b\b\b\b\b\b\b\b\b\b\b\b\b\b\b\b\b\b\b\b\b\b\b\b\b\b\b\b\b\b\b\b\b\b\b\b\b\b\b\b\b\b\r51/51 [==============================] - 0s 5ms/step - loss: 106886.4688 - mae: 81.4633 - val_loss: 507526.4375 - val_mae: 145.0224\n",
      "Epoch 89/100\n\r 1/51 [..............................] - ETA: 0s - loss: 19280.1602 - mae: 64.0991",
      "\b\b\b\b\b\b\b\b\b\b\b\b\b\b\b\b\b\b\b\b\b\b\b\b\b\b\b\b\b\b\b\b\b\b\b\b\b\b\b\b\b\b\b\b\b\b\b\b\b\b\b\b\b\b\b\b\b\b\b\b\b\b\b\b\b\b\b\b\b\b\b\b\b\b\b\b\b\b\b\b\b\b\r13/51 [======>.......................] - ETA: 0s - loss: 145770.6562 - mae: 97.9162",
      "\b\b\b\b\b\b\b\b\b\b\b\b\b\b\b\b\b\b\b\b\b\b\b\b\b\b\b\b\b\b\b\b\b\b\b\b\b\b\b\b\b\b\b\b\b\b\b\b\b\b\b\b\b\b\b\b\b\b\b\b\b\b\b\b\b\b\b\b\b\b\b\b\b\b\b\b\b\b\b\b\b\b\b\r27/51 [==============>...............] - ETA: 0s - loss: 100259.9531 - mae: 78.6331",
      "\b\b\b\b\b\b\b\b\b\b\b\b\b\b\b\b\b\b\b\b\b\b\b\b\b\b\b\b\b\b\b\b\b\b\b\b\b\b\b\b\b\b\b\b\b\b\b\b\b\b\b\b\b\b\b\b\b\b\b\b\b\b\b\b\b\b\b\b\b\b\b\b\b\b\b\b\b\b\b\b\b\b\b\r43/51 [========================>.....] - ETA: 0s - loss: 122516.5781 - mae: 89.2640",
      "\b\b\b\b\b\b\b\b\b\b\b\b\b\b\b\b\b\b\b\b\b\b\b\b\b\b\b\b\b\b\b\b\b\b\b\b\b\b\b\b\b\b\b\b\b\b\b\b\b\b\b\b\b\b\b\b\b\b\b\b\b\b\b\b\b\b\b\b\b\b\b\b\b\b\b\b\b\b\b\b\b\b\b",
      "\r51/51 [==============================] - 0s 5ms/step - loss: 109819.4688 - mae: 85.8862 - val_loss: 485623.6875 - val_mae: 131.4328\n",
      "Epoch 90/100\n\r 1/51 [..............................] - ETA: 0s - loss: 59518.1406 - mae: 84.2665",
      "\b\b\b\b\b\b\b\b\b\b\b\b\b\b\b\b\b\b\b\b\b\b\b\b\b\b\b\b\b\b\b\b\b\b\b\b\b\b\b\b\b\b\b\b\b\b\b\b\b\b\b\b\b\b\b\b\b\b\b\b\b\b\b\b\b\b\b\b\b\b\b\b\b\b\b\b\b\b\b\b\b\b",
      "\r14/51 [=======>......................] - ETA: 0s - loss: 66902.6406 - mae: 73.3981",
      "\b\b\b\b\b\b\b\b\b\b\b\b\b\b\b\b\b\b\b\b\b\b\b\b\b\b\b\b\b\b\b\b\b\b\b\b\b\b\b\b\b\b\b\b\b\b\b\b\b\b\b\b\b\b\b\b\b\b\b\b\b\b\b\b\b\b\b\b\b\b\b\b\b\b\b\b\b\b\b\b\b\b",
      "\r24/51 [=============>................] - ETA: 0s - loss: 94358.5312 - mae: 82.1437",
      "\b\b\b\b\b\b\b\b\b\b\b\b\b\b\b\b\b\b\b\b\b\b\b\b\b\b\b\b\b\b\b\b\b\b\b\b\b\b\b\b\b\b\b\b\b\b\b\b\b\b\b\b\b\b\b\b\b\b\b\b\b\b\b\b\b\b\b\b\b\b\b\b\b\b\b\b\b\b\b\b\b\b\r38/51 [=====================>........] - ETA: 0s - loss: 91662.9219 - mae: 86.2572",
      "\b\b\b\b\b\b\b\b\b\b\b\b\b\b\b\b\b\b\b\b\b\b\b\b\b\b\b\b\b\b\b\b\b\b\b\b\b\b\b\b\b\b\b\b\b\b\b\b\b\b\b\b\b\b\b\b\b\b\b\b\b\b\b\b\b\b\b\b\b\b\b\b\b\b\b\b\b\b\b\b\b\b",
      "\r51/51 [==============================] - 0s 5ms/step - loss: 88375.9141 - mae: 83.9292 - val_loss: 630901.7500 - val_mae: 152.6846\n",
      "Epoch 91/100\n\r 1/51 [..............................] - ETA: 0s - loss: 15427.2705 - mae: 52.0723",
      "\b\b\b\b\b\b\b\b\b\b\b\b\b\b\b\b\b\b\b\b\b\b\b\b\b\b\b\b\b\b\b\b\b\b\b\b\b\b\b\b\b\b\b\b\b\b\b\b\b\b\b\b\b\b\b\b\b\b\b\b\b\b\b\b\b\b\b\b\b\b\b\b\b\b\b\b\b\b\b\b\b\b",
      "\r14/51 [=======>......................] - ETA: 0s - loss: 188260.5000 - mae: 92.3803",
      "\b\b\b\b\b\b\b\b\b\b\b\b\b\b\b\b\b\b\b\b\b\b\b\b\b\b\b\b\b\b\b\b\b\b\b\b\b\b\b\b\b\b\b\b\b\b\b\b\b\b\b\b\b\b\b\b\b\b\b\b\b\b\b\b\b\b\b\b\b\b\b\b\b\b\b\b\b\b\b\b\b\b\b",
      "\r28/51 [===============>..............] - ETA: 0s - loss: 161267.1562 - mae: 94.5973",
      "\b\b\b\b\b\b\b\b\b\b\b\b\b\b\b\b\b\b\b\b\b\b\b\b\b\b\b\b\b\b\b\b\b\b\b\b\b\b\b\b\b\b\b\b\b\b\b\b\b\b\b\b\b\b\b\b\b\b\b\b\b\b\b\b\b\b\b\b\b\b\b\b\b\b\b\b\b\b\b\b\b\b\b\r41/51 [=======================>......] - ETA: 0s - loss: 134784.0938 - mae: 88.7718",
      "\b\b\b\b\b\b\b\b\b\b\b\b\b\b\b\b\b\b\b\b\b\b\b\b\b\b\b\b\b\b\b\b\b\b\b\b\b\b\b\b\b\b\b\b\b\b\b\b\b\b\b\b\b\b\b\b\b\b\b\b\b\b\b\b\b\b\b\b\b\b\b\b\b\b\b\b\b\b\b\b\b\b\b\r51/51 [==============================] - ETA: 0s - loss: 119118.2266 - mae: 85.6880",
      "\b\b\b\b\b\b\b\b\b\b\b\b\b\b\b\b\b\b\b\b\b\b\b\b\b\b\b\b\b\b\b\b\b\b\b\b\b\b\b\b\b\b\b\b\b\b\b\b\b\b\b\b\b\b\b\b\b\b\b\b\b\b\b\b\b\b\b\b\b\b\b\b\b\b\b\b\b\b\b\b\b\b\b\r51/51 [==============================] - 0s 5ms/step - loss: 119118.2266 - mae: 85.6880 - val_loss: 460532.3438 - val_mae: 139.4268\n",
      "Epoch 92/100\n\r 1/51 [..............................] - ETA: 0s - loss: 6593.2275 - mae: 31.8302",
      "\b\b\b\b\b\b\b\b\b\b\b\b\b\b\b\b\b\b\b\b\b\b\b\b\b\b\b\b\b\b\b\b\b\b\b\b\b\b\b\b\b\b\b\b\b\b\b\b\b\b\b\b\b\b\b\b\b\b\b\b\b\b\b\b\b\b\b\b\b\b\b\b\b\b\b\b\b\b\b\b\b\r15/51 [=======>......................] - ETA: 0s - loss: 25577.4082 - mae: 59.2580",
      "\b\b\b\b\b\b\b\b\b\b\b\b\b\b\b\b\b\b\b\b\b\b\b\b\b\b\b\b\b\b\b\b\b\b\b\b\b\b\b\b\b\b\b\b\b\b\b\b\b\b\b\b\b\b\b\b\b\b\b\b\b\b\b\b\b\b\b\b\b\b\b\b\b\b\b\b\b\b\b\b\b\b\r29/51 [================>.............] - ETA: 0s - loss: 83316.5234 - mae: 75.0951",
      "\b\b\b\b\b\b\b\b\b\b\b\b\b\b\b\b\b\b\b\b\b\b\b\b\b\b\b\b\b\b\b\b\b\b\b\b\b\b\b\b\b\b\b\b\b\b\b\b\b\b\b\b\b\b\b\b\b\b\b\b\b\b\b\b\b\b\b\b\b\b\b\b\b\b\b\b\b\b\b\b\b\b\r44/51 [========================>.....] - ETA: 0s - loss: 132505.0938 - mae: 87.0798",
      "\b\b\b\b\b\b\b\b\b\b\b\b\b\b\b\b\b\b\b\b\b\b\b\b\b\b\b\b\b\b\b\b\b\b\b\b\b\b\b\b\b\b\b\b\b\b\b\b\b\b\b\b\b\b\b\b\b\b\b\b\b\b\b\b\b\b\b\b\b\b\b\b\b\b\b\b\b\b\b\b\b\b\b\r51/51 [==============================] - 0s 4ms/step - loss: 120447.5469 - mae: 85.3942 - val_loss: 439231.5312 - val_mae: 133.5785\n",
      "Epoch 93/100\n\r 1/51 [..............................] - ETA: 0s - loss: 145282.0938 - mae: 140.5361",
      "\b\b\b\b\b\b\b\b\b\b\b\b\b\b\b\b\b\b\b\b\b\b\b\b\b\b\b\b\b\b\b\b\b\b\b\b\b\b\b\b\b\b\b\b\b\b\b\b\b\b\b\b\b\b\b\b\b\b\b\b\b\b\b\b\b\b\b\b\b\b\b\b\b\b\b\b\b\b\b\b\b\b\b\b\r12/51 [======>.......................] - ETA: 0s - loss: 132426.8594 - mae: 87.4180 ",
      "\b\b\b\b\b\b\b\b\b\b\b\b\b\b\b\b\b\b\b\b\b\b\b\b\b\b\b\b\b\b\b\b\b\b\b\b\b\b\b\b\b\b\b\b\b\b\b\b\b\b\b\b\b\b\b\b\b\b\b\b\b\b\b\b\b\b\b\b\b\b\b\b\b\b\b\b\b\b\b\b\b\b\b\r27/51 [==============>...............] - ETA: 0s - loss: 107728.8906 - mae: 77.0019",
      "\b\b\b\b\b\b\b\b\b\b\b\b\b\b\b\b\b\b\b\b\b\b\b\b\b\b\b\b\b\b\b\b\b\b\b\b\b\b\b\b\b\b\b\b\b\b\b\b\b\b\b\b\b\b\b\b\b\b\b\b\b\b\b\b\b\b\b\b\b\b\b\b\b\b\b\b\b\b\b\b\b\b\b\r42/51 [=======================>......] - ETA: 0s - loss: 107012.9531 - mae: 80.6493",
      "\b\b\b\b\b\b\b\b\b\b\b\b\b\b\b\b\b\b\b\b\b\b\b\b\b\b\b\b\b\b\b\b\b\b\b\b\b\b\b\b\b\b\b\b\b\b\b\b\b\b\b\b\b\b\b\b\b\b\b\b\b\b\b\b\b\b\b\b\b\b\b\b\b\b\b\b\b\b\b\b\b\b\b",
      "\r51/51 [==============================] - 0s 5ms/step - loss: 95003.7266 - mae: 80.2940 - val_loss: 430076.0312 - val_mae: 133.3786\n",
      "Epoch 94/100\n\r 1/51 [..............................] - ETA: 0s - loss: 2562.1362 - mae: 26.9747",
      "\b\b\b\b\b\b\b\b\b\b\b\b\b\b\b\b\b\b\b\b\b\b\b\b\b\b\b\b\b\b\b\b\b\b\b\b\b\b\b\b\b\b\b\b\b\b\b\b\b\b\b\b\b\b\b\b\b\b\b\b\b\b\b\b\b\b\b\b\b\b\b\b\b\b\b\b\b\b\b\b\b\r15/51 [=======>......................] - ETA: 0s - loss: 175810.5625 - mae: 98.4996",
      "\b\b\b\b\b\b\b\b\b\b\b\b\b\b\b\b\b\b\b\b\b\b\b\b\b\b\b\b\b\b\b\b\b\b\b\b\b\b\b\b\b\b\b\b\b\b\b\b\b\b\b\b\b\b\b\b\b\b\b\b\b\b\b\b\b\b\b\b\b\b\b\b\b\b\b\b\b\b\b\b\b\b\b",
      "\r32/51 [=================>............] - ETA: 0s - loss: 124307.2422 - mae: 89.9809",
      "\b\b\b\b\b\b\b\b\b\b\b\b\b\b\b\b\b\b\b\b\b\b\b\b\b\b\b\b\b\b\b\b\b\b\b\b\b\b\b\b\b\b\b\b\b\b\b\b\b\b\b\b\b\b\b\b\b\b\b\b\b\b\b\b\b\b\b\b\b\b\b\b\b\b\b\b\b\b\b\b\b\b\b\r44/51 [========================>.....] - ETA: 0s - loss: 106118.6562 - mae: 87.0232",
      "\b\b\b\b\b\b\b\b\b\b\b\b\b\b\b\b\b\b\b\b\b\b\b\b\b\b\b\b\b\b\b\b\b\b\b\b\b\b\b\b\b\b\b\b\b\b\b\b\b\b\b\b\b\b\b\b\b\b\b\b\b\b\b\b\b\b\b\b\b\b\b\b\b\b\b\b\b\b\b\b\b\b\b\r51/51 [==============================] - 0s 4ms/step - loss: 96550.6484 - mae: 82.4536 - val_loss: 425321.7812 - val_mae: 132.2567\n",
      "Epoch 95/100\n",
      "\r 1/51 [..............................] - ETA: 0s - loss: 1847.3840 - mae: 23.2715",
      "\b\b\b\b\b\b\b\b\b\b\b\b\b\b\b\b\b\b\b\b\b\b\b\b\b\b\b\b\b\b\b\b\b\b\b\b\b\b\b\b\b\b\b\b\b\b\b\b\b\b\b\b\b\b\b\b\b\b\b\b\b\b\b\b\b\b\b\b\b\b\b\b\b\b\b\b\b\b\b\b\b\r14/51 [=======>......................] - ETA: 0s - loss: 26914.2031 - mae: 59.8558",
      "\b\b\b\b\b\b\b\b\b\b\b\b\b\b\b\b\b\b\b\b\b\b\b\b\b\b\b\b\b\b\b\b\b\b\b\b\b\b\b\b\b\b\b\b\b\b\b\b\b\b\b\b\b\b\b\b\b\b\b\b\b\b\b\b\b\b\b\b\b\b\b\b\b\b\b\b\b\b\b\b\b\b\r27/51 [==============>...............] - ETA: 0s - loss: 75230.2422 - mae: 72.5931",
      "\b\b\b\b\b\b\b\b\b\b\b\b\b\b\b\b\b\b\b\b\b\b\b\b\b\b\b\b\b\b\b\b\b\b\b\b\b\b\b\b\b\b\b\b\b\b\b\b\b\b\b\b\b\b\b\b\b\b\b\b\b\b\b\b\b\b\b\b\b\b\b\b\b\b\b\b\b\b\b\b\b\b\r42/51 [=======================>......] - ETA: 0s - loss: 82551.0625 - mae: 75.0038",
      "\b\b\b\b\b\b\b\b\b\b\b\b\b\b\b\b\b\b\b\b\b\b\b\b\b\b\b\b\b\b\b\b\b\b\b\b\b\b\b\b\b\b\b\b\b\b\b\b\b\b\b\b\b\b\b\b\b\b\b\b\b\b\b\b\b\b\b\b\b\b\b\b\b\b\b\b\b\b\b\b\b\b",
      "\r51/51 [==============================] - 0s 5ms/step - loss: 95184.1172 - mae: 80.1741 - val_loss: 466065.7812 - val_mae: 140.8791\n",
      "Epoch 96/100\n\r 1/51 [..............................] - ETA: 0s - loss: 43843.8008 - mae: 67.2777",
      "\b\b\b\b\b\b\b\b\b\b\b\b\b\b\b\b\b\b\b\b\b\b\b\b\b\b\b\b\b\b\b\b\b\b\b\b\b\b\b\b\b\b\b\b\b\b\b\b\b\b\b\b\b\b\b\b\b\b\b\b\b\b\b\b\b\b\b\b\b\b\b\b\b\b\b\b\b\b\b\b\b\b",
      "\r13/51 [======>.......................] - ETA: 0s - loss: 49345.6797 - mae: 69.9575",
      "\b\b\b\b\b\b\b\b\b\b\b\b\b\b\b\b\b\b\b\b\b\b\b\b\b\b\b\b\b\b\b\b\b\b\b\b\b\b\b\b\b\b\b\b\b\b\b\b\b\b\b\b\b\b\b\b\b\b\b\b\b\b\b\b\b\b\b\b\b\b\b\b\b\b\b\b\b\b\b\b\b\b\r27/51 [==============>...............] - ETA: 0s - loss: 110856.4922 - mae: 84.7910",
      "\b\b\b\b\b\b\b\b\b\b\b\b\b\b\b\b\b\b\b\b\b\b\b\b\b\b\b\b\b\b\b\b\b\b\b\b\b\b\b\b\b\b\b\b\b\b\b\b\b\b\b\b\b\b\b\b\b\b\b\b\b\b\b\b\b\b\b\b\b\b\b\b\b\b\b\b\b\b\b\b\b\b\b\r38/51 [=====================>........] - ETA: 0s - loss: 108676.5078 - mae: 87.5413",
      "\b\b\b\b\b\b\b\b\b\b\b\b\b\b\b\b\b\b\b\b\b\b\b\b\b\b\b\b\b\b\b\b\b\b\b\b\b\b\b\b\b\b\b\b\b\b\b\b\b\b\b\b\b\b\b\b\b\b\b\b\b\b\b\b\b\b\b\b\b\b\b\b\b\b\b\b\b\b\b\b\b\b\b\r50/51 [============================>.] - ETA: 0s - loss: 103089.1875 - mae: 84.5125",
      "\b\b\b\b\b\b\b\b\b\b\b\b\b\b\b\b\b\b\b\b\b\b\b\b\b\b\b\b\b\b\b\b\b\b\b\b\b\b\b\b\b\b\b\b\b\b\b\b\b\b\b\b\b\b\b\b\b\b\b\b\b\b\b\b\b\b\b\b\b\b\b\b\b\b\b\b\b\b\b\b\b\b\b\r51/51 [==============================] - 0s 5ms/step - loss: 101134.1797 - mae: 83.9039 - val_loss: 431248.8750 - val_mae: 127.0179\n",
      "Epoch 97/100\n\r 1/51 [..............................] - ETA: 0s - loss: 84169.2734 - mae: 71.5464",
      "\b\b\b\b\b\b\b\b\b\b\b\b\b\b\b\b\b\b\b\b\b\b\b\b\b\b\b\b\b\b\b\b\b\b\b\b\b\b\b\b\b\b\b\b\b\b\b\b\b\b\b\b\b\b\b\b\b\b\b\b\b\b\b\b\b\b\b\b\b\b\b\b\b\b\b\b\b\b\b\b\b\b\r13/51 [======>.......................] - ETA: 0s - loss: 94902.1172 - mae: 86.3220",
      "\b\b\b\b\b\b\b\b\b\b\b\b\b\b\b\b\b\b\b\b\b\b\b\b\b\b\b\b\b\b\b\b\b\b\b\b\b\b\b\b\b\b\b\b\b\b\b\b\b\b\b\b\b\b\b\b\b\b\b\b\b\b\b\b\b\b\b\b\b\b\b\b\b\b\b\b\b\b\b\b\b\b\r23/51 [============>.................] - ETA: 0s - loss: 126872.5000 - mae: 95.6695",
      "\b\b\b\b\b\b\b\b\b\b\b\b\b\b\b\b\b\b\b\b\b\b\b\b\b\b\b\b\b\b\b\b\b\b\b\b\b\b\b\b\b\b\b\b\b\b\b\b\b\b\b\b\b\b\b\b\b\b\b\b\b\b\b\b\b\b\b\b\b\b\b\b\b\b\b\b\b\b\b\b\b\b\b\r32/51 [=================>............] - ETA: 0s - loss: 116009.8750 - mae: 90.8453",
      "\b\b\b\b\b\b\b\b\b\b\b\b\b\b\b\b\b\b\b\b\b\b\b\b\b\b\b\b\b\b\b\b\b\b\b\b\b\b\b\b\b\b\b\b\b\b\b\b\b\b\b\b\b\b\b\b\b\b\b\b\b\b\b\b\b\b\b\b\b\b\b\b\b\b\b\b\b\b\b\b\b\b\b\r44/51 [========================>.....] - ETA: 0s - loss: 99413.1562 - mae: 85.1861 ",
      "\b\b\b\b\b\b\b\b\b\b\b\b\b\b\b\b\b\b\b\b\b\b\b\b\b\b\b\b\b\b\b\b\b\b\b\b\b\b\b\b\b\b\b\b\b\b\b\b\b\b\b\b\b\b\b\b\b\b\b\b\b\b\b\b\b\b\b\b\b\b\b\b\b\b\b\b\b\b\b\b\b\b\r51/51 [==============================] - 0s 6ms/step - loss: 87851.2734 - mae: 79.9613 - val_loss: 429744.5625 - val_mae: 128.8624\n",
      "Epoch 98/100\n",
      "\r 1/51 [..............................] - ETA: 0s - loss: 160021.9844 - mae: 133.0499",
      "\b\b\b\b\b\b\b\b\b\b\b\b\b\b\b\b\b\b\b\b\b\b\b\b\b\b\b\b\b\b\b\b\b\b\b\b\b\b\b\b\b\b\b\b\b\b\b\b\b\b\b\b\b\b\b\b\b\b\b\b\b\b\b\b\b\b\b\b\b\b\b\b\b\b\b\b\b\b\b\b\b\b\b\b",
      "\r13/51 [======>.......................] - ETA: 0s - loss: 85557.0859 - mae: 74.0288  ",
      "\b\b\b\b\b\b\b\b\b\b\b\b\b\b\b\b\b\b\b\b\b\b\b\b\b\b\b\b\b\b\b\b\b\b\b\b\b\b\b\b\b\b\b\b\b\b\b\b\b\b\b\b\b\b\b\b\b\b\b\b\b\b\b\b\b\b\b\b\b\b\b\b\b\b\b\b\b\b\b\b\b\b",
      "\r22/51 [===========>..................] - ETA: 0s - loss: 121329.8828 - mae: 85.0600",
      "\b\b\b\b\b\b\b\b\b\b\b\b\b\b\b\b\b\b\b\b\b\b\b\b\b\b\b\b\b\b\b\b\b\b\b\b\b\b\b\b\b\b\b\b\b\b\b\b\b\b\b\b\b\b\b\b\b\b\b\b\b\b\b\b\b\b\b\b\b\b\b\b\b\b\b\b\b\b\b\b\b\b\b\r32/51 [=================>............] - ETA: 0s - loss: 116793.5547 - mae: 89.0286",
      "\b\b\b\b\b\b\b\b\b\b\b\b\b\b\b\b\b\b\b\b\b\b\b\b\b\b\b\b\b\b\b\b\b\b\b\b\b\b\b\b\b\b\b\b\b\b\b\b\b\b\b\b\b\b\b\b\b\b\b\b\b\b\b\b\b\b\b\b\b\b\b\b\b\b\b\b\b\b\b\b\b\b\b\r42/51 [=======================>......] - ETA: 0s - loss: 98908.9141 - mae: 84.7400 ",
      "\b\b\b\b\b\b\b\b\b\b\b\b\b\b\b\b\b\b\b\b\b\b\b\b\b\b\b\b\b\b\b\b\b\b\b\b\b\b\b\b\b\b\b\b\b\b\b\b\b\b\b\b\b\b\b\b\b\b\b\b\b\b\b\b\b\b\b\b\b\b\b\b\b\b\b\b\b\b\b\b\b\b",
      "\r51/51 [==============================] - 0s 6ms/step - loss: 94487.1562 - mae: 82.5385 - val_loss: 389524.4688 - val_mae: 125.4971\n",
      "Epoch 99/100\n\r 1/51 [..............................] - ETA: 0s - loss: 7694.1953 - mae: 39.4412",
      "\b\b\b\b\b\b\b\b\b\b\b\b\b\b\b\b\b\b\b\b\b\b\b\b\b\b\b\b\b\b\b\b\b\b\b\b\b\b\b\b\b\b\b\b\b\b\b\b\b\b\b\b\b\b\b\b\b\b\b\b\b\b\b\b\b\b\b\b\b\b\b\b\b\b\b\b\b\b\b\b\b",
      "\r12/51 [======>.......................] - ETA: 0s - loss: 106122.1953 - mae: 90.7653",
      "\b\b\b\b\b\b\b\b\b\b\b\b\b\b\b\b\b\b\b\b\b\b\b\b\b\b\b\b\b\b\b\b\b\b\b\b\b\b\b\b\b\b\b\b\b\b\b\b\b\b\b\b\b\b\b\b\b\b\b\b\b\b\b\b\b\b\b\b\b\b\b\b\b\b\b\b\b\b\b\b\b\b\b",
      "\r20/51 [==========>...................] - ETA: 0s - loss: 113932.6641 - mae: 91.3580",
      "\b\b\b\b\b\b\b\b\b\b\b\b\b\b\b\b\b\b\b\b\b\b\b\b\b\b\b\b\b\b\b\b\b\b\b\b\b\b\b\b\b\b\b\b\b\b\b\b\b\b\b\b\b\b\b\b\b\b\b\b\b\b\b\b\b\b\b\b\b\b\b\b\b\b\b\b\b\b\b\b\b\b\b\r30/51 [================>.............] - ETA: 0s - loss: 118662.7500 - mae: 90.5109",
      "\b\b\b\b\b\b\b\b\b\b\b\b\b\b\b\b\b\b\b\b\b\b\b\b\b\b\b\b\b\b\b\b\b\b\b\b\b\b\b\b\b\b\b\b\b\b\b\b\b\b\b\b\b\b\b\b\b\b\b\b\b\b\b\b\b\b\b\b\b\b\b\b\b\b\b\b\b\b\b\b\b\b\b\r42/51 [=======================>......] - ETA: 0s - loss: 108261.2344 - mae: 88.7914",
      "\b\b\b\b\b\b\b\b\b\b\b\b\b\b\b\b\b\b\b\b\b\b\b\b\b\b\b\b\b\b\b\b\b\b\b\b\b\b\b\b\b\b\b\b\b\b\b\b\b\b\b\b\b\b\b\b\b\b\b\b\b\b\b\b\b\b\b\b\b\b\b\b\b\b\b\b\b\b\b\b\b\b\b\r51/51 [==============================] - 0s 6ms/step - loss: 96708.7344 - mae: 83.4441 - val_loss: 391015.1250 - val_mae: 124.6959\n",
      "Epoch 100/100\n\r 1/51 [..............................] - ETA: 0s - loss: 8530.3535 - mae: 41.3289",
      "\b\b\b\b\b\b\b\b\b\b\b\b\b\b\b\b\b\b\b\b\b\b\b\b\b\b\b\b\b\b\b\b\b\b\b\b\b\b\b\b\b\b\b\b\b\b\b\b\b\b\b\b\b\b\b\b\b\b\b\b\b\b\b\b\b\b\b\b\b\b\b\b\b\b\b\b\b\b\b\b\b\r14/51 [=======>......................] - ETA: 0s - loss: 48080.0664 - mae: 69.5892",
      "\b\b\b\b\b\b\b\b\b\b\b\b\b\b\b\b\b\b\b\b\b\b\b\b\b\b\b\b\b\b\b\b\b\b\b\b\b\b\b\b\b\b\b\b\b\b\b\b\b\b\b\b\b\b\b\b\b\b\b\b\b\b\b\b\b\b\b\b\b\b\b\b\b\b\b\b\b\b\b\b\b\b\r26/51 [==============>...............] - ETA: 0s - loss: 117703.4062 - mae: 86.9622",
      "\b\b\b\b\b\b\b\b\b\b\b\b\b\b\b\b\b\b\b\b\b\b\b\b\b\b\b\b\b\b\b\b\b\b\b\b\b\b\b\b\b\b\b\b\b\b\b\b\b\b\b\b\b\b\b\b\b\b\b\b\b\b\b\b\b\b\b\b\b\b\b\b\b\b\b\b\b\b\b\b\b\b\b\r36/51 [====================>.........] - ETA: 0s - loss: 118110.5859 - mae: 84.6592",
      "\b\b\b\b\b\b\b\b\b\b\b\b\b\b\b\b\b\b\b\b\b\b\b\b\b\b\b\b\b\b\b\b\b\b\b\b\b\b\b\b\b\b\b\b\b\b\b\b\b\b\b\b\b\b\b\b\b\b\b\b\b\b\b\b\b\b\b\b\b\b\b\b\b\b\b\b\b\b\b\b\b\b\b\r47/51 [==========================>...] - ETA: 0s - loss: 105803.0547 - mae: 80.8899",
      "\b\b\b\b\b\b\b\b\b\b\b\b\b\b\b\b\b\b\b\b\b\b\b\b\b\b\b\b\b\b\b\b\b\b\b\b\b\b\b\b\b\b\b\b\b\b\b\b\b\b\b\b\b\b\b\b\b\b\b\b\b\b\b\b\b\b\b\b\b\b\b\b\b\b\b\b\b\b\b\b\b\b\b",
      "\r51/51 [==============================] - 0s 5ms/step - loss: 100010.7031 - mae: 79.8151 - val_loss: 407331.8125 - val_mae: 124.9839\n",
      "\r 1/16 [>.............................] - ETA: 0s - loss: 112135.5156 - mae: 110.4188",
      "\b\b\b\b\b\b\b\b\b\b\b\b\b\b\b\b\b\b\b\b\b\b\b\b\b\b\b\b\b\b\b\b\b\b\b\b\b\b\b\b\b\b\b\b\b\b\b\b\b\b\b\b\b\b\b\b\b\b\b\b\b\b\b\b\b\b\b\b\b\b\b\b\b\b\b\b\b\b\b\b\b\b\b\b\r16/16 [==============================] - 0s 2ms/step - loss: 671747.5625 - mae: 166.4893\n"
     ],
     "output_type": "stream"
    },
    {
     "data": {
      "text/plain": "[671747.5625, 166.48927307128906]"
     },
     "metadata": {},
     "output_type": "execute_result",
     "execution_count": 34
    }
   ],
   "source": [
    "import tensorflow as tf\n",
    "from tensorflow.keras import models, layers\n",
    "from tensorflow.keras.layers import Dropout\n",
    "from tensorflow.keras import utils\n",
    "from sklearn.preprocessing import StandardScaler\n",
    "from sklearn.model_selection import train_test_split\n",
    "\n",
    "X_train, X_test, y_train, y_test = train_test_split(X, y, test_size=0.2, random_state=42)\n",
    "scaler = StandardScaler().fit(X_train)\n",
    "x_train_scaled = scaler.transform(X_train)\n",
    "x_test_scaled = scaler.transform(X_test)\n",
    "\n",
    "model = models.Sequential()\n",
    "model.add(layers.Dense(64, activation=tf.nn.relu, input_dim=X_train.shape[1]))\n",
    "model.add(layers.Dense(64, activation=tf.nn.relu))\n",
    "model.add(layers.Dense(32, activation=tf.nn.relu))\n",
    "model.add(layers.Dense(16, activation=tf.nn.relu))\n",
    "model.add(layers.Dense(1))\n",
    "\n",
    "\n",
    "model.compile(optimizer='rmsprop', loss='mse', metrics=['mae'])\n",
    "model.fit(x_train_scaled, y_train, validation_split=0.2, epochs=100)\n",
    "\n",
    "model.evaluate(x_test_scaled, y_test)"
   ],
   "metadata": {
    "collapsed": false,
    "pycharm": {
     "name": "#%%\n",
     "is_executing": false
    }
   }
  },
  {
   "cell_type": "markdown",
   "source": [
    "In conclusion, the neural net gives Mean Absolute error of ~160 cases and Mean squared error of around 700,000 cases^2\n"
   ],
   "metadata": {
    "collapsed": false
   }
  }
 ],
 "metadata": {
  "language_info": {
   "codemirror_mode": {
    "name": "ipython",
    "version": 2
   },
   "file_extension": ".py",
   "mimetype": "text/x-python",
   "name": "python",
   "nbconvert_exporter": "python",
   "pygments_lexer": "ipython2",
   "version": "2.7.6"
  },
  "kernelspec": {
   "name": "python3",
   "language": "python",
   "display_name": "Python 3"
  },
  "pycharm": {
   "stem_cell": {
    "cell_type": "raw",
    "source": [],
    "metadata": {
     "collapsed": false
    }
   }
  }
 },
 "nbformat": 4,
 "nbformat_minor": 0
}