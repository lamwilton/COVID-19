{
 "cells": [
  {
   "cell_type": "markdown",
   "source": [
    "# Multilayer perceptron Neural net for county level medicare and COVID-19 data  \n",
    "Author: Ting Fung Lam  \n",
    "Predicts number of cases/deaths of covid-19 of a county"
   ],
   "metadata": {
    "collapsed": false,
    "pycharm": {
     "name": "#%% md\n"
    }
   }
  },
  {
   "cell_type": "markdown",
   "source": [
    "Reading data and  \n",
    "Selecting only columns of interest from medicare_df and filling nulls"
   ],
   "metadata": {
    "collapsed": false,
    "pycharm": {
     "name": "#%% md\n"
    }
   }
  },
  {
   "cell_type": "code",
   "execution_count": 2,
   "metadata": {
    "collapsed": true,
    "pycharm": {
     "is_executing": false
    }
   },
   "outputs": [
    {
     "name": "stderr",
     "text": [
      "c:\\users\\administrator\\appdata\\local\\programs\\python\\python38\\lib\\site-packages\\IPython\\core\\interactiveshell.py:3062: DtypeWarning: Columns (10) have mixed types.Specify dtype option on import or set low_memory=False.\n  has_raised = await self.run_ast_nodes(code_ast.body, cell_name,\n"
     ],
     "output_type": "stream"
    },
    {
     "data": {
      "text/plain": "    Zip_Code  NUM_HCPCS  NUM_Services  NUM_Medicare_BEN  \\\n0  215021854         23        1670.0               578   \n1  602011718         20        8149.0              3703   \n2  436233536         60        3085.0               278   \n3  158251367         29         857.0               260   \n4  441061716         29         155.0                71   \n\n   Total_Submitted_Charge_Amount  Total_Medicare_Allowed_Amount  \\\n0                       800850.0                      177181.14   \n1                      1272161.0                      319561.26   \n2                       288873.0                      161220.25   \n3                       132744.0                       88655.94   \n4                        33700.0                       14572.28   \n\n   Total_Medicare_Payment_Amount  Total_Medicare_Standardized_Payment_Amount  \\\n0                      137084.55                                   138279.12   \n1                      243698.97                                   235917.60   \n2                      119726.66                                   123488.10   \n3                       66084.78                                    70643.97   \n4                       11244.68                                    12001.69   \n\n   NUM_HCPCS_Associated_With_Drug_Services  NUM_Drug_Services  ...  \\\n0                                      0.0                0.0  ...   \n1                                      0.0                0.0  ...   \n2                                      2.0             1609.0  ...   \n3                                      0.0                0.0  ...   \n4                                      0.0                0.0  ...   \n\n   PCT_BEN_Depression  PCT_BEN_Diabetes  PCT_BEN_Hyperlipidemia  \\\n0                46.0              51.0                    67.0   \n1                12.0              20.0                    34.0   \n2                45.0              41.0                    50.0   \n3                50.0              44.0                    66.0   \n4                21.0              20.0                    35.0   \n\n   PCT_BEN_Hypertension  PCT_BEN_Ischemic_Heart_Disease  PCT_BEN_Osteoporosis  \\\n0                  75.0                            56.0                   9.0   \n1                  55.0                            27.0                   9.0   \n2                  74.0                            39.0                  10.0   \n3                  75.0                            64.0                  20.0   \n4                  48.0                            23.0                  15.0   \n\n   PCT_BEN_Rheumatoid_Arthritis_Osteoarthritis  \\\n0                                         49.0   \n1                                         36.0   \n2                                         75.0   \n3                                         48.0   \n4                                         42.0   \n\n   PCT_BEN_Schizophrenia_Other_Psychotic_Disorders  PCT_BEN_Stroke  \\\n0                                              8.0            13.0   \n1                                              1.0             3.0   \n2                                              4.0             5.0   \n3                                             13.0            11.0   \n4                                              0.0             0.0   \n\n   Average_HCC_Risk_Score_of_BEN  \n0                         2.1178  \n1                         1.1024  \n2                         1.6807  \n3                         2.1173  \n4                         1.0032  \n\n[5 rows x 54 columns]",
      "text/html": "<div>\n<style scoped>\n    .dataframe tbody tr th:only-of-type {\n        vertical-align: middle;\n    }\n\n    .dataframe tbody tr th {\n        vertical-align: top;\n    }\n\n    .dataframe thead th {\n        text-align: right;\n    }\n</style>\n<table border=\"1\" class=\"dataframe\">\n  <thead>\n    <tr style=\"text-align: right;\">\n      <th></th>\n      <th>Zip_Code</th>\n      <th>NUM_HCPCS</th>\n      <th>NUM_Services</th>\n      <th>NUM_Medicare_BEN</th>\n      <th>Total_Submitted_Charge_Amount</th>\n      <th>Total_Medicare_Allowed_Amount</th>\n      <th>Total_Medicare_Payment_Amount</th>\n      <th>Total_Medicare_Standardized_Payment_Amount</th>\n      <th>NUM_HCPCS_Associated_With_Drug_Services</th>\n      <th>NUM_Drug_Services</th>\n      <th>...</th>\n      <th>PCT_BEN_Depression</th>\n      <th>PCT_BEN_Diabetes</th>\n      <th>PCT_BEN_Hyperlipidemia</th>\n      <th>PCT_BEN_Hypertension</th>\n      <th>PCT_BEN_Ischemic_Heart_Disease</th>\n      <th>PCT_BEN_Osteoporosis</th>\n      <th>PCT_BEN_Rheumatoid_Arthritis_Osteoarthritis</th>\n      <th>PCT_BEN_Schizophrenia_Other_Psychotic_Disorders</th>\n      <th>PCT_BEN_Stroke</th>\n      <th>Average_HCC_Risk_Score_of_BEN</th>\n    </tr>\n  </thead>\n  <tbody>\n    <tr>\n      <th>0</th>\n      <td>215021854</td>\n      <td>23</td>\n      <td>1670.0</td>\n      <td>578</td>\n      <td>800850.0</td>\n      <td>177181.14</td>\n      <td>137084.55</td>\n      <td>138279.12</td>\n      <td>0.0</td>\n      <td>0.0</td>\n      <td>...</td>\n      <td>46.0</td>\n      <td>51.0</td>\n      <td>67.0</td>\n      <td>75.0</td>\n      <td>56.0</td>\n      <td>9.0</td>\n      <td>49.0</td>\n      <td>8.0</td>\n      <td>13.0</td>\n      <td>2.1178</td>\n    </tr>\n    <tr>\n      <th>1</th>\n      <td>602011718</td>\n      <td>20</td>\n      <td>8149.0</td>\n      <td>3703</td>\n      <td>1272161.0</td>\n      <td>319561.26</td>\n      <td>243698.97</td>\n      <td>235917.60</td>\n      <td>0.0</td>\n      <td>0.0</td>\n      <td>...</td>\n      <td>12.0</td>\n      <td>20.0</td>\n      <td>34.0</td>\n      <td>55.0</td>\n      <td>27.0</td>\n      <td>9.0</td>\n      <td>36.0</td>\n      <td>1.0</td>\n      <td>3.0</td>\n      <td>1.1024</td>\n    </tr>\n    <tr>\n      <th>2</th>\n      <td>436233536</td>\n      <td>60</td>\n      <td>3085.0</td>\n      <td>278</td>\n      <td>288873.0</td>\n      <td>161220.25</td>\n      <td>119726.66</td>\n      <td>123488.10</td>\n      <td>2.0</td>\n      <td>1609.0</td>\n      <td>...</td>\n      <td>45.0</td>\n      <td>41.0</td>\n      <td>50.0</td>\n      <td>74.0</td>\n      <td>39.0</td>\n      <td>10.0</td>\n      <td>75.0</td>\n      <td>4.0</td>\n      <td>5.0</td>\n      <td>1.6807</td>\n    </tr>\n    <tr>\n      <th>3</th>\n      <td>158251367</td>\n      <td>29</td>\n      <td>857.0</td>\n      <td>260</td>\n      <td>132744.0</td>\n      <td>88655.94</td>\n      <td>66084.78</td>\n      <td>70643.97</td>\n      <td>0.0</td>\n      <td>0.0</td>\n      <td>...</td>\n      <td>50.0</td>\n      <td>44.0</td>\n      <td>66.0</td>\n      <td>75.0</td>\n      <td>64.0</td>\n      <td>20.0</td>\n      <td>48.0</td>\n      <td>13.0</td>\n      <td>11.0</td>\n      <td>2.1173</td>\n    </tr>\n    <tr>\n      <th>4</th>\n      <td>441061716</td>\n      <td>29</td>\n      <td>155.0</td>\n      <td>71</td>\n      <td>33700.0</td>\n      <td>14572.28</td>\n      <td>11244.68</td>\n      <td>12001.69</td>\n      <td>0.0</td>\n      <td>0.0</td>\n      <td>...</td>\n      <td>21.0</td>\n      <td>20.0</td>\n      <td>35.0</td>\n      <td>48.0</td>\n      <td>23.0</td>\n      <td>15.0</td>\n      <td>42.0</td>\n      <td>0.0</td>\n      <td>0.0</td>\n      <td>1.0032</td>\n    </tr>\n  </tbody>\n</table>\n<p>5 rows × 54 columns</p>\n</div>"
     },
     "metadata": {},
     "output_type": "execute_result",
     "execution_count": 2
    }
   ],
   "source": [
    "import pandas as pd\n",
    "\n",
    "hospital_df = pd.read_csv(\"Hospitals_County_COVID_4.10.20.csv\", thousands=',')\n",
    "medicare_df = pd.read_csv(\"Medicare_2017.csv\", thousands=',')\n",
    "column_list = ['Zip_Code', 'NUM_HCPCS', 'NUM_Services', 'NUM_Medicare_BEN',\n",
    "               'Total_Submitted_Charge_Amount', 'Total_Medicare_Allowed_Amount',\n",
    "               'Total_Medicare_Payment_Amount',\n",
    "               'Total_Medicare_Standardized_Payment_Amount',\n",
    "               'NUM_HCPCS_Associated_With_Drug_Services', 'NUM_Drug_Services',\n",
    "               'NUM_Medicare_BEN_With_Drug_Services',\n",
    "               'Total_Drug_Submitted_Charge_Amount',\n",
    "               'Total_Drug_Medicare_Allowed_Amount',\n",
    "               'Total_Drug_Medicare_Payment_Amount',\n",
    "               'Total_Drug_Medicare_Standardized_Payment_Amount',\n",
    "               'NUM_HCPCS_Associated_With_Medical_Services', 'NUM_Medical_Services',\n",
    "               'NUM_Medicare_BEN_With_Medical_Services',\n",
    "               'Total_Medical_Submitted_Charge_Amount',\n",
    "               'Total_Medical_Medicare_Allowed_Amount',\n",
    "               'Total_Medical_Medicare_Payment_Amount',\n",
    "               'Total_Medical_Medicare_Standardized_Payment_Amount',\n",
    "               'Average_Age_of_BEN', 'NUM_BEN_Age_Less_65', 'NUM_BEN_Age_65_to_74',\n",
    "               'NUM_BEN_Age_75_to_84', 'NUM_BEN_Age_Greater_84', 'NUM_Female_BEN',\n",
    "               'NUM_Male_BEN', 'NUM_Non-Hispanic_White_BEN',\n",
    "               'NUM_Black_or_African_American_BEN', 'NUM_Asian_Pacific_Islander_BEN',\n",
    "               'NUM_Hispanic_BEN', 'NUM_American_IndianAlaska_Native_BEN',\n",
    "               'NUM_BEN_With_Race_Not_Elsewhere_Classified',\n",
    "               'NUM_BEN_With_Medicare_Only_Entitlement',\n",
    "               'NUM_BEN_With_Medicare_Medicaid_Entitlement',\n",
    "               'PCT_BEN_Atrial_Fibrillation', 'PCT_BEN_Alzheimers_Disease_or_Dementia',\n",
    "               'PCT_BEN_Asthma', 'PCT_BEN_Cancer', 'PCT_BEN_Heart_Failure',\n",
    "               'PCT_BEN_Chronic_Kidney_Disease',\n",
    "               'PCT_BEN_Chronic_Obstructive_Pulmonary_Disease', 'PCT_BEN_Depression',\n",
    "               'PCT_BEN_Diabetes', 'PCT_BEN_Hyperlipidemia', 'PCT_BEN_Hypertension',\n",
    "               'PCT_BEN_Ischemic_Heart_Disease', 'PCT_BEN_Osteoporosis',\n",
    "               'PCT_BEN_Rheumatoid_Arthritis_Osteoarthritis',\n",
    "               'PCT_BEN_Schizophrenia_Other_Psychotic_Disorders', 'PCT_BEN_Stroke',\n",
    "               'Average_HCC_Risk_Score_of_BEN']\n",
    "medicare_df = medicare_df[column_list]\n",
    "medicare_df = medicare_df.fillna(0)\n",
    "medicare_df.head()"
   ]
  },
  {
   "cell_type": "markdown",
   "source": [
    "Formatting the Zip_Code column "
   ],
   "metadata": {
    "collapsed": false,
    "pycharm": {
     "name": "#%% md\n"
    }
   }
  },
  {
   "cell_type": "code",
   "execution_count": 3,
   "outputs": [
    {
     "data": {
      "text/plain": "   Zip_Code  NUM_HCPCS  NUM_Services  NUM_Medicare_BEN  \\\n0   21502.0         23        1670.0               578   \n1   60201.0         20        8149.0              3703   \n2   43623.0         60        3085.0               278   \n3   15825.0         29         857.0               260   \n4   44106.0         29         155.0                71   \n\n   Total_Submitted_Charge_Amount  Total_Medicare_Allowed_Amount  \\\n0                       800850.0                      177181.14   \n1                      1272161.0                      319561.26   \n2                       288873.0                      161220.25   \n3                       132744.0                       88655.94   \n4                        33700.0                       14572.28   \n\n   Total_Medicare_Payment_Amount  Total_Medicare_Standardized_Payment_Amount  \\\n0                      137084.55                                   138279.12   \n1                      243698.97                                   235917.60   \n2                      119726.66                                   123488.10   \n3                       66084.78                                    70643.97   \n4                       11244.68                                    12001.69   \n\n   NUM_HCPCS_Associated_With_Drug_Services  NUM_Drug_Services  ...  \\\n0                                      0.0                0.0  ...   \n1                                      0.0                0.0  ...   \n2                                      2.0             1609.0  ...   \n3                                      0.0                0.0  ...   \n4                                      0.0                0.0  ...   \n\n   PCT_BEN_Depression  PCT_BEN_Diabetes  PCT_BEN_Hyperlipidemia  \\\n0                46.0              51.0                    67.0   \n1                12.0              20.0                    34.0   \n2                45.0              41.0                    50.0   \n3                50.0              44.0                    66.0   \n4                21.0              20.0                    35.0   \n\n   PCT_BEN_Hypertension  PCT_BEN_Ischemic_Heart_Disease  PCT_BEN_Osteoporosis  \\\n0                  75.0                            56.0                   9.0   \n1                  55.0                            27.0                   9.0   \n2                  74.0                            39.0                  10.0   \n3                  75.0                            64.0                  20.0   \n4                  48.0                            23.0                  15.0   \n\n   PCT_BEN_Rheumatoid_Arthritis_Osteoarthritis  \\\n0                                         49.0   \n1                                         36.0   \n2                                         75.0   \n3                                         48.0   \n4                                         42.0   \n\n   PCT_BEN_Schizophrenia_Other_Psychotic_Disorders  PCT_BEN_Stroke  \\\n0                                              8.0            13.0   \n1                                              1.0             3.0   \n2                                              4.0             5.0   \n3                                             13.0            11.0   \n4                                              0.0             0.0   \n\n   Average_HCC_Risk_Score_of_BEN  \n0                         2.1178  \n1                         1.1024  \n2                         1.6807  \n3                         2.1173  \n4                         1.0032  \n\n[5 rows x 54 columns]",
      "text/html": "<div>\n<style scoped>\n    .dataframe tbody tr th:only-of-type {\n        vertical-align: middle;\n    }\n\n    .dataframe tbody tr th {\n        vertical-align: top;\n    }\n\n    .dataframe thead th {\n        text-align: right;\n    }\n</style>\n<table border=\"1\" class=\"dataframe\">\n  <thead>\n    <tr style=\"text-align: right;\">\n      <th></th>\n      <th>Zip_Code</th>\n      <th>NUM_HCPCS</th>\n      <th>NUM_Services</th>\n      <th>NUM_Medicare_BEN</th>\n      <th>Total_Submitted_Charge_Amount</th>\n      <th>Total_Medicare_Allowed_Amount</th>\n      <th>Total_Medicare_Payment_Amount</th>\n      <th>Total_Medicare_Standardized_Payment_Amount</th>\n      <th>NUM_HCPCS_Associated_With_Drug_Services</th>\n      <th>NUM_Drug_Services</th>\n      <th>...</th>\n      <th>PCT_BEN_Depression</th>\n      <th>PCT_BEN_Diabetes</th>\n      <th>PCT_BEN_Hyperlipidemia</th>\n      <th>PCT_BEN_Hypertension</th>\n      <th>PCT_BEN_Ischemic_Heart_Disease</th>\n      <th>PCT_BEN_Osteoporosis</th>\n      <th>PCT_BEN_Rheumatoid_Arthritis_Osteoarthritis</th>\n      <th>PCT_BEN_Schizophrenia_Other_Psychotic_Disorders</th>\n      <th>PCT_BEN_Stroke</th>\n      <th>Average_HCC_Risk_Score_of_BEN</th>\n    </tr>\n  </thead>\n  <tbody>\n    <tr>\n      <th>0</th>\n      <td>21502.0</td>\n      <td>23</td>\n      <td>1670.0</td>\n      <td>578</td>\n      <td>800850.0</td>\n      <td>177181.14</td>\n      <td>137084.55</td>\n      <td>138279.12</td>\n      <td>0.0</td>\n      <td>0.0</td>\n      <td>...</td>\n      <td>46.0</td>\n      <td>51.0</td>\n      <td>67.0</td>\n      <td>75.0</td>\n      <td>56.0</td>\n      <td>9.0</td>\n      <td>49.0</td>\n      <td>8.0</td>\n      <td>13.0</td>\n      <td>2.1178</td>\n    </tr>\n    <tr>\n      <th>1</th>\n      <td>60201.0</td>\n      <td>20</td>\n      <td>8149.0</td>\n      <td>3703</td>\n      <td>1272161.0</td>\n      <td>319561.26</td>\n      <td>243698.97</td>\n      <td>235917.60</td>\n      <td>0.0</td>\n      <td>0.0</td>\n      <td>...</td>\n      <td>12.0</td>\n      <td>20.0</td>\n      <td>34.0</td>\n      <td>55.0</td>\n      <td>27.0</td>\n      <td>9.0</td>\n      <td>36.0</td>\n      <td>1.0</td>\n      <td>3.0</td>\n      <td>1.1024</td>\n    </tr>\n    <tr>\n      <th>2</th>\n      <td>43623.0</td>\n      <td>60</td>\n      <td>3085.0</td>\n      <td>278</td>\n      <td>288873.0</td>\n      <td>161220.25</td>\n      <td>119726.66</td>\n      <td>123488.10</td>\n      <td>2.0</td>\n      <td>1609.0</td>\n      <td>...</td>\n      <td>45.0</td>\n      <td>41.0</td>\n      <td>50.0</td>\n      <td>74.0</td>\n      <td>39.0</td>\n      <td>10.0</td>\n      <td>75.0</td>\n      <td>4.0</td>\n      <td>5.0</td>\n      <td>1.6807</td>\n    </tr>\n    <tr>\n      <th>3</th>\n      <td>15825.0</td>\n      <td>29</td>\n      <td>857.0</td>\n      <td>260</td>\n      <td>132744.0</td>\n      <td>88655.94</td>\n      <td>66084.78</td>\n      <td>70643.97</td>\n      <td>0.0</td>\n      <td>0.0</td>\n      <td>...</td>\n      <td>50.0</td>\n      <td>44.0</td>\n      <td>66.0</td>\n      <td>75.0</td>\n      <td>64.0</td>\n      <td>20.0</td>\n      <td>48.0</td>\n      <td>13.0</td>\n      <td>11.0</td>\n      <td>2.1173</td>\n    </tr>\n    <tr>\n      <th>4</th>\n      <td>44106.0</td>\n      <td>29</td>\n      <td>155.0</td>\n      <td>71</td>\n      <td>33700.0</td>\n      <td>14572.28</td>\n      <td>11244.68</td>\n      <td>12001.69</td>\n      <td>0.0</td>\n      <td>0.0</td>\n      <td>...</td>\n      <td>21.0</td>\n      <td>20.0</td>\n      <td>35.0</td>\n      <td>48.0</td>\n      <td>23.0</td>\n      <td>15.0</td>\n      <td>42.0</td>\n      <td>0.0</td>\n      <td>0.0</td>\n      <td>1.0032</td>\n    </tr>\n  </tbody>\n</table>\n<p>5 rows × 54 columns</p>\n</div>"
     },
     "metadata": {},
     "output_type": "execute_result",
     "execution_count": 3
    }
   ],
   "source": [
    "medicare_df['Zip_Code'] = medicare_df['Zip_Code'].astype(str).str.slice(stop=5)\n",
    "medicare_df['Zip_Code'] = medicare_df.apply(pd.to_numeric, errors='coerce')\n",
    "medicare_df = medicare_df.fillna(0)\n",
    "medicare_df.head()"
   ],
   "metadata": {
    "collapsed": false,
    "pycharm": {
     "name": "#%%\n",
     "is_executing": false
    }
   }
  },
  {
   "cell_type": "markdown",
   "source": [
    "Compute sum and average for the respective columns of medicare table, group by Zip_Code  \n",
    "Then put them back together by concat"
   ],
   "metadata": {
    "collapsed": false,
    "pycharm": {
     "name": "#%% md\n"
    }
   }
  },
  {
   "cell_type": "code",
   "execution_count": 4,
   "outputs": [
    {
     "data": {
      "text/plain": "   Zip_Code  NUM_HCPCS  NUM_Services  NUM_Medicare_BEN  \\\n0       0.0        497       13702.0              5457   \n1       1.0         69         926.0               384   \n2      80.0         12         195.0                77   \n3      96.0          6          67.0                27   \n4     115.0         18        1154.0               450   \n\n   Total_Submitted_Charge_Amount  Total_Medicare_Allowed_Amount  \\\n0                     4220040.48                     1223773.71   \n1                      381997.00                       92143.88   \n2                       14742.98                       14616.36   \n3                       11719.90                       11719.90   \n4                      437354.00                      120603.99   \n\n   Total_Medicare_Payment_Amount  Total_Medicare_Standardized_Payment_Amount  \\\n0                      918604.37                                   917482.14   \n1                       70859.78                                    76989.29   \n2                        9455.60                                    11451.76   \n3                        8796.86                                     9888.65   \n4                       92876.22                                    90738.11   \n\n   NUM_HCPCS_Associated_With_Drug_Services  NUM_Drug_Services  ...  \\\n0                                      2.0              278.0  ...   \n1                                      0.0                0.0  ...   \n2                                      0.0                0.0  ...   \n3                                      0.0                0.0  ...   \n4                                      0.0                0.0  ...   \n\n   NUM_Female_BEN  NUM_Male_BEN  NUM_Non-Hispanic_White_BEN  \\\n0          3057.0        2336.0                      3960.0   \n1           221.0         163.0                       367.0   \n2             0.0           0.0                         0.0   \n3             0.0           0.0                         0.0   \n4           249.0         201.0                       414.0   \n\n   NUM_Black_or_African_American_BEN  NUM_Asian_Pacific_Islander_BEN  \\\n0                              376.0                             0.0   \n1                                0.0                             0.0   \n2                                0.0                             0.0   \n3                                0.0                             0.0   \n4                                0.0                             0.0   \n\n   NUM_Hispanic_BEN  NUM_American_IndianAlaska_Native_BEN  \\\n0             134.0                                  16.0   \n1               0.0                                   0.0   \n2               0.0                                   0.0   \n3               0.0                                   0.0   \n4              18.0                                   0.0   \n\n   NUM_BEN_With_Race_Not_Elsewhere_Classified  \\\n0                                        34.0   \n1                                         0.0   \n2                                         0.0   \n3                                         0.0   \n4                                         0.0   \n\n   NUM_BEN_With_Medicare_Only_Entitlement  \\\n0                                  3482.0   \n1                                   324.0   \n2                                    77.0   \n3                                    27.0   \n4                                   271.0   \n\n   NUM_BEN_With_Medicare_Medicaid_Entitlement  \n0                                      1938.0  \n1                                        60.0  \n2                                         0.0  \n3                                         0.0  \n4                                       179.0  \n\n[5 rows x 36 columns]",
      "text/html": "<div>\n<style scoped>\n    .dataframe tbody tr th:only-of-type {\n        vertical-align: middle;\n    }\n\n    .dataframe tbody tr th {\n        vertical-align: top;\n    }\n\n    .dataframe thead th {\n        text-align: right;\n    }\n</style>\n<table border=\"1\" class=\"dataframe\">\n  <thead>\n    <tr style=\"text-align: right;\">\n      <th></th>\n      <th>Zip_Code</th>\n      <th>NUM_HCPCS</th>\n      <th>NUM_Services</th>\n      <th>NUM_Medicare_BEN</th>\n      <th>Total_Submitted_Charge_Amount</th>\n      <th>Total_Medicare_Allowed_Amount</th>\n      <th>Total_Medicare_Payment_Amount</th>\n      <th>Total_Medicare_Standardized_Payment_Amount</th>\n      <th>NUM_HCPCS_Associated_With_Drug_Services</th>\n      <th>NUM_Drug_Services</th>\n      <th>...</th>\n      <th>NUM_Female_BEN</th>\n      <th>NUM_Male_BEN</th>\n      <th>NUM_Non-Hispanic_White_BEN</th>\n      <th>NUM_Black_or_African_American_BEN</th>\n      <th>NUM_Asian_Pacific_Islander_BEN</th>\n      <th>NUM_Hispanic_BEN</th>\n      <th>NUM_American_IndianAlaska_Native_BEN</th>\n      <th>NUM_BEN_With_Race_Not_Elsewhere_Classified</th>\n      <th>NUM_BEN_With_Medicare_Only_Entitlement</th>\n      <th>NUM_BEN_With_Medicare_Medicaid_Entitlement</th>\n    </tr>\n  </thead>\n  <tbody>\n    <tr>\n      <th>0</th>\n      <td>0.0</td>\n      <td>497</td>\n      <td>13702.0</td>\n      <td>5457</td>\n      <td>4220040.48</td>\n      <td>1223773.71</td>\n      <td>918604.37</td>\n      <td>917482.14</td>\n      <td>2.0</td>\n      <td>278.0</td>\n      <td>...</td>\n      <td>3057.0</td>\n      <td>2336.0</td>\n      <td>3960.0</td>\n      <td>376.0</td>\n      <td>0.0</td>\n      <td>134.0</td>\n      <td>16.0</td>\n      <td>34.0</td>\n      <td>3482.0</td>\n      <td>1938.0</td>\n    </tr>\n    <tr>\n      <th>1</th>\n      <td>1.0</td>\n      <td>69</td>\n      <td>926.0</td>\n      <td>384</td>\n      <td>381997.00</td>\n      <td>92143.88</td>\n      <td>70859.78</td>\n      <td>76989.29</td>\n      <td>0.0</td>\n      <td>0.0</td>\n      <td>...</td>\n      <td>221.0</td>\n      <td>163.0</td>\n      <td>367.0</td>\n      <td>0.0</td>\n      <td>0.0</td>\n      <td>0.0</td>\n      <td>0.0</td>\n      <td>0.0</td>\n      <td>324.0</td>\n      <td>60.0</td>\n    </tr>\n    <tr>\n      <th>2</th>\n      <td>80.0</td>\n      <td>12</td>\n      <td>195.0</td>\n      <td>77</td>\n      <td>14742.98</td>\n      <td>14616.36</td>\n      <td>9455.60</td>\n      <td>11451.76</td>\n      <td>0.0</td>\n      <td>0.0</td>\n      <td>...</td>\n      <td>0.0</td>\n      <td>0.0</td>\n      <td>0.0</td>\n      <td>0.0</td>\n      <td>0.0</td>\n      <td>0.0</td>\n      <td>0.0</td>\n      <td>0.0</td>\n      <td>77.0</td>\n      <td>0.0</td>\n    </tr>\n    <tr>\n      <th>3</th>\n      <td>96.0</td>\n      <td>6</td>\n      <td>67.0</td>\n      <td>27</td>\n      <td>11719.90</td>\n      <td>11719.90</td>\n      <td>8796.86</td>\n      <td>9888.65</td>\n      <td>0.0</td>\n      <td>0.0</td>\n      <td>...</td>\n      <td>0.0</td>\n      <td>0.0</td>\n      <td>0.0</td>\n      <td>0.0</td>\n      <td>0.0</td>\n      <td>0.0</td>\n      <td>0.0</td>\n      <td>0.0</td>\n      <td>27.0</td>\n      <td>0.0</td>\n    </tr>\n    <tr>\n      <th>4</th>\n      <td>115.0</td>\n      <td>18</td>\n      <td>1154.0</td>\n      <td>450</td>\n      <td>437354.00</td>\n      <td>120603.99</td>\n      <td>92876.22</td>\n      <td>90738.11</td>\n      <td>0.0</td>\n      <td>0.0</td>\n      <td>...</td>\n      <td>249.0</td>\n      <td>201.0</td>\n      <td>414.0</td>\n      <td>0.0</td>\n      <td>0.0</td>\n      <td>18.0</td>\n      <td>0.0</td>\n      <td>0.0</td>\n      <td>271.0</td>\n      <td>179.0</td>\n    </tr>\n  </tbody>\n</table>\n<p>5 rows × 36 columns</p>\n</div>"
     },
     "metadata": {},
     "output_type": "execute_result",
     "execution_count": 4
    }
   ],
   "source": [
    "sum = medicare_df.groupby(by='Zip_Code').sum().reset_index()\n",
    "sum_columns = ['Zip_Code', 'NUM_HCPCS', 'NUM_Services', 'NUM_Medicare_BEN',\n",
    "               'Total_Submitted_Charge_Amount', 'Total_Medicare_Allowed_Amount',\n",
    "               'Total_Medicare_Payment_Amount',\n",
    "               'Total_Medicare_Standardized_Payment_Amount',\n",
    "               'NUM_HCPCS_Associated_With_Drug_Services', 'NUM_Drug_Services',\n",
    "               'NUM_Medicare_BEN_With_Drug_Services',\n",
    "               'Total_Drug_Submitted_Charge_Amount',\n",
    "               'Total_Drug_Medicare_Allowed_Amount',\n",
    "               'Total_Drug_Medicare_Payment_Amount',\n",
    "               'Total_Drug_Medicare_Standardized_Payment_Amount',\n",
    "               'NUM_HCPCS_Associated_With_Medical_Services', 'NUM_Medical_Services',\n",
    "               'NUM_Medicare_BEN_With_Medical_Services',\n",
    "               'Total_Medical_Submitted_Charge_Amount',\n",
    "               'Total_Medical_Medicare_Allowed_Amount',\n",
    "               'Total_Medical_Medicare_Payment_Amount',\n",
    "               'Total_Medical_Medicare_Standardized_Payment_Amount','NUM_BEN_Age_Less_65', 'NUM_BEN_Age_65_to_74',\n",
    "               'NUM_BEN_Age_75_to_84', 'NUM_BEN_Age_Greater_84', 'NUM_Female_BEN',\n",
    "               'NUM_Male_BEN', 'NUM_Non-Hispanic_White_BEN',\n",
    "               'NUM_Black_or_African_American_BEN', 'NUM_Asian_Pacific_Islander_BEN',\n",
    "               'NUM_Hispanic_BEN', 'NUM_American_IndianAlaska_Native_BEN',\n",
    "               'NUM_BEN_With_Race_Not_Elsewhere_Classified',\n",
    "               'NUM_BEN_With_Medicare_Only_Entitlement',\n",
    "               'NUM_BEN_With_Medicare_Medicaid_Entitlement',]\n",
    "sum = sum[sum_columns]\n",
    "sum.head()"
   ],
   "metadata": {
    "collapsed": false,
    "pycharm": {
     "name": "#%%\n",
     "is_executing": false
    }
   }
  },
  {
   "cell_type": "code",
   "execution_count": 5,
   "outputs": [
    {
     "data": {
      "text/plain": "   Average_Age_of_BEN  PCT_BEN_Atrial_Fibrillation  \\\n0                69.6                        11.12   \n1                73.0                        23.00   \n2                75.0                         0.00   \n3                68.0                         0.00   \n4                76.0                        38.00   \n\n   PCT_BEN_Alzheimers_Disease_or_Dementia  PCT_BEN_Asthma  PCT_BEN_Cancer  \\\n0                                   21.32             9.4            9.16   \n1                                   10.00             8.0           14.00   \n2                                   18.00             0.0           16.00   \n3                                   59.00             0.0            0.00   \n4                                   38.00            17.0           18.00   \n\n   PCT_BEN_Heart_Failure  PCT_BEN_Chronic_Kidney_Disease  \\\n0                  27.92                           42.16   \n1                  32.00                           52.00   \n2                  25.00                           55.00   \n3                   0.00                            0.00   \n4                  50.00                           69.00   \n\n   PCT_BEN_Chronic_Obstructive_Pulmonary_Disease  PCT_BEN_Depression  \\\n0                                          24.72               40.88   \n1                                          24.00               33.00   \n2                                           0.00                0.00   \n3                                           0.00               52.00   \n4                                          37.00               51.00   \n\n   PCT_BEN_Diabetes  PCT_BEN_Hyperlipidemia  PCT_BEN_Hypertension  \\\n0             36.64                   52.24                 68.52   \n1             40.00                   56.00                 75.00   \n2             61.00                   43.00                 75.00   \n3             67.00                   56.00                 75.00   \n4             36.00                   68.00                 75.00   \n\n   PCT_BEN_Ischemic_Heart_Disease  PCT_BEN_Osteoporosis  \\\n0                           40.52                   5.8   \n1                           44.00                  14.0   \n2                           29.00                   0.0   \n3                            0.00                   0.0   \n4                           52.00                  23.0   \n\n   PCT_BEN_Rheumatoid_Arthritis_Osteoarthritis  \\\n0                                        44.32   \n1                                        50.00   \n2                                        44.00   \n3                                        67.00   \n4                                        48.00   \n\n   PCT_BEN_Schizophrenia_Other_Psychotic_Disorders  PCT_BEN_Stroke  \n0                                             5.32            7.08  \n1                                             0.00            7.00  \n2                                             0.00            0.00  \n3                                             0.00            0.00  \n4                                            12.00           13.00  ",
      "text/html": "<div>\n<style scoped>\n    .dataframe tbody tr th:only-of-type {\n        vertical-align: middle;\n    }\n\n    .dataframe tbody tr th {\n        vertical-align: top;\n    }\n\n    .dataframe thead th {\n        text-align: right;\n    }\n</style>\n<table border=\"1\" class=\"dataframe\">\n  <thead>\n    <tr style=\"text-align: right;\">\n      <th></th>\n      <th>Average_Age_of_BEN</th>\n      <th>PCT_BEN_Atrial_Fibrillation</th>\n      <th>PCT_BEN_Alzheimers_Disease_or_Dementia</th>\n      <th>PCT_BEN_Asthma</th>\n      <th>PCT_BEN_Cancer</th>\n      <th>PCT_BEN_Heart_Failure</th>\n      <th>PCT_BEN_Chronic_Kidney_Disease</th>\n      <th>PCT_BEN_Chronic_Obstructive_Pulmonary_Disease</th>\n      <th>PCT_BEN_Depression</th>\n      <th>PCT_BEN_Diabetes</th>\n      <th>PCT_BEN_Hyperlipidemia</th>\n      <th>PCT_BEN_Hypertension</th>\n      <th>PCT_BEN_Ischemic_Heart_Disease</th>\n      <th>PCT_BEN_Osteoporosis</th>\n      <th>PCT_BEN_Rheumatoid_Arthritis_Osteoarthritis</th>\n      <th>PCT_BEN_Schizophrenia_Other_Psychotic_Disorders</th>\n      <th>PCT_BEN_Stroke</th>\n    </tr>\n  </thead>\n  <tbody>\n    <tr>\n      <th>0</th>\n      <td>69.6</td>\n      <td>11.12</td>\n      <td>21.32</td>\n      <td>9.4</td>\n      <td>9.16</td>\n      <td>27.92</td>\n      <td>42.16</td>\n      <td>24.72</td>\n      <td>40.88</td>\n      <td>36.64</td>\n      <td>52.24</td>\n      <td>68.52</td>\n      <td>40.52</td>\n      <td>5.8</td>\n      <td>44.32</td>\n      <td>5.32</td>\n      <td>7.08</td>\n    </tr>\n    <tr>\n      <th>1</th>\n      <td>73.0</td>\n      <td>23.00</td>\n      <td>10.00</td>\n      <td>8.0</td>\n      <td>14.00</td>\n      <td>32.00</td>\n      <td>52.00</td>\n      <td>24.00</td>\n      <td>33.00</td>\n      <td>40.00</td>\n      <td>56.00</td>\n      <td>75.00</td>\n      <td>44.00</td>\n      <td>14.0</td>\n      <td>50.00</td>\n      <td>0.00</td>\n      <td>7.00</td>\n    </tr>\n    <tr>\n      <th>2</th>\n      <td>75.0</td>\n      <td>0.00</td>\n      <td>18.00</td>\n      <td>0.0</td>\n      <td>16.00</td>\n      <td>25.00</td>\n      <td>55.00</td>\n      <td>0.00</td>\n      <td>0.00</td>\n      <td>61.00</td>\n      <td>43.00</td>\n      <td>75.00</td>\n      <td>29.00</td>\n      <td>0.0</td>\n      <td>44.00</td>\n      <td>0.00</td>\n      <td>0.00</td>\n    </tr>\n    <tr>\n      <th>3</th>\n      <td>68.0</td>\n      <td>0.00</td>\n      <td>59.00</td>\n      <td>0.0</td>\n      <td>0.00</td>\n      <td>0.00</td>\n      <td>0.00</td>\n      <td>0.00</td>\n      <td>52.00</td>\n      <td>67.00</td>\n      <td>56.00</td>\n      <td>75.00</td>\n      <td>0.00</td>\n      <td>0.0</td>\n      <td>67.00</td>\n      <td>0.00</td>\n      <td>0.00</td>\n    </tr>\n    <tr>\n      <th>4</th>\n      <td>76.0</td>\n      <td>38.00</td>\n      <td>38.00</td>\n      <td>17.0</td>\n      <td>18.00</td>\n      <td>50.00</td>\n      <td>69.00</td>\n      <td>37.00</td>\n      <td>51.00</td>\n      <td>36.00</td>\n      <td>68.00</td>\n      <td>75.00</td>\n      <td>52.00</td>\n      <td>23.0</td>\n      <td>48.00</td>\n      <td>12.00</td>\n      <td>13.00</td>\n    </tr>\n  </tbody>\n</table>\n</div>"
     },
     "metadata": {},
     "output_type": "execute_result",
     "execution_count": 5
    }
   ],
   "source": [
    "average = medicare_df.groupby(by='Zip_Code').mean().reset_index()\n",
    "average_columns = ['Average_Age_of_BEN', 'PCT_BEN_Atrial_Fibrillation', 'PCT_BEN_Alzheimers_Disease_or_Dementia',\n",
    "               'PCT_BEN_Asthma', 'PCT_BEN_Cancer', 'PCT_BEN_Heart_Failure',\n",
    "               'PCT_BEN_Chronic_Kidney_Disease',\n",
    "               'PCT_BEN_Chronic_Obstructive_Pulmonary_Disease', 'PCT_BEN_Depression',\n",
    "               'PCT_BEN_Diabetes', 'PCT_BEN_Hyperlipidemia', 'PCT_BEN_Hypertension',\n",
    "               'PCT_BEN_Ischemic_Heart_Disease', 'PCT_BEN_Osteoporosis',\n",
    "               'PCT_BEN_Rheumatoid_Arthritis_Osteoarthritis',\n",
    "               'PCT_BEN_Schizophrenia_Other_Psychotic_Disorders', 'PCT_BEN_Stroke',]\n",
    "average = average[average_columns]\n",
    "average.head()"
   ],
   "metadata": {
    "collapsed": false,
    "pycharm": {
     "name": "#%%\n",
     "is_executing": false
    }
   }
  },
  {
   "cell_type": "code",
   "execution_count": 6,
   "outputs": [
    {
     "data": {
      "text/plain": "       Zip_Code  NUM_HCPCS  NUM_Services  NUM_Medicare_BEN  \\\n0           0.0        497       13702.0              5457   \n1           1.0         69         926.0               384   \n2          80.0         12         195.0                77   \n3          96.0          6          67.0                27   \n4         115.0         18        1154.0               450   \n...         ...        ...           ...               ...   \n24756   99922.0         21         113.0                56   \n24757   99925.0         52        1508.8               439   \n24758   99926.0         60       71254.0               306   \n24759   99928.0         87        1162.0                79   \n24760   99929.0        107        2249.5               422   \n\n       Total_Submitted_Charge_Amount  Total_Medicare_Allowed_Amount  \\\n0                         4220040.48                     1223773.71   \n1                          381997.00                       92143.88   \n2                           14742.98                       14616.36   \n3                           11719.90                       11719.90   \n4                          437354.00                      120603.99   \n...                              ...                            ...   \n24756                       16448.36                        6641.87   \n24757                      423382.03                      105399.19   \n24758                     5406780.03                     2096708.18   \n24759                      121552.12                       39599.84   \n24760                      284772.94                      126968.54   \n\n       Total_Medicare_Payment_Amount  \\\n0                          918604.37   \n1                           70859.78   \n2                            9455.60   \n3                            8796.86   \n4                           92876.22   \n...                              ...   \n24756                        4855.14   \n24757                       79956.90   \n24758                     1576771.21   \n24759                       29722.79   \n24760                       90750.81   \n\n       Total_Medicare_Standardized_Payment_Amount  \\\n0                                       917482.14   \n1                                        76989.29   \n2                                        11451.76   \n3                                         9888.65   \n4                                        90738.11   \n...                                           ...   \n24756                                     4583.19   \n24757                                    75996.60   \n24758                                  1654689.34   \n24759                                    24645.37   \n24760                                    79207.18   \n\n       NUM_HCPCS_Associated_With_Drug_Services  NUM_Drug_Services  ...  \\\n0                                          2.0              278.0  ...   \n1                                          0.0                0.0  ...   \n2                                          0.0                0.0  ...   \n3                                          0.0                0.0  ...   \n4                                          0.0                0.0  ...   \n...                                        ...                ...  ...   \n24756                                      0.0                0.0  ...   \n24757                                      0.0                0.0  ...   \n24758                                     28.0            66751.0  ...   \n24759                                     28.0              448.0  ...   \n24760                                      6.0               61.0  ...   \n\n       PCT_BEN_Chronic_Obstructive_Pulmonary_Disease  PCT_BEN_Depression  \\\n0                                              24.72           40.880000   \n1                                              24.00           33.000000   \n2                                               0.00            0.000000   \n3                                               0.00           52.000000   \n4                                              37.00           51.000000   \n...                                              ...                 ...   \n24756                                           0.00           13.000000   \n24757                                          20.50           20.500000   \n24758                                          13.00           16.333333   \n24759                                           0.00           19.000000   \n24760                                           2.40            7.400000   \n\n       PCT_BEN_Diabetes  PCT_BEN_Hyperlipidemia  PCT_BEN_Hypertension  \\\n0             36.640000               52.240000             68.520000   \n1             40.000000               56.000000             75.000000   \n2             61.000000               43.000000             75.000000   \n3             67.000000               56.000000             75.000000   \n4             36.000000               68.000000             75.000000   \n...                 ...                     ...                   ...   \n24756          0.000000               14.500000             26.000000   \n24757         23.500000               25.750000             56.000000   \n24758         42.333333               54.333333             67.333333   \n24759         37.000000               51.000000             58.000000   \n24760         22.400000               15.000000             61.200000   \n\n       PCT_BEN_Ischemic_Heart_Disease  PCT_BEN_Osteoporosis  \\\n0                               40.52                   5.8   \n1                               44.00                  14.0   \n2                               29.00                   0.0   \n3                                0.00                   0.0   \n4                               52.00                  23.0   \n...                               ...                   ...   \n24756                           15.50                   0.0   \n24757                           30.50                   2.0   \n24758                           16.00                   9.0   \n24759                           20.00                   0.0   \n24760                           33.80                   0.0   \n\n       PCT_BEN_Rheumatoid_Arthritis_Osteoarthritis  \\\n0                                        44.320000   \n1                                        50.000000   \n2                                        44.000000   \n3                                        67.000000   \n4                                        48.000000   \n...                                            ...   \n24756                                    25.000000   \n24757                                    36.750000   \n24758                                    52.333333   \n24759                                    44.000000   \n24760                                    51.200000   \n\n       PCT_BEN_Schizophrenia_Other_Psychotic_Disorders  PCT_BEN_Stroke  \n0                                                 5.32            7.08  \n1                                                 0.00            7.00  \n2                                                 0.00            0.00  \n3                                                 0.00            0.00  \n4                                                12.00           13.00  \n...                                                ...             ...  \n24756                                             0.00            0.00  \n24757                                             1.50            0.00  \n24758                                             0.00            0.00  \n24759                                             0.00            0.00  \n24760                                             0.00            0.00  \n\n[24761 rows x 53 columns]",
      "text/html": "<div>\n<style scoped>\n    .dataframe tbody tr th:only-of-type {\n        vertical-align: middle;\n    }\n\n    .dataframe tbody tr th {\n        vertical-align: top;\n    }\n\n    .dataframe thead th {\n        text-align: right;\n    }\n</style>\n<table border=\"1\" class=\"dataframe\">\n  <thead>\n    <tr style=\"text-align: right;\">\n      <th></th>\n      <th>Zip_Code</th>\n      <th>NUM_HCPCS</th>\n      <th>NUM_Services</th>\n      <th>NUM_Medicare_BEN</th>\n      <th>Total_Submitted_Charge_Amount</th>\n      <th>Total_Medicare_Allowed_Amount</th>\n      <th>Total_Medicare_Payment_Amount</th>\n      <th>Total_Medicare_Standardized_Payment_Amount</th>\n      <th>NUM_HCPCS_Associated_With_Drug_Services</th>\n      <th>NUM_Drug_Services</th>\n      <th>...</th>\n      <th>PCT_BEN_Chronic_Obstructive_Pulmonary_Disease</th>\n      <th>PCT_BEN_Depression</th>\n      <th>PCT_BEN_Diabetes</th>\n      <th>PCT_BEN_Hyperlipidemia</th>\n      <th>PCT_BEN_Hypertension</th>\n      <th>PCT_BEN_Ischemic_Heart_Disease</th>\n      <th>PCT_BEN_Osteoporosis</th>\n      <th>PCT_BEN_Rheumatoid_Arthritis_Osteoarthritis</th>\n      <th>PCT_BEN_Schizophrenia_Other_Psychotic_Disorders</th>\n      <th>PCT_BEN_Stroke</th>\n    </tr>\n  </thead>\n  <tbody>\n    <tr>\n      <th>0</th>\n      <td>0.0</td>\n      <td>497</td>\n      <td>13702.0</td>\n      <td>5457</td>\n      <td>4220040.48</td>\n      <td>1223773.71</td>\n      <td>918604.37</td>\n      <td>917482.14</td>\n      <td>2.0</td>\n      <td>278.0</td>\n      <td>...</td>\n      <td>24.72</td>\n      <td>40.880000</td>\n      <td>36.640000</td>\n      <td>52.240000</td>\n      <td>68.520000</td>\n      <td>40.52</td>\n      <td>5.8</td>\n      <td>44.320000</td>\n      <td>5.32</td>\n      <td>7.08</td>\n    </tr>\n    <tr>\n      <th>1</th>\n      <td>1.0</td>\n      <td>69</td>\n      <td>926.0</td>\n      <td>384</td>\n      <td>381997.00</td>\n      <td>92143.88</td>\n      <td>70859.78</td>\n      <td>76989.29</td>\n      <td>0.0</td>\n      <td>0.0</td>\n      <td>...</td>\n      <td>24.00</td>\n      <td>33.000000</td>\n      <td>40.000000</td>\n      <td>56.000000</td>\n      <td>75.000000</td>\n      <td>44.00</td>\n      <td>14.0</td>\n      <td>50.000000</td>\n      <td>0.00</td>\n      <td>7.00</td>\n    </tr>\n    <tr>\n      <th>2</th>\n      <td>80.0</td>\n      <td>12</td>\n      <td>195.0</td>\n      <td>77</td>\n      <td>14742.98</td>\n      <td>14616.36</td>\n      <td>9455.60</td>\n      <td>11451.76</td>\n      <td>0.0</td>\n      <td>0.0</td>\n      <td>...</td>\n      <td>0.00</td>\n      <td>0.000000</td>\n      <td>61.000000</td>\n      <td>43.000000</td>\n      <td>75.000000</td>\n      <td>29.00</td>\n      <td>0.0</td>\n      <td>44.000000</td>\n      <td>0.00</td>\n      <td>0.00</td>\n    </tr>\n    <tr>\n      <th>3</th>\n      <td>96.0</td>\n      <td>6</td>\n      <td>67.0</td>\n      <td>27</td>\n      <td>11719.90</td>\n      <td>11719.90</td>\n      <td>8796.86</td>\n      <td>9888.65</td>\n      <td>0.0</td>\n      <td>0.0</td>\n      <td>...</td>\n      <td>0.00</td>\n      <td>52.000000</td>\n      <td>67.000000</td>\n      <td>56.000000</td>\n      <td>75.000000</td>\n      <td>0.00</td>\n      <td>0.0</td>\n      <td>67.000000</td>\n      <td>0.00</td>\n      <td>0.00</td>\n    </tr>\n    <tr>\n      <th>4</th>\n      <td>115.0</td>\n      <td>18</td>\n      <td>1154.0</td>\n      <td>450</td>\n      <td>437354.00</td>\n      <td>120603.99</td>\n      <td>92876.22</td>\n      <td>90738.11</td>\n      <td>0.0</td>\n      <td>0.0</td>\n      <td>...</td>\n      <td>37.00</td>\n      <td>51.000000</td>\n      <td>36.000000</td>\n      <td>68.000000</td>\n      <td>75.000000</td>\n      <td>52.00</td>\n      <td>23.0</td>\n      <td>48.000000</td>\n      <td>12.00</td>\n      <td>13.00</td>\n    </tr>\n    <tr>\n      <th>...</th>\n      <td>...</td>\n      <td>...</td>\n      <td>...</td>\n      <td>...</td>\n      <td>...</td>\n      <td>...</td>\n      <td>...</td>\n      <td>...</td>\n      <td>...</td>\n      <td>...</td>\n      <td>...</td>\n      <td>...</td>\n      <td>...</td>\n      <td>...</td>\n      <td>...</td>\n      <td>...</td>\n      <td>...</td>\n      <td>...</td>\n      <td>...</td>\n      <td>...</td>\n      <td>...</td>\n    </tr>\n    <tr>\n      <th>24756</th>\n      <td>99922.0</td>\n      <td>21</td>\n      <td>113.0</td>\n      <td>56</td>\n      <td>16448.36</td>\n      <td>6641.87</td>\n      <td>4855.14</td>\n      <td>4583.19</td>\n      <td>0.0</td>\n      <td>0.0</td>\n      <td>...</td>\n      <td>0.00</td>\n      <td>13.000000</td>\n      <td>0.000000</td>\n      <td>14.500000</td>\n      <td>26.000000</td>\n      <td>15.50</td>\n      <td>0.0</td>\n      <td>25.000000</td>\n      <td>0.00</td>\n      <td>0.00</td>\n    </tr>\n    <tr>\n      <th>24757</th>\n      <td>99925.0</td>\n      <td>52</td>\n      <td>1508.8</td>\n      <td>439</td>\n      <td>423382.03</td>\n      <td>105399.19</td>\n      <td>79956.90</td>\n      <td>75996.60</td>\n      <td>0.0</td>\n      <td>0.0</td>\n      <td>...</td>\n      <td>20.50</td>\n      <td>20.500000</td>\n      <td>23.500000</td>\n      <td>25.750000</td>\n      <td>56.000000</td>\n      <td>30.50</td>\n      <td>2.0</td>\n      <td>36.750000</td>\n      <td>1.50</td>\n      <td>0.00</td>\n    </tr>\n    <tr>\n      <th>24758</th>\n      <td>99926.0</td>\n      <td>60</td>\n      <td>71254.0</td>\n      <td>306</td>\n      <td>5406780.03</td>\n      <td>2096708.18</td>\n      <td>1576771.21</td>\n      <td>1654689.34</td>\n      <td>28.0</td>\n      <td>66751.0</td>\n      <td>...</td>\n      <td>13.00</td>\n      <td>16.333333</td>\n      <td>42.333333</td>\n      <td>54.333333</td>\n      <td>67.333333</td>\n      <td>16.00</td>\n      <td>9.0</td>\n      <td>52.333333</td>\n      <td>0.00</td>\n      <td>0.00</td>\n    </tr>\n    <tr>\n      <th>24759</th>\n      <td>99928.0</td>\n      <td>87</td>\n      <td>1162.0</td>\n      <td>79</td>\n      <td>121552.12</td>\n      <td>39599.84</td>\n      <td>29722.79</td>\n      <td>24645.37</td>\n      <td>28.0</td>\n      <td>448.0</td>\n      <td>...</td>\n      <td>0.00</td>\n      <td>19.000000</td>\n      <td>37.000000</td>\n      <td>51.000000</td>\n      <td>58.000000</td>\n      <td>20.00</td>\n      <td>0.0</td>\n      <td>44.000000</td>\n      <td>0.00</td>\n      <td>0.00</td>\n    </tr>\n    <tr>\n      <th>24760</th>\n      <td>99929.0</td>\n      <td>107</td>\n      <td>2249.5</td>\n      <td>422</td>\n      <td>284772.94</td>\n      <td>126968.54</td>\n      <td>90750.81</td>\n      <td>79207.18</td>\n      <td>6.0</td>\n      <td>61.0</td>\n      <td>...</td>\n      <td>2.40</td>\n      <td>7.400000</td>\n      <td>22.400000</td>\n      <td>15.000000</td>\n      <td>61.200000</td>\n      <td>33.80</td>\n      <td>0.0</td>\n      <td>51.200000</td>\n      <td>0.00</td>\n      <td>0.00</td>\n    </tr>\n  </tbody>\n</table>\n<p>24761 rows × 53 columns</p>\n</div>"
     },
     "metadata": {},
     "output_type": "execute_result",
     "execution_count": 6
    }
   ],
   "source": [
    "medicare_group_df = pd.concat([sum, average], axis=1)\n",
    "medicare_group_df"
   ],
   "metadata": {
    "collapsed": false,
    "pycharm": {
     "name": "#%%\n",
     "is_executing": false
    }
   }
  },
  {
   "cell_type": "markdown",
   "source": [
    "COUNT the number of entries GROUP BY each zip code, and save to output_count.csv"
   ],
   "metadata": {
    "collapsed": false,
    "pycharm": {
     "name": "#%% md\n"
    }
   }
  },
  {
   "cell_type": "code",
   "execution_count": 29,
   "outputs": [
    {
     "data": {
      "text/plain": "       Zip_Code  NUM_HCPCS\n0           0.0         25\n1           1.0          1\n2          80.0          1\n3          96.0          1\n4         115.0          1\n...         ...        ...\n24756   99922.0          2\n24757   99925.0          4\n24758   99926.0          3\n24759   99928.0          1\n24760   99929.0          5\n\n[24761 rows x 2 columns]",
      "text/html": "<div>\n<style scoped>\n    .dataframe tbody tr th:only-of-type {\n        vertical-align: middle;\n    }\n\n    .dataframe tbody tr th {\n        vertical-align: top;\n    }\n\n    .dataframe thead th {\n        text-align: right;\n    }\n</style>\n<table border=\"1\" class=\"dataframe\">\n  <thead>\n    <tr style=\"text-align: right;\">\n      <th></th>\n      <th>Zip_Code</th>\n      <th>NUM_HCPCS</th>\n    </tr>\n  </thead>\n  <tbody>\n    <tr>\n      <th>0</th>\n      <td>0.0</td>\n      <td>25</td>\n    </tr>\n    <tr>\n      <th>1</th>\n      <td>1.0</td>\n      <td>1</td>\n    </tr>\n    <tr>\n      <th>2</th>\n      <td>80.0</td>\n      <td>1</td>\n    </tr>\n    <tr>\n      <th>3</th>\n      <td>96.0</td>\n      <td>1</td>\n    </tr>\n    <tr>\n      <th>4</th>\n      <td>115.0</td>\n      <td>1</td>\n    </tr>\n    <tr>\n      <th>...</th>\n      <td>...</td>\n      <td>...</td>\n    </tr>\n    <tr>\n      <th>24756</th>\n      <td>99922.0</td>\n      <td>2</td>\n    </tr>\n    <tr>\n      <th>24757</th>\n      <td>99925.0</td>\n      <td>4</td>\n    </tr>\n    <tr>\n      <th>24758</th>\n      <td>99926.0</td>\n      <td>3</td>\n    </tr>\n    <tr>\n      <th>24759</th>\n      <td>99928.0</td>\n      <td>1</td>\n    </tr>\n    <tr>\n      <th>24760</th>\n      <td>99929.0</td>\n      <td>5</td>\n    </tr>\n  </tbody>\n</table>\n<p>24761 rows × 2 columns</p>\n</div>"
     },
     "metadata": {},
     "output_type": "execute_result",
     "execution_count": 29
    }
   ],
   "source": [
    "count = medicare_df.iloc[:, 0:2].groupby(by='Zip_Code').count().reset_index()\n",
    "count.to_csv('output_count.csv')\n",
    "count"
   ],
   "metadata": {
    "collapsed": false,
    "pycharm": {
     "name": "#%%\n",
     "is_executing": false
    }
   }
  },
  {
   "cell_type": "markdown",
   "source": [
    "INNER JOIN the hospital and medicare tables ON Zip_Code"
   ],
   "metadata": {
    "collapsed": false,
    "pycharm": {
     "name": "#%% md\n"
    }
   }
  },
  {
   "cell_type": "code",
   "execution_count": 7,
   "outputs": [
    {
     "data": {
      "text/plain": "   Zip_Code  NUM_HCPCS  NUM_Services  NUM_Medicare_BEN  \\\n0   21502.0         23        1670.0               578   \n1   21502.0         23        1670.0               578   \n2   21502.0          8        1827.0               601   \n3   21502.0          8        1827.0               601   \n4   21502.0         49        8450.0              1029   \n\n   Total_Submitted_Charge_Amount  Total_Medicare_Allowed_Amount  \\\n0                      800850.00                      177181.14   \n1                      800850.00                      177181.14   \n2                     1282363.64                      187382.74   \n3                     1282363.64                      187382.74   \n4                     2379228.00                      881333.53   \n\n   Total_Medicare_Payment_Amount  Total_Medicare_Standardized_Payment_Amount  \\\n0                      137084.55                                   138279.12   \n1                      137084.55                                   138279.12   \n2                      145298.83                                   142633.13   \n3                      145298.83                                   142633.13   \n4                      719342.57                                   717252.38   \n\n   NUM_HCPCS_Associated_With_Drug_Services  NUM_Drug_Services  ...  \\\n0                                      0.0                0.0  ...   \n1                                      0.0                0.0  ...   \n2                                      0.0                0.0  ...   \n3                                      0.0                0.0  ...   \n4                                      0.0                0.0  ...   \n\n   COUNTYFIPS    COUNTY                           HOSPITAL_DESC  \\\n0       24001  ALLEGANY  GENERAL MEDICAL AND SURGICAL HOSPITALS   \n1       24001  ALLEGANY  GENERAL MEDICAL AND SURGICAL HOSPITALS   \n2       24001  ALLEGANY  GENERAL MEDICAL AND SURGICAL HOSPITALS   \n3       24001  ALLEGANY  GENERAL MEDICAL AND SURGICAL HOSPITALS   \n4       24001  ALLEGANY  GENERAL MEDICAL AND SURGICAL HOSPITALS   \n\n                OWNER  BEDS         TRAUMA  HELIPAD  POPULATION_COUNTY  \\\n0          NON-PROFIT   371      LEVEL III        Y              70416   \n1  GOVERNMENT - STATE    80  NOT AVAILABLE        N              70416   \n2          NON-PROFIT   371      LEVEL III        Y              70416   \n3  GOVERNMENT - STATE    80  NOT AVAILABLE        N              70416   \n4          NON-PROFIT   371      LEVEL III        Y              70416   \n\n   COVID_CASES_4.10.20  COVID_DEATHS_4.10.20  \n0                   10                     0  \n1                   10                     0  \n2                   10                     0  \n3                   10                     0  \n4                   10                     0  \n\n[5 rows x 75 columns]",
      "text/html": "<div>\n<style scoped>\n    .dataframe tbody tr th:only-of-type {\n        vertical-align: middle;\n    }\n\n    .dataframe tbody tr th {\n        vertical-align: top;\n    }\n\n    .dataframe thead th {\n        text-align: right;\n    }\n</style>\n<table border=\"1\" class=\"dataframe\">\n  <thead>\n    <tr style=\"text-align: right;\">\n      <th></th>\n      <th>Zip_Code</th>\n      <th>NUM_HCPCS</th>\n      <th>NUM_Services</th>\n      <th>NUM_Medicare_BEN</th>\n      <th>Total_Submitted_Charge_Amount</th>\n      <th>Total_Medicare_Allowed_Amount</th>\n      <th>Total_Medicare_Payment_Amount</th>\n      <th>Total_Medicare_Standardized_Payment_Amount</th>\n      <th>NUM_HCPCS_Associated_With_Drug_Services</th>\n      <th>NUM_Drug_Services</th>\n      <th>...</th>\n      <th>COUNTYFIPS</th>\n      <th>COUNTY</th>\n      <th>HOSPITAL_DESC</th>\n      <th>OWNER</th>\n      <th>BEDS</th>\n      <th>TRAUMA</th>\n      <th>HELIPAD</th>\n      <th>POPULATION_COUNTY</th>\n      <th>COVID_CASES_4.10.20</th>\n      <th>COVID_DEATHS_4.10.20</th>\n    </tr>\n  </thead>\n  <tbody>\n    <tr>\n      <th>0</th>\n      <td>21502.0</td>\n      <td>23</td>\n      <td>1670.0</td>\n      <td>578</td>\n      <td>800850.00</td>\n      <td>177181.14</td>\n      <td>137084.55</td>\n      <td>138279.12</td>\n      <td>0.0</td>\n      <td>0.0</td>\n      <td>...</td>\n      <td>24001</td>\n      <td>ALLEGANY</td>\n      <td>GENERAL MEDICAL AND SURGICAL HOSPITALS</td>\n      <td>NON-PROFIT</td>\n      <td>371</td>\n      <td>LEVEL III</td>\n      <td>Y</td>\n      <td>70416</td>\n      <td>10</td>\n      <td>0</td>\n    </tr>\n    <tr>\n      <th>1</th>\n      <td>21502.0</td>\n      <td>23</td>\n      <td>1670.0</td>\n      <td>578</td>\n      <td>800850.00</td>\n      <td>177181.14</td>\n      <td>137084.55</td>\n      <td>138279.12</td>\n      <td>0.0</td>\n      <td>0.0</td>\n      <td>...</td>\n      <td>24001</td>\n      <td>ALLEGANY</td>\n      <td>GENERAL MEDICAL AND SURGICAL HOSPITALS</td>\n      <td>GOVERNMENT - STATE</td>\n      <td>80</td>\n      <td>NOT AVAILABLE</td>\n      <td>N</td>\n      <td>70416</td>\n      <td>10</td>\n      <td>0</td>\n    </tr>\n    <tr>\n      <th>2</th>\n      <td>21502.0</td>\n      <td>8</td>\n      <td>1827.0</td>\n      <td>601</td>\n      <td>1282363.64</td>\n      <td>187382.74</td>\n      <td>145298.83</td>\n      <td>142633.13</td>\n      <td>0.0</td>\n      <td>0.0</td>\n      <td>...</td>\n      <td>24001</td>\n      <td>ALLEGANY</td>\n      <td>GENERAL MEDICAL AND SURGICAL HOSPITALS</td>\n      <td>NON-PROFIT</td>\n      <td>371</td>\n      <td>LEVEL III</td>\n      <td>Y</td>\n      <td>70416</td>\n      <td>10</td>\n      <td>0</td>\n    </tr>\n    <tr>\n      <th>3</th>\n      <td>21502.0</td>\n      <td>8</td>\n      <td>1827.0</td>\n      <td>601</td>\n      <td>1282363.64</td>\n      <td>187382.74</td>\n      <td>145298.83</td>\n      <td>142633.13</td>\n      <td>0.0</td>\n      <td>0.0</td>\n      <td>...</td>\n      <td>24001</td>\n      <td>ALLEGANY</td>\n      <td>GENERAL MEDICAL AND SURGICAL HOSPITALS</td>\n      <td>GOVERNMENT - STATE</td>\n      <td>80</td>\n      <td>NOT AVAILABLE</td>\n      <td>N</td>\n      <td>70416</td>\n      <td>10</td>\n      <td>0</td>\n    </tr>\n    <tr>\n      <th>4</th>\n      <td>21502.0</td>\n      <td>49</td>\n      <td>8450.0</td>\n      <td>1029</td>\n      <td>2379228.00</td>\n      <td>881333.53</td>\n      <td>719342.57</td>\n      <td>717252.38</td>\n      <td>0.0</td>\n      <td>0.0</td>\n      <td>...</td>\n      <td>24001</td>\n      <td>ALLEGANY</td>\n      <td>GENERAL MEDICAL AND SURGICAL HOSPITALS</td>\n      <td>NON-PROFIT</td>\n      <td>371</td>\n      <td>LEVEL III</td>\n      <td>Y</td>\n      <td>70416</td>\n      <td>10</td>\n      <td>0</td>\n    </tr>\n  </tbody>\n</table>\n<p>5 rows × 75 columns</p>\n</div>"
     },
     "metadata": {},
     "output_type": "execute_result",
     "execution_count": 7
    }
   ],
   "source": [
    "merge_df = pd.merge(medicare_df, hospital_df, how='inner', left_on='Zip_Code', right_on='ZIP')\n",
    "merge_df.head()"
   ],
   "metadata": {
    "collapsed": false,
    "pycharm": {
     "name": "#%%\n",
     "is_executing": false
    }
   }
  },
  {
   "cell_type": "markdown",
   "source": [
    "Repeat sum/average GROUP BY COUNTYFIPS"
   ],
   "metadata": {
    "collapsed": false,
    "pycharm": {
     "name": "#%% md\n"
    }
   }
  },
  {
   "cell_type": "code",
   "execution_count": 8,
   "outputs": [
    {
     "data": {
      "text/plain": "   COUNTYFIPS  NUM_HCPCS  NUM_Services  NUM_Medicare_BEN  \\\n0        1001        649       23608.4              5744   \n1        1003      17736     1602538.8            162262   \n2        1005        738       93074.1              8758   \n3        1007        539       30371.2              3917   \n4        1009        656       69980.4              6690   \n\n   Total_Submitted_Charge_Amount  Total_Medicare_Allowed_Amount  \\\n0                   5.642743e+06                     1601574.96   \n1                   1.515522e+08                    55396151.32   \n2                   8.347437e+06                     3250431.51   \n3                   2.129942e+06                     1155227.84   \n4                   5.193917e+06                     2358346.25   \n\n   Total_Medicare_Payment_Amount  Total_Medicare_Standardized_Payment_Amount  \\\n0                     1211002.80                                  1322271.14   \n1                    41633885.71                                 44788496.62   \n2                     2436659.90                                  2543344.20   \n3                      862891.22                                   891117.87   \n4                     1774046.43                                  1766102.27   \n\n   NUM_HCPCS_Associated_With_Drug_Services  NUM_Drug_Services  ...  \\\n0                                     80.0             2511.0  ...   \n1                                   1438.0           918468.0  ...   \n2                                     60.0             3336.0  ...   \n3                                     31.0              451.0  ...   \n4                                     93.0             3023.0  ...   \n\n   NUM_Female_BEN  NUM_Male_BEN  NUM_Non-Hispanic_White_BEN  \\\n0          3228.0        2484.0                      3753.0   \n1         90735.0       69942.0                    132868.0   \n2          5251.0        3507.0                      5335.0   \n3          2237.0        1489.0                      2634.0   \n4          3987.0        2690.0                      4152.0   \n\n   NUM_Black_or_African_American_BEN  NUM_Asian_Pacific_Islander_BEN  \\\n0                              690.0                             0.0   \n1                             7786.0                           146.0   \n2                             1134.0                             0.0   \n3                               11.0                             0.0   \n4                               14.0                             0.0   \n\n   NUM_Hispanic_BEN  NUM_American_IndianAlaska_Native_BEN  \\\n0               0.0                                   0.0   \n1             578.0                                 274.0   \n2              28.0                                   0.0   \n3               0.0                                   0.0   \n4               0.0                                   0.0   \n\n   NUM_BEN_With_Race_Not_Elsewhere_Classified  \\\n0                                         0.0   \n1                                       529.0   \n2                                         0.0   \n3                                         0.0   \n4                                         0.0   \n\n   NUM_BEN_With_Medicare_Only_Entitlement  \\\n0                                  4159.0   \n1                                128890.0   \n2                                  5359.0   \n3                                  2203.0   \n4                                  4280.0   \n\n   NUM_BEN_With_Medicare_Medicaid_Entitlement  \n0                                      1345.0  \n1                                     21063.0  \n2                                      3359.0  \n3                                      1404.0  \n4                                      2229.0  \n\n[5 rows x 36 columns]",
      "text/html": "<div>\n<style scoped>\n    .dataframe tbody tr th:only-of-type {\n        vertical-align: middle;\n    }\n\n    .dataframe tbody tr th {\n        vertical-align: top;\n    }\n\n    .dataframe thead th {\n        text-align: right;\n    }\n</style>\n<table border=\"1\" class=\"dataframe\">\n  <thead>\n    <tr style=\"text-align: right;\">\n      <th></th>\n      <th>COUNTYFIPS</th>\n      <th>NUM_HCPCS</th>\n      <th>NUM_Services</th>\n      <th>NUM_Medicare_BEN</th>\n      <th>Total_Submitted_Charge_Amount</th>\n      <th>Total_Medicare_Allowed_Amount</th>\n      <th>Total_Medicare_Payment_Amount</th>\n      <th>Total_Medicare_Standardized_Payment_Amount</th>\n      <th>NUM_HCPCS_Associated_With_Drug_Services</th>\n      <th>NUM_Drug_Services</th>\n      <th>...</th>\n      <th>NUM_Female_BEN</th>\n      <th>NUM_Male_BEN</th>\n      <th>NUM_Non-Hispanic_White_BEN</th>\n      <th>NUM_Black_or_African_American_BEN</th>\n      <th>NUM_Asian_Pacific_Islander_BEN</th>\n      <th>NUM_Hispanic_BEN</th>\n      <th>NUM_American_IndianAlaska_Native_BEN</th>\n      <th>NUM_BEN_With_Race_Not_Elsewhere_Classified</th>\n      <th>NUM_BEN_With_Medicare_Only_Entitlement</th>\n      <th>NUM_BEN_With_Medicare_Medicaid_Entitlement</th>\n    </tr>\n  </thead>\n  <tbody>\n    <tr>\n      <th>0</th>\n      <td>1001</td>\n      <td>649</td>\n      <td>23608.4</td>\n      <td>5744</td>\n      <td>5.642743e+06</td>\n      <td>1601574.96</td>\n      <td>1211002.80</td>\n      <td>1322271.14</td>\n      <td>80.0</td>\n      <td>2511.0</td>\n      <td>...</td>\n      <td>3228.0</td>\n      <td>2484.0</td>\n      <td>3753.0</td>\n      <td>690.0</td>\n      <td>0.0</td>\n      <td>0.0</td>\n      <td>0.0</td>\n      <td>0.0</td>\n      <td>4159.0</td>\n      <td>1345.0</td>\n    </tr>\n    <tr>\n      <th>1</th>\n      <td>1003</td>\n      <td>17736</td>\n      <td>1602538.8</td>\n      <td>162262</td>\n      <td>1.515522e+08</td>\n      <td>55396151.32</td>\n      <td>41633885.71</td>\n      <td>44788496.62</td>\n      <td>1438.0</td>\n      <td>918468.0</td>\n      <td>...</td>\n      <td>90735.0</td>\n      <td>69942.0</td>\n      <td>132868.0</td>\n      <td>7786.0</td>\n      <td>146.0</td>\n      <td>578.0</td>\n      <td>274.0</td>\n      <td>529.0</td>\n      <td>128890.0</td>\n      <td>21063.0</td>\n    </tr>\n    <tr>\n      <th>2</th>\n      <td>1005</td>\n      <td>738</td>\n      <td>93074.1</td>\n      <td>8758</td>\n      <td>8.347437e+06</td>\n      <td>3250431.51</td>\n      <td>2436659.90</td>\n      <td>2543344.20</td>\n      <td>60.0</td>\n      <td>3336.0</td>\n      <td>...</td>\n      <td>5251.0</td>\n      <td>3507.0</td>\n      <td>5335.0</td>\n      <td>1134.0</td>\n      <td>0.0</td>\n      <td>28.0</td>\n      <td>0.0</td>\n      <td>0.0</td>\n      <td>5359.0</td>\n      <td>3359.0</td>\n    </tr>\n    <tr>\n      <th>3</th>\n      <td>1007</td>\n      <td>539</td>\n      <td>30371.2</td>\n      <td>3917</td>\n      <td>2.129942e+06</td>\n      <td>1155227.84</td>\n      <td>862891.22</td>\n      <td>891117.87</td>\n      <td>31.0</td>\n      <td>451.0</td>\n      <td>...</td>\n      <td>2237.0</td>\n      <td>1489.0</td>\n      <td>2634.0</td>\n      <td>11.0</td>\n      <td>0.0</td>\n      <td>0.0</td>\n      <td>0.0</td>\n      <td>0.0</td>\n      <td>2203.0</td>\n      <td>1404.0</td>\n    </tr>\n    <tr>\n      <th>4</th>\n      <td>1009</td>\n      <td>656</td>\n      <td>69980.4</td>\n      <td>6690</td>\n      <td>5.193917e+06</td>\n      <td>2358346.25</td>\n      <td>1774046.43</td>\n      <td>1766102.27</td>\n      <td>93.0</td>\n      <td>3023.0</td>\n      <td>...</td>\n      <td>3987.0</td>\n      <td>2690.0</td>\n      <td>4152.0</td>\n      <td>14.0</td>\n      <td>0.0</td>\n      <td>0.0</td>\n      <td>0.0</td>\n      <td>0.0</td>\n      <td>4280.0</td>\n      <td>2229.0</td>\n    </tr>\n  </tbody>\n</table>\n<p>5 rows × 36 columns</p>\n</div>"
     },
     "metadata": {},
     "output_type": "execute_result",
     "execution_count": 8
    }
   ],
   "source": [
    "sum = merge_df.groupby(by='COUNTYFIPS').sum().reset_index()\n",
    "sum_columns = ['COUNTYFIPS', 'NUM_HCPCS', 'NUM_Services', 'NUM_Medicare_BEN',\n",
    "               'Total_Submitted_Charge_Amount', 'Total_Medicare_Allowed_Amount',\n",
    "               'Total_Medicare_Payment_Amount',\n",
    "               'Total_Medicare_Standardized_Payment_Amount',\n",
    "               'NUM_HCPCS_Associated_With_Drug_Services', 'NUM_Drug_Services',\n",
    "               'NUM_Medicare_BEN_With_Drug_Services',\n",
    "               'Total_Drug_Submitted_Charge_Amount',\n",
    "               'Total_Drug_Medicare_Allowed_Amount',\n",
    "               'Total_Drug_Medicare_Payment_Amount',\n",
    "               'Total_Drug_Medicare_Standardized_Payment_Amount',\n",
    "               'NUM_HCPCS_Associated_With_Medical_Services', 'NUM_Medical_Services',\n",
    "               'NUM_Medicare_BEN_With_Medical_Services',\n",
    "               'Total_Medical_Submitted_Charge_Amount',\n",
    "               'Total_Medical_Medicare_Allowed_Amount',\n",
    "               'Total_Medical_Medicare_Payment_Amount',\n",
    "               'Total_Medical_Medicare_Standardized_Payment_Amount','NUM_BEN_Age_Less_65', 'NUM_BEN_Age_65_to_74',\n",
    "               'NUM_BEN_Age_75_to_84', 'NUM_BEN_Age_Greater_84', 'NUM_Female_BEN',\n",
    "               'NUM_Male_BEN', 'NUM_Non-Hispanic_White_BEN',\n",
    "               'NUM_Black_or_African_American_BEN', 'NUM_Asian_Pacific_Islander_BEN',\n",
    "               'NUM_Hispanic_BEN', 'NUM_American_IndianAlaska_Native_BEN',\n",
    "               'NUM_BEN_With_Race_Not_Elsewhere_Classified',\n",
    "               'NUM_BEN_With_Medicare_Only_Entitlement',\n",
    "               'NUM_BEN_With_Medicare_Medicaid_Entitlement',]\n",
    "sum = sum[sum_columns]\n",
    "sum.head()"
   ],
   "metadata": {
    "collapsed": false,
    "pycharm": {
     "name": "#%%\n",
     "is_executing": false
    }
   }
  },
  {
   "cell_type": "code",
   "execution_count": 9,
   "outputs": [
    {
     "data": {
      "text/plain": "   Average_Age_of_BEN  PCT_BEN_Atrial_Fibrillation  \\\n0           71.076923                    11.769231   \n1           71.638202                    10.970787   \n2           70.928571                     8.642857   \n3           70.000000                     8.666667   \n4           71.538462                     7.346154   \n\n   PCT_BEN_Alzheimers_Disease_or_Dementia  PCT_BEN_Asthma  PCT_BEN_Cancer  \\\n0                               13.692308        5.307692        9.461538   \n1                               12.038202        6.020225        9.164045   \n2                               14.750000        6.607143        8.642857   \n3                               16.033333        4.466667        4.366667   \n4                               16.038462        5.615385        4.692308   \n\n   PCT_BEN_Heart_Failure  PCT_BEN_Chronic_Kidney_Disease  \\\n0              23.807692                       36.307692   \n1              16.923596                       28.525843   \n2              17.892857                       33.428571   \n3              20.133333                       34.866667   \n4              18.769231                       28.576923   \n\n   PCT_BEN_Chronic_Obstructive_Pulmonary_Disease  PCT_BEN_Depression  \\\n0                                      19.230769           21.653846   \n1                                      14.817978           25.094382   \n2                                      14.928571           23.892857   \n3                                      14.966667           21.400000   \n4                                      19.115385           27.384615   \n\n   PCT_BEN_Diabetes  PCT_BEN_Hyperlipidemia  PCT_BEN_Hypertension  \\\n0         34.923077               57.500000             68.500000   \n1         28.071910               50.604494             67.505618   \n2         36.928571               56.035714             73.178571   \n3         30.500000               44.266667             68.933333   \n4         32.423077               58.307692             73.384615   \n\n   PCT_BEN_Ischemic_Heart_Disease  PCT_BEN_Osteoporosis  \\\n0                       40.076923              5.769231   \n1                       36.462921              6.233708   \n2                       31.714286              3.857143   \n3                       28.733333              5.800000   \n4                       34.230769              5.115385   \n\n   PCT_BEN_Rheumatoid_Arthritis_Osteoarthritis  \\\n0                                    45.000000   \n1                                    49.602247   \n2                                    49.785714   \n3                                    41.566667   \n4                                    40.769231   \n\n   PCT_BEN_Schizophrenia_Other_Psychotic_Disorders  PCT_BEN_Stroke  \n0                                         4.115385        6.923077  \n1                                         3.856180        4.265169  \n2                                         6.071429        5.500000  \n3                                         3.766667        5.533333  \n4                                         4.000000        5.038462  ",
      "text/html": "<div>\n<style scoped>\n    .dataframe tbody tr th:only-of-type {\n        vertical-align: middle;\n    }\n\n    .dataframe tbody tr th {\n        vertical-align: top;\n    }\n\n    .dataframe thead th {\n        text-align: right;\n    }\n</style>\n<table border=\"1\" class=\"dataframe\">\n  <thead>\n    <tr style=\"text-align: right;\">\n      <th></th>\n      <th>Average_Age_of_BEN</th>\n      <th>PCT_BEN_Atrial_Fibrillation</th>\n      <th>PCT_BEN_Alzheimers_Disease_or_Dementia</th>\n      <th>PCT_BEN_Asthma</th>\n      <th>PCT_BEN_Cancer</th>\n      <th>PCT_BEN_Heart_Failure</th>\n      <th>PCT_BEN_Chronic_Kidney_Disease</th>\n      <th>PCT_BEN_Chronic_Obstructive_Pulmonary_Disease</th>\n      <th>PCT_BEN_Depression</th>\n      <th>PCT_BEN_Diabetes</th>\n      <th>PCT_BEN_Hyperlipidemia</th>\n      <th>PCT_BEN_Hypertension</th>\n      <th>PCT_BEN_Ischemic_Heart_Disease</th>\n      <th>PCT_BEN_Osteoporosis</th>\n      <th>PCT_BEN_Rheumatoid_Arthritis_Osteoarthritis</th>\n      <th>PCT_BEN_Schizophrenia_Other_Psychotic_Disorders</th>\n      <th>PCT_BEN_Stroke</th>\n    </tr>\n  </thead>\n  <tbody>\n    <tr>\n      <th>0</th>\n      <td>71.076923</td>\n      <td>11.769231</td>\n      <td>13.692308</td>\n      <td>5.307692</td>\n      <td>9.461538</td>\n      <td>23.807692</td>\n      <td>36.307692</td>\n      <td>19.230769</td>\n      <td>21.653846</td>\n      <td>34.923077</td>\n      <td>57.500000</td>\n      <td>68.500000</td>\n      <td>40.076923</td>\n      <td>5.769231</td>\n      <td>45.000000</td>\n      <td>4.115385</td>\n      <td>6.923077</td>\n    </tr>\n    <tr>\n      <th>1</th>\n      <td>71.638202</td>\n      <td>10.970787</td>\n      <td>12.038202</td>\n      <td>6.020225</td>\n      <td>9.164045</td>\n      <td>16.923596</td>\n      <td>28.525843</td>\n      <td>14.817978</td>\n      <td>25.094382</td>\n      <td>28.071910</td>\n      <td>50.604494</td>\n      <td>67.505618</td>\n      <td>36.462921</td>\n      <td>6.233708</td>\n      <td>49.602247</td>\n      <td>3.856180</td>\n      <td>4.265169</td>\n    </tr>\n    <tr>\n      <th>2</th>\n      <td>70.928571</td>\n      <td>8.642857</td>\n      <td>14.750000</td>\n      <td>6.607143</td>\n      <td>8.642857</td>\n      <td>17.892857</td>\n      <td>33.428571</td>\n      <td>14.928571</td>\n      <td>23.892857</td>\n      <td>36.928571</td>\n      <td>56.035714</td>\n      <td>73.178571</td>\n      <td>31.714286</td>\n      <td>3.857143</td>\n      <td>49.785714</td>\n      <td>6.071429</td>\n      <td>5.500000</td>\n    </tr>\n    <tr>\n      <th>3</th>\n      <td>70.000000</td>\n      <td>8.666667</td>\n      <td>16.033333</td>\n      <td>4.466667</td>\n      <td>4.366667</td>\n      <td>20.133333</td>\n      <td>34.866667</td>\n      <td>14.966667</td>\n      <td>21.400000</td>\n      <td>30.500000</td>\n      <td>44.266667</td>\n      <td>68.933333</td>\n      <td>28.733333</td>\n      <td>5.800000</td>\n      <td>41.566667</td>\n      <td>3.766667</td>\n      <td>5.533333</td>\n    </tr>\n    <tr>\n      <th>4</th>\n      <td>71.538462</td>\n      <td>7.346154</td>\n      <td>16.038462</td>\n      <td>5.615385</td>\n      <td>4.692308</td>\n      <td>18.769231</td>\n      <td>28.576923</td>\n      <td>19.115385</td>\n      <td>27.384615</td>\n      <td>32.423077</td>\n      <td>58.307692</td>\n      <td>73.384615</td>\n      <td>34.230769</td>\n      <td>5.115385</td>\n      <td>40.769231</td>\n      <td>4.000000</td>\n      <td>5.038462</td>\n    </tr>\n  </tbody>\n</table>\n</div>"
     },
     "metadata": {},
     "output_type": "execute_result",
     "execution_count": 9
    }
   ],
   "source": [
    "average = merge_df.groupby(by='COUNTYFIPS').mean().reset_index()\n",
    "average_columns = ['Average_Age_of_BEN', 'PCT_BEN_Atrial_Fibrillation', 'PCT_BEN_Alzheimers_Disease_or_Dementia',\n",
    "               'PCT_BEN_Asthma', 'PCT_BEN_Cancer', 'PCT_BEN_Heart_Failure',\n",
    "               'PCT_BEN_Chronic_Kidney_Disease',\n",
    "               'PCT_BEN_Chronic_Obstructive_Pulmonary_Disease', 'PCT_BEN_Depression',\n",
    "               'PCT_BEN_Diabetes', 'PCT_BEN_Hyperlipidemia', 'PCT_BEN_Hypertension',\n",
    "               'PCT_BEN_Ischemic_Heart_Disease', 'PCT_BEN_Osteoporosis',\n",
    "               'PCT_BEN_Rheumatoid_Arthritis_Osteoarthritis',\n",
    "               'PCT_BEN_Schizophrenia_Other_Psychotic_Disorders', 'PCT_BEN_Stroke',]\n",
    "average = average[average_columns]\n",
    "average.head()"
   ],
   "metadata": {
    "collapsed": false,
    "pycharm": {
     "name": "#%%\n",
     "is_executing": false
    }
   }
  },
  {
   "cell_type": "code",
   "execution_count": 10,
   "outputs": [
    {
     "data": {
      "text/plain": "      COUNTYFIPS  NUM_HCPCS  NUM_Services  NUM_Medicare_BEN  \\\n0           1001        649       23608.4              5744   \n1           1003      17736     1602538.8            162262   \n2           1005        738       93074.1              8758   \n3           1007        539       30371.2              3917   \n4           1009        656       69980.4              6690   \n...          ...        ...           ...               ...   \n2525       56037       3118      180247.3             24430   \n2526       56039       3707      123737.1             19474   \n2527       56041       1305       52681.9              8436   \n2528       56043        451       25644.3              3605   \n2529       56045        277       16037.0              1847   \n\n      Total_Submitted_Charge_Amount  Total_Medicare_Allowed_Amount  \\\n0                      5.642743e+06                     1601574.96   \n1                      1.515522e+08                    55396151.32   \n2                      8.347437e+06                     3250431.51   \n3                      2.129942e+06                     1155227.84   \n4                      5.193917e+06                     2358346.25   \n...                             ...                            ...   \n2525                   4.199070e+07                     9361492.71   \n2526                   1.759663e+07                     5335013.71   \n2527                   7.084807e+06                     2634476.75   \n2528                   2.650999e+06                     1204296.03   \n2529                   6.767309e+05                      374177.73   \n\n      Total_Medicare_Payment_Amount  \\\n0                        1211002.80   \n1                       41633885.71   \n2                        2436659.90   \n3                         862891.22   \n4                        1774046.43   \n...                             ...   \n2525                     6968556.74   \n2526                     3964972.08   \n2527                     1941228.35   \n2528                      858835.18   \n2529                      278743.70   \n\n      Total_Medicare_Standardized_Payment_Amount  \\\n0                                     1322271.14   \n1                                    44788496.62   \n2                                     2543344.20   \n3                                      891117.87   \n4                                     1766102.27   \n...                                          ...   \n2525                                  6774301.39   \n2526                                  3984418.68   \n2527                                  1923237.45   \n2528                                   860269.73   \n2529                                   232141.73   \n\n      NUM_HCPCS_Associated_With_Drug_Services  NUM_Drug_Services  ...  \\\n0                                        80.0             2511.0  ...   \n1                                      1438.0           918468.0  ...   \n2                                        60.0             3336.0  ...   \n3                                        31.0              451.0  ...   \n4                                        93.0             3023.0  ...   \n...                                       ...                ...  ...   \n2525                                    157.0             5408.0  ...   \n2526                                    111.0            54315.0  ...   \n2527                                     51.0             1456.0  ...   \n2528                                     49.0             3797.0  ...   \n2529                                      7.0              141.0  ...   \n\n      PCT_BEN_Chronic_Obstructive_Pulmonary_Disease  PCT_BEN_Depression  \\\n0                                         19.230769           21.653846   \n1                                         14.817978           25.094382   \n2                                         14.928571           23.892857   \n3                                         14.966667           21.400000   \n4                                         19.115385           27.384615   \n...                                             ...                 ...   \n2525                                      17.543689           19.737864   \n2526                                       6.660194           18.019417   \n2527                                      12.333333           29.444444   \n2528                                       8.650000           28.450000   \n2529                                      17.071429           16.500000   \n\n      PCT_BEN_Diabetes  PCT_BEN_Hyperlipidemia  PCT_BEN_Hypertension  \\\n0            34.923077               57.500000             68.500000   \n1            28.071910               50.604494             67.505618   \n2            36.928571               56.035714             73.178571   \n3            30.500000               44.266667             68.933333   \n4            32.423077               58.307692             73.384615   \n...                ...                     ...                   ...   \n2525         22.087379               22.184466             48.456311   \n2526         12.378641               25.766990             41.029126   \n2527         21.095238               21.206349             43.555556   \n2528         23.400000               22.100000             40.400000   \n2529         29.428571               32.714286             48.142857   \n\n      PCT_BEN_Ischemic_Heart_Disease  PCT_BEN_Osteoporosis  \\\n0                          40.076923              5.769231   \n1                          36.462921              6.233708   \n2                          31.714286              3.857143   \n3                          28.733333              5.800000   \n4                          34.230769              5.115385   \n...                              ...                   ...   \n2525                       23.631068              2.864078   \n2526                       17.291262              3.126214   \n2527                       16.761905              0.952381   \n2528                       22.750000              3.750000   \n2529                       27.214286              9.000000   \n\n      PCT_BEN_Rheumatoid_Arthritis_Osteoarthritis  \\\n0                                       45.000000   \n1                                       49.602247   \n2                                       49.785714   \n3                                       41.566667   \n4                                       40.769231   \n...                                           ...   \n2525                                    34.339806   \n2526                                    41.184466   \n2527                                    27.746032   \n2528                                    33.350000   \n2529                                    35.214286   \n\n      PCT_BEN_Schizophrenia_Other_Psychotic_Disorders  PCT_BEN_Stroke  \n0                                            4.115385        6.923077  \n1                                            3.856180        4.265169  \n2                                            6.071429        5.500000  \n3                                            3.766667        5.533333  \n4                                            4.000000        5.038462  \n...                                               ...             ...  \n2525                                         2.077670        1.456311  \n2526                                         0.592233        1.077670  \n2527                                        15.523810        0.825397  \n2528                                         1.700000        1.300000  \n2529                                         0.642857        2.285714  \n\n[2530 rows x 53 columns]",
      "text/html": "<div>\n<style scoped>\n    .dataframe tbody tr th:only-of-type {\n        vertical-align: middle;\n    }\n\n    .dataframe tbody tr th {\n        vertical-align: top;\n    }\n\n    .dataframe thead th {\n        text-align: right;\n    }\n</style>\n<table border=\"1\" class=\"dataframe\">\n  <thead>\n    <tr style=\"text-align: right;\">\n      <th></th>\n      <th>COUNTYFIPS</th>\n      <th>NUM_HCPCS</th>\n      <th>NUM_Services</th>\n      <th>NUM_Medicare_BEN</th>\n      <th>Total_Submitted_Charge_Amount</th>\n      <th>Total_Medicare_Allowed_Amount</th>\n      <th>Total_Medicare_Payment_Amount</th>\n      <th>Total_Medicare_Standardized_Payment_Amount</th>\n      <th>NUM_HCPCS_Associated_With_Drug_Services</th>\n      <th>NUM_Drug_Services</th>\n      <th>...</th>\n      <th>PCT_BEN_Chronic_Obstructive_Pulmonary_Disease</th>\n      <th>PCT_BEN_Depression</th>\n      <th>PCT_BEN_Diabetes</th>\n      <th>PCT_BEN_Hyperlipidemia</th>\n      <th>PCT_BEN_Hypertension</th>\n      <th>PCT_BEN_Ischemic_Heart_Disease</th>\n      <th>PCT_BEN_Osteoporosis</th>\n      <th>PCT_BEN_Rheumatoid_Arthritis_Osteoarthritis</th>\n      <th>PCT_BEN_Schizophrenia_Other_Psychotic_Disorders</th>\n      <th>PCT_BEN_Stroke</th>\n    </tr>\n  </thead>\n  <tbody>\n    <tr>\n      <th>0</th>\n      <td>1001</td>\n      <td>649</td>\n      <td>23608.4</td>\n      <td>5744</td>\n      <td>5.642743e+06</td>\n      <td>1601574.96</td>\n      <td>1211002.80</td>\n      <td>1322271.14</td>\n      <td>80.0</td>\n      <td>2511.0</td>\n      <td>...</td>\n      <td>19.230769</td>\n      <td>21.653846</td>\n      <td>34.923077</td>\n      <td>57.500000</td>\n      <td>68.500000</td>\n      <td>40.076923</td>\n      <td>5.769231</td>\n      <td>45.000000</td>\n      <td>4.115385</td>\n      <td>6.923077</td>\n    </tr>\n    <tr>\n      <th>1</th>\n      <td>1003</td>\n      <td>17736</td>\n      <td>1602538.8</td>\n      <td>162262</td>\n      <td>1.515522e+08</td>\n      <td>55396151.32</td>\n      <td>41633885.71</td>\n      <td>44788496.62</td>\n      <td>1438.0</td>\n      <td>918468.0</td>\n      <td>...</td>\n      <td>14.817978</td>\n      <td>25.094382</td>\n      <td>28.071910</td>\n      <td>50.604494</td>\n      <td>67.505618</td>\n      <td>36.462921</td>\n      <td>6.233708</td>\n      <td>49.602247</td>\n      <td>3.856180</td>\n      <td>4.265169</td>\n    </tr>\n    <tr>\n      <th>2</th>\n      <td>1005</td>\n      <td>738</td>\n      <td>93074.1</td>\n      <td>8758</td>\n      <td>8.347437e+06</td>\n      <td>3250431.51</td>\n      <td>2436659.90</td>\n      <td>2543344.20</td>\n      <td>60.0</td>\n      <td>3336.0</td>\n      <td>...</td>\n      <td>14.928571</td>\n      <td>23.892857</td>\n      <td>36.928571</td>\n      <td>56.035714</td>\n      <td>73.178571</td>\n      <td>31.714286</td>\n      <td>3.857143</td>\n      <td>49.785714</td>\n      <td>6.071429</td>\n      <td>5.500000</td>\n    </tr>\n    <tr>\n      <th>3</th>\n      <td>1007</td>\n      <td>539</td>\n      <td>30371.2</td>\n      <td>3917</td>\n      <td>2.129942e+06</td>\n      <td>1155227.84</td>\n      <td>862891.22</td>\n      <td>891117.87</td>\n      <td>31.0</td>\n      <td>451.0</td>\n      <td>...</td>\n      <td>14.966667</td>\n      <td>21.400000</td>\n      <td>30.500000</td>\n      <td>44.266667</td>\n      <td>68.933333</td>\n      <td>28.733333</td>\n      <td>5.800000</td>\n      <td>41.566667</td>\n      <td>3.766667</td>\n      <td>5.533333</td>\n    </tr>\n    <tr>\n      <th>4</th>\n      <td>1009</td>\n      <td>656</td>\n      <td>69980.4</td>\n      <td>6690</td>\n      <td>5.193917e+06</td>\n      <td>2358346.25</td>\n      <td>1774046.43</td>\n      <td>1766102.27</td>\n      <td>93.0</td>\n      <td>3023.0</td>\n      <td>...</td>\n      <td>19.115385</td>\n      <td>27.384615</td>\n      <td>32.423077</td>\n      <td>58.307692</td>\n      <td>73.384615</td>\n      <td>34.230769</td>\n      <td>5.115385</td>\n      <td>40.769231</td>\n      <td>4.000000</td>\n      <td>5.038462</td>\n    </tr>\n    <tr>\n      <th>...</th>\n      <td>...</td>\n      <td>...</td>\n      <td>...</td>\n      <td>...</td>\n      <td>...</td>\n      <td>...</td>\n      <td>...</td>\n      <td>...</td>\n      <td>...</td>\n      <td>...</td>\n      <td>...</td>\n      <td>...</td>\n      <td>...</td>\n      <td>...</td>\n      <td>...</td>\n      <td>...</td>\n      <td>...</td>\n      <td>...</td>\n      <td>...</td>\n      <td>...</td>\n      <td>...</td>\n    </tr>\n    <tr>\n      <th>2525</th>\n      <td>56037</td>\n      <td>3118</td>\n      <td>180247.3</td>\n      <td>24430</td>\n      <td>4.199070e+07</td>\n      <td>9361492.71</td>\n      <td>6968556.74</td>\n      <td>6774301.39</td>\n      <td>157.0</td>\n      <td>5408.0</td>\n      <td>...</td>\n      <td>17.543689</td>\n      <td>19.737864</td>\n      <td>22.087379</td>\n      <td>22.184466</td>\n      <td>48.456311</td>\n      <td>23.631068</td>\n      <td>2.864078</td>\n      <td>34.339806</td>\n      <td>2.077670</td>\n      <td>1.456311</td>\n    </tr>\n    <tr>\n      <th>2526</th>\n      <td>56039</td>\n      <td>3707</td>\n      <td>123737.1</td>\n      <td>19474</td>\n      <td>1.759663e+07</td>\n      <td>5335013.71</td>\n      <td>3964972.08</td>\n      <td>3984418.68</td>\n      <td>111.0</td>\n      <td>54315.0</td>\n      <td>...</td>\n      <td>6.660194</td>\n      <td>18.019417</td>\n      <td>12.378641</td>\n      <td>25.766990</td>\n      <td>41.029126</td>\n      <td>17.291262</td>\n      <td>3.126214</td>\n      <td>41.184466</td>\n      <td>0.592233</td>\n      <td>1.077670</td>\n    </tr>\n    <tr>\n      <th>2527</th>\n      <td>56041</td>\n      <td>1305</td>\n      <td>52681.9</td>\n      <td>8436</td>\n      <td>7.084807e+06</td>\n      <td>2634476.75</td>\n      <td>1941228.35</td>\n      <td>1923237.45</td>\n      <td>51.0</td>\n      <td>1456.0</td>\n      <td>...</td>\n      <td>12.333333</td>\n      <td>29.444444</td>\n      <td>21.095238</td>\n      <td>21.206349</td>\n      <td>43.555556</td>\n      <td>16.761905</td>\n      <td>0.952381</td>\n      <td>27.746032</td>\n      <td>15.523810</td>\n      <td>0.825397</td>\n    </tr>\n    <tr>\n      <th>2528</th>\n      <td>56043</td>\n      <td>451</td>\n      <td>25644.3</td>\n      <td>3605</td>\n      <td>2.650999e+06</td>\n      <td>1204296.03</td>\n      <td>858835.18</td>\n      <td>860269.73</td>\n      <td>49.0</td>\n      <td>3797.0</td>\n      <td>...</td>\n      <td>8.650000</td>\n      <td>28.450000</td>\n      <td>23.400000</td>\n      <td>22.100000</td>\n      <td>40.400000</td>\n      <td>22.750000</td>\n      <td>3.750000</td>\n      <td>33.350000</td>\n      <td>1.700000</td>\n      <td>1.300000</td>\n    </tr>\n    <tr>\n      <th>2529</th>\n      <td>56045</td>\n      <td>277</td>\n      <td>16037.0</td>\n      <td>1847</td>\n      <td>6.767309e+05</td>\n      <td>374177.73</td>\n      <td>278743.70</td>\n      <td>232141.73</td>\n      <td>7.0</td>\n      <td>141.0</td>\n      <td>...</td>\n      <td>17.071429</td>\n      <td>16.500000</td>\n      <td>29.428571</td>\n      <td>32.714286</td>\n      <td>48.142857</td>\n      <td>27.214286</td>\n      <td>9.000000</td>\n      <td>35.214286</td>\n      <td>0.642857</td>\n      <td>2.285714</td>\n    </tr>\n  </tbody>\n</table>\n<p>2530 rows × 53 columns</p>\n</div>"
     },
     "metadata": {},
     "output_type": "execute_result",
     "execution_count": 10
    }
   ],
   "source": [
    "merge_df = pd.concat([sum, average], axis=1)\n",
    "merge_df"
   ],
   "metadata": {
    "collapsed": false,
    "pycharm": {
     "name": "#%%\n",
     "is_executing": false
    }
   }
  },
  {
   "cell_type": "markdown",
   "source": [
    "Extracting county data from hospital data"
   ],
   "metadata": {
    "collapsed": false,
    "pycharm": {
     "name": "#%% md\n",
     "is_executing": false
    }
   }
  },
  {
   "cell_type": "code",
   "execution_count": 11,
   "outputs": [
    {
     "data": {
      "text/plain": "      COUNTYFIPS  POPULATION_COUNTY  COVID_CASES_4.10.20  COVID_DEATHS_4.10.20\n0          30079               1077                    0                     0\n1          20071               1232                    0                     0\n2          30011               1252                    0                     0\n3          30033               1258                    0                     0\n4          31149               1357                    0                     0\n...          ...                ...                  ...                   ...\n7491       46043               2921                    0                     0\n7492       46045               3829                    0                     0\n7494       37003              37497                    2                     0\n7495       46031               4086                    1                     0\n7496       51127              23091                   13                     0\n\n[2554 rows x 4 columns]",
      "text/html": "<div>\n<style scoped>\n    .dataframe tbody tr th:only-of-type {\n        vertical-align: middle;\n    }\n\n    .dataframe tbody tr th {\n        vertical-align: top;\n    }\n\n    .dataframe thead th {\n        text-align: right;\n    }\n</style>\n<table border=\"1\" class=\"dataframe\">\n  <thead>\n    <tr style=\"text-align: right;\">\n      <th></th>\n      <th>COUNTYFIPS</th>\n      <th>POPULATION_COUNTY</th>\n      <th>COVID_CASES_4.10.20</th>\n      <th>COVID_DEATHS_4.10.20</th>\n    </tr>\n  </thead>\n  <tbody>\n    <tr>\n      <th>0</th>\n      <td>30079</td>\n      <td>1077</td>\n      <td>0</td>\n      <td>0</td>\n    </tr>\n    <tr>\n      <th>1</th>\n      <td>20071</td>\n      <td>1232</td>\n      <td>0</td>\n      <td>0</td>\n    </tr>\n    <tr>\n      <th>2</th>\n      <td>30011</td>\n      <td>1252</td>\n      <td>0</td>\n      <td>0</td>\n    </tr>\n    <tr>\n      <th>3</th>\n      <td>30033</td>\n      <td>1258</td>\n      <td>0</td>\n      <td>0</td>\n    </tr>\n    <tr>\n      <th>4</th>\n      <td>31149</td>\n      <td>1357</td>\n      <td>0</td>\n      <td>0</td>\n    </tr>\n    <tr>\n      <th>...</th>\n      <td>...</td>\n      <td>...</td>\n      <td>...</td>\n      <td>...</td>\n    </tr>\n    <tr>\n      <th>7491</th>\n      <td>46043</td>\n      <td>2921</td>\n      <td>0</td>\n      <td>0</td>\n    </tr>\n    <tr>\n      <th>7492</th>\n      <td>46045</td>\n      <td>3829</td>\n      <td>0</td>\n      <td>0</td>\n    </tr>\n    <tr>\n      <th>7494</th>\n      <td>37003</td>\n      <td>37497</td>\n      <td>2</td>\n      <td>0</td>\n    </tr>\n    <tr>\n      <th>7495</th>\n      <td>46031</td>\n      <td>4086</td>\n      <td>1</td>\n      <td>0</td>\n    </tr>\n    <tr>\n      <th>7496</th>\n      <td>51127</td>\n      <td>23091</td>\n      <td>13</td>\n      <td>0</td>\n    </tr>\n  </tbody>\n</table>\n<p>2554 rows × 4 columns</p>\n</div>"
     },
     "metadata": {},
     "output_type": "execute_result",
     "execution_count": 11
    }
   ],
   "source": [
    "column_list = ['COUNTYFIPS', 'POPULATION_COUNTY', 'COVID_CASES_4.10.20', 'COVID_DEATHS_4.10.20']\n",
    "hospital_df = hospital_df[column_list].drop_duplicates(column_list)\n",
    "hospital_df"
   ],
   "metadata": {
    "collapsed": false,
    "pycharm": {
     "name": "#%%\n",
     "is_executing": false
    }
   }
  },
  {
   "cell_type": "code",
   "execution_count": 12,
   "outputs": [
    {
     "data": {
      "text/plain": "      COUNTYFIPS  NUM_HCPCS  NUM_Services  NUM_Medicare_BEN  \\\n0           1001        649       23608.4              5744   \n1           1003      17736     1602538.8            162262   \n2           1005        738       93074.1              8758   \n3           1007        539       30371.2              3917   \n4           1009        656       69980.4              6690   \n...          ...        ...           ...               ...   \n2525       56037       3118      180247.3             24430   \n2526       56039       3707      123737.1             19474   \n2527       56041       1305       52681.9              8436   \n2528       56043        451       25644.3              3605   \n2529       56045        277       16037.0              1847   \n\n      Total_Submitted_Charge_Amount  Total_Medicare_Allowed_Amount  \\\n0                      5.642743e+06                     1601574.96   \n1                      1.515522e+08                    55396151.32   \n2                      8.347437e+06                     3250431.51   \n3                      2.129942e+06                     1155227.84   \n4                      5.193917e+06                     2358346.25   \n...                             ...                            ...   \n2525                   4.199070e+07                     9361492.71   \n2526                   1.759663e+07                     5335013.71   \n2527                   7.084807e+06                     2634476.75   \n2528                   2.650999e+06                     1204296.03   \n2529                   6.767309e+05                      374177.73   \n\n      Total_Medicare_Payment_Amount  \\\n0                        1211002.80   \n1                       41633885.71   \n2                        2436659.90   \n3                         862891.22   \n4                        1774046.43   \n...                             ...   \n2525                     6968556.74   \n2526                     3964972.08   \n2527                     1941228.35   \n2528                      858835.18   \n2529                      278743.70   \n\n      Total_Medicare_Standardized_Payment_Amount  \\\n0                                     1322271.14   \n1                                    44788496.62   \n2                                     2543344.20   \n3                                      891117.87   \n4                                     1766102.27   \n...                                          ...   \n2525                                  6774301.39   \n2526                                  3984418.68   \n2527                                  1923237.45   \n2528                                   860269.73   \n2529                                   232141.73   \n\n      NUM_HCPCS_Associated_With_Drug_Services  NUM_Drug_Services  ...  \\\n0                                        80.0             2511.0  ...   \n1                                      1438.0           918468.0  ...   \n2                                        60.0             3336.0  ...   \n3                                        31.0              451.0  ...   \n4                                        93.0             3023.0  ...   \n...                                       ...                ...  ...   \n2525                                    157.0             5408.0  ...   \n2526                                    111.0            54315.0  ...   \n2527                                     51.0             1456.0  ...   \n2528                                     49.0             3797.0  ...   \n2529                                      7.0              141.0  ...   \n\n      PCT_BEN_Hyperlipidemia  PCT_BEN_Hypertension  \\\n0                  57.500000             68.500000   \n1                  50.604494             67.505618   \n2                  56.035714             73.178571   \n3                  44.266667             68.933333   \n4                  58.307692             73.384615   \n...                      ...                   ...   \n2525               22.184466             48.456311   \n2526               25.766990             41.029126   \n2527               21.206349             43.555556   \n2528               22.100000             40.400000   \n2529               32.714286             48.142857   \n\n      PCT_BEN_Ischemic_Heart_Disease  PCT_BEN_Osteoporosis  \\\n0                          40.076923              5.769231   \n1                          36.462921              6.233708   \n2                          31.714286              3.857143   \n3                          28.733333              5.800000   \n4                          34.230769              5.115385   \n...                              ...                   ...   \n2525                       23.631068              2.864078   \n2526                       17.291262              3.126214   \n2527                       16.761905              0.952381   \n2528                       22.750000              3.750000   \n2529                       27.214286              9.000000   \n\n      PCT_BEN_Rheumatoid_Arthritis_Osteoarthritis  \\\n0                                       45.000000   \n1                                       49.602247   \n2                                       49.785714   \n3                                       41.566667   \n4                                       40.769231   \n...                                           ...   \n2525                                    34.339806   \n2526                                    41.184466   \n2527                                    27.746032   \n2528                                    33.350000   \n2529                                    35.214286   \n\n      PCT_BEN_Schizophrenia_Other_Psychotic_Disorders  PCT_BEN_Stroke  \\\n0                                            4.115385        6.923077   \n1                                            3.856180        4.265169   \n2                                            6.071429        5.500000   \n3                                            3.766667        5.533333   \n4                                            4.000000        5.038462   \n...                                               ...             ...   \n2525                                         2.077670        1.456311   \n2526                                         0.592233        1.077670   \n2527                                        15.523810        0.825397   \n2528                                         1.700000        1.300000   \n2529                                         0.642857        2.285714   \n\n      POPULATION_COUNTY  COVID_CASES_4.10.20  COVID_DEATHS_4.10.20  \n0                 55869                   17                     1  \n1                223234                   59                     0  \n2                 24686                    9                     0  \n3                 22394                   11                     0  \n4                 57826                   12                     0  \n...                 ...                  ...                   ...  \n2525              42343                    7                     0  \n2526              23464                   53                     0  \n2527              20226                    4                     0  \n2528               7805                    5                     0  \n2529               6927                    0                     0  \n\n[2530 rows x 56 columns]",
      "text/html": "<div>\n<style scoped>\n    .dataframe tbody tr th:only-of-type {\n        vertical-align: middle;\n    }\n\n    .dataframe tbody tr th {\n        vertical-align: top;\n    }\n\n    .dataframe thead th {\n        text-align: right;\n    }\n</style>\n<table border=\"1\" class=\"dataframe\">\n  <thead>\n    <tr style=\"text-align: right;\">\n      <th></th>\n      <th>COUNTYFIPS</th>\n      <th>NUM_HCPCS</th>\n      <th>NUM_Services</th>\n      <th>NUM_Medicare_BEN</th>\n      <th>Total_Submitted_Charge_Amount</th>\n      <th>Total_Medicare_Allowed_Amount</th>\n      <th>Total_Medicare_Payment_Amount</th>\n      <th>Total_Medicare_Standardized_Payment_Amount</th>\n      <th>NUM_HCPCS_Associated_With_Drug_Services</th>\n      <th>NUM_Drug_Services</th>\n      <th>...</th>\n      <th>PCT_BEN_Hyperlipidemia</th>\n      <th>PCT_BEN_Hypertension</th>\n      <th>PCT_BEN_Ischemic_Heart_Disease</th>\n      <th>PCT_BEN_Osteoporosis</th>\n      <th>PCT_BEN_Rheumatoid_Arthritis_Osteoarthritis</th>\n      <th>PCT_BEN_Schizophrenia_Other_Psychotic_Disorders</th>\n      <th>PCT_BEN_Stroke</th>\n      <th>POPULATION_COUNTY</th>\n      <th>COVID_CASES_4.10.20</th>\n      <th>COVID_DEATHS_4.10.20</th>\n    </tr>\n  </thead>\n  <tbody>\n    <tr>\n      <th>0</th>\n      <td>1001</td>\n      <td>649</td>\n      <td>23608.4</td>\n      <td>5744</td>\n      <td>5.642743e+06</td>\n      <td>1601574.96</td>\n      <td>1211002.80</td>\n      <td>1322271.14</td>\n      <td>80.0</td>\n      <td>2511.0</td>\n      <td>...</td>\n      <td>57.500000</td>\n      <td>68.500000</td>\n      <td>40.076923</td>\n      <td>5.769231</td>\n      <td>45.000000</td>\n      <td>4.115385</td>\n      <td>6.923077</td>\n      <td>55869</td>\n      <td>17</td>\n      <td>1</td>\n    </tr>\n    <tr>\n      <th>1</th>\n      <td>1003</td>\n      <td>17736</td>\n      <td>1602538.8</td>\n      <td>162262</td>\n      <td>1.515522e+08</td>\n      <td>55396151.32</td>\n      <td>41633885.71</td>\n      <td>44788496.62</td>\n      <td>1438.0</td>\n      <td>918468.0</td>\n      <td>...</td>\n      <td>50.604494</td>\n      <td>67.505618</td>\n      <td>36.462921</td>\n      <td>6.233708</td>\n      <td>49.602247</td>\n      <td>3.856180</td>\n      <td>4.265169</td>\n      <td>223234</td>\n      <td>59</td>\n      <td>0</td>\n    </tr>\n    <tr>\n      <th>2</th>\n      <td>1005</td>\n      <td>738</td>\n      <td>93074.1</td>\n      <td>8758</td>\n      <td>8.347437e+06</td>\n      <td>3250431.51</td>\n      <td>2436659.90</td>\n      <td>2543344.20</td>\n      <td>60.0</td>\n      <td>3336.0</td>\n      <td>...</td>\n      <td>56.035714</td>\n      <td>73.178571</td>\n      <td>31.714286</td>\n      <td>3.857143</td>\n      <td>49.785714</td>\n      <td>6.071429</td>\n      <td>5.500000</td>\n      <td>24686</td>\n      <td>9</td>\n      <td>0</td>\n    </tr>\n    <tr>\n      <th>3</th>\n      <td>1007</td>\n      <td>539</td>\n      <td>30371.2</td>\n      <td>3917</td>\n      <td>2.129942e+06</td>\n      <td>1155227.84</td>\n      <td>862891.22</td>\n      <td>891117.87</td>\n      <td>31.0</td>\n      <td>451.0</td>\n      <td>...</td>\n      <td>44.266667</td>\n      <td>68.933333</td>\n      <td>28.733333</td>\n      <td>5.800000</td>\n      <td>41.566667</td>\n      <td>3.766667</td>\n      <td>5.533333</td>\n      <td>22394</td>\n      <td>11</td>\n      <td>0</td>\n    </tr>\n    <tr>\n      <th>4</th>\n      <td>1009</td>\n      <td>656</td>\n      <td>69980.4</td>\n      <td>6690</td>\n      <td>5.193917e+06</td>\n      <td>2358346.25</td>\n      <td>1774046.43</td>\n      <td>1766102.27</td>\n      <td>93.0</td>\n      <td>3023.0</td>\n      <td>...</td>\n      <td>58.307692</td>\n      <td>73.384615</td>\n      <td>34.230769</td>\n      <td>5.115385</td>\n      <td>40.769231</td>\n      <td>4.000000</td>\n      <td>5.038462</td>\n      <td>57826</td>\n      <td>12</td>\n      <td>0</td>\n    </tr>\n    <tr>\n      <th>...</th>\n      <td>...</td>\n      <td>...</td>\n      <td>...</td>\n      <td>...</td>\n      <td>...</td>\n      <td>...</td>\n      <td>...</td>\n      <td>...</td>\n      <td>...</td>\n      <td>...</td>\n      <td>...</td>\n      <td>...</td>\n      <td>...</td>\n      <td>...</td>\n      <td>...</td>\n      <td>...</td>\n      <td>...</td>\n      <td>...</td>\n      <td>...</td>\n      <td>...</td>\n      <td>...</td>\n    </tr>\n    <tr>\n      <th>2525</th>\n      <td>56037</td>\n      <td>3118</td>\n      <td>180247.3</td>\n      <td>24430</td>\n      <td>4.199070e+07</td>\n      <td>9361492.71</td>\n      <td>6968556.74</td>\n      <td>6774301.39</td>\n      <td>157.0</td>\n      <td>5408.0</td>\n      <td>...</td>\n      <td>22.184466</td>\n      <td>48.456311</td>\n      <td>23.631068</td>\n      <td>2.864078</td>\n      <td>34.339806</td>\n      <td>2.077670</td>\n      <td>1.456311</td>\n      <td>42343</td>\n      <td>7</td>\n      <td>0</td>\n    </tr>\n    <tr>\n      <th>2526</th>\n      <td>56039</td>\n      <td>3707</td>\n      <td>123737.1</td>\n      <td>19474</td>\n      <td>1.759663e+07</td>\n      <td>5335013.71</td>\n      <td>3964972.08</td>\n      <td>3984418.68</td>\n      <td>111.0</td>\n      <td>54315.0</td>\n      <td>...</td>\n      <td>25.766990</td>\n      <td>41.029126</td>\n      <td>17.291262</td>\n      <td>3.126214</td>\n      <td>41.184466</td>\n      <td>0.592233</td>\n      <td>1.077670</td>\n      <td>23464</td>\n      <td>53</td>\n      <td>0</td>\n    </tr>\n    <tr>\n      <th>2527</th>\n      <td>56041</td>\n      <td>1305</td>\n      <td>52681.9</td>\n      <td>8436</td>\n      <td>7.084807e+06</td>\n      <td>2634476.75</td>\n      <td>1941228.35</td>\n      <td>1923237.45</td>\n      <td>51.0</td>\n      <td>1456.0</td>\n      <td>...</td>\n      <td>21.206349</td>\n      <td>43.555556</td>\n      <td>16.761905</td>\n      <td>0.952381</td>\n      <td>27.746032</td>\n      <td>15.523810</td>\n      <td>0.825397</td>\n      <td>20226</td>\n      <td>4</td>\n      <td>0</td>\n    </tr>\n    <tr>\n      <th>2528</th>\n      <td>56043</td>\n      <td>451</td>\n      <td>25644.3</td>\n      <td>3605</td>\n      <td>2.650999e+06</td>\n      <td>1204296.03</td>\n      <td>858835.18</td>\n      <td>860269.73</td>\n      <td>49.0</td>\n      <td>3797.0</td>\n      <td>...</td>\n      <td>22.100000</td>\n      <td>40.400000</td>\n      <td>22.750000</td>\n      <td>3.750000</td>\n      <td>33.350000</td>\n      <td>1.700000</td>\n      <td>1.300000</td>\n      <td>7805</td>\n      <td>5</td>\n      <td>0</td>\n    </tr>\n    <tr>\n      <th>2529</th>\n      <td>56045</td>\n      <td>277</td>\n      <td>16037.0</td>\n      <td>1847</td>\n      <td>6.767309e+05</td>\n      <td>374177.73</td>\n      <td>278743.70</td>\n      <td>232141.73</td>\n      <td>7.0</td>\n      <td>141.0</td>\n      <td>...</td>\n      <td>32.714286</td>\n      <td>48.142857</td>\n      <td>27.214286</td>\n      <td>9.000000</td>\n      <td>35.214286</td>\n      <td>0.642857</td>\n      <td>2.285714</td>\n      <td>6927</td>\n      <td>0</td>\n      <td>0</td>\n    </tr>\n  </tbody>\n</table>\n<p>2530 rows × 56 columns</p>\n</div>"
     },
     "metadata": {},
     "output_type": "execute_result",
     "execution_count": 12
    }
   ],
   "source": [
    "final_df = pd.merge(merge_df, hospital_df, on='COUNTYFIPS')\n",
    "final_df"
   ],
   "metadata": {
    "collapsed": false,
    "pycharm": {
     "name": "#%%\n",
     "is_executing": false
    }
   }
  },
  {
   "cell_type": "markdown",
   "source": [
    "\n",
    "## Neural Net  \n",
    "Defining np arrays of features X and labels y "
   ],
   "metadata": {
    "collapsed": false
   }
  },
  {
   "cell_type": "code",
   "execution_count": 13,
   "outputs": [],
   "source": [
    "X = final_df.loc[:, 'NUM_HCPCS':'POPULATION_COUNTY'].values\n",
    "y = final_df['COVID_CASES_4.10.20'].values"
   ],
   "metadata": {
    "collapsed": false,
    "pycharm": {
     "name": "#%%\n",
     "is_executing": false
    }
   }
  },
  {
   "cell_type": "markdown",
   "source": [
    "Training and testing Multilayer perceptron using Keras  \n",
    "Outputs Mean squared error and mean absolute error at the end"
   ],
   "metadata": {
    "collapsed": false,
    "pycharm": {
     "name": "#%% md\n"
    }
   }
  },
  {
   "cell_type": "code",
   "execution_count": 14,
   "outputs": [
    {
     "name": "stdout",
     "text": [
      "Epoch 1/100\n",
      "\r 1/51 [..............................] - ETA: 0s - loss: 1515.8080 - mae: 21.6399",
      "\b\b\b\b\b\b\b\b\b\b\b\b\b\b\b\b\b\b\b\b\b\b\b\b\b\b\b\b\b\b\b\b\b\b\b\b\b\b\b\b\b\b\b\b\b\b\b\b\b\b\b\b\b\b\b\b\b\b\b\b\b\b\b\b\b\b\b\b\b\b\b\b\b\b\b\b\b\b\b\b\b\r11/51 [=====>........................] - ETA: 0s - loss: 241742.5469 - mae: 109.2327",
      "\b\b\b\b\b\b\b\b\b\b\b\b\b\b\b\b\b\b\b\b\b\b\b\b\b\b\b\b\b\b\b\b\b\b\b\b\b\b\b\b\b\b\b\b\b\b\b\b\b\b\b\b\b\b\b\b\b\b\b\b\b\b\b\b\b\b\b\b\b\b\b\b\b\b\b\b\b\b\b\b\b\b\b\b\r23/51 [============>.................] - ETA: 0s - loss: 817141.9375 - mae: 130.6061",
      "\b\b\b\b\b\b\b\b\b\b\b\b\b\b\b\b\b\b\b\b\b\b\b\b\b\b\b\b\b\b\b\b\b\b\b\b\b\b\b\b\b\b\b\b\b\b\b\b\b\b\b\b\b\b\b\b\b\b\b\b\b\b\b\b\b\b\b\b\b\b\b\b\b\b\b\b\b\b\b\b\b\b\b\b\r35/51 [===================>..........] - ETA: 0s - loss: 1025035.7500 - mae: 151.5152",
      "\b\b\b\b\b\b\b\b\b\b\b\b\b\b\b\b\b\b\b\b\b\b\b\b\b\b\b\b\b\b\b\b\b\b\b\b\b\b\b\b\b\b\b\b\b\b\b\b\b\b\b\b\b\b\b\b\b\b\b\b\b\b\b\b\b\b\b\b\b\b\b\b\b\b\b\b\b\b\b\b\b\b\b\b\b\r48/51 [===========================>..] - ETA: 0s - loss: 956574.1875 - mae: 152.1604 ",
      "\b\b\b\b\b\b\b\b\b\b\b\b\b\b\b\b\b\b\b\b\b\b\b\b\b\b\b\b\b\b\b\b\b\b\b\b\b\b\b\b\b\b\b\b\b\b\b\b\b\b\b\b\b\b\b\b\b\b\b\b\b\b\b\b\b\b\b\b\b\b\b\b\b\b\b\b\b\b\b\b\b\b\b\b\r51/51 [==============================] - 0s 9ms/step - loss: 998888.0625 - mae: 154.9958 - val_loss: 3354156.0000 - val_mae: 259.0067\n",
      "Epoch 2/100\n\r 1/51 [..............................] - ETA: 0s - loss: 1995070.2500 - mae: 283.8546",
      "\b\b\b\b\b\b\b\b\b\b\b\b\b\b\b\b\b\b\b\b\b\b\b\b\b\b\b\b\b\b\b\b\b\b\b\b\b\b\b\b\b\b\b\b\b\b\b\b\b\b\b\b\b\b\b\b\b\b\b\b\b\b\b\b\b\b\b\b\b\b\b\b\b\b\b\b\b\b\b\b\b\b\b\b\b\r13/51 [======>.......................] - ETA: 0s - loss: 506314.8438 - mae: 130.9172 ",
      "\b\b\b\b\b\b\b\b\b\b\b\b\b\b\b\b\b\b\b\b\b\b\b\b\b\b\b\b\b\b\b\b\b\b\b\b\b\b\b\b\b\b\b\b\b\b\b\b\b\b\b\b\b\b\b\b\b\b\b\b\b\b\b\b\b\b\b\b\b\b\b\b\b\b\b\b\b\b\b\b\b\b\b\b\r27/51 [==============>...............] - ETA: 0s - loss: 641731.1250 - mae: 141.2301",
      "\b\b\b\b\b\b\b\b\b\b\b\b\b\b\b\b\b\b\b\b\b\b\b\b\b\b\b\b\b\b\b\b\b\b\b\b\b\b\b\b\b\b\b\b\b\b\b\b\b\b\b\b\b\b\b\b\b\b\b\b\b\b\b\b\b\b\b\b\b\b\b\b\b\b\b\b\b\b\b\b\b\b\b\b\r41/51 [=======================>......] - ETA: 0s - loss: 535151.0625 - mae: 134.9588",
      "\b\b\b\b\b\b\b\b\b\b\b\b\b\b\b\b\b\b\b\b\b\b\b\b\b\b\b\b\b\b\b\b\b\b\b\b\b\b\b\b\b\b\b\b\b\b\b\b\b\b\b\b\b\b\b\b\b\b\b\b\b\b\b\b\b\b\b\b\b\b\b\b\b\b\b\b\b\b\b\b\b\b\b\b",
      "\r51/51 [==============================] - 0s 5ms/step - loss: 1114642.8750 - mae: 147.4221 - val_loss: 3264554.5000 - val_mae: 256.4597\n",
      "Epoch 3/100\n\r 1/51 [..............................] - ETA: 0s - loss: 121882.9453 - mae: 113.8862",
      "\b\b\b\b\b\b\b\b\b\b\b\b\b\b\b\b\b\b\b\b\b\b\b\b\b\b\b\b\b\b\b\b\b\b\b\b\b\b\b\b\b\b\b\b\b\b\b\b\b\b\b\b\b\b\b\b\b\b\b\b\b\b\b\b\b\b\b\b\b\b\b\b\b\b\b\b\b\b\b\b\b\b\b\b",
      "\r16/51 [========>.....................] - ETA: 0s - loss: 1837989.7500 - mae: 201.5439",
      "\b\b\b\b\b\b\b\b\b\b\b\b\b\b\b\b\b\b\b\b\b\b\b\b\b\b\b\b\b\b\b\b\b\b\b\b\b\b\b\b\b\b\b\b\b\b\b\b\b\b\b\b\b\b\b\b\b\b\b\b\b\b\b\b\b\b\b\b\b\b\b\b\b\b\b\b\b\b\b\b\b\b\b\b\b\r26/51 [==============>...............] - ETA: 0s - loss: 1406873.2500 - mae: 187.0105",
      "\b\b\b\b\b\b\b\b\b\b\b\b\b\b\b\b\b\b\b\b\b\b\b\b\b\b\b\b\b\b\b\b\b\b\b\b\b\b\b\b\b\b\b\b\b\b\b\b\b\b\b\b\b\b\b\b\b\b\b\b\b\b\b\b\b\b\b\b\b\b\b\b\b\b\b\b\b\b\b\b\b\b\b\b\b\r38/51 [=====================>........] - ETA: 0s - loss: 1110258.3750 - mae: 169.3918",
      "\b\b\b\b\b\b\b\b\b\b\b\b\b\b\b\b\b\b\b\b\b\b\b\b\b\b\b\b\b\b\b\b\b\b\b\b\b\b\b\b\b\b\b\b\b\b\b\b\b\b\b\b\b\b\b\b\b\b\b\b\b\b\b\b\b\b\b\b\b\b\b\b\b\b\b\b\b\b\b\b\b\b\b\b\b",
      "\r51/51 [==============================] - 0s 5ms/step - loss: 861886.1250 - mae: 150.8011 - val_loss: 3194457.0000 - val_mae: 256.9416\n",
      "Epoch 4/100\n\r 1/51 [..............................] - ETA: 0s - loss: 157457.4062 - mae: 133.1571",
      "\b\b\b\b\b\b\b\b\b\b\b\b\b\b\b\b\b\b\b\b\b\b\b\b\b\b\b\b\b\b\b\b\b\b\b\b\b\b\b\b\b\b\b\b\b\b\b\b\b\b\b\b\b\b\b\b\b\b\b\b\b\b\b\b\b\b\b\b\b\b\b\b\b\b\b\b\b\b\b\b\b\b\b\b",
      "\r12/51 [======>.......................] - ETA: 0s - loss: 404597.2188 - mae: 134.2184",
      "\b\b\b\b\b\b\b\b\b\b\b\b\b\b\b\b\b\b\b\b\b\b\b\b\b\b\b\b\b\b\b\b\b\b\b\b\b\b\b\b\b\b\b\b\b\b\b\b\b\b\b\b\b\b\b\b\b\b\b\b\b\b\b\b\b\b\b\b\b\b\b\b\b\b\b\b\b\b\b\b\b\b\b\b\r25/51 [=============>................] - ETA: 0s - loss: 1001349.6875 - mae: 171.9010",
      "\b\b\b\b\b\b\b\b\b\b\b\b\b\b\b\b\b\b\b\b\b\b\b\b\b\b\b\b\b\b\b\b\b\b\b\b\b\b\b\b\b\b\b\b\b\b\b\b\b\b\b\b\b\b\b\b\b\b\b\b\b\b\b\b\b\b\b\b\b\b\b\b\b\b\b\b\b\b\b\b\b\b\b\b\b\r33/51 [==================>...........] - ETA: 0s - loss: 851366.7500 - mae: 156.8976 ",
      "\b\b\b\b\b\b\b\b\b\b\b\b\b\b\b\b\b\b\b\b\b\b\b\b\b\b\b\b\b\b\b\b\b\b\b\b\b\b\b\b\b\b\b\b\b\b\b\b\b\b\b\b\b\b\b\b\b\b\b\b\b\b\b\b\b\b\b\b\b\b\b\b\b\b\b\b\b\b\b\b\b\b\b\b\r45/51 [=========================>....] - ETA: 0s - loss: 896637.6875 - mae: 160.3220",
      "\b\b\b\b\b\b\b\b\b\b\b\b\b\b\b\b\b\b\b\b\b\b\b\b\b\b\b\b\b\b\b\b\b\b\b\b\b\b\b\b\b\b\b\b\b\b\b\b\b\b\b\b\b\b\b\b\b\b\b\b\b\b\b\b\b\b\b\b\b\b\b\b\b\b\b\b\b\b\b\b\b\b\b\b",
      "\r51/51 [==============================] - 0s 6ms/step - loss: 862173.7500 - mae: 159.3073 - val_loss: 3136455.5000 - val_mae: 258.5631\n",
      "Epoch 5/100\n\r 1/51 [..............................] - ETA: 0s - loss: 552342.3125 - mae: 181.0255",
      "\b\b\b\b\b\b\b\b\b\b\b\b\b\b\b\b\b\b\b\b\b\b\b\b\b\b\b\b\b\b\b\b\b\b\b\b\b\b\b\b\b\b\b\b\b\b\b\b\b\b\b\b\b\b\b\b\b\b\b\b\b\b\b\b\b\b\b\b\b\b\b\b\b\b\b\b\b\b\b\b\b\b\b\b",
      "\r12/51 [======>.......................] - ETA: 0s - loss: 769126.1875 - mae: 187.8138",
      "\b\b\b\b\b\b\b\b\b\b\b\b\b\b\b\b\b\b\b\b\b\b\b\b\b\b\b\b\b\b\b\b\b\b\b\b\b\b\b\b\b\b\b\b\b\b\b\b\b\b\b\b\b\b\b\b\b\b\b\b\b\b\b\b\b\b\b\b\b\b\b\b\b\b\b\b\b\b\b\b\b\b\b\b",
      "\r24/51 [=============>................] - ETA: 0s - loss: 516015.3750 - mae: 152.0697",
      "\b\b\b\b\b\b\b\b\b\b\b\b\b\b\b\b\b\b\b\b\b\b\b\b\b\b\b\b\b\b\b\b\b\b\b\b\b\b\b\b\b\b\b\b\b\b\b\b\b\b\b\b\b\b\b\b\b\b\b\b\b\b\b\b\b\b\b\b\b\b\b\b\b\b\b\b\b\b\b\b\b\b\b\b\r38/51 [=====================>........] - ETA: 0s - loss: 467043.2188 - mae: 147.9154",
      "\b\b\b\b\b\b\b\b\b\b\b\b\b\b\b\b\b\b\b\b\b\b\b\b\b\b\b\b\b\b\b\b\b\b\b\b\b\b\b\b\b\b\b\b\b\b\b\b\b\b\b\b\b\b\b\b\b\b\b\b\b\b\b\b\b\b\b\b\b\b\b\b\b\b\b\b\b\b\b\b\b\b\b\b\r44/51 [========================>.....] - ETA: 0s - loss: 656602.8750 - mae: 156.2901",
      "\b\b\b\b\b\b\b\b\b\b\b\b\b\b\b\b\b\b\b\b\b\b\b\b\b\b\b\b\b\b\b\b\b\b\b\b\b\b\b\b\b\b\b\b\b\b\b\b\b\b\b\b\b\b\b\b\b\b\b\b\b\b\b\b\b\b\b\b\b\b\b\b\b\b\b\b\b\b\b\b\b\b\b\b\r51/51 [==============================] - 0s 6ms/step - loss: 836153.3125 - mae: 158.4624 - val_loss: 3117852.2500 - val_mae: 256.1879\n",
      "Epoch 6/100\n\r 1/51 [..............................] - ETA: 0s - loss: 82934.9062 - mae: 125.5005",
      "\b\b\b\b\b\b\b\b\b\b\b\b\b\b\b\b\b\b\b\b\b\b\b\b\b\b\b\b\b\b\b\b\b\b\b\b\b\b\b\b\b\b\b\b\b\b\b\b\b\b\b\b\b\b\b\b\b\b\b\b\b\b\b\b\b\b\b\b\b\b\b\b\b\b\b\b\b\b\b\b\b\b\b\r14/51 [=======>......................] - ETA: 0s - loss: 1387575.0000 - mae: 225.6862",
      "\b\b\b\b\b\b\b\b\b\b\b\b\b\b\b\b\b\b\b\b\b\b\b\b\b\b\b\b\b\b\b\b\b\b\b\b\b\b\b\b\b\b\b\b\b\b\b\b\b\b\b\b\b\b\b\b\b\b\b\b\b\b\b\b\b\b\b\b\b\b\b\b\b\b\b\b\b\b\b\b\b\b\b\b\b",
      "\r27/51 [==============>...............] - ETA: 0s - loss: 844031.4375 - mae: 174.1126 ",
      "\b\b\b\b\b\b\b\b\b\b\b\b\b\b\b\b\b\b\b\b\b\b\b\b\b\b\b\b\b\b\b\b\b\b\b\b\b\b\b\b\b\b\b\b\b\b\b\b\b\b\b\b\b\b\b\b\b\b\b\b\b\b\b\b\b\b\b\b\b\b\b\b\b\b\b\b\b\b\b\b\b\b\b\b\r43/51 [========================>.....] - ETA: 0s - loss: 971621.3125 - mae: 177.7630",
      "\b\b\b\b\b\b\b\b\b\b\b\b\b\b\b\b\b\b\b\b\b\b\b\b\b\b\b\b\b\b\b\b\b\b\b\b\b\b\b\b\b\b\b\b\b\b\b\b\b\b\b\b\b\b\b\b\b\b\b\b\b\b\b\b\b\b\b\b\b\b\b\b\b\b\b\b\b\b\b\b\b\b\b\b\r51/51 [==============================] - 0s 5ms/step - loss: 826734.4375 - mae: 162.8887 - val_loss: 3115519.5000 - val_mae: 250.5932\n",
      "Epoch 7/100\n\r 1/51 [..............................] - ETA: 0s - loss: 2930150.5000 - mae: 435.8149",
      "\b\b\b\b\b\b\b\b\b\b\b\b\b\b\b\b\b\b\b\b\b\b\b\b\b\b\b\b\b\b\b\b\b\b\b\b\b\b\b\b\b\b\b\b\b\b\b\b\b\b\b\b\b\b\b\b\b\b\b\b\b\b\b\b\b\b\b\b\b\b\b\b\b\b\b\b\b\b\b\b\b\b\b\b\b",
      "\r13/51 [======>.......................] - ETA: 0s - loss: 488038.2812 - mae: 153.0497 ",
      "\b\b\b\b\b\b\b\b\b\b\b\b\b\b\b\b\b\b\b\b\b\b\b\b\b\b\b\b\b\b\b\b\b\b\b\b\b\b\b\b\b\b\b\b\b\b\b\b\b\b\b\b\b\b\b\b\b\b\b\b\b\b\b\b\b\b\b\b\b\b\b\b\b\b\b\b\b\b\b\b\b\b\b\b\r26/51 [==============>...............] - ETA: 0s - loss: 440180.3750 - mae: 147.2648",
      "\b\b\b\b\b\b\b\b\b\b\b\b\b\b\b\b\b\b\b\b\b\b\b\b\b\b\b\b\b\b\b\b\b\b\b\b\b\b\b\b\b\b\b\b\b\b\b\b\b\b\b\b\b\b\b\b\b\b\b\b\b\b\b\b\b\b\b\b\b\b\b\b\b\b\b\b\b\b\b\b\b\b\b\b\r40/51 [======================>.......] - ETA: 0s - loss: 947056.5000 - mae: 166.2890",
      "\b\b\b\b\b\b\b\b\b\b\b\b\b\b\b\b\b\b\b\b\b\b\b\b\b\b\b\b\b\b\b\b\b\b\b\b\b\b\b\b\b\b\b\b\b\b\b\b\b\b\b\b\b\b\b\b\b\b\b\b\b\b\b\b\b\b\b\b\b\b\b\b\b\b\b\b\b\b\b\b\b\b\b\b\r51/51 [==============================] - 0s 5ms/step - loss: 822913.9375 - mae: 160.6231 - val_loss: 3092507.5000 - val_mae: 246.7960\n",
      "Epoch 8/100\n\r 1/51 [..............................] - ETA: 0s - loss: 12617.7148 - mae: 55.9732",
      "\b\b\b\b\b\b\b\b\b\b\b\b\b\b\b\b\b\b\b\b\b\b\b\b\b\b\b\b\b\b\b\b\b\b\b\b\b\b\b\b\b\b\b\b\b\b\b\b\b\b\b\b\b\b\b\b\b\b\b\b\b\b\b\b\b\b\b\b\b\b\b\b\b\b\b\b\b\b\b\b\b\b",
      "\r13/51 [======>.......................] - ETA: 0s - loss: 1395930.7500 - mae: 173.4554",
      "\b\b\b\b\b\b\b\b\b\b\b\b\b\b\b\b\b\b\b\b\b\b\b\b\b\b\b\b\b\b\b\b\b\b\b\b\b\b\b\b\b\b\b\b\b\b\b\b\b\b\b\b\b\b\b\b\b\b\b\b\b\b\b\b\b\b\b\b\b\b\b\b\b\b\b\b\b\b\b\b\b\b\b\b\b\r21/51 [===========>..................] - ETA: 0s - loss: 1123989.2500 - mae: 173.6543",
      "\b\b\b\b\b\b\b\b\b\b\b\b\b\b\b\b\b\b\b\b\b\b\b\b\b\b\b\b\b\b\b\b\b\b\b\b\b\b\b\b\b\b\b\b\b\b\b\b\b\b\b\b\b\b\b\b\b\b\b\b\b\b\b\b\b\b\b\b\b\b\b\b\b\b\b\b\b\b\b\b\b\b\b\b\b\r33/51 [==================>...........] - ETA: 0s - loss: 819028.3125 - mae: 151.4588 ",
      "\b\b\b\b\b\b\b\b\b\b\b\b\b\b\b\b\b\b\b\b\b\b\b\b\b\b\b\b\b\b\b\b\b\b\b\b\b\b\b\b\b\b\b\b\b\b\b\b\b\b\b\b\b\b\b\b\b\b\b\b\b\b\b\b\b\b\b\b\b\b\b\b\b\b\b\b\b\b\b\b\b\b\b\b\r47/51 [==========================>...] - ETA: 0s - loss: 877411.3750 - mae: 161.0762",
      "\b\b\b\b\b\b\b\b\b\b\b\b\b\b\b\b\b\b\b\b\b\b\b\b\b\b\b\b\b\b\b\b\b\b\b\b\b\b\b\b\b\b\b\b\b\b\b\b\b\b\b\b\b\b\b\b\b\b\b\b\b\b\b\b\b\b\b\b\b\b\b\b\b\b\b\b\b\b\b\b\b\b\b\b\r51/51 [==============================] - 0s 5ms/step - loss: 812201.6250 - mae: 155.9519 - val_loss: 3047788.5000 - val_mae: 246.0582\n",
      "Epoch 9/100\n\r 1/51 [..............................] - ETA: 0s - loss: 51757.5977 - mae: 83.8263",
      "\b\b\b\b\b\b\b\b\b\b\b\b\b\b\b\b\b\b\b\b\b\b\b\b\b\b\b\b\b\b\b\b\b\b\b\b\b\b\b\b\b\b\b\b\b\b\b\b\b\b\b\b\b\b\b\b\b\b\b\b\b\b\b\b\b\b\b\b\b\b\b\b\b\b\b\b\b\b\b\b\b\b\r14/51 [=======>......................] - ETA: 0s - loss: 1531553.3750 - mae: 200.8870",
      "\b\b\b\b\b\b\b\b\b\b\b\b\b\b\b\b\b\b\b\b\b\b\b\b\b\b\b\b\b\b\b\b\b\b\b\b\b\b\b\b\b\b\b\b\b\b\b\b\b\b\b\b\b\b\b\b\b\b\b\b\b\b\b\b\b\b\b\b\b\b\b\b\b\b\b\b\b\b\b\b\b\b\b\b\b",
      "\r24/51 [=============>................] - ETA: 0s - loss: 1388129.5000 - mae: 186.5834",
      "\b\b\b\b\b\b\b\b\b\b\b\b\b\b\b\b\b\b\b\b\b\b\b\b\b\b\b\b\b\b\b\b\b\b\b\b\b\b\b\b\b\b\b\b\b\b\b\b\b\b\b\b\b\b\b\b\b\b\b\b\b\b\b\b\b\b\b\b\b\b\b\b\b\b\b\b\b\b\b\b\b\b\b\b\b\r35/51 [===================>..........] - ETA: 0s - loss: 984287.6875 - mae: 156.3143 ",
      "\b\b\b\b\b\b\b\b\b\b\b\b\b\b\b\b\b\b\b\b\b\b\b\b\b\b\b\b\b\b\b\b\b\b\b\b\b\b\b\b\b\b\b\b\b\b\b\b\b\b\b\b\b\b\b\b\b\b\b\b\b\b\b\b\b\b\b\b\b\b\b\b\b\b\b\b\b\b\b\b\b\b\b\b\r49/51 [===========================>..] - ETA: 0s - loss: 826979.0000 - mae: 151.5732",
      "\b\b\b\b\b\b\b\b\b\b\b\b\b\b\b\b\b\b\b\b\b\b\b\b\b\b\b\b\b\b\b\b\b\b\b\b\b\b\b\b\b\b\b\b\b\b\b\b\b\b\b\b\b\b\b\b\b\b\b\b\b\b\b\b\b\b\b\b\b\b\b\b\b\b\b\b\b\b\b\b\b\b\b\b\r51/51 [==============================] - 0s 5ms/step - loss: 809050.8125 - mae: 153.2933 - val_loss: 3006596.2500 - val_mae: 246.6502\n",
      "Epoch 10/100\n\r 1/51 [..............................] - ETA: 0s - loss: 17363.1055 - mae: 71.0212",
      "\b\b\b\b\b\b\b\b\b\b\b\b\b\b\b\b\b\b\b\b\b\b\b\b\b\b\b\b\b\b\b\b\b\b\b\b\b\b\b\b\b\b\b\b\b\b\b\b\b\b\b\b\b\b\b\b\b\b\b\b\b\b\b\b\b\b\b\b\b\b\b\b\b\b\b\b\b\b\b\b\b\b\r13/51 [======>.......................] - ETA: 0s - loss: 1125817.7500 - mae: 143.6902",
      "\b\b\b\b\b\b\b\b\b\b\b\b\b\b\b\b\b\b\b\b\b\b\b\b\b\b\b\b\b\b\b\b\b\b\b\b\b\b\b\b\b\b\b\b\b\b\b\b\b\b\b\b\b\b\b\b\b\b\b\b\b\b\b\b\b\b\b\b\b\b\b\b\b\b\b\b\b\b\b\b\b\b\b\b\b\r26/51 [==============>...............] - ETA: 0s - loss: 1272998.3750 - mae: 193.0290",
      "\b\b\b\b\b\b\b\b\b\b\b\b\b\b\b\b\b\b\b\b\b\b\b\b\b\b\b\b\b\b\b\b\b\b\b\b\b\b\b\b\b\b\b\b\b\b\b\b\b\b\b\b\b\b\b\b\b\b\b\b\b\b\b\b\b\b\b\b\b\b\b\b\b\b\b\b\b\b\b\b\b\b\b\b\b\r37/51 [====================>.........] - ETA: 0s - loss: 1006920.1250 - mae: 177.6052",
      "\b\b\b\b\b\b\b\b\b\b\b\b\b\b\b\b\b\b\b\b\b\b\b\b\b\b\b\b\b\b\b\b\b\b\b\b\b\b\b\b\b\b\b\b\b\b\b\b\b\b\b\b\b\b\b\b\b\b\b\b\b\b\b\b\b\b\b\b\b\b\b\b\b\b\b\b\b\b\b\b\b\b\b\b\b\r48/51 [===========================>..] - ETA: 0s - loss: 836621.1875 - mae: 167.9241 ",
      "\b\b\b\b\b\b\b\b\b\b\b\b\b\b\b\b\b\b\b\b\b\b\b\b\b\b\b\b\b\b\b\b\b\b\b\b\b\b\b\b\b\b\b\b\b\b\b\b\b\b\b\b\b\b\b\b\b\b\b\b\b\b\b\b\b\b\b\b\b\b\b\b\b\b\b\b\b\b\b\b\b\b\b\b\r51/51 [==============================] - 0s 5ms/step - loss: 790913.0000 - mae: 163.7769 - val_loss: 2996343.7500 - val_mae: 241.8935\n",
      "Epoch 11/100\n\r 1/51 [..............................] - ETA: 0s - loss: 19875.1152 - mae: 56.4359",
      "\b\b\b\b\b\b\b\b\b\b\b\b\b\b\b\b\b\b\b\b\b\b\b\b\b\b\b\b\b\b\b\b\b\b\b\b\b\b\b\b\b\b\b\b\b\b\b\b\b\b\b\b\b\b\b\b\b\b\b\b\b\b\b\b\b\b\b\b\b\b\b\b\b\b\b\b\b\b\b\b\b\b\r15/51 [=======>......................] - ETA: 0s - loss: 815001.3125 - mae: 150.4672",
      "\b\b\b\b\b\b\b\b\b\b\b\b\b\b\b\b\b\b\b\b\b\b\b\b\b\b\b\b\b\b\b\b\b\b\b\b\b\b\b\b\b\b\b\b\b\b\b\b\b\b\b\b\b\b\b\b\b\b\b\b\b\b\b\b\b\b\b\b\b\b\b\b\b\b\b\b\b\b\b\b\b\b\b\b\r28/51 [===============>..............] - ETA: 0s - loss: 624575.1250 - mae: 144.0699",
      "\b\b\b\b\b\b\b\b\b\b\b\b\b\b\b\b\b\b\b\b\b\b\b\b\b\b\b\b\b\b\b\b\b\b\b\b\b\b\b\b\b\b\b\b\b\b\b\b\b\b\b\b\b\b\b\b\b\b\b\b\b\b\b\b\b\b\b\b\b\b\b\b\b\b\b\b\b\b\b\b\b\b\b\b\r40/51 [======================>.......] - ETA: 0s - loss: 835631.2500 - mae: 151.2776",
      "\b\b\b\b\b\b\b\b\b\b\b\b\b\b\b\b\b\b\b\b\b\b\b\b\b\b\b\b\b\b\b\b\b\b\b\b\b\b\b\b\b\b\b\b\b\b\b\b\b\b\b\b\b\b\b\b\b\b\b\b\b\b\b\b\b\b\b\b\b\b\b\b\b\b\b\b\b\b\b\b\b\b\b\b\r51/51 [==============================] - 0s 5ms/step - loss: 775072.8125 - mae: 156.5137 - val_loss: 2935419.0000 - val_mae: 245.0529\n",
      "Epoch 12/100\n\r 1/51 [..............................] - ETA: 0s - loss: 38038.1250 - mae: 115.3709",
      "\b\b\b\b\b\b\b\b\b\b\b\b\b\b\b\b\b\b\b\b\b\b\b\b\b\b\b\b\b\b\b\b\b\b\b\b\b\b\b\b\b\b\b\b\b\b\b\b\b\b\b\b\b\b\b\b\b\b\b\b\b\b\b\b\b\b\b\b\b\b\b\b\b\b\b\b\b\b\b\b\b\b\b",
      "\r15/51 [=======>......................] - ETA: 0s - loss: 169360.5781 - mae: 112.1624",
      "\b\b\b\b\b\b\b\b\b\b\b\b\b\b\b\b\b\b\b\b\b\b\b\b\b\b\b\b\b\b\b\b\b\b\b\b\b\b\b\b\b\b\b\b\b\b\b\b\b\b\b\b\b\b\b\b\b\b\b\b\b\b\b\b\b\b\b\b\b\b\b\b\b\b\b\b\b\b\b\b\b\b\b\b\r29/51 [================>.............] - ETA: 0s - loss: 748444.8125 - mae: 160.0912",
      "\b\b\b\b\b\b\b\b\b\b\b\b\b\b\b\b\b\b\b\b\b\b\b\b\b\b\b\b\b\b\b\b\b\b\b\b\b\b\b\b\b\b\b\b\b\b\b\b\b\b\b\b\b\b\b\b\b\b\b\b\b\b\b\b\b\b\b\b\b\b\b\b\b\b\b\b\b\b\b\b\b\b\b\b\r43/51 [========================>.....] - ETA: 0s - loss: 778564.6875 - mae: 159.3571",
      "\b\b\b\b\b\b\b\b\b\b\b\b\b\b\b\b\b\b\b\b\b\b\b\b\b\b\b\b\b\b\b\b\b\b\b\b\b\b\b\b\b\b\b\b\b\b\b\b\b\b\b\b\b\b\b\b\b\b\b\b\b\b\b\b\b\b\b\b\b\b\b\b\b\b\b\b\b\b\b\b\b\b\b\b",
      "\r51/51 [==============================] - 0s 5ms/step - loss: 761744.8125 - mae: 161.5018 - val_loss: 2904780.0000 - val_mae: 244.0616\n",
      "Epoch 13/100\n\r 1/51 [..............................] - ETA: 0s - loss: 646916.8125 - mae: 175.0056",
      "\b\b\b\b\b\b\b\b\b\b\b\b\b\b\b\b\b\b\b\b\b\b\b\b\b\b\b\b\b\b\b\b\b\b\b\b\b\b\b\b\b\b\b\b\b\b\b\b\b\b\b\b\b\b\b\b\b\b\b\b\b\b\b\b\b\b\b\b\b\b\b\b\b\b\b\b\b\b\b\b\b\b\b\b\r13/51 [======>.......................] - ETA: 0s - loss: 1224825.2500 - mae: 208.6983",
      "\b\b\b\b\b\b\b\b\b\b\b\b\b\b\b\b\b\b\b\b\b\b\b\b\b\b\b\b\b\b\b\b\b\b\b\b\b\b\b\b\b\b\b\b\b\b\b\b\b\b\b\b\b\b\b\b\b\b\b\b\b\b\b\b\b\b\b\b\b\b\b\b\b\b\b\b\b\b\b\b\b\b\b\b\b\r24/51 [=============>................] - ETA: 0s - loss: 1276041.1250 - mae: 202.4822",
      "\b\b\b\b\b\b\b\b\b\b\b\b\b\b\b\b\b\b\b\b\b\b\b\b\b\b\b\b\b\b\b\b\b\b\b\b\b\b\b\b\b\b\b\b\b\b\b\b\b\b\b\b\b\b\b\b\b\b\b\b\b\b\b\b\b\b\b\b\b\b\b\b\b\b\b\b\b\b\b\b\b\b\b\b\b",
      "\r35/51 [===================>..........] - ETA: 0s - loss: 972974.6250 - mae: 183.6343 ",
      "\b\b\b\b\b\b\b\b\b\b\b\b\b\b\b\b\b\b\b\b\b\b\b\b\b\b\b\b\b\b\b\b\b\b\b\b\b\b\b\b\b\b\b\b\b\b\b\b\b\b\b\b\b\b\b\b\b\b\b\b\b\b\b\b\b\b\b\b\b\b\b\b\b\b\b\b\b\b\b\b\b\b\b\b\r47/51 [==========================>...] - ETA: 0s - loss: 785284.0000 - mae: 170.8074",
      "\b\b\b\b\b\b\b\b\b\b\b\b\b\b\b\b\b\b\b\b\b\b\b\b\b\b\b\b\b\b\b\b\b\b\b\b\b\b\b\b\b\b\b\b\b\b\b\b\b\b\b\b\b\b\b\b\b\b\b\b\b\b\b\b\b\b\b\b\b\b\b\b\b\b\b\b\b\b\b\b\b\b\b\b\r51/51 [==============================] - 0s 6ms/step - loss: 754641.6250 - mae: 169.3466 - val_loss: 2914121.5000 - val_mae: 238.4122\n",
      "Epoch 14/100\n\r 1/51 [..............................] - ETA: 0s - loss: 59258.3477 - mae: 95.5075",
      "\b\b\b\b\b\b\b\b\b\b\b\b\b\b\b\b\b\b\b\b\b\b\b\b\b\b\b\b\b\b\b\b\b\b\b\b\b\b\b\b\b\b\b\b\b\b\b\b\b\b\b\b\b\b\b\b\b\b\b\b\b\b\b\b\b\b\b\b\b\b\b\b\b\b\b\b\b\b\b\b\b\b\r16/51 [========>.....................] - ETA: 0s - loss: 145126.5156 - mae: 101.3552",
      "\b\b\b\b\b\b\b\b\b\b\b\b\b\b\b\b\b\b\b\b\b\b\b\b\b\b\b\b\b\b\b\b\b\b\b\b\b\b\b\b\b\b\b\b\b\b\b\b\b\b\b\b\b\b\b\b\b\b\b\b\b\b\b\b\b\b\b\b\b\b\b\b\b\b\b\b\b\b\b\b\b\b\b\b\r27/51 [==============>...............] - ETA: 0s - loss: 409932.0000 - mae: 137.3148",
      "\b\b\b\b\b\b\b\b\b\b\b\b\b\b\b\b\b\b\b\b\b\b\b\b\b\b\b\b\b\b\b\b\b\b\b\b\b\b\b\b\b\b\b\b\b\b\b\b\b\b\b\b\b\b\b\b\b\b\b\b\b\b\b\b\b\b\b\b\b\b\b\b\b\b\b\b\b\b\b\b\b\b\b\b\r37/51 [====================>.........] - ETA: 0s - loss: 689900.6250 - mae: 151.8265",
      "\b\b\b\b\b\b\b\b\b\b\b\b\b\b\b\b\b\b\b\b\b\b\b\b\b\b\b\b\b\b\b\b\b\b\b\b\b\b\b\b\b\b\b\b\b\b\b\b\b\b\b\b\b\b\b\b\b\b\b\b\b\b\b\b\b\b\b\b\b\b\b\b\b\b\b\b\b\b\b\b\b\b\b\b",
      "\r51/51 [==============================] - 0s 5ms/step - loss: 739104.1875 - mae: 157.6580 - val_loss: 2869740.0000 - val_mae: 238.9545\n",
      "Epoch 15/100\n\r 1/51 [..............................] - ETA: 0s - loss: 32847.9922 - mae: 104.6967",
      "\b\b\b\b\b\b\b\b\b\b\b\b\b\b\b\b\b\b\b\b\b\b\b\b\b\b\b\b\b\b\b\b\b\b\b\b\b\b\b\b\b\b\b\b\b\b\b\b\b\b\b\b\b\b\b\b\b\b\b\b\b\b\b\b\b\b\b\b\b\b\b\b\b\b\b\b\b\b\b\b\b\b\b\r12/51 [======>.......................] - ETA: 0s - loss: 1188023.1250 - mae: 146.4431",
      "\b\b\b\b\b\b\b\b\b\b\b\b\b\b\b\b\b\b\b\b\b\b\b\b\b\b\b\b\b\b\b\b\b\b\b\b\b\b\b\b\b\b\b\b\b\b\b\b\b\b\b\b\b\b\b\b\b\b\b\b\b\b\b\b\b\b\b\b\b\b\b\b\b\b\b\b\b\b\b\b\b\b\b\b\b\r25/51 [=============>................] - ETA: 0s - loss: 698724.3125 - mae: 149.8859 ",
      "\b\b\b\b\b\b\b\b\b\b\b\b\b\b\b\b\b\b\b\b\b\b\b\b\b\b\b\b\b\b\b\b\b\b\b\b\b\b\b\b\b\b\b\b\b\b\b\b\b\b\b\b\b\b\b\b\b\b\b\b\b\b\b\b\b\b\b\b\b\b\b\b\b\b\b\b\b\b\b\b\b\b\b\b\r40/51 [======================>.......] - ETA: 0s - loss: 791419.8125 - mae: 154.8379",
      "\b\b\b\b\b\b\b\b\b\b\b\b\b\b\b\b\b\b\b\b\b\b\b\b\b\b\b\b\b\b\b\b\b\b\b\b\b\b\b\b\b\b\b\b\b\b\b\b\b\b\b\b\b\b\b\b\b\b\b\b\b\b\b\b\b\b\b\b\b\b\b\b\b\b\b\b\b\b\b\b\b\b\b\b\r48/51 [===========================>..] - ETA: 0s - loss: 759051.4375 - mae: 164.9161",
      "\b\b\b\b\b\b\b\b\b\b\b\b\b\b\b\b\b\b\b\b\b\b\b\b\b\b\b\b\b\b\b\b\b\b\b\b\b\b\b\b\b\b\b\b\b\b\b\b\b\b\b\b\b\b\b\b\b\b\b\b\b\b\b\b\b\b\b\b\b\b\b\b\b\b\b\b\b\b\b\b\b\b\b\b\r51/51 [==============================] - 0s 5ms/step - loss: 716437.2500 - mae: 160.9595 - val_loss: 2781639.0000 - val_mae: 245.0131\n",
      "Epoch 16/100\n",
      "\r 1/51 [..............................] - ETA: 0s - loss: 11508.1807 - mae: 36.2143",
      "\b\b\b\b\b\b\b\b\b\b\b\b\b\b\b\b\b\b\b\b\b\b\b\b\b\b\b\b\b\b\b\b\b\b\b\b\b\b\b\b\b\b\b\b\b\b\b\b\b\b\b\b\b\b\b\b\b\b\b\b\b\b\b\b\b\b\b\b\b\b\b\b\b\b\b\b\b\b\b\b\b\b\r13/51 [======>.......................] - ETA: 0s - loss: 319771.5625 - mae: 149.4782",
      "\b\b\b\b\b\b\b\b\b\b\b\b\b\b\b\b\b\b\b\b\b\b\b\b\b\b\b\b\b\b\b\b\b\b\b\b\b\b\b\b\b\b\b\b\b\b\b\b\b\b\b\b\b\b\b\b\b\b\b\b\b\b\b\b\b\b\b\b\b\b\b\b\b\b\b\b\b\b\b\b\b\b\b\b\r27/51 [==============>...............] - ETA: 0s - loss: 753460.3750 - mae: 166.3764",
      "\b\b\b\b\b\b\b\b\b\b\b\b\b\b\b\b\b\b\b\b\b\b\b\b\b\b\b\b\b\b\b\b\b\b\b\b\b\b\b\b\b\b\b\b\b\b\b\b\b\b\b\b\b\b\b\b\b\b\b\b\b\b\b\b\b\b\b\b\b\b\b\b\b\b\b\b\b\b\b\b\b\b\b\b\r39/51 [=====================>........] - ETA: 0s - loss: 616771.5000 - mae: 157.6672",
      "\b\b\b\b\b\b\b\b\b\b\b\b\b\b\b\b\b\b\b\b\b\b\b\b\b\b\b\b\b\b\b\b\b\b\b\b\b\b\b\b\b\b\b\b\b\b\b\b\b\b\b\b\b\b\b\b\b\b\b\b\b\b\b\b\b\b\b\b\b\b\b\b\b\b\b\b\b\b\b\b\b\b\b\b\r51/51 [==============================] - ETA: 0s - loss: 700284.2500 - mae: 166.7694",
      "\b\b\b\b\b\b\b\b\b\b\b\b\b\b\b\b\b\b\b\b\b\b\b\b\b\b\b\b\b\b\b\b\b\b\b\b\b\b\b\b\b\b\b\b\b\b\b\b\b\b\b\b\b\b\b\b\b\b\b\b\b\b\b\b\b\b\b\b\b\b\b\b\b\b\b\b\b\b\b\b\b\b\b\b",
      "\r51/51 [==============================] - 0s 6ms/step - loss: 700284.2500 - mae: 166.7694 - val_loss: 2778063.0000 - val_mae: 237.4647\n",
      "Epoch 17/100\n\r 1/51 [..............................] - ETA: 0s - loss: 23204.6992 - mae: 65.9478",
      "\b\b\b\b\b\b\b\b\b\b\b\b\b\b\b\b\b\b\b\b\b\b\b\b\b\b\b\b\b\b\b\b\b\b\b\b\b\b\b\b\b\b\b\b\b\b\b\b\b\b\b\b\b\b\b\b\b\b\b\b\b\b\b\b\b\b\b\b\b\b\b\b\b\b\b\b\b\b\b\b\b\b\r13/51 [======>.......................] - ETA: 0s - loss: 195499.6094 - mae: 116.6772",
      "\b\b\b\b\b\b\b\b\b\b\b\b\b\b\b\b\b\b\b\b\b\b\b\b\b\b\b\b\b\b\b\b\b\b\b\b\b\b\b\b\b\b\b\b\b\b\b\b\b\b\b\b\b\b\b\b\b\b\b\b\b\b\b\b\b\b\b\b\b\b\b\b\b\b\b\b\b\b\b\b\b\b\b\b\r26/51 [==============>...............] - ETA: 0s - loss: 183486.6719 - mae: 112.1123",
      "\b\b\b\b\b\b\b\b\b\b\b\b\b\b\b\b\b\b\b\b\b\b\b\b\b\b\b\b\b\b\b\b\b\b\b\b\b\b\b\b\b\b\b\b\b\b\b\b\b\b\b\b\b\b\b\b\b\b\b\b\b\b\b\b\b\b\b\b\b\b\b\b\b\b\b\b\b\b\b\b\b\b\b\b\r38/51 [=====================>........] - ETA: 0s - loss: 467549.5938 - mae: 138.5103",
      "\b\b\b\b\b\b\b\b\b\b\b\b\b\b\b\b\b\b\b\b\b\b\b\b\b\b\b\b\b\b\b\b\b\b\b\b\b\b\b\b\b\b\b\b\b\b\b\b\b\b\b\b\b\b\b\b\b\b\b\b\b\b\b\b\b\b\b\b\b\b\b\b\b\b\b\b\b\b\b\b\b\b\b\b\r50/51 [============================>.] - ETA: 0s - loss: 680518.9375 - mae: 161.4306",
      "\b\b\b\b\b\b\b\b\b\b\b\b\b\b\b\b\b\b\b\b\b\b\b\b\b\b\b\b\b\b\b\b\b\b\b\b\b\b\b\b\b\b\b\b\b\b\b\b\b\b\b\b\b\b\b\b\b\b\b\b\b\b\b\b\b\b\b\b\b\b\b\b\b\b\b\b\b\b\b\b\b\b\b\b\r51/51 [==============================] - 0s 5ms/step - loss: 667662.8750 - mae: 160.3548 - val_loss: 2641645.5000 - val_mae: 249.9665\n",
      "Epoch 18/100\n\r 1/51 [..............................] - ETA: 0s - loss: 43937.8906 - mae: 87.3146",
      "\b\b\b\b\b\b\b\b\b\b\b\b\b\b\b\b\b\b\b\b\b\b\b\b\b\b\b\b\b\b\b\b\b\b\b\b\b\b\b\b\b\b\b\b\b\b\b\b\b\b\b\b\b\b\b\b\b\b\b\b\b\b\b\b\b\b\b\b\b\b\b\b\b\b\b\b\b\b\b\b\b\b\r 9/51 [====>.........................] - ETA: 0s - loss: 384572.2812 - mae: 157.9749",
      "\b\b\b\b\b\b\b\b\b\b\b\b\b\b\b\b\b\b\b\b\b\b\b\b\b\b\b\b\b\b\b\b\b\b\b\b\b\b\b\b\b\b\b\b\b\b\b\b\b\b\b\b\b\b\b\b\b\b\b\b\b\b\b\b\b\b\b\b\b\b\b\b\b\b\b\b\b\b\b\b\b\b\b\b\r23/51 [============>.................] - ETA: 0s - loss: 351558.8750 - mae: 153.8873",
      "\b\b\b\b\b\b\b\b\b\b\b\b\b\b\b\b\b\b\b\b\b\b\b\b\b\b\b\b\b\b\b\b\b\b\b\b\b\b\b\b\b\b\b\b\b\b\b\b\b\b\b\b\b\b\b\b\b\b\b\b\b\b\b\b\b\b\b\b\b\b\b\b\b\b\b\b\b\b\b\b\b\b\b\b\r37/51 [====================>.........] - ETA: 0s - loss: 618795.8125 - mae: 163.0728",
      "\b\b\b\b\b\b\b\b\b\b\b\b\b\b\b\b\b\b\b\b\b\b\b\b\b\b\b\b\b\b\b\b\b\b\b\b\b\b\b\b\b\b\b\b\b\b\b\b\b\b\b\b\b\b\b\b\b\b\b\b\b\b\b\b\b\b\b\b\b\b\b\b\b\b\b\b\b\b\b\b\b\b\b\b\r51/51 [==============================] - ETA: 0s - loss: 674950.8750 - mae: 165.8266",
      "\b\b\b\b\b\b\b\b\b\b\b\b\b\b\b\b\b\b\b\b\b\b\b\b\b\b\b\b\b\b\b\b\b\b\b\b\b\b\b\b\b\b\b\b\b\b\b\b\b\b\b\b\b\b\b\b\b\b\b\b\b\b\b\b\b\b\b\b\b\b\b\b\b\b\b\b\b\b\b\b\b\b\b\b\r51/51 [==============================] - 0s 5ms/step - loss: 674950.8750 - mae: 165.8266 - val_loss: 2633915.7500 - val_mae: 239.4518\n",
      "Epoch 19/100\n\r 1/51 [..............................] - ETA: 0s - loss: 55746.4062 - mae: 107.9063",
      "\b\b\b\b\b\b\b\b\b\b\b\b\b\b\b\b\b\b\b\b\b\b\b\b\b\b\b\b\b\b\b\b\b\b\b\b\b\b\b\b\b\b\b\b\b\b\b\b\b\b\b\b\b\b\b\b\b\b\b\b\b\b\b\b\b\b\b\b\b\b\b\b\b\b\b\b\b\b\b\b\b\b\b\r13/51 [======>.......................] - ETA: 0s - loss: 474273.0625 - mae: 149.9861",
      "\b\b\b\b\b\b\b\b\b\b\b\b\b\b\b\b\b\b\b\b\b\b\b\b\b\b\b\b\b\b\b\b\b\b\b\b\b\b\b\b\b\b\b\b\b\b\b\b\b\b\b\b\b\b\b\b\b\b\b\b\b\b\b\b\b\b\b\b\b\b\b\b\b\b\b\b\b\b\b\b\b\b\b\b\r23/51 [============>.................] - ETA: 0s - loss: 899831.1250 - mae: 183.0445",
      "\b\b\b\b\b\b\b\b\b\b\b\b\b\b\b\b\b\b\b\b\b\b\b\b\b\b\b\b\b\b\b\b\b\b\b\b\b\b\b\b\b\b\b\b\b\b\b\b\b\b\b\b\b\b\b\b\b\b\b\b\b\b\b\b\b\b\b\b\b\b\b\b\b\b\b\b\b\b\b\b\b\b\b\b\r34/51 [===================>..........] - ETA: 0s - loss: 913260.5000 - mae: 183.9424",
      "\b\b\b\b\b\b\b\b\b\b\b\b\b\b\b\b\b\b\b\b\b\b\b\b\b\b\b\b\b\b\b\b\b\b\b\b\b\b\b\b\b\b\b\b\b\b\b\b\b\b\b\b\b\b\b\b\b\b\b\b\b\b\b\b\b\b\b\b\b\b\b\b\b\b\b\b\b\b\b\b\b\b\b\b\r47/51 [==========================>...] - ETA: 0s - loss: 696130.2500 - mae: 163.4655",
      "\b\b\b\b\b\b\b\b\b\b\b\b\b\b\b\b\b\b\b\b\b\b\b\b\b\b\b\b\b\b\b\b\b\b\b\b\b\b\b\b\b\b\b\b\b\b\b\b\b\b\b\b\b\b\b\b\b\b\b\b\b\b\b\b\b\b\b\b\b\b\b\b\b\b\b\b\b\b\b\b\b\b\b\b",
      "\r51/51 [==============================] - 0s 6ms/step - loss: 654535.9375 - mae: 160.2307 - val_loss: 2648245.2500 - val_mae: 232.6706\n",
      "Epoch 20/100\n\r 1/51 [..............................] - ETA: 0s - loss: 70147.6172 - mae: 115.1066",
      "\b\b\b\b\b\b\b\b\b\b\b\b\b\b\b\b\b\b\b\b\b\b\b\b\b\b\b\b\b\b\b\b\b\b\b\b\b\b\b\b\b\b\b\b\b\b\b\b\b\b\b\b\b\b\b\b\b\b\b\b\b\b\b\b\b\b\b\b\b\b\b\b\b\b\b\b\b\b\b\b\b\b\b",
      "\r13/51 [======>.......................] - ETA: 0s - loss: 1194620.1250 - mae: 186.0245",
      "\b\b\b\b\b\b\b\b\b\b\b\b\b\b\b\b\b\b\b\b\b\b\b\b\b\b\b\b\b\b\b\b\b\b\b\b\b\b\b\b\b\b\b\b\b\b\b\b\b\b\b\b\b\b\b\b\b\b\b\b\b\b\b\b\b\b\b\b\b\b\b\b\b\b\b\b\b\b\b\b\b\b\b\b\b",
      "\r27/51 [==============>...............] - ETA: 0s - loss: 705807.9375 - mae: 158.6964 ",
      "\b\b\b\b\b\b\b\b\b\b\b\b\b\b\b\b\b\b\b\b\b\b\b\b\b\b\b\b\b\b\b\b\b\b\b\b\b\b\b\b\b\b\b\b\b\b\b\b\b\b\b\b\b\b\b\b\b\b\b\b\b\b\b\b\b\b\b\b\b\b\b\b\b\b\b\b\b\b\b\b\b\b\b\b\r34/51 [===================>..........] - ETA: 0s - loss: 587041.3750 - mae: 147.0384",
      "\b\b\b\b\b\b\b\b\b\b\b\b\b\b\b\b\b\b\b\b\b\b\b\b\b\b\b\b\b\b\b\b\b\b\b\b\b\b\b\b\b\b\b\b\b\b\b\b\b\b\b\b\b\b\b\b\b\b\b\b\b\b\b\b\b\b\b\b\b\b\b\b\b\b\b\b\b\b\b\b\b\b\b\b\r47/51 [==========================>...] - ETA: 0s - loss: 697290.2500 - mae: 159.3081",
      "\b\b\b\b\b\b\b\b\b\b\b\b\b\b\b\b\b\b\b\b\b\b\b\b\b\b\b\b\b\b\b\b\b\b\b\b\b\b\b\b\b\b\b\b\b\b\b\b\b\b\b\b\b\b\b\b\b\b\b\b\b\b\b\b\b\b\b\b\b\b\b\b\b\b\b\b\b\b\b\b\b\b\b\b\r51/51 [==============================] - 0s 5ms/step - loss: 648842.5625 - mae: 153.7587 - val_loss: 2556099.7500 - val_mae: 235.6660\n",
      "Epoch 21/100\n\r 1/51 [..............................] - ETA: 0s - loss: 39184.5859 - mae: 113.3090",
      "\b\b\b\b\b\b\b\b\b\b\b\b\b\b\b\b\b\b\b\b\b\b\b\b\b\b\b\b\b\b\b\b\b\b\b\b\b\b\b\b\b\b\b\b\b\b\b\b\b\b\b\b\b\b\b\b\b\b\b\b\b\b\b\b\b\b\b\b\b\b\b\b\b\b\b\b\b\b\b\b\b\b\b\r14/51 [=======>......................] - ETA: 0s - loss: 136276.8906 - mae: 117.5442",
      "\b\b\b\b\b\b\b\b\b\b\b\b\b\b\b\b\b\b\b\b\b\b\b\b\b\b\b\b\b\b\b\b\b\b\b\b\b\b\b\b\b\b\b\b\b\b\b\b\b\b\b\b\b\b\b\b\b\b\b\b\b\b\b\b\b\b\b\b\b\b\b\b\b\b\b\b\b\b\b\b\b\b\b\b\r25/51 [=============>................] - ETA: 0s - loss: 682574.7500 - mae: 159.0945",
      "\b\b\b\b\b\b\b\b\b\b\b\b\b\b\b\b\b\b\b\b\b\b\b\b\b\b\b\b\b\b\b\b\b\b\b\b\b\b\b\b\b\b\b\b\b\b\b\b\b\b\b\b\b\b\b\b\b\b\b\b\b\b\b\b\b\b\b\b\b\b\b\b\b\b\b\b\b\b\b\b\b\b\b\b\r35/51 [===================>..........] - ETA: 0s - loss: 593378.3750 - mae: 158.2293",
      "\b\b\b\b\b\b\b\b\b\b\b\b\b\b\b\b\b\b\b\b\b\b\b\b\b\b\b\b\b\b\b\b\b\b\b\b\b\b\b\b\b\b\b\b\b\b\b\b\b\b\b\b\b\b\b\b\b\b\b\b\b\b\b\b\b\b\b\b\b\b\b\b\b\b\b\b\b\b\b\b\b\b\b\b\r44/51 [========================>.....] - ETA: 0s - loss: 682677.0000 - mae: 162.3728",
      "\b\b\b\b\b\b\b\b\b\b\b\b\b\b\b\b\b\b\b\b\b\b\b\b\b\b\b\b\b\b\b\b\b\b\b\b\b\b\b\b\b\b\b\b\b\b\b\b\b\b\b\b\b\b\b\b\b\b\b\b\b\b\b\b\b\b\b\b\b\b\b\b\b\b\b\b\b\b\b\b\b\b\b\b",
      "\r51/51 [==============================] - 0s 6ms/step - loss: 633150.7500 - mae: 158.1658 - val_loss: 2511730.5000 - val_mae: 233.2982\n",
      "Epoch 22/100\n\r 1/51 [..............................] - ETA: 0s - loss: 21148.7812 - mae: 74.0693",
      "\b\b\b\b\b\b\b\b\b\b\b\b\b\b\b\b\b\b\b\b\b\b\b\b\b\b\b\b\b\b\b\b\b\b\b\b\b\b\b\b\b\b\b\b\b\b\b\b\b\b\b\b\b\b\b\b\b\b\b\b\b\b\b\b\b\b\b\b\b\b\b\b\b\b\b\b\b\b\b\b\b\b\r13/51 [======>.......................] - ETA: 0s - loss: 810357.3750 - mae: 164.8852",
      "\b\b\b\b\b\b\b\b\b\b\b\b\b\b\b\b\b\b\b\b\b\b\b\b\b\b\b\b\b\b\b\b\b\b\b\b\b\b\b\b\b\b\b\b\b\b\b\b\b\b\b\b\b\b\b\b\b\b\b\b\b\b\b\b\b\b\b\b\b\b\b\b\b\b\b\b\b\b\b\b\b\b\b\b\r27/51 [==============>...............] - ETA: 0s - loss: 540046.8750 - mae: 151.2572",
      "\b\b\b\b\b\b\b\b\b\b\b\b\b\b\b\b\b\b\b\b\b\b\b\b\b\b\b\b\b\b\b\b\b\b\b\b\b\b\b\b\b\b\b\b\b\b\b\b\b\b\b\b\b\b\b\b\b\b\b\b\b\b\b\b\b\b\b\b\b\b\b\b\b\b\b\b\b\b\b\b\b\b\b\b\r41/51 [=======================>......] - ETA: 0s - loss: 719042.8750 - mae: 164.7818",
      "\b\b\b\b\b\b\b\b\b\b\b\b\b\b\b\b\b\b\b\b\b\b\b\b\b\b\b\b\b\b\b\b\b\b\b\b\b\b\b\b\b\b\b\b\b\b\b\b\b\b\b\b\b\b\b\b\b\b\b\b\b\b\b\b\b\b\b\b\b\b\b\b\b\b\b\b\b\b\b\b\b\b\b\b\r51/51 [==============================] - 0s 5ms/step - loss: 616771.6250 - mae: 155.3641 - val_loss: 2438108.2500 - val_mae: 238.3634\n",
      "Epoch 23/100\n\r",
      " 1/51 [..............................] - ETA: 0s - loss: 31970.0977 - mae: 74.6806",
      "\b\b\b\b\b\b\b\b\b\b\b\b\b\b\b\b\b\b\b\b\b\b\b\b\b\b\b\b\b\b\b\b\b\b\b\b\b\b\b\b\b\b\b\b\b\b\b\b\b\b\b\b\b\b\b\b\b\b\b\b\b\b\b\b\b\b\b\b\b\b\b\b\b\b\b\b\b\b\b\b\b\b",
      "\r16/51 [========>.....................] - ETA: 0s - loss: 216393.4375 - mae: 126.9599",
      "\b\b\b\b\b\b\b\b\b\b\b\b\b\b\b\b\b\b\b\b\b\b\b\b\b\b\b\b\b\b\b\b\b\b\b\b\b\b\b\b\b\b\b\b\b\b\b\b\b\b\b\b\b\b\b\b\b\b\b\b\b\b\b\b\b\b\b\b\b\b\b\b\b\b\b\b\b\b\b\b\b\b\b\b\r28/51 [===============>..............] - ETA: 0s - loss: 620677.5625 - mae: 146.1988",
      "\b\b\b\b\b\b\b\b\b\b\b\b\b\b\b\b\b\b\b\b\b\b\b\b\b\b\b\b\b\b\b\b\b\b\b\b\b\b\b\b\b\b\b\b\b\b\b\b\b\b\b\b\b\b\b\b\b\b\b\b\b\b\b\b\b\b\b\b\b\b\b\b\b\b\b\b\b\b\b\b\b\b\b\b\r41/51 [=======================>......] - ETA: 0s - loss: 462247.1250 - mae: 138.6276",
      "\b\b\b\b\b\b\b\b\b\b\b\b\b\b\b\b\b\b\b\b\b\b\b\b\b\b\b\b\b\b\b\b\b\b\b\b\b\b\b\b\b\b\b\b\b\b\b\b\b\b\b\b\b\b\b\b\b\b\b\b\b\b\b\b\b\b\b\b\b\b\b\b\b\b\b\b\b\b\b\b\b\b\b\b",
      "\r51/51 [==============================] - 0s 5ms/step - loss: 606198.3125 - mae: 150.9340 - val_loss: 2353919.2500 - val_mae: 241.3395\n",
      "Epoch 24/100\n\r 1/51 [..............................] - ETA: 0s - loss: 35152.2266 - mae: 63.5793",
      "\b\b\b\b\b\b\b\b\b\b\b\b\b\b\b\b\b\b\b\b\b\b\b\b\b\b\b\b\b\b\b\b\b\b\b\b\b\b\b\b\b\b\b\b\b\b\b\b\b\b\b\b\b\b\b\b\b\b\b\b\b\b\b\b\b\b\b\b\b\b\b\b\b\b\b\b\b\b\b\b\b\b\r14/51 [=======>......................] - ETA: 0s - loss: 656769.0000 - mae: 143.1769",
      "\b\b\b\b\b\b\b\b\b\b\b\b\b\b\b\b\b\b\b\b\b\b\b\b\b\b\b\b\b\b\b\b\b\b\b\b\b\b\b\b\b\b\b\b\b\b\b\b\b\b\b\b\b\b\b\b\b\b\b\b\b\b\b\b\b\b\b\b\b\b\b\b\b\b\b\b\b\b\b\b\b\b\b\b\r26/51 [==============>...............] - ETA: 0s - loss: 523901.1250 - mae: 159.7663",
      "\b\b\b\b\b\b\b\b\b\b\b\b\b\b\b\b\b\b\b\b\b\b\b\b\b\b\b\b\b\b\b\b\b\b\b\b\b\b\b\b\b\b\b\b\b\b\b\b\b\b\b\b\b\b\b\b\b\b\b\b\b\b\b\b\b\b\b\b\b\b\b\b\b\b\b\b\b\b\b\b\b\b\b\b\r40/51 [======================>.......] - ETA: 0s - loss: 645766.9375 - mae: 157.0322",
      "\b\b\b\b\b\b\b\b\b\b\b\b\b\b\b\b\b\b\b\b\b\b\b\b\b\b\b\b\b\b\b\b\b\b\b\b\b\b\b\b\b\b\b\b\b\b\b\b\b\b\b\b\b\b\b\b\b\b\b\b\b\b\b\b\b\b\b\b\b\b\b\b\b\b\b\b\b\b\b\b\b\b\b\b",
      "\r51/51 [==============================] - 0s 5ms/step - loss: 616746.2500 - mae: 155.1058 - val_loss: 2290022.5000 - val_mae: 243.0154\n",
      "Epoch 25/100\n\r 1/51 [..............................] - ETA: 0s - loss: 48266.0156 - mae: 102.8810",
      "\b\b\b\b\b\b\b\b\b\b\b\b\b\b\b\b\b\b\b\b\b\b\b\b\b\b\b\b\b\b\b\b\b\b\b\b\b\b\b\b\b\b\b\b\b\b\b\b\b\b\b\b\b\b\b\b\b\b\b\b\b\b\b\b\b\b\b\b\b\b\b\b\b\b\b\b\b\b\b\b\b\b\b",
      "\r13/51 [======>.......................] - ETA: 0s - loss: 901522.5625 - mae: 206.1532",
      "\b\b\b\b\b\b\b\b\b\b\b\b\b\b\b\b\b\b\b\b\b\b\b\b\b\b\b\b\b\b\b\b\b\b\b\b\b\b\b\b\b\b\b\b\b\b\b\b\b\b\b\b\b\b\b\b\b\b\b\b\b\b\b\b\b\b\b\b\b\b\b\b\b\b\b\b\b\b\b\b\b\b\b\b",
      "\r25/51 [=============>................] - ETA: 0s - loss: 580003.1875 - mae: 173.8823",
      "\b\b\b\b\b\b\b\b\b\b\b\b\b\b\b\b\b\b\b\b\b\b\b\b\b\b\b\b\b\b\b\b\b\b\b\b\b\b\b\b\b\b\b\b\b\b\b\b\b\b\b\b\b\b\b\b\b\b\b\b\b\b\b\b\b\b\b\b\b\b\b\b\b\b\b\b\b\b\b\b\b\b\b\b\r32/51 [=================>............] - ETA: 0s - loss: 794028.6250 - mae: 177.8631",
      "\b\b\b\b\b\b\b\b\b\b\b\b\b\b\b\b\b\b\b\b\b\b\b\b\b\b\b\b\b\b\b\b\b\b\b\b\b\b\b\b\b\b\b\b\b\b\b\b\b\b\b\b\b\b\b\b\b\b\b\b\b\b\b\b\b\b\b\b\b\b\b\b\b\b\b\b\b\b\b\b\b\b\b\b\r44/51 [========================>.....] - ETA: 0s - loss: 619937.0625 - mae: 165.2806",
      "\b\b\b\b\b\b\b\b\b\b\b\b\b\b\b\b\b\b\b\b\b\b\b\b\b\b\b\b\b\b\b\b\b\b\b\b\b\b\b\b\b\b\b\b\b\b\b\b\b\b\b\b\b\b\b\b\b\b\b\b\b\b\b\b\b\b\b\b\b\b\b\b\b\b\b\b\b\b\b\b\b\b\b\b",
      "\r51/51 [==============================] - 0s 6ms/step - loss: 594056.8750 - mae: 161.3420 - val_loss: 2294860.7500 - val_mae: 233.1617\n",
      "Epoch 26/100\n\r 1/51 [..............................] - ETA: 0s - loss: 19217.5352 - mae: 58.5743",
      "\b\b\b\b\b\b\b\b\b\b\b\b\b\b\b\b\b\b\b\b\b\b\b\b\b\b\b\b\b\b\b\b\b\b\b\b\b\b\b\b\b\b\b\b\b\b\b\b\b\b\b\b\b\b\b\b\b\b\b\b\b\b\b\b\b\b\b\b\b\b\b\b\b\b\b\b\b\b\b\b\b\b",
      "\r14/51 [=======>......................] - ETA: 0s - loss: 737523.5000 - mae: 160.5974",
      "\b\b\b\b\b\b\b\b\b\b\b\b\b\b\b\b\b\b\b\b\b\b\b\b\b\b\b\b\b\b\b\b\b\b\b\b\b\b\b\b\b\b\b\b\b\b\b\b\b\b\b\b\b\b\b\b\b\b\b\b\b\b\b\b\b\b\b\b\b\b\b\b\b\b\b\b\b\b\b\b\b\b\b\b\r28/51 [===============>..............] - ETA: 0s - loss: 838038.0625 - mae: 174.6683",
      "\b\b\b\b\b\b\b\b\b\b\b\b\b\b\b\b\b\b\b\b\b\b\b\b\b\b\b\b\b\b\b\b\b\b\b\b\b\b\b\b\b\b\b\b\b\b\b\b\b\b\b\b\b\b\b\b\b\b\b\b\b\b\b\b\b\b\b\b\b\b\b\b\b\b\b\b\b\b\b\b\b\b\b\b\r41/51 [=======================>......] - ETA: 0s - loss: 636044.3125 - mae: 160.3744",
      "\b\b\b\b\b\b\b\b\b\b\b\b\b\b\b\b\b\b\b\b\b\b\b\b\b\b\b\b\b\b\b\b\b\b\b\b\b\b\b\b\b\b\b\b\b\b\b\b\b\b\b\b\b\b\b\b\b\b\b\b\b\b\b\b\b\b\b\b\b\b\b\b\b\b\b\b\b\b\b\b\b\b\b\b\r47/51 [==========================>...] - ETA: 0s - loss: 617865.3750 - mae: 161.0510",
      "\b\b\b\b\b\b\b\b\b\b\b\b\b\b\b\b\b\b\b\b\b\b\b\b\b\b\b\b\b\b\b\b\b\b\b\b\b\b\b\b\b\b\b\b\b\b\b\b\b\b\b\b\b\b\b\b\b\b\b\b\b\b\b\b\b\b\b\b\b\b\b\b\b\b\b\b\b\b\b\b\b\b\b\b\r51/51 [==============================] - 0s 5ms/step - loss: 576817.8125 - mae: 157.4442 - val_loss: 2280695.2500 - val_mae: 227.7055\n",
      "Epoch 27/100\n\r 1/51 [..............................] - ETA: 0s - loss: 17049.2949 - mae: 51.4922",
      "\b\b\b\b\b\b\b\b\b\b\b\b\b\b\b\b\b\b\b\b\b\b\b\b\b\b\b\b\b\b\b\b\b\b\b\b\b\b\b\b\b\b\b\b\b\b\b\b\b\b\b\b\b\b\b\b\b\b\b\b\b\b\b\b\b\b\b\b\b\b\b\b\b\b\b\b\b\b\b\b\b\b\r13/51 [======>.......................] - ETA: 0s - loss: 97953.7969 - mae: 96.3757",
      "\b\b\b\b\b\b\b\b\b\b\b\b\b\b\b\b\b\b\b\b\b\b\b\b\b\b\b\b\b\b\b\b\b\b\b\b\b\b\b\b\b\b\b\b\b\b\b\b\b\b\b\b\b\b\b\b\b\b\b\b\b\b\b\b\b\b\b\b\b\b\b\b\b\b\b\b\b\b\b\b\b\b\r26/51 [==============>...............] - ETA: 0s - loss: 455626.5312 - mae: 128.4376",
      "\b\b\b\b\b\b\b\b\b\b\b\b\b\b\b\b\b\b\b\b\b\b\b\b\b\b\b\b\b\b\b\b\b\b\b\b\b\b\b\b\b\b\b\b\b\b\b\b\b\b\b\b\b\b\b\b\b\b\b\b\b\b\b\b\b\b\b\b\b\b\b\b\b\b\b\b\b\b\b\b\b\b\b\b\r40/51 [======================>.......] - ETA: 0s - loss: 405056.6875 - mae: 134.3591",
      "\b\b\b\b\b\b\b\b\b\b\b\b\b\b\b\b\b\b\b\b\b\b\b\b\b\b\b\b\b\b\b\b\b\b\b\b\b\b\b\b\b\b\b\b\b\b\b\b\b\b\b\b\b\b\b\b\b\b\b\b\b\b\b\b\b\b\b\b\b\b\b\b\b\b\b\b\b\b\b\b\b\b\b\b\r51/51 [==============================] - 0s 6ms/step - loss: 557014.5625 - mae: 145.4142 - val_loss: 2134182.2500 - val_mae: 241.7452\n",
      "Epoch 28/100\n",
      "\r 1/51 [..............................] - ETA: 0s - loss: 86357.3750 - mae: 117.0558",
      "\b\b\b\b\b\b\b\b\b\b\b\b\b\b\b\b\b\b\b\b\b\b\b\b\b\b\b\b\b\b\b\b\b\b\b\b\b\b\b\b\b\b\b\b\b\b\b\b\b\b\b\b\b\b\b\b\b\b\b\b\b\b\b\b\b\b\b\b\b\b\b\b\b\b\b\b\b\b\b\b\b\b\b",
      "\r13/51 [======>.......................] - ETA: 0s - loss: 624093.7500 - mae: 139.5656",
      "\b\b\b\b\b\b\b\b\b\b\b\b\b\b\b\b\b\b\b\b\b\b\b\b\b\b\b\b\b\b\b\b\b\b\b\b\b\b\b\b\b\b\b\b\b\b\b\b\b\b\b\b\b\b\b\b\b\b\b\b\b\b\b\b\b\b\b\b\b\b\b\b\b\b\b\b\b\b\b\b\b\b\b\b\r27/51 [==============>...............] - ETA: 0s - loss: 418362.5938 - mae: 144.2877",
      "\b\b\b\b\b\b\b\b\b\b\b\b\b\b\b\b\b\b\b\b\b\b\b\b\b\b\b\b\b\b\b\b\b\b\b\b\b\b\b\b\b\b\b\b\b\b\b\b\b\b\b\b\b\b\b\b\b\b\b\b\b\b\b\b\b\b\b\b\b\b\b\b\b\b\b\b\b\b\b\b\b\b\b\b\r41/51 [=======================>......] - ETA: 0s - loss: 376995.6250 - mae: 139.7896",
      "\b\b\b\b\b\b\b\b\b\b\b\b\b\b\b\b\b\b\b\b\b\b\b\b\b\b\b\b\b\b\b\b\b\b\b\b\b\b\b\b\b\b\b\b\b\b\b\b\b\b\b\b\b\b\b\b\b\b\b\b\b\b\b\b\b\b\b\b\b\b\b\b\b\b\b\b\b\b\b\b\b\b\b\b",
      "\r51/51 [==============================] - 0s 5ms/step - loss: 540771.6250 - mae: 150.2379 - val_loss: 2065698.7500 - val_mae: 247.8620\n",
      "Epoch 29/100\n\r 1/51 [..............................] - ETA: 0s - loss: 553608.0625 - mae: 242.0372",
      "\b\b\b\b\b\b\b\b\b\b\b\b\b\b\b\b\b\b\b\b\b\b\b\b\b\b\b\b\b\b\b\b\b\b\b\b\b\b\b\b\b\b\b\b\b\b\b\b\b\b\b\b\b\b\b\b\b\b\b\b\b\b\b\b\b\b\b\b\b\b\b\b\b\b\b\b\b\b\b\b\b\b\b\b\r13/51 [======>.......................] - ETA: 0s - loss: 283463.9688 - mae: 157.9914",
      "\b\b\b\b\b\b\b\b\b\b\b\b\b\b\b\b\b\b\b\b\b\b\b\b\b\b\b\b\b\b\b\b\b\b\b\b\b\b\b\b\b\b\b\b\b\b\b\b\b\b\b\b\b\b\b\b\b\b\b\b\b\b\b\b\b\b\b\b\b\b\b\b\b\b\b\b\b\b\b\b\b\b\b\b\r24/51 [=============>................] - ETA: 0s - loss: 532442.9375 - mae: 163.4967",
      "\b\b\b\b\b\b\b\b\b\b\b\b\b\b\b\b\b\b\b\b\b\b\b\b\b\b\b\b\b\b\b\b\b\b\b\b\b\b\b\b\b\b\b\b\b\b\b\b\b\b\b\b\b\b\b\b\b\b\b\b\b\b\b\b\b\b\b\b\b\b\b\b\b\b\b\b\b\b\b\b\b\b\b\b\r36/51 [====================>.........] - ETA: 0s - loss: 663906.7500 - mae: 169.2389",
      "\b\b\b\b\b\b\b\b\b\b\b\b\b\b\b\b\b\b\b\b\b\b\b\b\b\b\b\b\b\b\b\b\b\b\b\b\b\b\b\b\b\b\b\b\b\b\b\b\b\b\b\b\b\b\b\b\b\b\b\b\b\b\b\b\b\b\b\b\b\b\b\b\b\b\b\b\b\b\b\b\b\b\b\b\r48/51 [===========================>..] - ETA: 0s - loss: 550862.9375 - mae: 161.1381",
      "\b\b\b\b\b\b\b\b\b\b\b\b\b\b\b\b\b\b\b\b\b\b\b\b\b\b\b\b\b\b\b\b\b\b\b\b\b\b\b\b\b\b\b\b\b\b\b\b\b\b\b\b\b\b\b\b\b\b\b\b\b\b\b\b\b\b\b\b\b\b\b\b\b\b\b\b\b\b\b\b\b\b\b\b\r51/51 [==============================] - 0s 5ms/step - loss: 524227.4062 - mae: 158.5403 - val_loss: 2142397.5000 - val_mae: 219.0302\n",
      "Epoch 30/100\n\r 1/51 [..............................] - ETA: 0s - loss: 47612.5859 - mae: 99.1332",
      "\b\b\b\b\b\b\b\b\b\b\b\b\b\b\b\b\b\b\b\b\b\b\b\b\b\b\b\b\b\b\b\b\b\b\b\b\b\b\b\b\b\b\b\b\b\b\b\b\b\b\b\b\b\b\b\b\b\b\b\b\b\b\b\b\b\b\b\b\b\b\b\b\b\b\b\b\b\b\b\b\b\b\r13/51 [======>.......................] - ETA: 0s - loss: 222583.1094 - mae: 120.1901",
      "\b\b\b\b\b\b\b\b\b\b\b\b\b\b\b\b\b\b\b\b\b\b\b\b\b\b\b\b\b\b\b\b\b\b\b\b\b\b\b\b\b\b\b\b\b\b\b\b\b\b\b\b\b\b\b\b\b\b\b\b\b\b\b\b\b\b\b\b\b\b\b\b\b\b\b\b\b\b\b\b\b\b\b\b",
      "\r23/51 [============>.................] - ETA: 0s - loss: 291593.1250 - mae: 136.5199",
      "\b\b\b\b\b\b\b\b\b\b\b\b\b\b\b\b\b\b\b\b\b\b\b\b\b\b\b\b\b\b\b\b\b\b\b\b\b\b\b\b\b\b\b\b\b\b\b\b\b\b\b\b\b\b\b\b\b\b\b\b\b\b\b\b\b\b\b\b\b\b\b\b\b\b\b\b\b\b\b\b\b\b\b\b\r35/51 [===================>..........] - ETA: 0s - loss: 421545.5938 - mae: 139.5806",
      "\b\b\b\b\b\b\b\b\b\b\b\b\b\b\b\b\b\b\b\b\b\b\b\b\b\b\b\b\b\b\b\b\b\b\b\b\b\b\b\b\b\b\b\b\b\b\b\b\b\b\b\b\b\b\b\b\b\b\b\b\b\b\b\b\b\b\b\b\b\b\b\b\b\b\b\b\b\b\b\b\b\b\b\b\r49/51 [===========================>..] - ETA: 0s - loss: 524822.7500 - mae: 143.4521",
      "\b\b\b\b\b\b\b\b\b\b\b\b\b\b\b\b\b\b\b\b\b\b\b\b\b\b\b\b\b\b\b\b\b\b\b\b\b\b\b\b\b\b\b\b\b\b\b\b\b\b\b\b\b\b\b\b\b\b\b\b\b\b\b\b\b\b\b\b\b\b\b\b\b\b\b\b\b\b\b\b\b\b\b\b\r51/51 [==============================] - 0s 6ms/step - loss: 522026.1875 - mae: 146.2523 - val_loss: 2046491.5000 - val_mae: 222.9508\n",
      "Epoch 31/100\n\r 1/51 [..............................] - ETA: 0s - loss: 66425.5078 - mae: 110.4491",
      "\b\b\b\b\b\b\b\b\b\b\b\b\b\b\b\b\b\b\b\b\b\b\b\b\b\b\b\b\b\b\b\b\b\b\b\b\b\b\b\b\b\b\b\b\b\b\b\b\b\b\b\b\b\b\b\b\b\b\b\b\b\b\b\b\b\b\b\b\b\b\b\b\b\b\b\b\b\b\b\b\b\b\b",
      "\r14/51 [=======>......................] - ETA: 0s - loss: 879060.5000 - mae: 172.1603",
      "\b\b\b\b\b\b\b\b\b\b\b\b\b\b\b\b\b\b\b\b\b\b\b\b\b\b\b\b\b\b\b\b\b\b\b\b\b\b\b\b\b\b\b\b\b\b\b\b\b\b\b\b\b\b\b\b\b\b\b\b\b\b\b\b\b\b\b\b\b\b\b\b\b\b\b\b\b\b\b\b\b\b\b\b\r26/51 [==============>...............] - ETA: 0s - loss: 822141.4375 - mae: 175.9638",
      "\b\b\b\b\b\b\b\b\b\b\b\b\b\b\b\b\b\b\b\b\b\b\b\b\b\b\b\b\b\b\b\b\b\b\b\b\b\b\b\b\b\b\b\b\b\b\b\b\b\b\b\b\b\b\b\b\b\b\b\b\b\b\b\b\b\b\b\b\b\b\b\b\b\b\b\b\b\b\b\b\b\b\b\b\r34/51 [===================>..........] - ETA: 0s - loss: 665648.1875 - mae: 160.1298",
      "\b\b\b\b\b\b\b\b\b\b\b\b\b\b\b\b\b\b\b\b\b\b\b\b\b\b\b\b\b\b\b\b\b\b\b\b\b\b\b\b\b\b\b\b\b\b\b\b\b\b\b\b\b\b\b\b\b\b\b\b\b\b\b\b\b\b\b\b\b\b\b\b\b\b\b\b\b\b\b\b\b\b\b\b\r46/51 [==========================>...] - ETA: 0s - loss: 538909.6250 - mae: 155.3599",
      "\b\b\b\b\b\b\b\b\b\b\b\b\b\b\b\b\b\b\b\b\b\b\b\b\b\b\b\b\b\b\b\b\b\b\b\b\b\b\b\b\b\b\b\b\b\b\b\b\b\b\b\b\b\b\b\b\b\b\b\b\b\b\b\b\b\b\b\b\b\b\b\b\b\b\b\b\b\b\b\b\b\b\b\b\r51/51 [==============================] - 0s 5ms/step - loss: 489178.3125 - mae: 146.2688 - val_loss: 2068978.1250 - val_mae: 211.5658\n",
      "Epoch 32/100\n",
      "\r 1/51 [..............................] - ETA: 0s - loss: 345184.8125 - mae: 133.3095",
      "\b\b\b\b\b\b\b\b\b\b\b\b\b\b\b\b\b\b\b\b\b\b\b\b\b\b\b\b\b\b\b\b\b\b\b\b\b\b\b\b\b\b\b\b\b\b\b\b\b\b\b\b\b\b\b\b\b\b\b\b\b\b\b\b\b\b\b\b\b\b\b\b\b\b\b\b\b\b\b\b\b\b\b\b",
      "\r14/51 [=======>......................] - ETA: 0s - loss: 87474.8594 - mae: 97.3245  ",
      "\b\b\b\b\b\b\b\b\b\b\b\b\b\b\b\b\b\b\b\b\b\b\b\b\b\b\b\b\b\b\b\b\b\b\b\b\b\b\b\b\b\b\b\b\b\b\b\b\b\b\b\b\b\b\b\b\b\b\b\b\b\b\b\b\b\b\b\b\b\b\b\b\b\b\b\b\b\b\b\b\b\b",
      "\r27/51 [==============>...............] - ETA: 0s - loss: 247478.4062 - mae: 114.5363",
      "\b\b\b\b\b\b\b\b\b\b\b\b\b\b\b\b\b\b\b\b\b\b\b\b\b\b\b\b\b\b\b\b\b\b\b\b\b\b\b\b\b\b\b\b\b\b\b\b\b\b\b\b\b\b\b\b\b\b\b\b\b\b\b\b\b\b\b\b\b\b\b\b\b\b\b\b\b\b\b\b\b\b\b\b\r40/51 [======================>.......] - ETA: 0s - loss: 389356.5000 - mae: 131.1452",
      "\b\b\b\b\b\b\b\b\b\b\b\b\b\b\b\b\b\b\b\b\b\b\b\b\b\b\b\b\b\b\b\b\b\b\b\b\b\b\b\b\b\b\b\b\b\b\b\b\b\b\b\b\b\b\b\b\b\b\b\b\b\b\b\b\b\b\b\b\b\b\b\b\b\b\b\b\b\b\b\b\b\b\b\b\r46/51 [==========================>...] - ETA: 0s - loss: 531858.4375 - mae: 139.4001",
      "\b\b\b\b\b\b\b\b\b\b\b\b\b\b\b\b\b\b\b\b\b\b\b\b\b\b\b\b\b\b\b\b\b\b\b\b\b\b\b\b\b\b\b\b\b\b\b\b\b\b\b\b\b\b\b\b\b\b\b\b\b\b\b\b\b\b\b\b\b\b\b\b\b\b\b\b\b\b\b\b\b\b\b\b\r51/51 [==============================] - 0s 6ms/step - loss: 503297.3750 - mae: 140.2791 - val_loss: 1965133.1250 - val_mae: 215.3042\n",
      "Epoch 33/100\n\r 1/51 [..............................] - ETA: 0s - loss: 22728.8496 - mae: 77.1564",
      "\b\b\b\b\b\b\b\b\b\b\b\b\b\b\b\b\b\b\b\b\b\b\b\b\b\b\b\b\b\b\b\b\b\b\b\b\b\b\b\b\b\b\b\b\b\b\b\b\b\b\b\b\b\b\b\b\b\b\b\b\b\b\b\b\b\b\b\b\b\b\b\b\b\b\b\b\b\b\b\b\b\b\r14/51 [=======>......................] - ETA: 0s - loss: 674433.6875 - mae: 146.1024",
      "\b\b\b\b\b\b\b\b\b\b\b\b\b\b\b\b\b\b\b\b\b\b\b\b\b\b\b\b\b\b\b\b\b\b\b\b\b\b\b\b\b\b\b\b\b\b\b\b\b\b\b\b\b\b\b\b\b\b\b\b\b\b\b\b\b\b\b\b\b\b\b\b\b\b\b\b\b\b\b\b\b\b\b\b",
      "\r27/51 [==============>...............] - ETA: 0s - loss: 444900.3438 - mae: 134.6531",
      "\b\b\b\b\b\b\b\b\b\b\b\b\b\b\b\b\b\b\b\b\b\b\b\b\b\b\b\b\b\b\b\b\b\b\b\b\b\b\b\b\b\b\b\b\b\b\b\b\b\b\b\b\b\b\b\b\b\b\b\b\b\b\b\b\b\b\b\b\b\b\b\b\b\b\b\b\b\b\b\b\b\b\b\b\r40/51 [======================>.......] - ETA: 0s - loss: 570504.6250 - mae: 148.7249",
      "\b\b\b\b\b\b\b\b\b\b\b\b\b\b\b\b\b\b\b\b\b\b\b\b\b\b\b\b\b\b\b\b\b\b\b\b\b\b\b\b\b\b\b\b\b\b\b\b\b\b\b\b\b\b\b\b\b\b\b\b\b\b\b\b\b\b\b\b\b\b\b\b\b\b\b\b\b\b\b\b\b\b\b\b",
      "\r51/51 [==============================] - 0s 6ms/step - loss: 476495.9062 - mae: 140.9301 - val_loss: 1921755.2500 - val_mae: 212.1850\n",
      "Epoch 34/100\n\r 1/51 [..............................] - ETA: 0s - loss: 86421.5781 - mae: 119.3313",
      "\b\b\b\b\b\b\b\b\b\b\b\b\b\b\b\b\b\b\b\b\b\b\b\b\b\b\b\b\b\b\b\b\b\b\b\b\b\b\b\b\b\b\b\b\b\b\b\b\b\b\b\b\b\b\b\b\b\b\b\b\b\b\b\b\b\b\b\b\b\b\b\b\b\b\b\b\b\b\b\b\b\b\b\r12/51 [======>.......................] - ETA: 0s - loss: 841784.0625 - mae: 151.4621",
      "\b\b\b\b\b\b\b\b\b\b\b\b\b\b\b\b\b\b\b\b\b\b\b\b\b\b\b\b\b\b\b\b\b\b\b\b\b\b\b\b\b\b\b\b\b\b\b\b\b\b\b\b\b\b\b\b\b\b\b\b\b\b\b\b\b\b\b\b\b\b\b\b\b\b\b\b\b\b\b\b\b\b\b\b\r24/51 [=============>................] - ETA: 0s - loss: 551608.2500 - mae: 142.3621",
      "\b\b\b\b\b\b\b\b\b\b\b\b\b\b\b\b\b\b\b\b\b\b\b\b\b\b\b\b\b\b\b\b\b\b\b\b\b\b\b\b\b\b\b\b\b\b\b\b\b\b\b\b\b\b\b\b\b\b\b\b\b\b\b\b\b\b\b\b\b\b\b\b\b\b\b\b\b\b\b\b\b\b\b\b\r37/51 [====================>.........] - ETA: 0s - loss: 405845.6875 - mae: 133.8673",
      "\b\b\b\b\b\b\b\b\b\b\b\b\b\b\b\b\b\b\b\b\b\b\b\b\b\b\b\b\b\b\b\b\b\b\b\b\b\b\b\b\b\b\b\b\b\b\b\b\b\b\b\b\b\b\b\b\b\b\b\b\b\b\b\b\b\b\b\b\b\b\b\b\b\b\b\b\b\b\b\b\b\b\b\b\r51/51 [==============================] - 0s 5ms/step - loss: 475811.5000 - mae: 140.7331 - val_loss: 1857921.8750 - val_mae: 212.1747\n",
      "Epoch 35/100\n\r 1/51 [..............................] - ETA: 0s - loss: 124895.3438 - mae: 131.5779",
      "\b\b\b\b\b\b\b\b\b\b\b\b\b\b\b\b\b\b\b\b\b\b\b\b\b\b\b\b\b\b\b\b\b\b\b\b\b\b\b\b\b\b\b\b\b\b\b\b\b\b\b\b\b\b\b\b\b\b\b\b\b\b\b\b\b\b\b\b\b\b\b\b\b\b\b\b\b\b\b\b\b\b\b\b\r11/51 [=====>........................] - ETA: 0s - loss: 51794.4727 - mae: 84.3028  ",
      "\b\b\b\b\b\b\b\b\b\b\b\b\b\b\b\b\b\b\b\b\b\b\b\b\b\b\b\b\b\b\b\b\b\b\b\b\b\b\b\b\b\b\b\b\b\b\b\b\b\b\b\b\b\b\b\b\b\b\b\b\b\b\b\b\b\b\b\b\b\b\b\b\b\b\b\b\b\b\b\b\b\b\r22/51 [===========>..................] - ETA: 0s - loss: 746965.3125 - mae: 136.6907",
      "\b\b\b\b\b\b\b\b\b\b\b\b\b\b\b\b\b\b\b\b\b\b\b\b\b\b\b\b\b\b\b\b\b\b\b\b\b\b\b\b\b\b\b\b\b\b\b\b\b\b\b\b\b\b\b\b\b\b\b\b\b\b\b\b\b\b\b\b\b\b\b\b\b\b\b\b\b\b\b\b\b\b\b\b\r36/51 [====================>.........] - ETA: 0s - loss: 510352.2188 - mae: 123.2382",
      "\b\b\b\b\b\b\b\b\b\b\b\b\b\b\b\b\b\b\b\b\b\b\b\b\b\b\b\b\b\b\b\b\b\b\b\b\b\b\b\b\b\b\b\b\b\b\b\b\b\b\b\b\b\b\b\b\b\b\b\b\b\b\b\b\b\b\b\b\b\b\b\b\b\b\b\b\b\b\b\b\b\b\b\b\r50/51 [============================>.] - ETA: 0s - loss: 467267.5312 - mae: 136.3412",
      "\b\b\b\b\b\b\b\b\b\b\b\b\b\b\b\b\b\b\b\b\b\b\b\b\b\b\b\b\b\b\b\b\b\b\b\b\b\b\b\b\b\b\b\b\b\b\b\b\b\b\b\b\b\b\b\b\b\b\b\b\b\b\b\b\b\b\b\b\b\b\b\b\b\b\b\b\b\b\b\b\b\b\b\b\r51/51 [==============================] - 0s 5ms/step - loss: 462595.4062 - mae: 136.5084 - val_loss: 1828108.0000 - val_mae: 213.8475\n",
      "Epoch 36/100\n\r 1/51 [..............................] - ETA: 0s - loss: 140669.6719 - mae: 126.4110",
      "\b\b\b\b\b\b\b\b\b\b\b\b\b\b\b\b\b\b\b\b\b\b\b\b\b\b\b\b\b\b\b\b\b\b\b\b\b\b\b\b\b\b\b\b\b\b\b\b\b\b\b\b\b\b\b\b\b\b\b\b\b\b\b\b\b\b\b\b\b\b\b\b\b\b\b\b\b\b\b\b\b\b\b\b\r14/51 [=======>......................] - ETA: 0s - loss: 113969.6250 - mae: 103.3181",
      "\b\b\b\b\b\b\b\b\b\b\b\b\b\b\b\b\b\b\b\b\b\b\b\b\b\b\b\b\b\b\b\b\b\b\b\b\b\b\b\b\b\b\b\b\b\b\b\b\b\b\b\b\b\b\b\b\b\b\b\b\b\b\b\b\b\b\b\b\b\b\b\b\b\b\b\b\b\b\b\b\b\b\b\b\r26/51 [==============>...............] - ETA: 0s - loss: 468180.7188 - mae: 128.2452",
      "\b\b\b\b\b\b\b\b\b\b\b\b\b\b\b\b\b\b\b\b\b\b\b\b\b\b\b\b\b\b\b\b\b\b\b\b\b\b\b\b\b\b\b\b\b\b\b\b\b\b\b\b\b\b\b\b\b\b\b\b\b\b\b\b\b\b\b\b\b\b\b\b\b\b\b\b\b\b\b\b\b\b\b\b\r38/51 [=====================>........] - ETA: 0s - loss: 374715.0625 - mae: 128.0137",
      "\b\b\b\b\b\b\b\b\b\b\b\b\b\b\b\b\b\b\b\b\b\b\b\b\b\b\b\b\b\b\b\b\b\b\b\b\b\b\b\b\b\b\b\b\b\b\b\b\b\b\b\b\b\b\b\b\b\b\b\b\b\b\b\b\b\b\b\b\b\b\b\b\b\b\b\b\b\b\b\b\b\b\b\b\r51/51 [==============================] - ETA: 0s - loss: 441035.4375 - mae: 137.5170",
      "\b\b\b\b\b\b\b\b\b\b\b\b\b\b\b\b\b\b\b\b\b\b\b\b\b\b\b\b\b\b\b\b\b\b\b\b\b\b\b\b\b\b\b\b\b\b\b\b\b\b\b\b\b\b\b\b\b\b\b\b\b\b\b\b\b\b\b\b\b\b\b\b\b\b\b\b\b\b\b\b\b\b\b\b\r51/51 [==============================] - 0s 5ms/step - loss: 441035.4375 - mae: 137.5170 - val_loss: 1822425.1250 - val_mae: 205.5239\n",
      "Epoch 37/100\n\r 1/51 [..............................] - ETA: 0s - loss: 14314.2285 - mae: 48.4688",
      "\b\b\b\b\b\b\b\b\b\b\b\b\b\b\b\b\b\b\b\b\b\b\b\b\b\b\b\b\b\b\b\b\b\b\b\b\b\b\b\b\b\b\b\b\b\b\b\b\b\b\b\b\b\b\b\b\b\b\b\b\b\b\b\b\b\b\b\b\b\b\b\b\b\b\b\b\b\b\b\b\b\b\r17/51 [=========>....................] - ETA: 0s - loss: 587408.8750 - mae: 138.2476",
      "\b\b\b\b\b\b\b\b\b\b\b\b\b\b\b\b\b\b\b\b\b\b\b\b\b\b\b\b\b\b\b\b\b\b\b\b\b\b\b\b\b\b\b\b\b\b\b\b\b\b\b\b\b\b\b\b\b\b\b\b\b\b\b\b\b\b\b\b\b\b\b\b\b\b\b\b\b\b\b\b\b\b\b\b\r31/51 [=================>............] - ETA: 0s - loss: 590047.2500 - mae: 140.7601",
      "\b\b\b\b\b\b\b\b\b\b\b\b\b\b\b\b\b\b\b\b\b\b\b\b\b\b\b\b\b\b\b\b\b\b\b\b\b\b\b\b\b\b\b\b\b\b\b\b\b\b\b\b\b\b\b\b\b\b\b\b\b\b\b\b\b\b\b\b\b\b\b\b\b\b\b\b\b\b\b\b\b\b\b\b",
      "\r44/51 [========================>.....] - ETA: 0s - loss: 450846.4062 - mae: 132.5890",
      "\b\b\b\b\b\b\b\b\b\b\b\b\b\b\b\b\b\b\b\b\b\b\b\b\b\b\b\b\b\b\b\b\b\b\b\b\b\b\b\b\b\b\b\b\b\b\b\b\b\b\b\b\b\b\b\b\b\b\b\b\b\b\b\b\b\b\b\b\b\b\b\b\b\b\b\b\b\b\b\b\b\b\b\b\r51/51 [==============================] - 0s 5ms/step - loss: 444340.4062 - mae: 131.0578 - val_loss: 1677865.7500 - val_mae: 216.7843\n",
      "Epoch 38/100\n\r 1/51 [..............................] - ETA: 0s - loss: 223729.6406 - mae: 147.1574",
      "\b\b\b\b\b\b\b\b\b\b\b\b\b\b\b\b\b\b\b\b\b\b\b\b\b\b\b\b\b\b\b\b\b\b\b\b\b\b\b\b\b\b\b\b\b\b\b\b\b\b\b\b\b\b\b\b\b\b\b\b\b\b\b\b\b\b\b\b\b\b\b\b\b\b\b\b\b\b\b\b\b\b\b\b\r13/51 [======>.......................] - ETA: 0s - loss: 787599.4375 - mae: 185.3108",
      "\b\b\b\b\b\b\b\b\b\b\b\b\b\b\b\b\b\b\b\b\b\b\b\b\b\b\b\b\b\b\b\b\b\b\b\b\b\b\b\b\b\b\b\b\b\b\b\b\b\b\b\b\b\b\b\b\b\b\b\b\b\b\b\b\b\b\b\b\b\b\b\b\b\b\b\b\b\b\b\b\b\b\b\b",
      "\r24/51 [=============>................] - ETA: 0s - loss: 472545.5000 - mae: 148.3815",
      "\b\b\b\b\b\b\b\b\b\b\b\b\b\b\b\b\b\b\b\b\b\b\b\b\b\b\b\b\b\b\b\b\b\b\b\b\b\b\b\b\b\b\b\b\b\b\b\b\b\b\b\b\b\b\b\b\b\b\b\b\b\b\b\b\b\b\b\b\b\b\b\b\b\b\b\b\b\b\b\b\b\b\b\b\r35/51 [===================>..........] - ETA: 0s - loss: 352250.7500 - mae: 133.2607",
      "\b\b\b\b\b\b\b\b\b\b\b\b\b\b\b\b\b\b\b\b\b\b\b\b\b\b\b\b\b\b\b\b\b\b\b\b\b\b\b\b\b\b\b\b\b\b\b\b\b\b\b\b\b\b\b\b\b\b\b\b\b\b\b\b\b\b\b\b\b\b\b\b\b\b\b\b\b\b\b\b\b\b\b\b\r48/51 [===========================>..] - ETA: 0s - loss: 415096.6562 - mae: 133.5835",
      "\b\b\b\b\b\b\b\b\b\b\b\b\b\b\b\b\b\b\b\b\b\b\b\b\b\b\b\b\b\b\b\b\b\b\b\b\b\b\b\b\b\b\b\b\b\b\b\b\b\b\b\b\b\b\b\b\b\b\b\b\b\b\b\b\b\b\b\b\b\b\b\b\b\b\b\b\b\b\b\b\b\b\b\b\r51/51 [==============================] - 0s 6ms/step - loss: 404351.5938 - mae: 131.7353 - val_loss: 1640311.2500 - val_mae: 212.6859\n",
      "Epoch 39/100\n\r 1/51 [..............................] - ETA: 0s - loss: 24599.6348 - mae: 83.0769",
      "\b\b\b\b\b\b\b\b\b\b\b\b\b\b\b\b\b\b\b\b\b\b\b\b\b\b\b\b\b\b\b\b\b\b\b\b\b\b\b\b\b\b\b\b\b\b\b\b\b\b\b\b\b\b\b\b\b\b\b\b\b\b\b\b\b\b\b\b\b\b\b\b\b\b\b\b\b\b\b\b\b\b\r13/51 [======>.......................] - ETA: 0s - loss: 630694.0625 - mae: 146.1539",
      "\b\b\b\b\b\b\b\b\b\b\b\b\b\b\b\b\b\b\b\b\b\b\b\b\b\b\b\b\b\b\b\b\b\b\b\b\b\b\b\b\b\b\b\b\b\b\b\b\b\b\b\b\b\b\b\b\b\b\b\b\b\b\b\b\b\b\b\b\b\b\b\b\b\b\b\b\b\b\b\b\b\b\b\b\r26/51 [==============>...............] - ETA: 0s - loss: 626978.0000 - mae: 163.5512",
      "\b\b\b\b\b\b\b\b\b\b\b\b\b\b\b\b\b\b\b\b\b\b\b\b\b\b\b\b\b\b\b\b\b\b\b\b\b\b\b\b\b\b\b\b\b\b\b\b\b\b\b\b\b\b\b\b\b\b\b\b\b\b\b\b\b\b\b\b\b\b\b\b\b\b\b\b\b\b\b\b\b\b\b\b\r40/51 [======================>.......] - ETA: 0s - loss: 465740.3438 - mae: 149.3508",
      "\b\b\b\b\b\b\b\b\b\b\b\b\b\b\b\b\b\b\b\b\b\b\b\b\b\b\b\b\b\b\b\b\b\b\b\b\b\b\b\b\b\b\b\b\b\b\b\b\b\b\b\b\b\b\b\b\b\b\b\b\b\b\b\b\b\b\b\b\b\b\b\b\b\b\b\b\b\b\b\b\b\b\b\b",
      "\r51/51 [==============================] - 0s 5ms/step - loss: 383481.7188 - mae: 135.3367 - val_loss: 1752642.2500 - val_mae: 191.9537\n",
      "Epoch 40/100\n\r 1/51 [..............................] - ETA: 0s - loss: 23204.0508 - mae: 64.3246",
      "\b\b\b\b\b\b\b\b\b\b\b\b\b\b\b\b\b\b\b\b\b\b\b\b\b\b\b\b\b\b\b\b\b\b\b\b\b\b\b\b\b\b\b\b\b\b\b\b\b\b\b\b\b\b\b\b\b\b\b\b\b\b\b\b\b\b\b\b\b\b\b\b\b\b\b\b\b\b\b\b\b\b",
      "\r13/51 [======>.......................] - ETA: 0s - loss: 167688.9219 - mae: 111.2318",
      "\b\b\b\b\b\b\b\b\b\b\b\b\b\b\b\b\b\b\b\b\b\b\b\b\b\b\b\b\b\b\b\b\b\b\b\b\b\b\b\b\b\b\b\b\b\b\b\b\b\b\b\b\b\b\b\b\b\b\b\b\b\b\b\b\b\b\b\b\b\b\b\b\b\b\b\b\b\b\b\b\b\b\b\b\r19/51 [==========>...................] - ETA: 0s - loss: 496491.7500 - mae: 121.3459",
      "\b\b\b\b\b\b\b\b\b\b\b\b\b\b\b\b\b\b\b\b\b\b\b\b\b\b\b\b\b\b\b\b\b\b\b\b\b\b\b\b\b\b\b\b\b\b\b\b\b\b\b\b\b\b\b\b\b\b\b\b\b\b\b\b\b\b\b\b\b\b\b\b\b\b\b\b\b\b\b\b\b\b\b\b\r31/51 [=================>............] - ETA: 0s - loss: 351647.3438 - mae: 116.0883",
      "\b\b\b\b\b\b\b\b\b\b\b\b\b\b\b\b\b\b\b\b\b\b\b\b\b\b\b\b\b\b\b\b\b\b\b\b\b\b\b\b\b\b\b\b\b\b\b\b\b\b\b\b\b\b\b\b\b\b\b\b\b\b\b\b\b\b\b\b\b\b\b\b\b\b\b\b\b\b\b\b\b\b\b\b\r46/51 [==========================>...] - ETA: 0s - loss: 312589.5625 - mae: 118.5544",
      "\b\b\b\b\b\b\b\b\b\b\b\b\b\b\b\b\b\b\b\b\b\b\b\b\b\b\b\b\b\b\b\b\b\b\b\b\b\b\b\b\b\b\b\b\b\b\b\b\b\b\b\b\b\b\b\b\b\b\b\b\b\b\b\b\b\b\b\b\b\b\b\b\b\b\b\b\b\b\b\b\b\b\b\b\r51/51 [==============================] - 0s 5ms/step - loss: 474550.1250 - mae: 128.1715 - val_loss: 1550071.1250 - val_mae: 209.0110\n",
      "Epoch 41/100\n\r 1/51 [..............................] - ETA: 0s - loss: 50363.7773 - mae: 101.7252",
      "\b\b\b\b\b\b\b\b\b\b\b\b\b\b\b\b\b\b\b\b\b\b\b\b\b\b\b\b\b\b\b\b\b\b\b\b\b\b\b\b\b\b\b\b\b\b\b\b\b\b\b\b\b\b\b\b\b\b\b\b\b\b\b\b\b\b\b\b\b\b\b\b\b\b\b\b\b\b\b\b\b\b\b",
      "\r12/51 [======>.......................] - ETA: 0s - loss: 642241.2500 - mae: 133.2888",
      "\b\b\b\b\b\b\b\b\b\b\b\b\b\b\b\b\b\b\b\b\b\b\b\b\b\b\b\b\b\b\b\b\b\b\b\b\b\b\b\b\b\b\b\b\b\b\b\b\b\b\b\b\b\b\b\b\b\b\b\b\b\b\b\b\b\b\b\b\b\b\b\b\b\b\b\b\b\b\b\b\b\b\b\b\r25/51 [=============>................] - ETA: 0s - loss: 360340.1250 - mae: 120.0695",
      "\b\b\b\b\b\b\b\b\b\b\b\b\b\b\b\b\b\b\b\b\b\b\b\b\b\b\b\b\b\b\b\b\b\b\b\b\b\b\b\b\b\b\b\b\b\b\b\b\b\b\b\b\b\b\b\b\b\b\b\b\b\b\b\b\b\b\b\b\b\b\b\b\b\b\b\b\b\b\b\b\b\b\b\b\r35/51 [===================>..........] - ETA: 0s - loss: 307636.3750 - mae: 118.1871",
      "\b\b\b\b\b\b\b\b\b\b\b\b\b\b\b\b\b\b\b\b\b\b\b\b\b\b\b\b\b\b\b\b\b\b\b\b\b\b\b\b\b\b\b\b\b\b\b\b\b\b\b\b\b\b\b\b\b\b\b\b\b\b\b\b\b\b\b\b\b\b\b\b\b\b\b\b\b\b\b\b\b\b\b\b\r46/51 [==========================>...] - ETA: 0s - loss: 399257.0938 - mae: 130.7760",
      "\b\b\b\b\b\b\b\b\b\b\b\b\b\b\b\b\b\b\b\b\b\b\b\b\b\b\b\b\b\b\b\b\b\b\b\b\b\b\b\b\b\b\b\b\b\b\b\b\b\b\b\b\b\b\b\b\b\b\b\b\b\b\b\b\b\b\b\b\b\b\b\b\b\b\b\b\b\b\b\b\b\b\b\b\r51/51 [==============================] - 0s 6ms/step - loss: 373994.2500 - mae: 129.6551 - val_loss: 1535399.5000 - val_mae: 198.6552\n",
      "Epoch 42/100\n",
      "\r 1/51 [..............................] - ETA: 0s - loss: 1366.3865 - mae: 25.9302",
      "\b\b\b\b\b\b\b\b\b\b\b\b\b\b\b\b\b\b\b\b\b\b\b\b\b\b\b\b\b\b\b\b\b\b\b\b\b\b\b\b\b\b\b\b\b\b\b\b\b\b\b\b\b\b\b\b\b\b\b\b\b\b\b\b\b\b\b\b\b\b\b\b\b\b\b\b\b\b\b\b\b",
      "\r15/51 [=======>......................] - ETA: 0s - loss: 917427.8125 - mae: 185.3955",
      "\b\b\b\b\b\b\b\b\b\b\b\b\b\b\b\b\b\b\b\b\b\b\b\b\b\b\b\b\b\b\b\b\b\b\b\b\b\b\b\b\b\b\b\b\b\b\b\b\b\b\b\b\b\b\b\b\b\b\b\b\b\b\b\b\b\b\b\b\b\b\b\b\b\b\b\b\b\b\b\b\b\b\b\b\r26/51 [==============>...............] - ETA: 0s - loss: 609752.8750 - mae: 159.0736",
      "\b\b\b\b\b\b\b\b\b\b\b\b\b\b\b\b\b\b\b\b\b\b\b\b\b\b\b\b\b\b\b\b\b\b\b\b\b\b\b\b\b\b\b\b\b\b\b\b\b\b\b\b\b\b\b\b\b\b\b\b\b\b\b\b\b\b\b\b\b\b\b\b\b\b\b\b\b\b\b\b\b\b\b\b\r35/51 [===================>..........] - ETA: 0s - loss: 512753.7188 - mae: 151.8291",
      "\b\b\b\b\b\b\b\b\b\b\b\b\b\b\b\b\b\b\b\b\b\b\b\b\b\b\b\b\b\b\b\b\b\b\b\b\b\b\b\b\b\b\b\b\b\b\b\b\b\b\b\b\b\b\b\b\b\b\b\b\b\b\b\b\b\b\b\b\b\b\b\b\b\b\b\b\b\b\b\b\b\b\b\b\r41/51 [=======================>......] - ETA: 0s - loss: 441616.1562 - mae: 137.9221",
      "\b\b\b\b\b\b\b\b\b\b\b\b\b\b\b\b\b\b\b\b\b\b\b\b\b\b\b\b\b\b\b\b\b\b\b\b\b\b\b\b\b\b\b\b\b\b\b\b\b\b\b\b\b\b\b\b\b\b\b\b\b\b\b\b\b\b\b\b\b\b\b\b\b\b\b\b\b\b\b\b\b\b\b\b",
      "\r51/51 [==============================] - 0s 6ms/step - loss: 368653.1875 - mae: 128.7870 - val_loss: 1497431.5000 - val_mae: 196.4523\n",
      "Epoch 43/100\n\r 1/51 [..............................] - ETA: 0s - loss: 58146.4375 - mae: 89.4629",
      "\b\b\b\b\b\b\b\b\b\b\b\b\b\b\b\b\b\b\b\b\b\b\b\b\b\b\b\b\b\b\b\b\b\b\b\b\b\b\b\b\b\b\b\b\b\b\b\b\b\b\b\b\b\b\b\b\b\b\b\b\b\b\b\b\b\b\b\b\b\b\b\b\b\b\b\b\b\b\b\b\b\b",
      "\r13/51 [======>.......................] - ETA: 0s - loss: 1027647.9375 - mae: 181.0798",
      "\b\b\b\b\b\b\b\b\b\b\b\b\b\b\b\b\b\b\b\b\b\b\b\b\b\b\b\b\b\b\b\b\b\b\b\b\b\b\b\b\b\b\b\b\b\b\b\b\b\b\b\b\b\b\b\b\b\b\b\b\b\b\b\b\b\b\b\b\b\b\b\b\b\b\b\b\b\b\b\b\b\b\b\b\b\r26/51 [==============>...............] - ETA: 0s - loss: 546306.4375 - mae: 134.1456 ",
      "\b\b\b\b\b\b\b\b\b\b\b\b\b\b\b\b\b\b\b\b\b\b\b\b\b\b\b\b\b\b\b\b\b\b\b\b\b\b\b\b\b\b\b\b\b\b\b\b\b\b\b\b\b\b\b\b\b\b\b\b\b\b\b\b\b\b\b\b\b\b\b\b\b\b\b\b\b\b\b\b\b\b\b\b\r39/51 [=====================>........] - ETA: 0s - loss: 401755.4062 - mae: 121.5683",
      "\b\b\b\b\b\b\b\b\b\b\b\b\b\b\b\b\b\b\b\b\b\b\b\b\b\b\b\b\b\b\b\b\b\b\b\b\b\b\b\b\b\b\b\b\b\b\b\b\b\b\b\b\b\b\b\b\b\b\b\b\b\b\b\b\b\b\b\b\b\b\b\b\b\b\b\b\b\b\b\b\b\b\b\b",
      "\r51/51 [==============================] - 0s 6ms/step - loss: 349847.0625 - mae: 122.1547 - val_loss: 1457533.2500 - val_mae: 207.8694\n",
      "Epoch 44/100\n\r 1/51 [..............................] - ETA: 0s - loss: 62304.8242 - mae: 82.0431",
      "\b\b\b\b\b\b\b\b\b\b\b\b\b\b\b\b\b\b\b\b\b\b\b\b\b\b\b\b\b\b\b\b\b\b\b\b\b\b\b\b\b\b\b\b\b\b\b\b\b\b\b\b\b\b\b\b\b\b\b\b\b\b\b\b\b\b\b\b\b\b\b\b\b\b\b\b\b\b\b\b\b\b\r13/51 [======>.......................] - ETA: 0s - loss: 506288.3438 - mae: 146.0532",
      "\b\b\b\b\b\b\b\b\b\b\b\b\b\b\b\b\b\b\b\b\b\b\b\b\b\b\b\b\b\b\b\b\b\b\b\b\b\b\b\b\b\b\b\b\b\b\b\b\b\b\b\b\b\b\b\b\b\b\b\b\b\b\b\b\b\b\b\b\b\b\b\b\b\b\b\b\b\b\b\b\b\b\b\b\r26/51 [==============>...............] - ETA: 0s - loss: 322169.1250 - mae: 125.6879",
      "\b\b\b\b\b\b\b\b\b\b\b\b\b\b\b\b\b\b\b\b\b\b\b\b\b\b\b\b\b\b\b\b\b\b\b\b\b\b\b\b\b\b\b\b\b\b\b\b\b\b\b\b\b\b\b\b\b\b\b\b\b\b\b\b\b\b\b\b\b\b\b\b\b\b\b\b\b\b\b\b\b\b\b\b\r39/51 [=====================>........] - ETA: 0s - loss: 434576.1562 - mae: 132.3753",
      "\b\b\b\b\b\b\b\b\b\b\b\b\b\b\b\b\b\b\b\b\b\b\b\b\b\b\b\b\b\b\b\b\b\b\b\b\b\b\b\b\b\b\b\b\b\b\b\b\b\b\b\b\b\b\b\b\b\b\b\b\b\b\b\b\b\b\b\b\b\b\b\b\b\b\b\b\b\b\b\b\b\b\b\b",
      "\r51/51 [==============================] - 0s 5ms/step - loss: 353797.7500 - mae: 124.0639 - val_loss: 1490942.6250 - val_mae: 188.3607\n",
      "Epoch 45/100\n\r 1/51 [..............................] - ETA: 0s - loss: 22842.1562 - mae: 69.1756",
      "\b\b\b\b\b\b\b\b\b\b\b\b\b\b\b\b\b\b\b\b\b\b\b\b\b\b\b\b\b\b\b\b\b\b\b\b\b\b\b\b\b\b\b\b\b\b\b\b\b\b\b\b\b\b\b\b\b\b\b\b\b\b\b\b\b\b\b\b\b\b\b\b\b\b\b\b\b\b\b\b\b\b\r12/51 [======>.......................] - ETA: 0s - loss: 55275.1992 - mae: 87.0266",
      "\b\b\b\b\b\b\b\b\b\b\b\b\b\b\b\b\b\b\b\b\b\b\b\b\b\b\b\b\b\b\b\b\b\b\b\b\b\b\b\b\b\b\b\b\b\b\b\b\b\b\b\b\b\b\b\b\b\b\b\b\b\b\b\b\b\b\b\b\b\b\b\b\b\b\b\b\b\b\b\b\b\b\r25/51 [=============>................] - ETA: 0s - loss: 67192.8438 - mae: 84.7743",
      "\b\b\b\b\b\b\b\b\b\b\b\b\b\b\b\b\b\b\b\b\b\b\b\b\b\b\b\b\b\b\b\b\b\b\b\b\b\b\b\b\b\b\b\b\b\b\b\b\b\b\b\b\b\b\b\b\b\b\b\b\b\b\b\b\b\b\b\b\b\b\b\b\b\b\b\b\b\b\b\b\b\b",
      "\r39/51 [=====================>........] - ETA: 0s - loss: 385876.8750 - mae: 118.1006",
      "\b\b\b\b\b\b\b\b\b\b\b\b\b\b\b\b\b\b\b\b\b\b\b\b\b\b\b\b\b\b\b\b\b\b\b\b\b\b\b\b\b\b\b\b\b\b\b\b\b\b\b\b\b\b\b\b\b\b\b\b\b\b\b\b\b\b\b\b\b\b\b\b\b\b\b\b\b\b\b\b\b\b\b\b\r51/51 [==============================] - 0s 5ms/step - loss: 350762.5625 - mae: 120.0946 - val_loss: 1394514.8750 - val_mae: 195.9379\n",
      "Epoch 46/100\n\r 1/51 [..............................] - ETA: 0s - loss: 1679.5503 - mae: 28.0632",
      "\b\b\b\b\b\b\b\b\b\b\b\b\b\b\b\b\b\b\b\b\b\b\b\b\b\b\b\b\b\b\b\b\b\b\b\b\b\b\b\b\b\b\b\b\b\b\b\b\b\b\b\b\b\b\b\b\b\b\b\b\b\b\b\b\b\b\b\b\b\b\b\b\b\b\b\b\b\b\b\b\b\r11/51 [=====>........................] - ETA: 0s - loss: 69622.4141 - mae: 87.8234",
      "\b\b\b\b\b\b\b\b\b\b\b\b\b\b\b\b\b\b\b\b\b\b\b\b\b\b\b\b\b\b\b\b\b\b\b\b\b\b\b\b\b\b\b\b\b\b\b\b\b\b\b\b\b\b\b\b\b\b\b\b\b\b\b\b\b\b\b\b\b\b\b\b\b\b\b\b\b\b\b\b\b\b\r23/51 [============>.................] - ETA: 0s - loss: 337721.5625 - mae: 107.6884",
      "\b\b\b\b\b\b\b\b\b\b\b\b\b\b\b\b\b\b\b\b\b\b\b\b\b\b\b\b\b\b\b\b\b\b\b\b\b\b\b\b\b\b\b\b\b\b\b\b\b\b\b\b\b\b\b\b\b\b\b\b\b\b\b\b\b\b\b\b\b\b\b\b\b\b\b\b\b\b\b\b\b\b\b\b\r35/51 [===================>..........] - ETA: 0s - loss: 406266.7500 - mae: 124.7177",
      "\b\b\b\b\b\b\b\b\b\b\b\b\b\b\b\b\b\b\b\b\b\b\b\b\b\b\b\b\b\b\b\b\b\b\b\b\b\b\b\b\b\b\b\b\b\b\b\b\b\b\b\b\b\b\b\b\b\b\b\b\b\b\b\b\b\b\b\b\b\b\b\b\b\b\b\b\b\b\b\b\b\b\b\b\r46/51 [==========================>...] - ETA: 0s - loss: 337451.7500 - mae: 119.0331",
      "\b\b\b\b\b\b\b\b\b\b\b\b\b\b\b\b\b\b\b\b\b\b\b\b\b\b\b\b\b\b\b\b\b\b\b\b\b\b\b\b\b\b\b\b\b\b\b\b\b\b\b\b\b\b\b\b\b\b\b\b\b\b\b\b\b\b\b\b\b\b\b\b\b\b\b\b\b\b\b\b\b\b\b\b",
      "\r51/51 [==============================] - 0s 6ms/step - loss: 321730.7500 - mae: 119.3456 - val_loss: 1440241.7500 - val_mae: 183.1895\n",
      "Epoch 47/100\n\r 1/51 [..............................] - ETA: 0s - loss: 34931.5547 - mae: 66.6389",
      "\b\b\b\b\b\b\b\b\b\b\b\b\b\b\b\b\b\b\b\b\b\b\b\b\b\b\b\b\b\b\b\b\b\b\b\b\b\b\b\b\b\b\b\b\b\b\b\b\b\b\b\b\b\b\b\b\b\b\b\b\b\b\b\b\b\b\b\b\b\b\b\b\b\b\b\b\b\b\b\b\b\b",
      "\r15/51 [=======>......................] - ETA: 0s - loss: 789079.6875 - mae: 144.6569",
      "\b\b\b\b\b\b\b\b\b\b\b\b\b\b\b\b\b\b\b\b\b\b\b\b\b\b\b\b\b\b\b\b\b\b\b\b\b\b\b\b\b\b\b\b\b\b\b\b\b\b\b\b\b\b\b\b\b\b\b\b\b\b\b\b\b\b\b\b\b\b\b\b\b\b\b\b\b\b\b\b\b\b\b\b",
      "\r28/51 [===============>..............] - ETA: 0s - loss: 474306.5625 - mae: 129.7338",
      "\b\b\b\b\b\b\b\b\b\b\b\b\b\b\b\b\b\b\b\b\b\b\b\b\b\b\b\b\b\b\b\b\b\b\b\b\b\b\b\b\b\b\b\b\b\b\b\b\b\b\b\b\b\b\b\b\b\b\b\b\b\b\b\b\b\b\b\b\b\b\b\b\b\b\b\b\b\b\b\b\b\b\b\b\r37/51 [====================>.........] - ETA: 0s - loss: 416691.0312 - mae: 130.2939",
      "\b\b\b\b\b\b\b\b\b\b\b\b\b\b\b\b\b\b\b\b\b\b\b\b\b\b\b\b\b\b\b\b\b\b\b\b\b\b\b\b\b\b\b\b\b\b\b\b\b\b\b\b\b\b\b\b\b\b\b\b\b\b\b\b\b\b\b\b\b\b\b\b\b\b\b\b\b\b\b\b\b\b\b\b\r50/51 [============================>.] - ETA: 0s - loss: 338136.5312 - mae: 119.4494",
      "\b\b\b\b\b\b\b\b\b\b\b\b\b\b\b\b\b\b\b\b\b\b\b\b\b\b\b\b\b\b\b\b\b\b\b\b\b\b\b\b\b\b\b\b\b\b\b\b\b\b\b\b\b\b\b\b\b\b\b\b\b\b\b\b\b\b\b\b\b\b\b\b\b\b\b\b\b\b\b\b\b\b\b\b\r51/51 [==============================] - 0s 5ms/step - loss: 332847.6562 - mae: 119.2024 - val_loss: 1435948.8750 - val_mae: 187.8988\n",
      "Epoch 48/100\n\r 1/51 [..............................] - ETA: 0s - loss: 33993.5117 - mae: 86.0645",
      "\b\b\b\b\b\b\b\b\b\b\b\b\b\b\b\b\b\b\b\b\b\b\b\b\b\b\b\b\b\b\b\b\b\b\b\b\b\b\b\b\b\b\b\b\b\b\b\b\b\b\b\b\b\b\b\b\b\b\b\b\b\b\b\b\b\b\b\b\b\b\b\b\b\b\b\b\b\b\b\b\b\b\r13/51 [======>.......................] - ETA: 0s - loss: 851105.9375 - mae: 156.1627",
      "\b\b\b\b\b\b\b\b\b\b\b\b\b\b\b\b\b\b\b\b\b\b\b\b\b\b\b\b\b\b\b\b\b\b\b\b\b\b\b\b\b\b\b\b\b\b\b\b\b\b\b\b\b\b\b\b\b\b\b\b\b\b\b\b\b\b\b\b\b\b\b\b\b\b\b\b\b\b\b\b\b\b\b\b\r28/51 [===============>..............] - ETA: 0s - loss: 469703.5000 - mae: 127.1234",
      "\b\b\b\b\b\b\b\b\b\b\b\b\b\b\b\b\b\b\b\b\b\b\b\b\b\b\b\b\b\b\b\b\b\b\b\b\b\b\b\b\b\b\b\b\b\b\b\b\b\b\b\b\b\b\b\b\b\b\b\b\b\b\b\b\b\b\b\b\b\b\b\b\b\b\b\b\b\b\b\b\b\b\b\b\r44/51 [========================>.....] - ETA: 0s - loss: 340021.6875 - mae: 118.2374",
      "\b\b\b\b\b\b\b\b\b\b\b\b\b\b\b\b\b\b\b\b\b\b\b\b\b\b\b\b\b\b\b\b\b\b\b\b\b\b\b\b\b\b\b\b\b\b\b\b\b\b\b\b\b\b\b\b\b\b\b\b\b\b\b\b\b\b\b\b\b\b\b\b\b\b\b\b\b\b\b\b\b\b\b\b",
      "\r51/51 [==============================] - 0s 6ms/step - loss: 309803.0312 - mae: 116.7307 - val_loss: 1318247.3750 - val_mae: 184.1860\n",
      "Epoch 49/100\n\r 1/51 [..............................] - ETA: 0s - loss: 4414262.5000 - mae: 448.1239",
      "\b\b\b\b\b\b\b\b\b\b\b\b\b\b\b\b\b\b\b\b\b\b\b\b\b\b\b\b\b\b\b\b\b\b\b\b\b\b\b\b\b\b\b\b\b\b\b\b\b\b\b\b\b\b\b\b\b\b\b\b\b\b\b\b\b\b\b\b\b\b\b\b\b\b\b\b\b\b\b\b\b\b\b\b\b",
      "\r13/51 [======>.......................] - ETA: 0s - loss: 440561.4375 - mae: 137.2188 ",
      "\b\b\b\b\b\b\b\b\b\b\b\b\b\b\b\b\b\b\b\b\b\b\b\b\b\b\b\b\b\b\b\b\b\b\b\b\b\b\b\b\b\b\b\b\b\b\b\b\b\b\b\b\b\b\b\b\b\b\b\b\b\b\b\b\b\b\b\b\b\b\b\b\b\b\b\b\b\b\b\b\b\b\b\b\r28/51 [===============>..............] - ETA: 0s - loss: 483168.7188 - mae: 136.4367",
      "\b\b\b\b\b\b\b\b\b\b\b\b\b\b\b\b\b\b\b\b\b\b\b\b\b\b\b\b\b\b\b\b\b\b\b\b\b\b\b\b\b\b\b\b\b\b\b\b\b\b\b\b\b\b\b\b\b\b\b\b\b\b\b\b\b\b\b\b\b\b\b\b\b\b\b\b\b\b\b\b\b\b\b\b\r43/51 [========================>.....] - ETA: 0s - loss: 342915.8750 - mae: 120.6449",
      "\b\b\b\b\b\b\b\b\b\b\b\b\b\b\b\b\b\b\b\b\b\b\b\b\b\b\b\b\b\b\b\b\b\b\b\b\b\b\b\b\b\b\b\b\b\b\b\b\b\b\b\b\b\b\b\b\b\b\b\b\b\b\b\b\b\b\b\b\b\b\b\b\b\b\b\b\b\b\b\b\b\b\b\b",
      "\r51/51 [==============================] - 0s 5ms/step - loss: 324545.7188 - mae: 118.8801 - val_loss: 1245196.5000 - val_mae: 183.7452\n",
      "Epoch 50/100\n\r 1/51 [..............................] - ETA: 0s - loss: 7773.2207 - mae: 46.0256",
      "\b\b\b\b\b\b\b\b\b\b\b\b\b\b\b\b\b\b\b\b\b\b\b\b\b\b\b\b\b\b\b\b\b\b\b\b\b\b\b\b\b\b\b\b\b\b\b\b\b\b\b\b\b\b\b\b\b\b\b\b\b\b\b\b\b\b\b\b\b\b\b\b\b\b\b\b\b\b\b\b\b\r11/51 [=====>........................] - ETA: 0s - loss: 68457.9609 - mae: 84.7164",
      "\b\b\b\b\b\b\b\b\b\b\b\b\b\b\b\b\b\b\b\b\b\b\b\b\b\b\b\b\b\b\b\b\b\b\b\b\b\b\b\b\b\b\b\b\b\b\b\b\b\b\b\b\b\b\b\b\b\b\b\b\b\b\b\b\b\b\b\b\b\b\b\b\b\b\b\b\b\b\b\b\b\b\r21/51 [===========>..................] - ETA: 0s - loss: 81542.9219 - mae: 83.1950",
      "\b\b\b\b\b\b\b\b\b\b\b\b\b\b\b\b\b\b\b\b\b\b\b\b\b\b\b\b\b\b\b\b\b\b\b\b\b\b\b\b\b\b\b\b\b\b\b\b\b\b\b\b\b\b\b\b\b\b\b\b\b\b\b\b\b\b\b\b\b\b\b\b\b\b\b\b\b\b\b\b\b\b\r34/51 [===================>..........] - ETA: 0s - loss: 270623.0625 - mae: 105.5963",
      "\b\b\b\b\b\b\b\b\b\b\b\b\b\b\b\b\b\b\b\b\b\b\b\b\b\b\b\b\b\b\b\b\b\b\b\b\b\b\b\b\b\b\b\b\b\b\b\b\b\b\b\b\b\b\b\b\b\b\b\b\b\b\b\b\b\b\b\b\b\b\b\b\b\b\b\b\b\b\b\b\b\b\b\b\r47/51 [==========================>...] - ETA: 0s - loss: 316120.3438 - mae: 114.8214",
      "\b\b\b\b\b\b\b\b\b\b\b\b\b\b\b\b\b\b\b\b\b\b\b\b\b\b\b\b\b\b\b\b\b\b\b\b\b\b\b\b\b\b\b\b\b\b\b\b\b\b\b\b\b\b\b\b\b\b\b\b\b\b\b\b\b\b\b\b\b\b\b\b\b\b\b\b\b\b\b\b\b\b\b\b\r51/51 [==============================] - 0s 6ms/step - loss: 294552.6875 - mae: 111.7612 - val_loss: 1206153.2500 - val_mae: 184.6109\n",
      "Epoch 51/100\n\r 1/51 [..............................] - ETA: 0s - loss: 106188.2500 - mae: 100.8535",
      "\b\b\b\b\b\b\b\b\b\b\b\b\b\b\b\b\b\b\b\b\b\b\b\b\b\b\b\b\b\b\b\b\b\b\b\b\b\b\b\b\b\b\b\b\b\b\b\b\b\b\b\b\b\b\b\b\b\b\b\b\b\b\b\b\b\b\b\b\b\b\b\b\b\b\b\b\b\b\b\b\b\b\b\b",
      "\r12/51 [======>.......................] - ETA: 0s - loss: 828681.4375 - mae: 153.8323",
      "\b\b\b\b\b\b\b\b\b\b\b\b\b\b\b\b\b\b\b\b\b\b\b\b\b\b\b\b\b\b\b\b\b\b\b\b\b\b\b\b\b\b\b\b\b\b\b\b\b\b\b\b\b\b\b\b\b\b\b\b\b\b\b\b\b\b\b\b\b\b\b\b\b\b\b\b\b\b\b\b\b\b\b\b",
      "\r21/51 [===========>..................] - ETA: 0s - loss: 507046.2500 - mae: 129.4673",
      "\b\b\b\b\b\b\b\b\b\b\b\b\b\b\b\b\b\b\b\b\b\b\b\b\b\b\b\b\b\b\b\b\b\b\b\b\b\b\b\b\b\b\b\b\b\b\b\b\b\b\b\b\b\b\b\b\b\b\b\b\b\b\b\b\b\b\b\b\b\b\b\b\b\b\b\b\b\b\b\b\b\b\b\b\r34/51 [===================>..........] - ETA: 0s - loss: 352007.9062 - mae: 121.0915",
      "\b\b\b\b\b\b\b\b\b\b\b\b\b\b\b\b\b\b\b\b\b\b\b\b\b\b\b\b\b\b\b\b\b\b\b\b\b\b\b\b\b\b\b\b\b\b\b\b\b\b\b\b\b\b\b\b\b\b\b\b\b\b\b\b\b\b\b\b\b\b\b\b\b\b\b\b\b\b\b\b\b\b\b\b\r46/51 [==========================>...] - ETA: 0s - loss: 288542.1562 - mae: 118.1892",
      "\b\b\b\b\b\b\b\b\b\b\b\b\b\b\b\b\b\b\b\b\b\b\b\b\b\b\b\b\b\b\b\b\b\b\b\b\b\b\b\b\b\b\b\b\b\b\b\b\b\b\b\b\b\b\b\b\b\b\b\b\b\b\b\b\b\b\b\b\b\b\b\b\b\b\b\b\b\b\b\b\b\b\b\b",
      "\r51/51 [==============================] - 0s 6ms/step - loss: 272735.4375 - mae: 114.8002 - val_loss: 1351482.6250 - val_mae: 181.2800\n",
      "Epoch 52/100\n\r 1/51 [..............................] - ETA: 0s - loss: 16396.9141 - mae: 51.3629",
      "\b\b\b\b\b\b\b\b\b\b\b\b\b\b\b\b\b\b\b\b\b\b\b\b\b\b\b\b\b\b\b\b\b\b\b\b\b\b\b\b\b\b\b\b\b\b\b\b\b\b\b\b\b\b\b\b\b\b\b\b\b\b\b\b\b\b\b\b\b\b\b\b\b\b\b\b\b\b\b\b\b\b\r18/51 [=========>....................] - ETA: 0s - loss: 472354.1250 - mae: 135.5675",
      "\b\b\b\b\b\b\b\b\b\b\b\b\b\b\b\b\b\b\b\b\b\b\b\b\b\b\b\b\b\b\b\b\b\b\b\b\b\b\b\b\b\b\b\b\b\b\b\b\b\b\b\b\b\b\b\b\b\b\b\b\b\b\b\b\b\b\b\b\b\b\b\b\b\b\b\b\b\b\b\b\b\b\b\b\r32/51 [=================>............] - ETA: 0s - loss: 292437.9688 - mae: 110.7567",
      "\b\b\b\b\b\b\b\b\b\b\b\b\b\b\b\b\b\b\b\b\b\b\b\b\b\b\b\b\b\b\b\b\b\b\b\b\b\b\b\b\b\b\b\b\b\b\b\b\b\b\b\b\b\b\b\b\b\b\b\b\b\b\b\b\b\b\b\b\b\b\b\b\b\b\b\b\b\b\b\b\b\b\b\b\r41/51 [=======================>......] - ETA: 0s - loss: 237800.8281 - mae: 102.8307",
      "\b\b\b\b\b\b\b\b\b\b\b\b\b\b\b\b\b\b\b\b\b\b\b\b\b\b\b\b\b\b\b\b\b\b\b\b\b\b\b\b\b\b\b\b\b\b\b\b\b\b\b\b\b\b\b\b\b\b\b\b\b\b\b\b\b\b\b\b\b\b\b\b\b\b\b\b\b\b\b\b\b\b\b\b",
      "\r51/51 [==============================] - 0s 5ms/step - loss: 309081.6250 - mae: 114.9260 - val_loss: 1217036.5000 - val_mae: 179.6807\n",
      "Epoch 53/100\n\r 1/51 [..............................] - ETA: 0s - loss: 684126.7500 - mae: 282.8343",
      "\b\b\b\b\b\b\b\b\b\b\b\b\b\b\b\b\b\b\b\b\b\b\b\b\b\b\b\b\b\b\b\b\b\b\b\b\b\b\b\b\b\b\b\b\b\b\b\b\b\b\b\b\b\b\b\b\b\b\b\b\b\b\b\b\b\b\b\b\b\b\b\b\b\b\b\b\b\b\b\b\b\b\b\b\r13/51 [======>.......................] - ETA: 0s - loss: 429302.0625 - mae: 136.6235",
      "\b\b\b\b\b\b\b\b\b\b\b\b\b\b\b\b\b\b\b\b\b\b\b\b\b\b\b\b\b\b\b\b\b\b\b\b\b\b\b\b\b\b\b\b\b\b\b\b\b\b\b\b\b\b\b\b\b\b\b\b\b\b\b\b\b\b\b\b\b\b\b\b\b\b\b\b\b\b\b\b\b\b\b\b\r26/51 [==============>...............] - ETA: 0s - loss: 252012.6406 - mae: 113.0094",
      "\b\b\b\b\b\b\b\b\b\b\b\b\b\b\b\b\b\b\b\b\b\b\b\b\b\b\b\b\b\b\b\b\b\b\b\b\b\b\b\b\b\b\b\b\b\b\b\b\b\b\b\b\b\b\b\b\b\b\b\b\b\b\b\b\b\b\b\b\b\b\b\b\b\b\b\b\b\b\b\b\b\b\b\b\r41/51 [=======================>......] - ETA: 0s - loss: 308681.6250 - mae: 112.9600",
      "\b\b\b\b\b\b\b\b\b\b\b\b\b\b\b\b\b\b\b\b\b\b\b\b\b\b\b\b\b\b\b\b\b\b\b\b\b\b\b\b\b\b\b\b\b\b\b\b\b\b\b\b\b\b\b\b\b\b\b\b\b\b\b\b\b\b\b\b\b\b\b\b\b\b\b\b\b\b\b\b\b\b\b\b\r51/51 [==============================] - 0s 5ms/step - loss: 280322.5625 - mae: 114.1880 - val_loss: 1199371.7500 - val_mae: 174.5970\n",
      "Epoch 54/100\n\r 1/51 [..............................] - ETA: 0s - loss: 9370.7686 - mae: 54.6343",
      "\b\b\b\b\b\b\b\b\b\b\b\b\b\b\b\b\b\b\b\b\b\b\b\b\b\b\b\b\b\b\b\b\b\b\b\b\b\b\b\b\b\b\b\b\b\b\b\b\b\b\b\b\b\b\b\b\b\b\b\b\b\b\b\b\b\b\b\b\b\b\b\b\b\b\b\b\b\b\b\b\b\r14/51 [=======>......................] - ETA: 0s - loss: 430407.0938 - mae: 108.4199",
      "\b\b\b\b\b\b\b\b\b\b\b\b\b\b\b\b\b\b\b\b\b\b\b\b\b\b\b\b\b\b\b\b\b\b\b\b\b\b\b\b\b\b\b\b\b\b\b\b\b\b\b\b\b\b\b\b\b\b\b\b\b\b\b\b\b\b\b\b\b\b\b\b\b\b\b\b\b\b\b\b\b\b\b\b\r29/51 [================>.............] - ETA: 0s - loss: 374964.0000 - mae: 119.5901",
      "\b\b\b\b\b\b\b\b\b\b\b\b\b\b\b\b\b\b\b\b\b\b\b\b\b\b\b\b\b\b\b\b\b\b\b\b\b\b\b\b\b\b\b\b\b\b\b\b\b\b\b\b\b\b\b\b\b\b\b\b\b\b\b\b\b\b\b\b\b\b\b\b\b\b\b\b\b\b\b\b\b\b\b\b\r41/51 [=======================>......] - ETA: 0s - loss: 291263.8750 - mae: 113.2983",
      "\b\b\b\b\b\b\b\b\b\b\b\b\b\b\b\b\b\b\b\b\b\b\b\b\b\b\b\b\b\b\b\b\b\b\b\b\b\b\b\b\b\b\b\b\b\b\b\b\b\b\b\b\b\b\b\b\b\b\b\b\b\b\b\b\b\b\b\b\b\b\b\b\b\b\b\b\b\b\b\b\b\b\b\b\r51/51 [==============================] - 0s 5ms/step - loss: 258828.3125 - mae: 109.1777 - val_loss: 1276053.2500 - val_mae: 176.1616\n",
      "Epoch 55/100\n\r 1/51 [..............................] - ETA: 0s - loss: 56490.4766 - mae: 79.6430",
      "\b\b\b\b\b\b\b\b\b\b\b\b\b\b\b\b\b\b\b\b\b\b\b\b\b\b\b\b\b\b\b\b\b\b\b\b\b\b\b\b\b\b\b\b\b\b\b\b\b\b\b\b\b\b\b\b\b\b\b\b\b\b\b\b\b\b\b\b\b\b\b\b\b\b\b\b\b\b\b\b\b\b",
      "\r12/51 [======>.......................] - ETA: 0s - loss: 752743.3125 - mae: 155.9609",
      "\b\b\b\b\b\b\b\b\b\b\b\b\b\b\b\b\b\b\b\b\b\b\b\b\b\b\b\b\b\b\b\b\b\b\b\b\b\b\b\b\b\b\b\b\b\b\b\b\b\b\b\b\b\b\b\b\b\b\b\b\b\b\b\b\b\b\b\b\b\b\b\b\b\b\b\b\b\b\b\b\b\b\b\b",
      "\r24/51 [=============>................] - ETA: 0s - loss: 422887.3438 - mae: 127.2180",
      "\b\b\b\b\b\b\b\b\b\b\b\b\b\b\b\b\b\b\b\b\b\b\b\b\b\b\b\b\b\b\b\b\b\b\b\b\b\b\b\b\b\b\b\b\b\b\b\b\b\b\b\b\b\b\b\b\b\b\b\b\b\b\b\b\b\b\b\b\b\b\b\b\b\b\b\b\b\b\b\b\b\b\b\b\r36/51 [====================>.........] - ETA: 0s - loss: 358162.6875 - mae: 124.0068",
      "\b\b\b\b\b\b\b\b\b\b\b\b\b\b\b\b\b\b\b\b\b\b\b\b\b\b\b\b\b\b\b\b\b\b\b\b\b\b\b\b\b\b\b\b\b\b\b\b\b\b\b\b\b\b\b\b\b\b\b\b\b\b\b\b\b\b\b\b\b\b\b\b\b\b\b\b\b\b\b\b\b\b\b\b\r50/51 [============================>.] - ETA: 0s - loss: 284214.8750 - mae: 116.1859",
      "\b\b\b\b\b\b\b\b\b\b\b\b\b\b\b\b\b\b\b\b\b\b\b\b\b\b\b\b\b\b\b\b\b\b\b\b\b\b\b\b\b\b\b\b\b\b\b\b\b\b\b\b\b\b\b\b\b\b\b\b\b\b\b\b\b\b\b\b\b\b\b\b\b\b\b\b\b\b\b\b\b\b\b\b\r51/51 [==============================] - 0s 5ms/step - loss: 280058.0312 - mae: 116.0769 - val_loss: 1197401.8750 - val_mae: 180.8623\n",
      "Epoch 56/100\n\r 1/51 [..............................] - ETA: 0s - loss: 16639.7656 - mae: 66.5605",
      "\b\b\b\b\b\b\b\b\b\b\b\b\b\b\b\b\b\b\b\b\b\b\b\b\b\b\b\b\b\b\b\b\b\b\b\b\b\b\b\b\b\b\b\b\b\b\b\b\b\b\b\b\b\b\b\b\b\b\b\b\b\b\b\b\b\b\b\b\b\b\b\b\b\b\b\b\b\b\b\b\b\b\r14/51 [=======>......................] - ETA: 0s - loss: 444871.9375 - mae: 117.4880",
      "\b\b\b\b\b\b\b\b\b\b\b\b\b\b\b\b\b\b\b\b\b\b\b\b\b\b\b\b\b\b\b\b\b\b\b\b\b\b\b\b\b\b\b\b\b\b\b\b\b\b\b\b\b\b\b\b\b\b\b\b\b\b\b\b\b\b\b\b\b\b\b\b\b\b\b\b\b\b\b\b\b\b\b\b\r24/51 [=============>................] - ETA: 0s - loss: 288270.6562 - mae: 109.8213",
      "\b\b\b\b\b\b\b\b\b\b\b\b\b\b\b\b\b\b\b\b\b\b\b\b\b\b\b\b\b\b\b\b\b\b\b\b\b\b\b\b\b\b\b\b\b\b\b\b\b\b\b\b\b\b\b\b\b\b\b\b\b\b\b\b\b\b\b\b\b\b\b\b\b\b\b\b\b\b\b\b\b\b\b\b\r37/51 [====================>.........] - ETA: 0s - loss: 325761.5000 - mae: 115.8040",
      "\b\b\b\b\b\b\b\b\b\b\b\b\b\b\b\b\b\b\b\b\b\b\b\b\b\b\b\b\b\b\b\b\b\b\b\b\b\b\b\b\b\b\b\b\b\b\b\b\b\b\b\b\b\b\b\b\b\b\b\b\b\b\b\b\b\b\b\b\b\b\b\b\b\b\b\b\b\b\b\b\b\b\b\b\r51/51 [==============================] - ETA: 0s - loss: 286082.7188 - mae: 112.2915",
      "\b\b\b\b\b\b\b\b\b\b\b\b\b\b\b\b\b\b\b\b\b\b\b\b\b\b\b\b\b\b\b\b\b\b\b\b\b\b\b\b\b\b\b\b\b\b\b\b\b\b\b\b\b\b\b\b\b\b\b\b\b\b\b\b\b\b\b\b\b\b\b\b\b\b\b\b\b\b\b\b\b\b\b\b\r51/51 [==============================] - 0s 5ms/step - loss: 286082.7188 - mae: 112.2915 - val_loss: 1075517.2500 - val_mae: 184.4757\n",
      "Epoch 57/100\n\r 1/51 [..............................] - ETA: 0s - loss: 5848.9092 - mae: 45.6178",
      "\b\b\b\b\b\b\b\b\b\b\b\b\b\b\b\b\b\b\b\b\b\b\b\b\b\b\b\b\b\b\b\b\b\b\b\b\b\b\b\b\b\b\b\b\b\b\b\b\b\b\b\b\b\b\b\b\b\b\b\b\b\b\b\b\b\b\b\b\b\b\b\b\b\b\b\b\b\b\b\b\b\r14/51 [=======>......................] - ETA: 0s - loss: 361254.5625 - mae: 121.7057",
      "\b\b\b\b\b\b\b\b\b\b\b\b\b\b\b\b\b\b\b\b\b\b\b\b\b\b\b\b\b\b\b\b\b\b\b\b\b\b\b\b\b\b\b\b\b\b\b\b\b\b\b\b\b\b\b\b\b\b\b\b\b\b\b\b\b\b\b\b\b\b\b\b\b\b\b\b\b\b\b\b\b\b\b\b\r28/51 [===============>..............] - ETA: 0s - loss: 367550.1562 - mae: 119.5027",
      "\b\b\b\b\b\b\b\b\b\b\b\b\b\b\b\b\b\b\b\b\b\b\b\b\b\b\b\b\b\b\b\b\b\b\b\b\b\b\b\b\b\b\b\b\b\b\b\b\b\b\b\b\b\b\b\b\b\b\b\b\b\b\b\b\b\b\b\b\b\b\b\b\b\b\b\b\b\b\b\b\b\b\b\b\r41/51 [=======================>......] - ETA: 0s - loss: 285133.5312 - mae: 111.2218",
      "\b\b\b\b\b\b\b\b\b\b\b\b\b\b\b\b\b\b\b\b\b\b\b\b\b\b\b\b\b\b\b\b\b\b\b\b\b\b\b\b\b\b\b\b\b\b\b\b\b\b\b\b\b\b\b\b\b\b\b\b\b\b\b\b\b\b\b\b\b\b\b\b\b\b\b\b\b\b\b\b\b\b\b\b\r51/51 [==============================] - 0s 5ms/step - loss: 274023.0312 - mae: 114.4450 - val_loss: 1008168.6875 - val_mae: 191.6678\n",
      "Epoch 58/100\n\r 1/51 [..............................] - ETA: 0s - loss: 31714.8203 - mae: 76.9920",
      "\b\b\b\b\b\b\b\b\b\b\b\b\b\b\b\b\b\b\b\b\b\b\b\b\b\b\b\b\b\b\b\b\b\b\b\b\b\b\b\b\b\b\b\b\b\b\b\b\b\b\b\b\b\b\b\b\b\b\b\b\b\b\b\b\b\b\b\b\b\b\b\b\b\b\b\b\b\b\b\b\b\b\r13/51 [======>.......................] - ETA: 0s - loss: 477659.5312 - mae: 134.9609",
      "\b\b\b\b\b\b\b\b\b\b\b\b\b\b\b\b\b\b\b\b\b\b\b\b\b\b\b\b\b\b\b\b\b\b\b\b\b\b\b\b\b\b\b\b\b\b\b\b\b\b\b\b\b\b\b\b\b\b\b\b\b\b\b\b\b\b\b\b\b\b\b\b\b\b\b\b\b\b\b\b\b\b\b\b\r25/51 [=============>................] - ETA: 0s - loss: 440418.1562 - mae: 138.2769",
      "\b\b\b\b\b\b\b\b\b\b\b\b\b\b\b\b\b\b\b\b\b\b\b\b\b\b\b\b\b\b\b\b\b\b\b\b\b\b\b\b\b\b\b\b\b\b\b\b\b\b\b\b\b\b\b\b\b\b\b\b\b\b\b\b\b\b\b\b\b\b\b\b\b\b\b\b\b\b\b\b\b\b\b\b\r39/51 [=====================>........] - ETA: 0s - loss: 306674.1875 - mae: 119.3872",
      "\b\b\b\b\b\b\b\b\b\b\b\b\b\b\b\b\b\b\b\b\b\b\b\b\b\b\b\b\b\b\b\b\b\b\b\b\b\b\b\b\b\b\b\b\b\b\b\b\b\b\b\b\b\b\b\b\b\b\b\b\b\b\b\b\b\b\b\b\b\b\b\b\b\b\b\b\b\b\b\b\b\b\b\b\r51/51 [==============================] - 0s 5ms/step - loss: 255261.3750 - mae: 112.6917 - val_loss: 1022998.8750 - val_mae: 170.3113\n",
      "Epoch 59/100\n\r 1/51 [..............................] - ETA: 0s - loss: 4082175.0000 - mae: 440.4829",
      "\b\b\b\b\b\b\b\b\b\b\b\b\b\b\b\b\b\b\b\b\b\b\b\b\b\b\b\b\b\b\b\b\b\b\b\b\b\b\b\b\b\b\b\b\b\b\b\b\b\b\b\b\b\b\b\b\b\b\b\b\b\b\b\b\b\b\b\b\b\b\b\b\b\b\b\b\b\b\b\b\b\b\b\b\b\r14/51 [=======>......................] - ETA: 0s - loss: 420560.2500 - mae: 128.1311 ",
      "\b\b\b\b\b\b\b\b\b\b\b\b\b\b\b\b\b\b\b\b\b\b\b\b\b\b\b\b\b\b\b\b\b\b\b\b\b\b\b\b\b\b\b\b\b\b\b\b\b\b\b\b\b\b\b\b\b\b\b\b\b\b\b\b\b\b\b\b\b\b\b\b\b\b\b\b\b\b\b\b\b\b\b\b\r27/51 [==============>...............] - ETA: 0s - loss: 380932.0312 - mae: 120.8427",
      "\b\b\b\b\b\b\b\b\b\b\b\b\b\b\b\b\b\b\b\b\b\b\b\b\b\b\b\b\b\b\b\b\b\b\b\b\b\b\b\b\b\b\b\b\b\b\b\b\b\b\b\b\b\b\b\b\b\b\b\b\b\b\b\b\b\b\b\b\b\b\b\b\b\b\b\b\b\b\b\b\b\b\b\b\r38/51 [=====================>........] - ETA: 0s - loss: 285674.2188 - mae: 106.1670",
      "\b\b\b\b\b\b\b\b\b\b\b\b\b\b\b\b\b\b\b\b\b\b\b\b\b\b\b\b\b\b\b\b\b\b\b\b\b\b\b\b\b\b\b\b\b\b\b\b\b\b\b\b\b\b\b\b\b\b\b\b\b\b\b\b\b\b\b\b\b\b\b\b\b\b\b\b\b\b\b\b\b\b\b\b\r50/51 [============================>.] - ETA: 0s - loss: 263959.9375 - mae: 108.1724",
      "\b\b\b\b\b\b\b\b\b\b\b\b\b\b\b\b\b\b\b\b\b\b\b\b\b\b\b\b\b\b\b\b\b\b\b\b\b\b\b\b\b\b\b\b\b\b\b\b\b\b\b\b\b\b\b\b\b\b\b\b\b\b\b\b\b\b\b\b\b\b\b\b\b\b\b\b\b\b\b\b\b\b\b\b\r51/51 [==============================] - 0s 5ms/step - loss: 259320.8281 - mae: 107.6205 - val_loss: 982671.7500 - val_mae: 174.5436\n",
      "Epoch 60/100\n\r 1/51 [..............................] - ETA: 0s - loss: 29970.7070 - mae: 89.6237",
      "\b\b\b\b\b\b\b\b\b\b\b\b\b\b\b\b\b\b\b\b\b\b\b\b\b\b\b\b\b\b\b\b\b\b\b\b\b\b\b\b\b\b\b\b\b\b\b\b\b\b\b\b\b\b\b\b\b\b\b\b\b\b\b\b\b\b\b\b\b\b\b\b\b\b\b\b\b\b\b\b\b\b\r11/51 [=====>........................] - ETA: 0s - loss: 442218.2188 - mae: 124.6194",
      "\b\b\b\b\b\b\b\b\b\b\b\b\b\b\b\b\b\b\b\b\b\b\b\b\b\b\b\b\b\b\b\b\b\b\b\b\b\b\b\b\b\b\b\b\b\b\b\b\b\b\b\b\b\b\b\b\b\b\b\b\b\b\b\b\b\b\b\b\b\b\b\b\b\b\b\b\b\b\b\b\b\b\b\b\r23/51 [============>.................] - ETA: 0s - loss: 246418.5625 - mae: 107.5196",
      "\b\b\b\b\b\b\b\b\b\b\b\b\b\b\b\b\b\b\b\b\b\b\b\b\b\b\b\b\b\b\b\b\b\b\b\b\b\b\b\b\b\b\b\b\b\b\b\b\b\b\b\b\b\b\b\b\b\b\b\b\b\b\b\b\b\b\b\b\b\b\b\b\b\b\b\b\b\b\b\b\b\b\b\b\r38/51 [=====================>........] - ETA: 0s - loss: 173653.5469 - mae: 97.9984 ",
      "\b\b\b\b\b\b\b\b\b\b\b\b\b\b\b\b\b\b\b\b\b\b\b\b\b\b\b\b\b\b\b\b\b\b\b\b\b\b\b\b\b\b\b\b\b\b\b\b\b\b\b\b\b\b\b\b\b\b\b\b\b\b\b\b\b\b\b\b\b\b\b\b\b\b\b\b\b\b\b\b\b\b\b\r48/51 [===========================>..] - ETA: 0s - loss: 255116.4844 - mae: 108.1479",
      "\b\b\b\b\b\b\b\b\b\b\b\b\b\b\b\b\b\b\b\b\b\b\b\b\b\b\b\b\b\b\b\b\b\b\b\b\b\b\b\b\b\b\b\b\b\b\b\b\b\b\b\b\b\b\b\b\b\b\b\b\b\b\b\b\b\b\b\b\b\b\b\b\b\b\b\b\b\b\b\b\b\b\b\b\r51/51 [==============================] - 0s 6ms/step - loss: 242920.2500 - mae: 107.6044 - val_loss: 979797.6250 - val_mae: 172.0947\n",
      "Epoch 61/100\n\r 1/51 [..............................] - ETA: 0s - loss: 509306.9062 - mae: 230.5735",
      "\b\b\b\b\b\b\b\b\b\b\b\b\b\b\b\b\b\b\b\b\b\b\b\b\b\b\b\b\b\b\b\b\b\b\b\b\b\b\b\b\b\b\b\b\b\b\b\b\b\b\b\b\b\b\b\b\b\b\b\b\b\b\b\b\b\b\b\b\b\b\b\b\b\b\b\b\b\b\b\b\b\b\b\b\r14/51 [=======>......................] - ETA: 0s - loss: 90588.6953 - mae: 95.8180  ",
      "\b\b\b\b\b\b\b\b\b\b\b\b\b\b\b\b\b\b\b\b\b\b\b\b\b\b\b\b\b\b\b\b\b\b\b\b\b\b\b\b\b\b\b\b\b\b\b\b\b\b\b\b\b\b\b\b\b\b\b\b\b\b\b\b\b\b\b\b\b\b\b\b\b\b\b\b\b\b\b\b\b\b",
      "\r22/51 [===========>..................] - ETA: 0s - loss: 233549.0000 - mae: 107.8004",
      "\b\b\b\b\b\b\b\b\b\b\b\b\b\b\b\b\b\b\b\b\b\b\b\b\b\b\b\b\b\b\b\b\b\b\b\b\b\b\b\b\b\b\b\b\b\b\b\b\b\b\b\b\b\b\b\b\b\b\b\b\b\b\b\b\b\b\b\b\b\b\b\b\b\b\b\b\b\b\b\b\b\b\b\b\r33/51 [==================>...........] - ETA: 0s - loss: 284601.7500 - mae: 108.8765",
      "\b\b\b\b\b\b\b\b\b\b\b\b\b\b\b\b\b\b\b\b\b\b\b\b\b\b\b\b\b\b\b\b\b\b\b\b\b\b\b\b\b\b\b\b\b\b\b\b\b\b\b\b\b\b\b\b\b\b\b\b\b\b\b\b\b\b\b\b\b\b\b\b\b\b\b\b\b\b\b\b\b\b\b\b\r47/51 [==========================>...] - ETA: 0s - loss: 256953.2344 - mae: 112.4271",
      "\b\b\b\b\b\b\b\b\b\b\b\b\b\b\b\b\b\b\b\b\b\b\b\b\b\b\b\b\b\b\b\b\b\b\b\b\b\b\b\b\b\b\b\b\b\b\b\b\b\b\b\b\b\b\b\b\b\b\b\b\b\b\b\b\b\b\b\b\b\b\b\b\b\b\b\b\b\b\b\b\b\b\b\b\r51/51 [==============================] - 0s 5ms/step - loss: 239392.3750 - mae: 110.4281 - val_loss: 1023519.3750 - val_mae: 175.3453\n",
      "Epoch 62/100\n\r 1/51 [..............................] - ETA: 0s - loss: 9446.3125 - mae: 61.1053",
      "\b\b\b\b\b\b\b\b\b\b\b\b\b\b\b\b\b\b\b\b\b\b\b\b\b\b\b\b\b\b\b\b\b\b\b\b\b\b\b\b\b\b\b\b\b\b\b\b\b\b\b\b\b\b\b\b\b\b\b\b\b\b\b\b\b\b\b\b\b\b\b\b\b\b\b\b\b\b\b\b\b\r14/51 [=======>......................] - ETA: 0s - loss: 329583.5938 - mae: 112.5643",
      "\b\b\b\b\b\b\b\b\b\b\b\b\b\b\b\b\b\b\b\b\b\b\b\b\b\b\b\b\b\b\b\b\b\b\b\b\b\b\b\b\b\b\b\b\b\b\b\b\b\b\b\b\b\b\b\b\b\b\b\b\b\b\b\b\b\b\b\b\b\b\b\b\b\b\b\b\b\b\b\b\b\b\b\b\r26/51 [==============>...............] - ETA: 0s - loss: 249044.3125 - mae: 110.5974",
      "\b\b\b\b\b\b\b\b\b\b\b\b\b\b\b\b\b\b\b\b\b\b\b\b\b\b\b\b\b\b\b\b\b\b\b\b\b\b\b\b\b\b\b\b\b\b\b\b\b\b\b\b\b\b\b\b\b\b\b\b\b\b\b\b\b\b\b\b\b\b\b\b\b\b\b\b\b\b\b\b\b\b\b\b\r36/51 [====================>.........] - ETA: 0s - loss: 302872.0312 - mae: 115.9300",
      "\b\b\b\b\b\b\b\b\b\b\b\b\b\b\b\b\b\b\b\b\b\b\b\b\b\b\b\b\b\b\b\b\b\b\b\b\b\b\b\b\b\b\b\b\b\b\b\b\b\b\b\b\b\b\b\b\b\b\b\b\b\b\b\b\b\b\b\b\b\b\b\b\b\b\b\b\b\b\b\b\b\b\b\b\r50/51 [============================>.] - ETA: 0s - loss: 240154.6406 - mae: 108.7047",
      "\b\b\b\b\b\b\b\b\b\b\b\b\b\b\b\b\b\b\b\b\b\b\b\b\b\b\b\b\b\b\b\b\b\b\b\b\b\b\b\b\b\b\b\b\b\b\b\b\b\b\b\b\b\b\b\b\b\b\b\b\b\b\b\b\b\b\b\b\b\b\b\b\b\b\b\b\b\b\b\b\b\b\b\b\r51/51 [==============================] - 0s 5ms/step - loss: 238808.3125 - mae: 109.0756 - val_loss: 1051659.2500 - val_mae: 168.8365\n",
      "Epoch 63/100\n\r 1/51 [..............................] - ETA: 0s - loss: 226984.1562 - mae: 127.3662",
      "\b\b\b\b\b\b\b\b\b\b\b\b\b\b\b\b\b\b\b\b\b\b\b\b\b\b\b\b\b\b\b\b\b\b\b\b\b\b\b\b\b\b\b\b\b\b\b\b\b\b\b\b\b\b\b\b\b\b\b\b\b\b\b\b\b\b\b\b\b\b\b\b\b\b\b\b\b\b\b\b\b\b\b\b\r13/51 [======>.......................] - ETA: 0s - loss: 358676.5312 - mae: 111.0107",
      "\b\b\b\b\b\b\b\b\b\b\b\b\b\b\b\b\b\b\b\b\b\b\b\b\b\b\b\b\b\b\b\b\b\b\b\b\b\b\b\b\b\b\b\b\b\b\b\b\b\b\b\b\b\b\b\b\b\b\b\b\b\b\b\b\b\b\b\b\b\b\b\b\b\b\b\b\b\b\b\b\b\b\b\b\r26/51 [==============>...............] - ETA: 0s - loss: 228563.3594 - mae: 99.5681 ",
      "\b\b\b\b\b\b\b\b\b\b\b\b\b\b\b\b\b\b\b\b\b\b\b\b\b\b\b\b\b\b\b\b\b\b\b\b\b\b\b\b\b\b\b\b\b\b\b\b\b\b\b\b\b\b\b\b\b\b\b\b\b\b\b\b\b\b\b\b\b\b\b\b\b\b\b\b\b\b\b\b\b\b\b\r38/51 [=====================>........] - ETA: 0s - loss: 200359.8281 - mae: 103.1063",
      "\b\b\b\b\b\b\b\b\b\b\b\b\b\b\b\b\b\b\b\b\b\b\b\b\b\b\b\b\b\b\b\b\b\b\b\b\b\b\b\b\b\b\b\b\b\b\b\b\b\b\b\b\b\b\b\b\b\b\b\b\b\b\b\b\b\b\b\b\b\b\b\b\b\b\b\b\b\b\b\b\b\b\b\b\r46/51 [==========================>...] - ETA: 0s - loss: 263129.4688 - mae: 110.1689",
      "\b\b\b\b\b\b\b\b\b\b\b\b\b\b\b\b\b\b\b\b\b\b\b\b\b\b\b\b\b\b\b\b\b\b\b\b\b\b\b\b\b\b\b\b\b\b\b\b\b\b\b\b\b\b\b\b\b\b\b\b\b\b\b\b\b\b\b\b\b\b\b\b\b\b\b\b\b\b\b\b\b\b\b\b\r51/51 [==============================] - 0s 6ms/step - loss: 241419.0156 - mae: 106.8353 - val_loss: 946336.8750 - val_mae: 167.4638\n",
      "Epoch 64/100\n\r 1/51 [..............................] - ETA: 0s - loss: 400641.5938 - mae: 166.5055",
      "\b\b\b\b\b\b\b\b\b\b\b\b\b\b\b\b\b\b\b\b\b\b\b\b\b\b\b\b\b\b\b\b\b\b\b\b\b\b\b\b\b\b\b\b\b\b\b\b\b\b\b\b\b\b\b\b\b\b\b\b\b\b\b\b\b\b\b\b\b\b\b\b\b\b\b\b\b\b\b\b\b\b\b\b\r14/51 [=======>......................] - ETA: 0s - loss: 320335.6875 - mae: 116.0317",
      "\b\b\b\b\b\b\b\b\b\b\b\b\b\b\b\b\b\b\b\b\b\b\b\b\b\b\b\b\b\b\b\b\b\b\b\b\b\b\b\b\b\b\b\b\b\b\b\b\b\b\b\b\b\b\b\b\b\b\b\b\b\b\b\b\b\b\b\b\b\b\b\b\b\b\b\b\b\b\b\b\b\b\b\b\r28/51 [===============>..............] - ETA: 0s - loss: 209761.0781 - mae: 107.1140",
      "\b\b\b\b\b\b\b\b\b\b\b\b\b\b\b\b\b\b\b\b\b\b\b\b\b\b\b\b\b\b\b\b\b\b\b\b\b\b\b\b\b\b\b\b\b\b\b\b\b\b\b\b\b\b\b\b\b\b\b\b\b\b\b\b\b\b\b\b\b\b\b\b\b\b\b\b\b\b\b\b\b\b\b\b\r42/51 [=======================>......] - ETA: 0s - loss: 255087.6719 - mae: 109.7988",
      "\b\b\b\b\b\b\b\b\b\b\b\b\b\b\b\b\b\b\b\b\b\b\b\b\b\b\b\b\b\b\b\b\b\b\b\b\b\b\b\b\b\b\b\b\b\b\b\b\b\b\b\b\b\b\b\b\b\b\b\b\b\b\b\b\b\b\b\b\b\b\b\b\b\b\b\b\b\b\b\b\b\b\b\b\r51/51 [==============================] - 0s 5ms/step - loss: 228936.2500 - mae: 105.4013 - val_loss: 922806.3750 - val_mae: 169.2511\n",
      "Epoch 65/100\n\r 1/51 [..............................] - ETA: 0s - loss: 60956.0703 - mae: 72.8244",
      "\b\b\b\b\b\b\b\b\b\b\b\b\b\b\b\b\b\b\b\b\b\b\b\b\b\b\b\b\b\b\b\b\b\b\b\b\b\b\b\b\b\b\b\b\b\b\b\b\b\b\b\b\b\b\b\b\b\b\b\b\b\b\b\b\b\b\b\b\b\b\b\b\b\b\b\b\b\b\b\b\b\b\r14/51 [=======>......................] - ETA: 0s - loss: 315244.1562 - mae: 125.1329",
      "\b\b\b\b\b\b\b\b\b\b\b\b\b\b\b\b\b\b\b\b\b\b\b\b\b\b\b\b\b\b\b\b\b\b\b\b\b\b\b\b\b\b\b\b\b\b\b\b\b\b\b\b\b\b\b\b\b\b\b\b\b\b\b\b\b\b\b\b\b\b\b\b\b\b\b\b\b\b\b\b\b\b\b\b\r28/51 [===============>..............] - ETA: 0s - loss: 209748.2500 - mae: 107.7959",
      "\b\b\b\b\b\b\b\b\b\b\b\b\b\b\b\b\b\b\b\b\b\b\b\b\b\b\b\b\b\b\b\b\b\b\b\b\b\b\b\b\b\b\b\b\b\b\b\b\b\b\b\b\b\b\b\b\b\b\b\b\b\b\b\b\b\b\b\b\b\b\b\b\b\b\b\b\b\b\b\b\b\b\b\b\r44/51 [========================>.....] - ETA: 0s - loss: 239950.3438 - mae: 109.1762",
      "\b\b\b\b\b\b\b\b\b\b\b\b\b\b\b\b\b\b\b\b\b\b\b\b\b\b\b\b\b\b\b\b\b\b\b\b\b\b\b\b\b\b\b\b\b\b\b\b\b\b\b\b\b\b\b\b\b\b\b\b\b\b\b\b\b\b\b\b\b\b\b\b\b\b\b\b\b\b\b\b\b\b\b\b",
      "\r51/51 [==============================] - 0s 5ms/step - loss: 227574.7812 - mae: 107.8354 - val_loss: 943005.2500 - val_mae: 171.5966\n",
      "Epoch 66/100\n\r 1/51 [..............................] - ETA: 0s - loss: 10518.9521 - mae: 49.6418",
      "\b\b\b\b\b\b\b\b\b\b\b\b\b\b\b\b\b\b\b\b\b\b\b\b\b\b\b\b\b\b\b\b\b\b\b\b\b\b\b\b\b\b\b\b\b\b\b\b\b\b\b\b\b\b\b\b\b\b\b\b\b\b\b\b\b\b\b\b\b\b\b\b\b\b\b\b\b\b\b\b\b\b",
      "\r15/51 [=======>......................] - ETA: 0s - loss: 267233.0938 - mae: 102.4088",
      "\b\b\b\b\b\b\b\b\b\b\b\b\b\b\b\b\b\b\b\b\b\b\b\b\b\b\b\b\b\b\b\b\b\b\b\b\b\b\b\b\b\b\b\b\b\b\b\b\b\b\b\b\b\b\b\b\b\b\b\b\b\b\b\b\b\b\b\b\b\b\b\b\b\b\b\b\b\b\b\b\b\b\b\b\r26/51 [==============>...............] - ETA: 0s - loss: 304279.9375 - mae: 113.3410",
      "\b\b\b\b\b\b\b\b\b\b\b\b\b\b\b\b\b\b\b\b\b\b\b\b\b\b\b\b\b\b\b\b\b\b\b\b\b\b\b\b\b\b\b\b\b\b\b\b\b\b\b\b\b\b\b\b\b\b\b\b\b\b\b\b\b\b\b\b\b\b\b\b\b\b\b\b\b\b\b\b\b\b\b\b\r39/51 [=====================>........] - ETA: 0s - loss: 242902.5625 - mae: 106.7809",
      "\b\b\b\b\b\b\b\b\b\b\b\b\b\b\b\b\b\b\b\b\b\b\b\b\b\b\b\b\b\b\b\b\b\b\b\b\b\b\b\b\b\b\b\b\b\b\b\b\b\b\b\b\b\b\b\b\b\b\b\b\b\b\b\b\b\b\b\b\b\b\b\b\b\b\b\b\b\b\b\b\b\b\b\b\r50/51 [============================>.] - ETA: 0s - loss: 209388.7969 - mae: 103.7349",
      "\b\b\b\b\b\b\b\b\b\b\b\b\b\b\b\b\b\b\b\b\b\b\b\b\b\b\b\b\b\b\b\b\b\b\b\b\b\b\b\b\b\b\b\b\b\b\b\b\b\b\b\b\b\b\b\b\b\b\b\b\b\b\b\b\b\b\b\b\b\b\b\b\b\b\b\b\b\b\b\b\b\b\b\b\r51/51 [==============================] - 0s 5ms/step - loss: 205636.9062 - mae: 103.4098 - val_loss: 969464.7500 - val_mae: 177.5521\n",
      "Epoch 67/100\n\r 1/51 [..............................] - ETA: 0s - loss: 1575.2565 - mae: 29.6347",
      "\b\b\b\b\b\b\b\b\b\b\b\b\b\b\b\b\b\b\b\b\b\b\b\b\b\b\b\b\b\b\b\b\b\b\b\b\b\b\b\b\b\b\b\b\b\b\b\b\b\b\b\b\b\b\b\b\b\b\b\b\b\b\b\b\b\b\b\b\b\b\b\b\b\b\b\b\b\b\b\b\b\r13/51 [======>.......................] - ETA: 0s - loss: 396307.1562 - mae: 105.5015",
      "\b\b\b\b\b\b\b\b\b\b\b\b\b\b\b\b\b\b\b\b\b\b\b\b\b\b\b\b\b\b\b\b\b\b\b\b\b\b\b\b\b\b\b\b\b\b\b\b\b\b\b\b\b\b\b\b\b\b\b\b\b\b\b\b\b\b\b\b\b\b\b\b\b\b\b\b\b\b\b\b\b\b\b\b\r20/51 [==========>...................] - ETA: 0s - loss: 280876.8125 - mae: 101.1841",
      "\b\b\b\b\b\b\b\b\b\b\b\b\b\b\b\b\b\b\b\b\b\b\b\b\b\b\b\b\b\b\b\b\b\b\b\b\b\b\b\b\b\b\b\b\b\b\b\b\b\b\b\b\b\b\b\b\b\b\b\b\b\b\b\b\b\b\b\b\b\b\b\b\b\b\b\b\b\b\b\b\b\b\b\b\r31/51 [=================>............] - ETA: 0s - loss: 322638.5938 - mae: 112.6149",
      "\b\b\b\b\b\b\b\b\b\b\b\b\b\b\b\b\b\b\b\b\b\b\b\b\b\b\b\b\b\b\b\b\b\b\b\b\b\b\b\b\b\b\b\b\b\b\b\b\b\b\b\b\b\b\b\b\b\b\b\b\b\b\b\b\b\b\b\b\b\b\b\b\b\b\b\b\b\b\b\b\b\b\b\b\r45/51 [=========================>....] - ETA: 0s - loss: 237175.2031 - mae: 102.7543",
      "\b\b\b\b\b\b\b\b\b\b\b\b\b\b\b\b\b\b\b\b\b\b\b\b\b\b\b\b\b\b\b\b\b\b\b\b\b\b\b\b\b\b\b\b\b\b\b\b\b\b\b\b\b\b\b\b\b\b\b\b\b\b\b\b\b\b\b\b\b\b\b\b\b\b\b\b\b\b\b\b\b\b\b\b",
      "\r51/51 [==============================] - 0s 6ms/step - loss: 212591.1562 - mae: 99.1824 - val_loss: 982709.8750 - val_mae: 168.1463\n",
      "Epoch 68/100\n\r 1/51 [..............................] - ETA: 0s - loss: 42249.0977 - mae: 81.9673",
      "\b\b\b\b\b\b\b\b\b\b\b\b\b\b\b\b\b\b\b\b\b\b\b\b\b\b\b\b\b\b\b\b\b\b\b\b\b\b\b\b\b\b\b\b\b\b\b\b\b\b\b\b\b\b\b\b\b\b\b\b\b\b\b\b\b\b\b\b\b\b\b\b\b\b\b\b\b\b\b\b\b\b",
      "\r12/51 [======>.......................] - ETA: 0s - loss: 114397.9375 - mae: 90.0255",
      "\b\b\b\b\b\b\b\b\b\b\b\b\b\b\b\b\b\b\b\b\b\b\b\b\b\b\b\b\b\b\b\b\b\b\b\b\b\b\b\b\b\b\b\b\b\b\b\b\b\b\b\b\b\b\b\b\b\b\b\b\b\b\b\b\b\b\b\b\b\b\b\b\b\b\b\b\b\b\b\b\b\b\b",
      "\r24/51 [=============>................] - ETA: 0s - loss: 118208.4375 - mae: 91.7790",
      "\b\b\b\b\b\b\b\b\b\b\b\b\b\b\b\b\b\b\b\b\b\b\b\b\b\b\b\b\b\b\b\b\b\b\b\b\b\b\b\b\b\b\b\b\b\b\b\b\b\b\b\b\b\b\b\b\b\b\b\b\b\b\b\b\b\b\b\b\b\b\b\b\b\b\b\b\b\b\b\b\b\b\b\r33/51 [==================>...........] - ETA: 0s - loss: 231280.1250 - mae: 106.0275",
      "\b\b\b\b\b\b\b\b\b\b\b\b\b\b\b\b\b\b\b\b\b\b\b\b\b\b\b\b\b\b\b\b\b\b\b\b\b\b\b\b\b\b\b\b\b\b\b\b\b\b\b\b\b\b\b\b\b\b\b\b\b\b\b\b\b\b\b\b\b\b\b\b\b\b\b\b\b\b\b\b\b\b\b\b\r45/51 [=========================>....] - ETA: 0s - loss: 182897.9844 - mae: 102.1022",
      "\b\b\b\b\b\b\b\b\b\b\b\b\b\b\b\b\b\b\b\b\b\b\b\b\b\b\b\b\b\b\b\b\b\b\b\b\b\b\b\b\b\b\b\b\b\b\b\b\b\b\b\b\b\b\b\b\b\b\b\b\b\b\b\b\b\b\b\b\b\b\b\b\b\b\b\b\b\b\b\b\b\b\b\b",
      "\r51/51 [==============================] - 0s 6ms/step - loss: 215423.0156 - mae: 104.1676 - val_loss: 786383.8750 - val_mae: 171.8101\n",
      "Epoch 69/100\n\r 1/51 [..............................] - ETA: 0s - loss: 65581.5625 - mae: 97.8871",
      "\b\b\b\b\b\b\b\b\b\b\b\b\b\b\b\b\b\b\b\b\b\b\b\b\b\b\b\b\b\b\b\b\b\b\b\b\b\b\b\b\b\b\b\b\b\b\b\b\b\b\b\b\b\b\b\b\b\b\b\b\b\b\b\b\b\b\b\b\b\b\b\b\b\b\b\b\b\b\b\b\b\b\r10/51 [====>.........................] - ETA: 0s - loss: 177993.2656 - mae: 118.4466",
      "\b\b\b\b\b\b\b\b\b\b\b\b\b\b\b\b\b\b\b\b\b\b\b\b\b\b\b\b\b\b\b\b\b\b\b\b\b\b\b\b\b\b\b\b\b\b\b\b\b\b\b\b\b\b\b\b\b\b\b\b\b\b\b\b\b\b\b\b\b\b\b\b\b\b\b\b\b\b\b\b\b\b\b\b",
      "\r23/51 [============>.................] - ETA: 0s - loss: 88029.5312 - mae: 87.1076  ",
      "\b\b\b\b\b\b\b\b\b\b\b\b\b\b\b\b\b\b\b\b\b\b\b\b\b\b\b\b\b\b\b\b\b\b\b\b\b\b\b\b\b\b\b\b\b\b\b\b\b\b\b\b\b\b\b\b\b\b\b\b\b\b\b\b\b\b\b\b\b\b\b\b\b\b\b\b\b\b\b\b\b\b\r35/51 [===================>..........] - ETA: 0s - loss: 237803.8594 - mae: 106.9993",
      "\b\b\b\b\b\b\b\b\b\b\b\b\b\b\b\b\b\b\b\b\b\b\b\b\b\b\b\b\b\b\b\b\b\b\b\b\b\b\b\b\b\b\b\b\b\b\b\b\b\b\b\b\b\b\b\b\b\b\b\b\b\b\b\b\b\b\b\b\b\b\b\b\b\b\b\b\b\b\b\b\b\b\b\b\r46/51 [==========================>...] - ETA: 0s - loss: 221357.4844 - mae: 107.7205",
      "\b\b\b\b\b\b\b\b\b\b\b\b\b\b\b\b\b\b\b\b\b\b\b\b\b\b\b\b\b\b\b\b\b\b\b\b\b\b\b\b\b\b\b\b\b\b\b\b\b\b\b\b\b\b\b\b\b\b\b\b\b\b\b\b\b\b\b\b\b\b\b\b\b\b\b\b\b\b\b\b\b\b\b\b",
      "\r51/51 [==============================] - 0s 6ms/step - loss: 207813.4375 - mae: 107.0569 - val_loss: 788787.0000 - val_mae: 170.7923\n",
      "Epoch 70/100\n\r 1/51 [..............................] - ETA: 0s - loss: 13079.0742 - mae: 51.3567",
      "\b\b\b\b\b\b\b\b\b\b\b\b\b\b\b\b\b\b\b\b\b\b\b\b\b\b\b\b\b\b\b\b\b\b\b\b\b\b\b\b\b\b\b\b\b\b\b\b\b\b\b\b\b\b\b\b\b\b\b\b\b\b\b\b\b\b\b\b\b\b\b\b\b\b\b\b\b\b\b\b\b\b\r15/51 [=======>......................] - ETA: 0s - loss: 210435.7656 - mae: 86.9847",
      "\b\b\b\b\b\b\b\b\b\b\b\b\b\b\b\b\b\b\b\b\b\b\b\b\b\b\b\b\b\b\b\b\b\b\b\b\b\b\b\b\b\b\b\b\b\b\b\b\b\b\b\b\b\b\b\b\b\b\b\b\b\b\b\b\b\b\b\b\b\b\b\b\b\b\b\b\b\b\b\b\b\b\b",
      "\r27/51 [==============>...............] - ETA: 0s - loss: 296594.7812 - mae: 104.3600",
      "\b\b\b\b\b\b\b\b\b\b\b\b\b\b\b\b\b\b\b\b\b\b\b\b\b\b\b\b\b\b\b\b\b\b\b\b\b\b\b\b\b\b\b\b\b\b\b\b\b\b\b\b\b\b\b\b\b\b\b\b\b\b\b\b\b\b\b\b\b\b\b\b\b\b\b\b\b\b\b\b\b\b\b\b\r42/51 [=======================>......] - ETA: 0s - loss: 219061.9219 - mae: 100.9511",
      "\b\b\b\b\b\b\b\b\b\b\b\b\b\b\b\b\b\b\b\b\b\b\b\b\b\b\b\b\b\b\b\b\b\b\b\b\b\b\b\b\b\b\b\b\b\b\b\b\b\b\b\b\b\b\b\b\b\b\b\b\b\b\b\b\b\b\b\b\b\b\b\b\b\b\b\b\b\b\b\b\b\b\b\b\r49/51 [===========================>..] - ETA: 0s - loss: 201688.2188 - mae: 101.9230",
      "\b\b\b\b\b\b\b\b\b\b\b\b\b\b\b\b\b\b\b\b\b\b\b\b\b\b\b\b\b\b\b\b\b\b\b\b\b\b\b\b\b\b\b\b\b\b\b\b\b\b\b\b\b\b\b\b\b\b\b\b\b\b\b\b\b\b\b\b\b\b\b\b\b\b\b\b\b\b\b\b\b\b\b\b\r51/51 [==============================] - 0s 5ms/step - loss: 208303.4062 - mae: 102.5078 - val_loss: 938267.7500 - val_mae: 167.9517\n",
      "Epoch 71/100\n\r 1/51 [..............................] - ETA: 0s - loss: 103818.8906 - mae: 104.4027",
      "\b\b\b\b\b\b\b\b\b\b\b\b\b\b\b\b\b\b\b\b\b\b\b\b\b\b\b\b\b\b\b\b\b\b\b\b\b\b\b\b\b\b\b\b\b\b\b\b\b\b\b\b\b\b\b\b\b\b\b\b\b\b\b\b\b\b\b\b\b\b\b\b\b\b\b\b\b\b\b\b\b\b\b\b\r15/51 [=======>......................] - ETA: 0s - loss: 292351.7812 - mae: 107.1744",
      "\b\b\b\b\b\b\b\b\b\b\b\b\b\b\b\b\b\b\b\b\b\b\b\b\b\b\b\b\b\b\b\b\b\b\b\b\b\b\b\b\b\b\b\b\b\b\b\b\b\b\b\b\b\b\b\b\b\b\b\b\b\b\b\b\b\b\b\b\b\b\b\b\b\b\b\b\b\b\b\b\b\b\b\b\r31/51 [=================>............] - ETA: 0s - loss: 197832.6875 - mae: 98.2514 ",
      "\b\b\b\b\b\b\b\b\b\b\b\b\b\b\b\b\b\b\b\b\b\b\b\b\b\b\b\b\b\b\b\b\b\b\b\b\b\b\b\b\b\b\b\b\b\b\b\b\b\b\b\b\b\b\b\b\b\b\b\b\b\b\b\b\b\b\b\b\b\b\b\b\b\b\b\b\b\b\b\b\b\b\b\r44/51 [========================>.....] - ETA: 0s - loss: 210627.1094 - mae: 97.9575",
      "\b\b\b\b\b\b\b\b\b\b\b\b\b\b\b\b\b\b\b\b\b\b\b\b\b\b\b\b\b\b\b\b\b\b\b\b\b\b\b\b\b\b\b\b\b\b\b\b\b\b\b\b\b\b\b\b\b\b\b\b\b\b\b\b\b\b\b\b\b\b\b\b\b\b\b\b\b\b\b\b\b\b\b",
      "\r51/51 [==============================] - 0s 5ms/step - loss: 225711.3125 - mae: 102.5164 - val_loss: 879179.8750 - val_mae: 170.2079\n",
      "Epoch 72/100\n\r 1/51 [..............................] - ETA: 0s - loss: 19267.2812 - mae: 65.7721",
      "\b\b\b\b\b\b\b\b\b\b\b\b\b\b\b\b\b\b\b\b\b\b\b\b\b\b\b\b\b\b\b\b\b\b\b\b\b\b\b\b\b\b\b\b\b\b\b\b\b\b\b\b\b\b\b\b\b\b\b\b\b\b\b\b\b\b\b\b\b\b\b\b\b\b\b\b\b\b\b\b\b\b",
      "\r12/51 [======>.......................] - ETA: 0s - loss: 452133.8750 - mae: 133.3845",
      "\b\b\b\b\b\b\b\b\b\b\b\b\b\b\b\b\b\b\b\b\b\b\b\b\b\b\b\b\b\b\b\b\b\b\b\b\b\b\b\b\b\b\b\b\b\b\b\b\b\b\b\b\b\b\b\b\b\b\b\b\b\b\b\b\b\b\b\b\b\b\b\b\b\b\b\b\b\b\b\b\b\b\b\b",
      "\r25/51 [=============>................] - ETA: 0s - loss: 236243.4531 - mae: 100.0181",
      "\b\b\b\b\b\b\b\b\b\b\b\b\b\b\b\b\b\b\b\b\b\b\b\b\b\b\b\b\b\b\b\b\b\b\b\b\b\b\b\b\b\b\b\b\b\b\b\b\b\b\b\b\b\b\b\b\b\b\b\b\b\b\b\b\b\b\b\b\b\b\b\b\b\b\b\b\b\b\b\b\b\b\b\b\r40/51 [======================>.......] - ETA: 0s - loss: 235357.5000 - mae: 104.6127",
      "\b\b\b\b\b\b\b\b\b\b\b\b\b\b\b\b\b\b\b\b\b\b\b\b\b\b\b\b\b\b\b\b\b\b\b\b\b\b\b\b\b\b\b\b\b\b\b\b\b\b\b\b\b\b\b\b\b\b\b\b\b\b\b\b\b\b\b\b\b\b\b\b\b\b\b\b\b\b\b\b\b\b\b\b\r51/51 [==============================] - 0s 5ms/step - loss: 202684.7969 - mae: 100.0906 - val_loss: 869306.2500 - val_mae: 176.0317\n",
      "Epoch 73/100\n",
      "\r 1/51 [..............................] - ETA: 0s - loss: 94693.8594 - mae: 101.5838",
      "\b\b\b\b\b\b\b\b\b\b\b\b\b\b\b\b\b\b\b\b\b\b\b\b\b\b\b\b\b\b\b\b\b\b\b\b\b\b\b\b\b\b\b\b\b\b\b\b\b\b\b\b\b\b\b\b\b\b\b\b\b\b\b\b\b\b\b\b\b\b\b\b\b\b\b\b\b\b\b\b\b\b\b",
      "\r13/51 [======>.......................] - ETA: 0s - loss: 110348.1328 - mae: 88.0189",
      "\b\b\b\b\b\b\b\b\b\b\b\b\b\b\b\b\b\b\b\b\b\b\b\b\b\b\b\b\b\b\b\b\b\b\b\b\b\b\b\b\b\b\b\b\b\b\b\b\b\b\b\b\b\b\b\b\b\b\b\b\b\b\b\b\b\b\b\b\b\b\b\b\b\b\b\b\b\b\b\b\b\b\b\r21/51 [===========>..................] - ETA: 0s - loss: 220411.4531 - mae: 98.0646",
      "\b\b\b\b\b\b\b\b\b\b\b\b\b\b\b\b\b\b\b\b\b\b\b\b\b\b\b\b\b\b\b\b\b\b\b\b\b\b\b\b\b\b\b\b\b\b\b\b\b\b\b\b\b\b\b\b\b\b\b\b\b\b\b\b\b\b\b\b\b\b\b\b\b\b\b\b\b\b\b\b\b\b\b\r33/51 [==================>...........] - ETA: 0s - loss: 266610.5000 - mae: 106.0436",
      "\b\b\b\b\b\b\b\b\b\b\b\b\b\b\b\b\b\b\b\b\b\b\b\b\b\b\b\b\b\b\b\b\b\b\b\b\b\b\b\b\b\b\b\b\b\b\b\b\b\b\b\b\b\b\b\b\b\b\b\b\b\b\b\b\b\b\b\b\b\b\b\b\b\b\b\b\b\b\b\b\b\b\b\b\r46/51 [==========================>...] - ETA: 0s - loss: 207205.7031 - mae: 99.7902 ",
      "\b\b\b\b\b\b\b\b\b\b\b\b\b\b\b\b\b\b\b\b\b\b\b\b\b\b\b\b\b\b\b\b\b\b\b\b\b\b\b\b\b\b\b\b\b\b\b\b\b\b\b\b\b\b\b\b\b\b\b\b\b\b\b\b\b\b\b\b\b\b\b\b\b\b\b\b\b\b\b\b\b\b\b\r51/51 [==============================] - 0s 5ms/step - loss: 200452.4062 - mae: 101.4264 - val_loss: 839596.8750 - val_mae: 170.5821\n",
      "Epoch 74/100\n\r 1/51 [..............................] - ETA: 0s - loss: 6554.3179 - mae: 45.2801",
      "\b\b\b\b\b\b\b\b\b\b\b\b\b\b\b\b\b\b\b\b\b\b\b\b\b\b\b\b\b\b\b\b\b\b\b\b\b\b\b\b\b\b\b\b\b\b\b\b\b\b\b\b\b\b\b\b\b\b\b\b\b\b\b\b\b\b\b\b\b\b\b\b\b\b\b\b\b\b\b\b\b\r14/51 [=======>......................] - ETA: 0s - loss: 337841.7188 - mae: 133.4575",
      "\b\b\b\b\b\b\b\b\b\b\b\b\b\b\b\b\b\b\b\b\b\b\b\b\b\b\b\b\b\b\b\b\b\b\b\b\b\b\b\b\b\b\b\b\b\b\b\b\b\b\b\b\b\b\b\b\b\b\b\b\b\b\b\b\b\b\b\b\b\b\b\b\b\b\b\b\b\b\b\b\b\b\b\b\r27/51 [==============>...............] - ETA: 0s - loss: 195230.0938 - mae: 101.6430",
      "\b\b\b\b\b\b\b\b\b\b\b\b\b\b\b\b\b\b\b\b\b\b\b\b\b\b\b\b\b\b\b\b\b\b\b\b\b\b\b\b\b\b\b\b\b\b\b\b\b\b\b\b\b\b\b\b\b\b\b\b\b\b\b\b\b\b\b\b\b\b\b\b\b\b\b\b\b\b\b\b\b\b\b\b\r36/51 [====================>.........] - ETA: 0s - loss: 174490.4375 - mae: 99.8910 ",
      "\b\b\b\b\b\b\b\b\b\b\b\b\b\b\b\b\b\b\b\b\b\b\b\b\b\b\b\b\b\b\b\b\b\b\b\b\b\b\b\b\b\b\b\b\b\b\b\b\b\b\b\b\b\b\b\b\b\b\b\b\b\b\b\b\b\b\b\b\b\b\b\b\b\b\b\b\b\b\b\b\b\b\b\r47/51 [==========================>...] - ETA: 0s - loss: 222356.3906 - mae: 103.1873",
      "\b\b\b\b\b\b\b\b\b\b\b\b\b\b\b\b\b\b\b\b\b\b\b\b\b\b\b\b\b\b\b\b\b\b\b\b\b\b\b\b\b\b\b\b\b\b\b\b\b\b\b\b\b\b\b\b\b\b\b\b\b\b\b\b\b\b\b\b\b\b\b\b\b\b\b\b\b\b\b\b\b\b\b\b\r51/51 [==============================] - 0s 5ms/step - loss: 206898.5625 - mae: 101.2541 - val_loss: 830127.7500 - val_mae: 167.1615\n",
      "Epoch 75/100\n\r 1/51 [..............................] - ETA: 0s - loss: 12419.6348 - mae: 65.5909",
      "\b\b\b\b\b\b\b\b\b\b\b\b\b\b\b\b\b\b\b\b\b\b\b\b\b\b\b\b\b\b\b\b\b\b\b\b\b\b\b\b\b\b\b\b\b\b\b\b\b\b\b\b\b\b\b\b\b\b\b\b\b\b\b\b\b\b\b\b\b\b\b\b\b\b\b\b\b\b\b\b\b\b\r15/51 [=======>......................] - ETA: 0s - loss: 197403.9531 - mae: 91.0080",
      "\b\b\b\b\b\b\b\b\b\b\b\b\b\b\b\b\b\b\b\b\b\b\b\b\b\b\b\b\b\b\b\b\b\b\b\b\b\b\b\b\b\b\b\b\b\b\b\b\b\b\b\b\b\b\b\b\b\b\b\b\b\b\b\b\b\b\b\b\b\b\b\b\b\b\b\b\b\b\b\b\b\b\b\r29/51 [================>.............] - ETA: 0s - loss: 252994.9844 - mae: 103.9557",
      "\b\b\b\b\b\b\b\b\b\b\b\b\b\b\b\b\b\b\b\b\b\b\b\b\b\b\b\b\b\b\b\b\b\b\b\b\b\b\b\b\b\b\b\b\b\b\b\b\b\b\b\b\b\b\b\b\b\b\b\b\b\b\b\b\b\b\b\b\b\b\b\b\b\b\b\b\b\b\b\b\b\b\b\b\r44/51 [========================>.....] - ETA: 0s - loss: 209488.1094 - mae: 100.5910",
      "\b\b\b\b\b\b\b\b\b\b\b\b\b\b\b\b\b\b\b\b\b\b\b\b\b\b\b\b\b\b\b\b\b\b\b\b\b\b\b\b\b\b\b\b\b\b\b\b\b\b\b\b\b\b\b\b\b\b\b\b\b\b\b\b\b\b\b\b\b\b\b\b\b\b\b\b\b\b\b\b\b\b\b\b\r51/51 [==============================] - 0s 5ms/step - loss: 188463.9062 - mae: 98.2847 - val_loss: 824213.3750 - val_mae: 168.1578\n",
      "Epoch 76/100\n\r 1/51 [..............................] - ETA: 0s - loss: 11985.5186 - mae: 40.7691",
      "\b\b\b\b\b\b\b\b\b\b\b\b\b\b\b\b\b\b\b\b\b\b\b\b\b\b\b\b\b\b\b\b\b\b\b\b\b\b\b\b\b\b\b\b\b\b\b\b\b\b\b\b\b\b\b\b\b\b\b\b\b\b\b\b\b\b\b\b\b\b\b\b\b\b\b\b\b\b\b\b\b\b\r14/51 [=======>......................] - ETA: 0s - loss: 57097.9453 - mae: 74.6093",
      "\b\b\b\b\b\b\b\b\b\b\b\b\b\b\b\b\b\b\b\b\b\b\b\b\b\b\b\b\b\b\b\b\b\b\b\b\b\b\b\b\b\b\b\b\b\b\b\b\b\b\b\b\b\b\b\b\b\b\b\b\b\b\b\b\b\b\b\b\b\b\b\b\b\b\b\b\b\b\b\b\b\b\r26/51 [==============>...............] - ETA: 0s - loss: 150495.4219 - mae: 92.6390",
      "\b\b\b\b\b\b\b\b\b\b\b\b\b\b\b\b\b\b\b\b\b\b\b\b\b\b\b\b\b\b\b\b\b\b\b\b\b\b\b\b\b\b\b\b\b\b\b\b\b\b\b\b\b\b\b\b\b\b\b\b\b\b\b\b\b\b\b\b\b\b\b\b\b\b\b\b\b\b\b\b\b\b\b\r38/51 [=====================>........] - ETA: 0s - loss: 122996.2656 - mae: 87.5086",
      "\b\b\b\b\b\b\b\b\b\b\b\b\b\b\b\b\b\b\b\b\b\b\b\b\b\b\b\b\b\b\b\b\b\b\b\b\b\b\b\b\b\b\b\b\b\b\b\b\b\b\b\b\b\b\b\b\b\b\b\b\b\b\b\b\b\b\b\b\b\b\b\b\b\b\b\b\b\b\b\b\b\b\b",
      "\r51/51 [==============================] - 0s 5ms/step - loss: 175486.6719 - mae: 95.3071 - val_loss: 761497.8750 - val_mae: 159.6575\n",
      "Epoch 77/100\n\r 1/51 [..............................] - ETA: 0s - loss: 52814.2734 - mae: 89.8959",
      "\b\b\b\b\b\b\b\b\b\b\b\b\b\b\b\b\b\b\b\b\b\b\b\b\b\b\b\b\b\b\b\b\b\b\b\b\b\b\b\b\b\b\b\b\b\b\b\b\b\b\b\b\b\b\b\b\b\b\b\b\b\b\b\b\b\b\b\b\b\b\b\b\b\b\b\b\b\b\b\b\b\b\r11/51 [=====>........................] - ETA: 0s - loss: 313523.3125 - mae: 113.4489",
      "\b\b\b\b\b\b\b\b\b\b\b\b\b\b\b\b\b\b\b\b\b\b\b\b\b\b\b\b\b\b\b\b\b\b\b\b\b\b\b\b\b\b\b\b\b\b\b\b\b\b\b\b\b\b\b\b\b\b\b\b\b\b\b\b\b\b\b\b\b\b\b\b\b\b\b\b\b\b\b\b\b\b\b\b\r22/51 [===========>..................] - ETA: 0s - loss: 265393.0625 - mae: 109.0428",
      "\b\b\b\b\b\b\b\b\b\b\b\b\b\b\b\b\b\b\b\b\b\b\b\b\b\b\b\b\b\b\b\b\b\b\b\b\b\b\b\b\b\b\b\b\b\b\b\b\b\b\b\b\b\b\b\b\b\b\b\b\b\b\b\b\b\b\b\b\b\b\b\b\b\b\b\b\b\b\b\b\b\b\b\b\r36/51 [====================>.........] - ETA: 0s - loss: 177182.5781 - mae: 95.7599 ",
      "\b\b\b\b\b\b\b\b\b\b\b\b\b\b\b\b\b\b\b\b\b\b\b\b\b\b\b\b\b\b\b\b\b\b\b\b\b\b\b\b\b\b\b\b\b\b\b\b\b\b\b\b\b\b\b\b\b\b\b\b\b\b\b\b\b\b\b\b\b\b\b\b\b\b\b\b\b\b\b\b\b\b\b\r50/51 [============================>.] - ETA: 0s - loss: 161279.0625 - mae: 94.7165",
      "\b\b\b\b\b\b\b\b\b\b\b\b\b\b\b\b\b\b\b\b\b\b\b\b\b\b\b\b\b\b\b\b\b\b\b\b\b\b\b\b\b\b\b\b\b\b\b\b\b\b\b\b\b\b\b\b\b\b\b\b\b\b\b\b\b\b\b\b\b\b\b\b\b\b\b\b\b\b\b\b\b\b\b\r51/51 [==============================] - 0s 5ms/step - loss: 158722.4688 - mae: 94.4248 - val_loss: 952978.0000 - val_mae: 171.2143\n",
      "Epoch 78/100\n\r 1/51 [..............................] - ETA: 0s - loss: 3599604.7500 - mae: 433.6926",
      "\b\b\b\b\b\b\b\b\b\b\b\b\b\b\b\b\b\b\b\b\b\b\b\b\b\b\b\b\b\b\b\b\b\b\b\b\b\b\b\b\b\b\b\b\b\b\b\b\b\b\b\b\b\b\b\b\b\b\b\b\b\b\b\b\b\b\b\b\b\b\b\b\b\b\b\b\b\b\b\b\b\b\b\b\b\r15/51 [=======>......................] - ETA: 0s - loss: 406592.7188 - mae: 133.4058 ",
      "\b\b\b\b\b\b\b\b\b\b\b\b\b\b\b\b\b\b\b\b\b\b\b\b\b\b\b\b\b\b\b\b\b\b\b\b\b\b\b\b\b\b\b\b\b\b\b\b\b\b\b\b\b\b\b\b\b\b\b\b\b\b\b\b\b\b\b\b\b\b\b\b\b\b\b\b\b\b\b\b\b\b\b\b\r28/51 [===============>..............] - ETA: 0s - loss: 233646.9844 - mae: 101.5741",
      "\b\b\b\b\b\b\b\b\b\b\b\b\b\b\b\b\b\b\b\b\b\b\b\b\b\b\b\b\b\b\b\b\b\b\b\b\b\b\b\b\b\b\b\b\b\b\b\b\b\b\b\b\b\b\b\b\b\b\b\b\b\b\b\b\b\b\b\b\b\b\b\b\b\b\b\b\b\b\b\b\b\b\b\b\r41/51 [=======================>......] - ETA: 0s - loss: 227637.0000 - mae: 96.4055 ",
      "\b\b\b\b\b\b\b\b\b\b\b\b\b\b\b\b\b\b\b\b\b\b\b\b\b\b\b\b\b\b\b\b\b\b\b\b\b\b\b\b\b\b\b\b\b\b\b\b\b\b\b\b\b\b\b\b\b\b\b\b\b\b\b\b\b\b\b\b\b\b\b\b\b\b\b\b\b\b\b\b\b\b\b",
      "\r51/51 [==============================] - 0s 5ms/step - loss: 201116.1562 - mae: 97.9417 - val_loss: 803705.4375 - val_mae: 173.0531\n",
      "Epoch 79/100\n\r 1/51 [..............................] - ETA: 0s - loss: 29188.3086 - mae: 70.5061",
      "\b\b\b\b\b\b\b\b\b\b\b\b\b\b\b\b\b\b\b\b\b\b\b\b\b\b\b\b\b\b\b\b\b\b\b\b\b\b\b\b\b\b\b\b\b\b\b\b\b\b\b\b\b\b\b\b\b\b\b\b\b\b\b\b\b\b\b\b\b\b\b\b\b\b\b\b\b\b\b\b\b\b\r13/51 [======>.......................] - ETA: 0s - loss: 106886.3359 - mae: 96.8912",
      "\b\b\b\b\b\b\b\b\b\b\b\b\b\b\b\b\b\b\b\b\b\b\b\b\b\b\b\b\b\b\b\b\b\b\b\b\b\b\b\b\b\b\b\b\b\b\b\b\b\b\b\b\b\b\b\b\b\b\b\b\b\b\b\b\b\b\b\b\b\b\b\b\b\b\b\b\b\b\b\b\b\b\b",
      "\r28/51 [===============>..............] - ETA: 0s - loss: 99756.9766 - mae: 88.0756 ",
      "\b\b\b\b\b\b\b\b\b\b\b\b\b\b\b\b\b\b\b\b\b\b\b\b\b\b\b\b\b\b\b\b\b\b\b\b\b\b\b\b\b\b\b\b\b\b\b\b\b\b\b\b\b\b\b\b\b\b\b\b\b\b\b\b\b\b\b\b\b\b\b\b\b\b\b\b\b\b\b\b\b\b\r42/51 [=======================>......] - ETA: 0s - loss: 88884.8359 - mae: 85.0779",
      "\b\b\b\b\b\b\b\b\b\b\b\b\b\b\b\b\b\b\b\b\b\b\b\b\b\b\b\b\b\b\b\b\b\b\b\b\b\b\b\b\b\b\b\b\b\b\b\b\b\b\b\b\b\b\b\b\b\b\b\b\b\b\b\b\b\b\b\b\b\b\b\b\b\b\b\b\b\b\b\b\b\b\r51/51 [==============================] - 0s 5ms/step - loss: 169160.0000 - mae: 96.3779 - val_loss: 752314.0000 - val_mae: 172.3787\n",
      "Epoch 80/100\n\r 1/51 [..............................] - ETA: 0s - loss: 3713.4761 - mae: 36.9892",
      "\b\b\b\b\b\b\b\b\b\b\b\b\b\b\b\b\b\b\b\b\b\b\b\b\b\b\b\b\b\b\b\b\b\b\b\b\b\b\b\b\b\b\b\b\b\b\b\b\b\b\b\b\b\b\b\b\b\b\b\b\b\b\b\b\b\b\b\b\b\b\b\b\b\b\b\b\b\b\b\b\b\r12/51 [======>.......................] - ETA: 0s - loss: 206309.5469 - mae: 90.4085",
      "\b\b\b\b\b\b\b\b\b\b\b\b\b\b\b\b\b\b\b\b\b\b\b\b\b\b\b\b\b\b\b\b\b\b\b\b\b\b\b\b\b\b\b\b\b\b\b\b\b\b\b\b\b\b\b\b\b\b\b\b\b\b\b\b\b\b\b\b\b\b\b\b\b\b\b\b\b\b\b\b\b\b\b",
      "\r27/51 [==============>...............] - ETA: 0s - loss: 155594.1094 - mae: 92.6437",
      "\b\b\b\b\b\b\b\b\b\b\b\b\b\b\b\b\b\b\b\b\b\b\b\b\b\b\b\b\b\b\b\b\b\b\b\b\b\b\b\b\b\b\b\b\b\b\b\b\b\b\b\b\b\b\b\b\b\b\b\b\b\b\b\b\b\b\b\b\b\b\b\b\b\b\b\b\b\b\b\b\b\b\b\r41/51 [=======================>......] - ETA: 0s - loss: 196819.0781 - mae: 95.1887",
      "\b\b\b\b\b\b\b\b\b\b\b\b\b\b\b\b\b\b\b\b\b\b\b\b\b\b\b\b\b\b\b\b\b\b\b\b\b\b\b\b\b\b\b\b\b\b\b\b\b\b\b\b\b\b\b\b\b\b\b\b\b\b\b\b\b\b\b\b\b\b\b\b\b\b\b\b\b\b\b\b\b\b\b\r51/51 [==============================] - 0s 6ms/step - loss: 179560.2812 - mae: 95.3363 - val_loss: 766518.8750 - val_mae: 162.9744\n",
      "Epoch 81/100\n\r 1/51 [..............................] - ETA: 0s - loss: 14060.5762 - mae: 60.7264",
      "\b\b\b\b\b\b\b\b\b\b\b\b\b\b\b\b\b\b\b\b\b\b\b\b\b\b\b\b\b\b\b\b\b\b\b\b\b\b\b\b\b\b\b\b\b\b\b\b\b\b\b\b\b\b\b\b\b\b\b\b\b\b\b\b\b\b\b\b\b\b\b\b\b\b\b\b\b\b\b\b\b\b",
      "\r12/51 [======>.......................] - ETA: 0s - loss: 27594.1094 - mae: 63.4105",
      "\b\b\b\b\b\b\b\b\b\b\b\b\b\b\b\b\b\b\b\b\b\b\b\b\b\b\b\b\b\b\b\b\b\b\b\b\b\b\b\b\b\b\b\b\b\b\b\b\b\b\b\b\b\b\b\b\b\b\b\b\b\b\b\b\b\b\b\b\b\b\b\b\b\b\b\b\b\b\b\b\b\b\r26/51 [==============>...............] - ETA: 0s - loss: 142584.8438 - mae: 79.6988",
      "\b\b\b\b\b\b\b\b\b\b\b\b\b\b\b\b\b\b\b\b\b\b\b\b\b\b\b\b\b\b\b\b\b\b\b\b\b\b\b\b\b\b\b\b\b\b\b\b\b\b\b\b\b\b\b\b\b\b\b\b\b\b\b\b\b\b\b\b\b\b\b\b\b\b\b\b\b\b\b\b\b\b\b\r40/51 [======================>.......] - ETA: 0s - loss: 131147.1875 - mae: 84.8480",
      "\b\b\b\b\b\b\b\b\b\b\b\b\b\b\b\b\b\b\b\b\b\b\b\b\b\b\b\b\b\b\b\b\b\b\b\b\b\b\b\b\b\b\b\b\b\b\b\b\b\b\b\b\b\b\b\b\b\b\b\b\b\b\b\b\b\b\b\b\b\b\b\b\b\b\b\b\b\b\b\b\b\b\b\r51/51 [==============================] - 0s 5ms/step - loss: 164682.7656 - mae: 91.2370 - val_loss: 748134.0000 - val_mae: 171.2657\n",
      "Epoch 82/100\n\r 1/51 [..............................] - ETA: 0s - loss: 348485.0938 - mae: 171.3880",
      "\b\b\b\b\b\b\b\b\b\b\b\b\b\b\b\b\b\b\b\b\b\b\b\b\b\b\b\b\b\b\b\b\b\b\b\b\b\b\b\b\b\b\b\b\b\b\b\b\b\b\b\b\b\b\b\b\b\b\b\b\b\b\b\b\b\b\b\b\b\b\b\b\b\b\b\b\b\b\b\b\b\b\b\b\r13/51 [======>.......................] - ETA: 0s - loss: 64392.4336 - mae: 75.0618  ",
      "\b\b\b\b\b\b\b\b\b\b\b\b\b\b\b\b\b\b\b\b\b\b\b\b\b\b\b\b\b\b\b\b\b\b\b\b\b\b\b\b\b\b\b\b\b\b\b\b\b\b\b\b\b\b\b\b\b\b\b\b\b\b\b\b\b\b\b\b\b\b\b\b\b\b\b\b\b\b\b\b\b\b\r24/51 [=============>................] - ETA: 0s - loss: 187994.7969 - mae: 94.8370",
      "\b\b\b\b\b\b\b\b\b\b\b\b\b\b\b\b\b\b\b\b\b\b\b\b\b\b\b\b\b\b\b\b\b\b\b\b\b\b\b\b\b\b\b\b\b\b\b\b\b\b\b\b\b\b\b\b\b\b\b\b\b\b\b\b\b\b\b\b\b\b\b\b\b\b\b\b\b\b\b\b\b\b\b\r38/51 [=====================>........] - ETA: 0s - loss: 194867.2500 - mae: 98.1207",
      "\b\b\b\b\b\b\b\b\b\b\b\b\b\b\b\b\b\b\b\b\b\b\b\b\b\b\b\b\b\b\b\b\b\b\b\b\b\b\b\b\b\b\b\b\b\b\b\b\b\b\b\b\b\b\b\b\b\b\b\b\b\b\b\b\b\b\b\b\b\b\b\b\b\b\b\b\b\b\b\b\b\b\b\r51/51 [==============================] - 0s 5ms/step - loss: 161431.6406 - mae: 93.1867 - val_loss: 756575.5625 - val_mae: 160.7350\n",
      "Epoch 83/100\n\r 1/51 [..............................] - ETA: 0s - loss: 8810.1182 - mae: 48.6468",
      "\b\b\b\b\b\b\b\b\b\b\b\b\b\b\b\b\b\b\b\b\b\b\b\b\b\b\b\b\b\b\b\b\b\b\b\b\b\b\b\b\b\b\b\b\b\b\b\b\b\b\b\b\b\b\b\b\b\b\b\b\b\b\b\b\b\b\b\b\b\b\b\b\b\b\b\b\b\b\b\b\b\r15/51 [=======>......................] - ETA: 0s - loss: 281098.2812 - mae: 106.6177",
      "\b\b\b\b\b\b\b\b\b\b\b\b\b\b\b\b\b\b\b\b\b\b\b\b\b\b\b\b\b\b\b\b\b\b\b\b\b\b\b\b\b\b\b\b\b\b\b\b\b\b\b\b\b\b\b\b\b\b\b\b\b\b\b\b\b\b\b\b\b\b\b\b\b\b\b\b\b\b\b\b\b\b\b\b",
      "\r32/51 [=================>............] - ETA: 0s - loss: 248170.4062 - mae: 106.3709",
      "\b\b\b\b\b\b\b\b\b\b\b\b\b\b\b\b\b\b\b\b\b\b\b\b\b\b\b\b\b\b\b\b\b\b\b\b\b\b\b\b\b\b\b\b\b\b\b\b\b\b\b\b\b\b\b\b\b\b\b\b\b\b\b\b\b\b\b\b\b\b\b\b\b\b\b\b\b\b\b\b\b\b\b\b\r44/51 [========================>.....] - ETA: 0s - loss: 201115.2031 - mae: 99.8815 ",
      "\b\b\b\b\b\b\b\b\b\b\b\b\b\b\b\b\b\b\b\b\b\b\b\b\b\b\b\b\b\b\b\b\b\b\b\b\b\b\b\b\b\b\b\b\b\b\b\b\b\b\b\b\b\b\b\b\b\b\b\b\b\b\b\b\b\b\b\b\b\b\b\b\b\b\b\b\b\b\b\b\b\b\b",
      "\r51/51 [==============================] - 0s 5ms/step - loss: 176350.2031 - mae: 94.4578 - val_loss: 736164.6875 - val_mae: 149.8332\n",
      "Epoch 84/100\n\r 1/51 [..............................] - ETA: 0s - loss: 1964352.8750 - mae: 312.3932",
      "\b\b\b\b\b\b\b\b\b\b\b\b\b\b\b\b\b\b\b\b\b\b\b\b\b\b\b\b\b\b\b\b\b\b\b\b\b\b\b\b\b\b\b\b\b\b\b\b\b\b\b\b\b\b\b\b\b\b\b\b\b\b\b\b\b\b\b\b\b\b\b\b\b\b\b\b\b\b\b\b\b\b\b\b\b",
      "\r14/51 [=======>......................] - ETA: 0s - loss: 182987.3750 - mae: 75.6929  ",
      "\b\b\b\b\b\b\b\b\b\b\b\b\b\b\b\b\b\b\b\b\b\b\b\b\b\b\b\b\b\b\b\b\b\b\b\b\b\b\b\b\b\b\b\b\b\b\b\b\b\b\b\b\b\b\b\b\b\b\b\b\b\b\b\b\b\b\b\b\b\b\b\b\b\b\b\b\b\b\b\b\b\b\b",
      "\r28/51 [===============>..............] - ETA: 0s - loss: 213314.9531 - mae: 93.2751",
      "\b\b\b\b\b\b\b\b\b\b\b\b\b\b\b\b\b\b\b\b\b\b\b\b\b\b\b\b\b\b\b\b\b\b\b\b\b\b\b\b\b\b\b\b\b\b\b\b\b\b\b\b\b\b\b\b\b\b\b\b\b\b\b\b\b\b\b\b\b\b\b\b\b\b\b\b\b\b\b\b\b\b\b\r43/51 [========================>.....] - ETA: 0s - loss: 173223.2031 - mae: 92.7223",
      "\b\b\b\b\b\b\b\b\b\b\b\b\b\b\b\b\b\b\b\b\b\b\b\b\b\b\b\b\b\b\b\b\b\b\b\b\b\b\b\b\b\b\b\b\b\b\b\b\b\b\b\b\b\b\b\b\b\b\b\b\b\b\b\b\b\b\b\b\b\b\b\b\b\b\b\b\b\b\b\b\b\b\b\r49/51 [===========================>..] - ETA: 0s - loss: 158323.2656 - mae: 91.5159",
      "\b\b\b\b\b\b\b\b\b\b\b\b\b\b\b\b\b\b\b\b\b\b\b\b\b\b\b\b\b\b\b\b\b\b\b\b\b\b\b\b\b\b\b\b\b\b\b\b\b\b\b\b\b\b\b\b\b\b\b\b\b\b\b\b\b\b\b\b\b\b\b\b\b\b\b\b\b\b\b\b\b\b\b",
      "\r51/51 [==============================] - 0s 6ms/step - loss: 154460.0469 - mae: 91.4367 - val_loss: 779692.3125 - val_mae: 160.7103\n",
      "Epoch 85/100\n\r 1/51 [..............................] - ETA: 0s - loss: 7242.5547 - mae: 48.0547",
      "\b\b\b\b\b\b\b\b\b\b\b\b\b\b\b\b\b\b\b\b\b\b\b\b\b\b\b\b\b\b\b\b\b\b\b\b\b\b\b\b\b\b\b\b\b\b\b\b\b\b\b\b\b\b\b\b\b\b\b\b\b\b\b\b\b\b\b\b\b\b\b\b\b\b\b\b\b\b\b\b\b",
      "\r12/51 [======>.......................] - ETA: 0s - loss: 55586.9062 - mae: 67.0394",
      "\b\b\b\b\b\b\b\b\b\b\b\b\b\b\b\b\b\b\b\b\b\b\b\b\b\b\b\b\b\b\b\b\b\b\b\b\b\b\b\b\b\b\b\b\b\b\b\b\b\b\b\b\b\b\b\b\b\b\b\b\b\b\b\b\b\b\b\b\b\b\b\b\b\b\b\b\b\b\b\b\b\b",
      "\r24/51 [=============>................] - ETA: 0s - loss: 242498.1250 - mae: 97.9128",
      "\b\b\b\b\b\b\b\b\b\b\b\b\b\b\b\b\b\b\b\b\b\b\b\b\b\b\b\b\b\b\b\b\b\b\b\b\b\b\b\b\b\b\b\b\b\b\b\b\b\b\b\b\b\b\b\b\b\b\b\b\b\b\b\b\b\b\b\b\b\b\b\b\b\b\b\b\b\b\b\b\b\b\b\r36/51 [====================>.........] - ETA: 0s - loss: 179968.3125 - mae: 89.7142",
      "\b\b\b\b\b\b\b\b\b\b\b\b\b\b\b\b\b\b\b\b\b\b\b\b\b\b\b\b\b\b\b\b\b\b\b\b\b\b\b\b\b\b\b\b\b\b\b\b\b\b\b\b\b\b\b\b\b\b\b\b\b\b\b\b\b\b\b\b\b\b\b\b\b\b\b\b\b\b\b\b\b\b\b\r50/51 [============================>.] - ETA: 0s - loss: 170514.7188 - mae: 92.1183",
      "\b\b\b\b\b\b\b\b\b\b\b\b\b\b\b\b\b\b\b\b\b\b\b\b\b\b\b\b\b\b\b\b\b\b\b\b\b\b\b\b\b\b\b\b\b\b\b\b\b\b\b\b\b\b\b\b\b\b\b\b\b\b\b\b\b\b\b\b\b\b\b\b\b\b\b\b\b\b\b\b\b\b\b\r51/51 [==============================] - 0s 6ms/step - loss: 176115.9531 - mae: 93.5080 - val_loss: 721263.8750 - val_mae: 149.8743\n",
      "Epoch 86/100\n\r 1/51 [..............................] - ETA: 0s - loss: 15951.7803 - mae: 56.3922",
      "\b\b\b\b\b\b\b\b\b\b\b\b\b\b\b\b\b\b\b\b\b\b\b\b\b\b\b\b\b\b\b\b\b\b\b\b\b\b\b\b\b\b\b\b\b\b\b\b\b\b\b\b\b\b\b\b\b\b\b\b\b\b\b\b\b\b\b\b\b\b\b\b\b\b\b\b\b\b\b\b\b\b\r14/51 [=======>......................] - ETA: 0s - loss: 80482.9453 - mae: 78.9053",
      "\b\b\b\b\b\b\b\b\b\b\b\b\b\b\b\b\b\b\b\b\b\b\b\b\b\b\b\b\b\b\b\b\b\b\b\b\b\b\b\b\b\b\b\b\b\b\b\b\b\b\b\b\b\b\b\b\b\b\b\b\b\b\b\b\b\b\b\b\b\b\b\b\b\b\b\b\b\b\b\b\b\b\r28/51 [===============>..............] - ETA: 0s - loss: 73654.2969 - mae: 78.9959",
      "\b\b\b\b\b\b\b\b\b\b\b\b\b\b\b\b\b\b\b\b\b\b\b\b\b\b\b\b\b\b\b\b\b\b\b\b\b\b\b\b\b\b\b\b\b\b\b\b\b\b\b\b\b\b\b\b\b\b\b\b\b\b\b\b\b\b\b\b\b\b\b\b\b\b\b\b\b\b\b\b\b\b\r44/51 [========================>.....] - ETA: 0s - loss: 172278.2656 - mae: 90.1988",
      "\b\b\b\b\b\b\b\b\b\b\b\b\b\b\b\b\b\b\b\b\b\b\b\b\b\b\b\b\b\b\b\b\b\b\b\b\b\b\b\b\b\b\b\b\b\b\b\b\b\b\b\b\b\b\b\b\b\b\b\b\b\b\b\b\b\b\b\b\b\b\b\b\b\b\b\b\b\b\b\b\b\b\b",
      "\r51/51 [==============================] - 0s 4ms/step - loss: 150460.5156 - mae: 84.9781 - val_loss: 695881.7500 - val_mae: 162.3935\n",
      "Epoch 87/100\n\r 1/51 [..............................] - ETA: 0s - loss: 1491581.8750 - mae: 263.8676",
      "\b\b\b\b\b\b\b\b\b\b\b\b\b\b\b\b\b\b\b\b\b\b\b\b\b\b\b\b\b\b\b\b\b\b\b\b\b\b\b\b\b\b\b\b\b\b\b\b\b\b\b\b\b\b\b\b\b\b\b\b\b\b\b\b\b\b\b\b\b\b\b\b\b\b\b\b\b\b\b\b\b\b\b\b\b\r14/51 [=======>......................] - ETA: 0s - loss: 229421.0000 - mae: 94.9823  ",
      "\b\b\b\b\b\b\b\b\b\b\b\b\b\b\b\b\b\b\b\b\b\b\b\b\b\b\b\b\b\b\b\b\b\b\b\b\b\b\b\b\b\b\b\b\b\b\b\b\b\b\b\b\b\b\b\b\b\b\b\b\b\b\b\b\b\b\b\b\b\b\b\b\b\b\b\b\b\b\b\b\b\b\b",
      "\r21/51 [===========>..................] - ETA: 0s - loss: 204436.2812 - mae: 93.1626",
      "\b\b\b\b\b\b\b\b\b\b\b\b\b\b\b\b\b\b\b\b\b\b\b\b\b\b\b\b\b\b\b\b\b\b\b\b\b\b\b\b\b\b\b\b\b\b\b\b\b\b\b\b\b\b\b\b\b\b\b\b\b\b\b\b\b\b\b\b\b\b\b\b\b\b\b\b\b\b\b\b\b\b\b\r33/51 [==================>...........] - ETA: 0s - loss: 182519.4844 - mae: 98.4156",
      "\b\b\b\b\b\b\b\b\b\b\b\b\b\b\b\b\b\b\b\b\b\b\b\b\b\b\b\b\b\b\b\b\b\b\b\b\b\b\b\b\b\b\b\b\b\b\b\b\b\b\b\b\b\b\b\b\b\b\b\b\b\b\b\b\b\b\b\b\b\b\b\b\b\b\b\b\b\b\b\b\b\b\b\r47/51 [==========================>...] - ETA: 0s - loss: 144896.1562 - mae: 89.9671",
      "\b\b\b\b\b\b\b\b\b\b\b\b\b\b\b\b\b\b\b\b\b\b\b\b\b\b\b\b\b\b\b\b\b\b\b\b\b\b\b\b\b\b\b\b\b\b\b\b\b\b\b\b\b\b\b\b\b\b\b\b\b\b\b\b\b\b\b\b\b\b\b\b\b\b\b\b\b\b\b\b\b\b\b\r51/51 [==============================] - 0s 5ms/step - loss: 136054.2031 - mae: 88.5720 - val_loss: 659161.8750 - val_mae: 152.9230\n",
      "Epoch 88/100\n\r 1/51 [..............................] - ETA: 0s - loss: 9143.4414 - mae: 48.2539",
      "\b\b\b\b\b\b\b\b\b\b\b\b\b\b\b\b\b\b\b\b\b\b\b\b\b\b\b\b\b\b\b\b\b\b\b\b\b\b\b\b\b\b\b\b\b\b\b\b\b\b\b\b\b\b\b\b\b\b\b\b\b\b\b\b\b\b\b\b\b\b\b\b\b\b\b\b\b\b\b\b\b\r13/51 [======>.......................] - ETA: 0s - loss: 80702.5859 - mae: 87.0187",
      "\b\b\b\b\b\b\b\b\b\b\b\b\b\b\b\b\b\b\b\b\b\b\b\b\b\b\b\b\b\b\b\b\b\b\b\b\b\b\b\b\b\b\b\b\b\b\b\b\b\b\b\b\b\b\b\b\b\b\b\b\b\b\b\b\b\b\b\b\b\b\b\b\b\b\b\b\b\b\b\b\b\b\r27/51 [==============>...............] - ETA: 0s - loss: 64281.5820 - mae: 74.8453",
      "\b\b\b\b\b\b\b\b\b\b\b\b\b\b\b\b\b\b\b\b\b\b\b\b\b\b\b\b\b\b\b\b\b\b\b\b\b\b\b\b\b\b\b\b\b\b\b\b\b\b\b\b\b\b\b\b\b\b\b\b\b\b\b\b\b\b\b\b\b\b\b\b\b\b\b\b\b\b\b\b\b\b\r37/51 [====================>.........] - ETA: 0s - loss: 132113.1719 - mae: 84.7751",
      "\b\b\b\b\b\b\b\b\b\b\b\b\b\b\b\b\b\b\b\b\b\b\b\b\b\b\b\b\b\b\b\b\b\b\b\b\b\b\b\b\b\b\b\b\b\b\b\b\b\b\b\b\b\b\b\b\b\b\b\b\b\b\b\b\b\b\b\b\b\b\b\b\b\b\b\b\b\b\b\b\b\b\b\r50/51 [============================>.] - ETA: 0s - loss: 163777.4219 - mae: 89.2474",
      "\b\b\b\b\b\b\b\b\b\b\b\b\b\b\b\b\b\b\b\b\b\b\b\b\b\b\b\b\b\b\b\b\b\b\b\b\b\b\b\b\b\b\b\b\b\b\b\b\b\b\b\b\b\b\b\b\b\b\b\b\b\b\b\b\b\b\b\b\b\b\b\b\b\b\b\b\b\b\b\b\b\b\b\r51/51 [==============================] - 0s 5ms/step - loss: 160738.9062 - mae: 88.7057 - val_loss: 664126.3125 - val_mae: 146.2829\n",
      "Epoch 89/100\n\r 1/51 [..............................] - ETA: 0s - loss: 17238.7852 - mae: 59.6867",
      "\b\b\b\b\b\b\b\b\b\b\b\b\b\b\b\b\b\b\b\b\b\b\b\b\b\b\b\b\b\b\b\b\b\b\b\b\b\b\b\b\b\b\b\b\b\b\b\b\b\b\b\b\b\b\b\b\b\b\b\b\b\b\b\b\b\b\b\b\b\b\b\b\b\b\b\b\b\b\b\b\b\b\r14/51 [=======>......................] - ETA: 0s - loss: 55600.3633 - mae: 64.9107",
      "\b\b\b\b\b\b\b\b\b\b\b\b\b\b\b\b\b\b\b\b\b\b\b\b\b\b\b\b\b\b\b\b\b\b\b\b\b\b\b\b\b\b\b\b\b\b\b\b\b\b\b\b\b\b\b\b\b\b\b\b\b\b\b\b\b\b\b\b\b\b\b\b\b\b\b\b\b\b\b\b\b\b\r26/51 [==============>...............] - ETA: 0s - loss: 177733.5156 - mae: 83.3283",
      "\b\b\b\b\b\b\b\b\b\b\b\b\b\b\b\b\b\b\b\b\b\b\b\b\b\b\b\b\b\b\b\b\b\b\b\b\b\b\b\b\b\b\b\b\b\b\b\b\b\b\b\b\b\b\b\b\b\b\b\b\b\b\b\b\b\b\b\b\b\b\b\b\b\b\b\b\b\b\b\b\b\b\b\r39/51 [=====================>........] - ETA: 0s - loss: 169193.2031 - mae: 84.8055",
      "\b\b\b\b\b\b\b\b\b\b\b\b\b\b\b\b\b\b\b\b\b\b\b\b\b\b\b\b\b\b\b\b\b\b\b\b\b\b\b\b\b\b\b\b\b\b\b\b\b\b\b\b\b\b\b\b\b\b\b\b\b\b\b\b\b\b\b\b\b\b\b\b\b\b\b\b\b\b\b\b\b\b\b",
      "\r51/51 [==============================] - 0s 6ms/step - loss: 151299.7344 - mae: 85.1706 - val_loss: 649396.0625 - val_mae: 153.1542\n",
      "Epoch 90/100\n\r 1/51 [..............................] - ETA: 0s - loss: 2007.7120 - mae: 23.6144",
      "\b\b\b\b\b\b\b\b\b\b\b\b\b\b\b\b\b\b\b\b\b\b\b\b\b\b\b\b\b\b\b\b\b\b\b\b\b\b\b\b\b\b\b\b\b\b\b\b\b\b\b\b\b\b\b\b\b\b\b\b\b\b\b\b\b\b\b\b\b\b\b\b\b\b\b\b\b\b\b\b\b",
      "\r15/51 [=======>......................] - ETA: 0s - loss: 196651.5469 - mae: 99.7594",
      "\b\b\b\b\b\b\b\b\b\b\b\b\b\b\b\b\b\b\b\b\b\b\b\b\b\b\b\b\b\b\b\b\b\b\b\b\b\b\b\b\b\b\b\b\b\b\b\b\b\b\b\b\b\b\b\b\b\b\b\b\b\b\b\b\b\b\b\b\b\b\b\b\b\b\b\b\b\b\b\b\b\b\b\r29/51 [================>.............] - ETA: 0s - loss: 131915.5312 - mae: 92.6933",
      "\b\b\b\b\b\b\b\b\b\b\b\b\b\b\b\b\b\b\b\b\b\b\b\b\b\b\b\b\b\b\b\b\b\b\b\b\b\b\b\b\b\b\b\b\b\b\b\b\b\b\b\b\b\b\b\b\b\b\b\b\b\b\b\b\b\b\b\b\b\b\b\b\b\b\b\b\b\b\b\b\b\b\b\r43/51 [========================>.....] - ETA: 0s - loss: 167465.3906 - mae: 92.0824",
      "\b\b\b\b\b\b\b\b\b\b\b\b\b\b\b\b\b\b\b\b\b\b\b\b\b\b\b\b\b\b\b\b\b\b\b\b\b\b\b\b\b\b\b\b\b\b\b\b\b\b\b\b\b\b\b\b\b\b\b\b\b\b\b\b\b\b\b\b\b\b\b\b\b\b\b\b\b\b\b\b\b\b\b",
      "\r51/51 [==============================] - 0s 5ms/step - loss: 154544.7812 - mae: 87.9139 - val_loss: 691978.2500 - val_mae: 152.4182\n",
      "Epoch 91/100\n\r 1/51 [..............................] - ETA: 0s - loss: 13013.0586 - mae: 54.1073",
      "\b\b\b\b\b\b\b\b\b\b\b\b\b\b\b\b\b\b\b\b\b\b\b\b\b\b\b\b\b\b\b\b\b\b\b\b\b\b\b\b\b\b\b\b\b\b\b\b\b\b\b\b\b\b\b\b\b\b\b\b\b\b\b\b\b\b\b\b\b\b\b\b\b\b\b\b\b\b\b\b\b\b",
      "\r11/51 [=====>........................] - ETA: 0s - loss: 32101.9707 - mae: 61.0124",
      "\b\b\b\b\b\b\b\b\b\b\b\b\b\b\b\b\b\b\b\b\b\b\b\b\b\b\b\b\b\b\b\b\b\b\b\b\b\b\b\b\b\b\b\b\b\b\b\b\b\b\b\b\b\b\b\b\b\b\b\b\b\b\b\b\b\b\b\b\b\b\b\b\b\b\b\b\b\b\b\b\b\b\r22/51 [===========>..................] - ETA: 0s - loss: 52916.3750 - mae: 67.3075",
      "\b\b\b\b\b\b\b\b\b\b\b\b\b\b\b\b\b\b\b\b\b\b\b\b\b\b\b\b\b\b\b\b\b\b\b\b\b\b\b\b\b\b\b\b\b\b\b\b\b\b\b\b\b\b\b\b\b\b\b\b\b\b\b\b\b\b\b\b\b\b\b\b\b\b\b\b\b\b\b\b\b\b\r35/51 [===================>..........] - ETA: 0s - loss: 147363.7500 - mae: 85.6293",
      "\b\b\b\b\b\b\b\b\b\b\b\b\b\b\b\b\b\b\b\b\b\b\b\b\b\b\b\b\b\b\b\b\b\b\b\b\b\b\b\b\b\b\b\b\b\b\b\b\b\b\b\b\b\b\b\b\b\b\b\b\b\b\b\b\b\b\b\b\b\b\b\b\b\b\b\b\b\b\b\b\b\b\b\r49/51 [===========================>..] - ETA: 0s - loss: 122849.2969 - mae: 80.5283",
      "\b\b\b\b\b\b\b\b\b\b\b\b\b\b\b\b\b\b\b\b\b\b\b\b\b\b\b\b\b\b\b\b\b\b\b\b\b\b\b\b\b\b\b\b\b\b\b\b\b\b\b\b\b\b\b\b\b\b\b\b\b\b\b\b\b\b\b\b\b\b\b\b\b\b\b\b\b\b\b\b\b\b\b\r51/51 [==============================] - 0s 5ms/step - loss: 151587.5938 - mae: 85.3126 - val_loss: 618597.4375 - val_mae: 153.4550\n",
      "Epoch 92/100\n\r 1/51 [..............................] - ETA: 0s - loss: 4411.7593 - mae: 39.5937",
      "\b\b\b\b\b\b\b\b\b\b\b\b\b\b\b\b\b\b\b\b\b\b\b\b\b\b\b\b\b\b\b\b\b\b\b\b\b\b\b\b\b\b\b\b\b\b\b\b\b\b\b\b\b\b\b\b\b\b\b\b\b\b\b\b\b\b\b\b\b\b\b\b\b\b\b\b\b\b\b\b\b\r14/51 [=======>......................] - ETA: 0s - loss: 176410.7344 - mae: 89.0037",
      "\b\b\b\b\b\b\b\b\b\b\b\b\b\b\b\b\b\b\b\b\b\b\b\b\b\b\b\b\b\b\b\b\b\b\b\b\b\b\b\b\b\b\b\b\b\b\b\b\b\b\b\b\b\b\b\b\b\b\b\b\b\b\b\b\b\b\b\b\b\b\b\b\b\b\b\b\b\b\b\b\b\b\b\r25/51 [=============>................] - ETA: 0s - loss: 127499.4609 - mae: 83.3875",
      "\b\b\b\b\b\b\b\b\b\b\b\b\b\b\b\b\b\b\b\b\b\b\b\b\b\b\b\b\b\b\b\b\b\b\b\b\b\b\b\b\b\b\b\b\b\b\b\b\b\b\b\b\b\b\b\b\b\b\b\b\b\b\b\b\b\b\b\b\b\b\b\b\b\b\b\b\b\b\b\b\b\b\b\r38/51 [=====================>........] - ETA: 0s - loss: 136734.7500 - mae: 82.3827",
      "\b\b\b\b\b\b\b\b\b\b\b\b\b\b\b\b\b\b\b\b\b\b\b\b\b\b\b\b\b\b\b\b\b\b\b\b\b\b\b\b\b\b\b\b\b\b\b\b\b\b\b\b\b\b\b\b\b\b\b\b\b\b\b\b\b\b\b\b\b\b\b\b\b\b\b\b\b\b\b\b\b\b\b\r51/51 [==============================] - 0s 5ms/step - loss: 131040.3203 - mae: 85.2136 - val_loss: 611580.1250 - val_mae: 154.3778\n",
      "Epoch 93/100\n\r 1/51 [..............................] - ETA: 0s - loss: 23979.5918 - mae: 59.0268",
      "\b\b\b\b\b\b\b\b\b\b\b\b\b\b\b\b\b\b\b\b\b\b\b\b\b\b\b\b\b\b\b\b\b\b\b\b\b\b\b\b\b\b\b\b\b\b\b\b\b\b\b\b\b\b\b\b\b\b\b\b\b\b\b\b\b\b\b\b\b\b\b\b\b\b\b\b\b\b\b\b\b\b\r12/51 [======>.......................] - ETA: 0s - loss: 61230.5742 - mae: 68.5774",
      "\b\b\b\b\b\b\b\b\b\b\b\b\b\b\b\b\b\b\b\b\b\b\b\b\b\b\b\b\b\b\b\b\b\b\b\b\b\b\b\b\b\b\b\b\b\b\b\b\b\b\b\b\b\b\b\b\b\b\b\b\b\b\b\b\b\b\b\b\b\b\b\b\b\b\b\b\b\b\b\b\b\b",
      "\r27/51 [==============>...............] - ETA: 0s - loss: 61647.4570 - mae: 69.1239",
      "\b\b\b\b\b\b\b\b\b\b\b\b\b\b\b\b\b\b\b\b\b\b\b\b\b\b\b\b\b\b\b\b\b\b\b\b\b\b\b\b\b\b\b\b\b\b\b\b\b\b\b\b\b\b\b\b\b\b\b\b\b\b\b\b\b\b\b\b\b\b\b\b\b\b\b\b\b\b\b\b\b\b\r40/51 [======================>.......] - ETA: 0s - loss: 91661.4844 - mae: 74.8539",
      "\b\b\b\b\b\b\b\b\b\b\b\b\b\b\b\b\b\b\b\b\b\b\b\b\b\b\b\b\b\b\b\b\b\b\b\b\b\b\b\b\b\b\b\b\b\b\b\b\b\b\b\b\b\b\b\b\b\b\b\b\b\b\b\b\b\b\b\b\b\b\b\b\b\b\b\b\b\b\b\b\b\b\r48/51 [===========================>..] - ETA: 0s - loss: 115788.1953 - mae: 81.4037",
      "\b\b\b\b\b\b\b\b\b\b\b\b\b\b\b\b\b\b\b\b\b\b\b\b\b\b\b\b\b\b\b\b\b\b\b\b\b\b\b\b\b\b\b\b\b\b\b\b\b\b\b\b\b\b\b\b\b\b\b\b\b\b\b\b\b\b\b\b\b\b\b\b\b\b\b\b\b\b\b\b\b\b\b\r51/51 [==============================] - 0s 6ms/step - loss: 128067.0391 - mae: 84.3488 - val_loss: 583236.4375 - val_mae: 147.0541\n",
      "Epoch 94/100\n\r 1/51 [..............................] - ETA: 0s - loss: 22949.4707 - mae: 72.1229",
      "\b\b\b\b\b\b\b\b\b\b\b\b\b\b\b\b\b\b\b\b\b\b\b\b\b\b\b\b\b\b\b\b\b\b\b\b\b\b\b\b\b\b\b\b\b\b\b\b\b\b\b\b\b\b\b\b\b\b\b\b\b\b\b\b\b\b\b\b\b\b\b\b\b\b\b\b\b\b\b\b\b\b",
      "\r13/51 [======>.......................] - ETA: 0s - loss: 74427.4062 - mae: 81.9809",
      "\b\b\b\b\b\b\b\b\b\b\b\b\b\b\b\b\b\b\b\b\b\b\b\b\b\b\b\b\b\b\b\b\b\b\b\b\b\b\b\b\b\b\b\b\b\b\b\b\b\b\b\b\b\b\b\b\b\b\b\b\b\b\b\b\b\b\b\b\b\b\b\b\b\b\b\b\b\b\b\b\b\b\r27/51 [==============>...............] - ETA: 0s - loss: 50669.2227 - mae: 72.0280",
      "\b\b\b\b\b\b\b\b\b\b\b\b\b\b\b\b\b\b\b\b\b\b\b\b\b\b\b\b\b\b\b\b\b\b\b\b\b\b\b\b\b\b\b\b\b\b\b\b\b\b\b\b\b\b\b\b\b\b\b\b\b\b\b\b\b\b\b\b\b\b\b\b\b\b\b\b\b\b\b\b\b\b\r42/51 [=======================>......] - ETA: 0s - loss: 116802.7031 - mae: 80.6881",
      "\b\b\b\b\b\b\b\b\b\b\b\b\b\b\b\b\b\b\b\b\b\b\b\b\b\b\b\b\b\b\b\b\b\b\b\b\b\b\b\b\b\b\b\b\b\b\b\b\b\b\b\b\b\b\b\b\b\b\b\b\b\b\b\b\b\b\b\b\b\b\b\b\b\b\b\b\b\b\b\b\b\b\b",
      "\r51/51 [==============================] - 0s 6ms/step - loss: 127490.1484 - mae: 84.9969 - val_loss: 559311.3750 - val_mae: 140.1681\n",
      "Epoch 95/100\n\r 1/51 [..............................] - ETA: 0s - loss: 313461.5000 - mae: 173.3852",
      "\b\b\b\b\b\b\b\b\b\b\b\b\b\b\b\b\b\b\b\b\b\b\b\b\b\b\b\b\b\b\b\b\b\b\b\b\b\b\b\b\b\b\b\b\b\b\b\b\b\b\b\b\b\b\b\b\b\b\b\b\b\b\b\b\b\b\b\b\b\b\b\b\b\b\b\b\b\b\b\b\b\b\b\b",
      "\r14/51 [=======>......................] - ETA: 0s - loss: 137609.9844 - mae: 95.5889 ",
      "\b\b\b\b\b\b\b\b\b\b\b\b\b\b\b\b\b\b\b\b\b\b\b\b\b\b\b\b\b\b\b\b\b\b\b\b\b\b\b\b\b\b\b\b\b\b\b\b\b\b\b\b\b\b\b\b\b\b\b\b\b\b\b\b\b\b\b\b\b\b\b\b\b\b\b\b\b\b\b\b\b\b\b\r29/51 [================>.............] - ETA: 0s - loss: 140693.7344 - mae: 90.7932",
      "\b\b\b\b\b\b\b\b\b\b\b\b\b\b\b\b\b\b\b\b\b\b\b\b\b\b\b\b\b\b\b\b\b\b\b\b\b\b\b\b\b\b\b\b\b\b\b\b\b\b\b\b\b\b\b\b\b\b\b\b\b\b\b\b\b\b\b\b\b\b\b\b\b\b\b\b\b\b\b\b\b\b\b\r46/51 [==========================>...] - ETA: 0s - loss: 135586.2656 - mae: 83.6812",
      "\b\b\b\b\b\b\b\b\b\b\b\b\b\b\b\b\b\b\b\b\b\b\b\b\b\b\b\b\b\b\b\b\b\b\b\b\b\b\b\b\b\b\b\b\b\b\b\b\b\b\b\b\b\b\b\b\b\b\b\b\b\b\b\b\b\b\b\b\b\b\b\b\b\b\b\b\b\b\b\b\b\b\b\r51/51 [==============================] - 0s 4ms/step - loss: 127821.0859 - mae: 82.1772 - val_loss: 532855.2500 - val_mae: 135.9964\n",
      "Epoch 96/100\n\r 1/51 [..............................] - ETA: 0s - loss: 25096.7695 - mae: 58.9914",
      "\b\b\b\b\b\b\b\b\b\b\b\b\b\b\b\b\b\b\b\b\b\b\b\b\b\b\b\b\b\b\b\b\b\b\b\b\b\b\b\b\b\b\b\b\b\b\b\b\b\b\b\b\b\b\b\b\b\b\b\b\b\b\b\b\b\b\b\b\b\b\b\b\b\b\b\b\b\b\b\b\b\b\r14/51 [=======>......................] - ETA: 0s - loss: 55766.9336 - mae: 56.4243",
      "\b\b\b\b\b\b\b\b\b\b\b\b\b\b\b\b\b\b\b\b\b\b\b\b\b\b\b\b\b\b\b\b\b\b\b\b\b\b\b\b\b\b\b\b\b\b\b\b\b\b\b\b\b\b\b\b\b\b\b\b\b\b\b\b\b\b\b\b\b\b\b\b\b\b\b\b\b\b\b\b\b\b",
      "\r22/51 [===========>..................] - ETA: 0s - loss: 75924.4297 - mae: 59.7360",
      "\b\b\b\b\b\b\b\b\b\b\b\b\b\b\b\b\b\b\b\b\b\b\b\b\b\b\b\b\b\b\b\b\b\b\b\b\b\b\b\b\b\b\b\b\b\b\b\b\b\b\b\b\b\b\b\b\b\b\b\b\b\b\b\b\b\b\b\b\b\b\b\b\b\b\b\b\b\b\b\b\b\b\r35/51 [===================>..........] - ETA: 0s - loss: 88579.1406 - mae: 71.5543",
      "\b\b\b\b\b\b\b\b\b\b\b\b\b\b\b\b\b\b\b\b\b\b\b\b\b\b\b\b\b\b\b\b\b\b\b\b\b\b\b\b\b\b\b\b\b\b\b\b\b\b\b\b\b\b\b\b\b\b\b\b\b\b\b\b\b\b\b\b\b\b\b\b\b\b\b\b\b\b\b\b\b\b\r50/51 [============================>.] - ETA: 0s - loss: 134973.2656 - mae: 86.3787",
      "\b\b\b\b\b\b\b\b\b\b\b\b\b\b\b\b\b\b\b\b\b\b\b\b\b\b\b\b\b\b\b\b\b\b\b\b\b\b\b\b\b\b\b\b\b\b\b\b\b\b\b\b\b\b\b\b\b\b\b\b\b\b\b\b\b\b\b\b\b\b\b\b\b\b\b\b\b\b\b\b\b\b\b\r51/51 [==============================] - 0s 5ms/step - loss: 132419.7812 - mae: 85.8151 - val_loss: 622128.1875 - val_mae: 149.3201\n",
      "Epoch 97/100\n\r 1/51 [..............................] - ETA: 0s - loss: 72152.1875 - mae: 124.9969",
      "\b\b\b\b\b\b\b\b\b\b\b\b\b\b\b\b\b\b\b\b\b\b\b\b\b\b\b\b\b\b\b\b\b\b\b\b\b\b\b\b\b\b\b\b\b\b\b\b\b\b\b\b\b\b\b\b\b\b\b\b\b\b\b\b\b\b\b\b\b\b\b\b\b\b\b\b\b\b\b\b\b\b\b\r15/51 [=======>......................] - ETA: 0s - loss: 64798.8633 - mae: 74.1869 ",
      "\b\b\b\b\b\b\b\b\b\b\b\b\b\b\b\b\b\b\b\b\b\b\b\b\b\b\b\b\b\b\b\b\b\b\b\b\b\b\b\b\b\b\b\b\b\b\b\b\b\b\b\b\b\b\b\b\b\b\b\b\b\b\b\b\b\b\b\b\b\b\b\b\b\b\b\b\b\b\b\b\b\b\r29/51 [================>.............] - ETA: 0s - loss: 147948.1875 - mae: 84.8151",
      "\b\b\b\b\b\b\b\b\b\b\b\b\b\b\b\b\b\b\b\b\b\b\b\b\b\b\b\b\b\b\b\b\b\b\b\b\b\b\b\b\b\b\b\b\b\b\b\b\b\b\b\b\b\b\b\b\b\b\b\b\b\b\b\b\b\b\b\b\b\b\b\b\b\b\b\b\b\b\b\b\b\b\b\r40/51 [======================>.......] - ETA: 0s - loss: 140246.6094 - mae: 85.5000",
      "\b\b\b\b\b\b\b\b\b\b\b\b\b\b\b\b\b\b\b\b\b\b\b\b\b\b\b\b\b\b\b\b\b\b\b\b\b\b\b\b\b\b\b\b\b\b\b\b\b\b\b\b\b\b\b\b\b\b\b\b\b\b\b\b\b\b\b\b\b\b\b\b\b\b\b\b\b\b\b\b\b\b\b\r51/51 [==============================] - ETA: 0s - loss: 121927.3594 - mae: 84.2570",
      "\b\b\b\b\b\b\b\b\b\b\b\b\b\b\b\b\b\b\b\b\b\b\b\b\b\b\b\b\b\b\b\b\b\b\b\b\b\b\b\b\b\b\b\b\b\b\b\b\b\b\b\b\b\b\b\b\b\b\b\b\b\b\b\b\b\b\b\b\b\b\b\b\b\b\b\b\b\b\b\b\b\b\b\r51/51 [==============================] - 0s 5ms/step - loss: 121927.3594 - mae: 84.2570 - val_loss: 562887.3750 - val_mae: 154.1678\n",
      "Epoch 98/100\n\r 1/51 [..............................] - ETA: 0s - loss: 7469.6240 - mae: 45.4111",
      "\b\b\b\b\b\b\b\b\b\b\b\b\b\b\b\b\b\b\b\b\b\b\b\b\b\b\b\b\b\b\b\b\b\b\b\b\b\b\b\b\b\b\b\b\b\b\b\b\b\b\b\b\b\b\b\b\b\b\b\b\b\b\b\b\b\b\b\b\b\b\b\b\b\b\b\b\b\b\b\b\b\r13/51 [======>.......................] - ETA: 0s - loss: 95510.8359 - mae: 88.4346",
      "\b\b\b\b\b\b\b\b\b\b\b\b\b\b\b\b\b\b\b\b\b\b\b\b\b\b\b\b\b\b\b\b\b\b\b\b\b\b\b\b\b\b\b\b\b\b\b\b\b\b\b\b\b\b\b\b\b\b\b\b\b\b\b\b\b\b\b\b\b\b\b\b\b\b\b\b\b\b\b\b\b\b\r25/51 [=============>................] - ETA: 0s - loss: 142186.9219 - mae: 87.4155",
      "\b\b\b\b\b\b\b\b\b\b\b\b\b\b\b\b\b\b\b\b\b\b\b\b\b\b\b\b\b\b\b\b\b\b\b\b\b\b\b\b\b\b\b\b\b\b\b\b\b\b\b\b\b\b\b\b\b\b\b\b\b\b\b\b\b\b\b\b\b\b\b\b\b\b\b\b\b\b\b\b\b\b\b\r37/51 [====================>.........] - ETA: 0s - loss: 163299.0781 - mae: 87.0552",
      "\b\b\b\b\b\b\b\b\b\b\b\b\b\b\b\b\b\b\b\b\b\b\b\b\b\b\b\b\b\b\b\b\b\b\b\b\b\b\b\b\b\b\b\b\b\b\b\b\b\b\b\b\b\b\b\b\b\b\b\b\b\b\b\b\b\b\b\b\b\b\b\b\b\b\b\b\b\b\b\b\b\b\b\r51/51 [==============================] - ETA: 0s - loss: 126643.0781 - mae: 81.2781",
      "\b\b\b\b\b\b\b\b\b\b\b\b\b\b\b\b\b\b\b\b\b\b\b\b\b\b\b\b\b\b\b\b\b\b\b\b\b\b\b\b\b\b\b\b\b\b\b\b\b\b\b\b\b\b\b\b\b\b\b\b\b\b\b\b\b\b\b\b\b\b\b\b\b\b\b\b\b\b\b\b\b\b\b\r51/51 [==============================] - 0s 5ms/step - loss: 126643.0781 - mae: 81.2781 - val_loss: 571422.2500 - val_mae: 143.6345\n",
      "Epoch 99/100\n\r 1/51 [..............................] - ETA: 0s - loss: 11627.5449 - mae: 61.2274",
      "\b\b\b\b\b\b\b\b\b\b\b\b\b\b\b\b\b\b\b\b\b\b\b\b\b\b\b\b\b\b\b\b\b\b\b\b\b\b\b\b\b\b\b\b\b\b\b\b\b\b\b\b\b\b\b\b\b\b\b\b\b\b\b\b\b\b\b\b\b\b\b\b\b\b\b\b\b\b\b\b\b\b\r16/51 [========>.....................] - ETA: 0s - loss: 59654.9766 - mae: 68.9120",
      "\b\b\b\b\b\b\b\b\b\b\b\b\b\b\b\b\b\b\b\b\b\b\b\b\b\b\b\b\b\b\b\b\b\b\b\b\b\b\b\b\b\b\b\b\b\b\b\b\b\b\b\b\b\b\b\b\b\b\b\b\b\b\b\b\b\b\b\b\b\b\b\b\b\b\b\b\b\b\b\b\b\b\r29/51 [================>.............] - ETA: 0s - loss: 47002.0703 - mae: 65.3908",
      "\b\b\b\b\b\b\b\b\b\b\b\b\b\b\b\b\b\b\b\b\b\b\b\b\b\b\b\b\b\b\b\b\b\b\b\b\b\b\b\b\b\b\b\b\b\b\b\b\b\b\b\b\b\b\b\b\b\b\b\b\b\b\b\b\b\b\b\b\b\b\b\b\b\b\b\b\b\b\b\b\b\b\r41/51 [=======================>......] - ETA: 0s - loss: 121750.7812 - mae: 82.5691",
      "\b\b\b\b\b\b\b\b\b\b\b\b\b\b\b\b\b\b\b\b\b\b\b\b\b\b\b\b\b\b\b\b\b\b\b\b\b\b\b\b\b\b\b\b\b\b\b\b\b\b\b\b\b\b\b\b\b\b\b\b\b\b\b\b\b\b\b\b\b\b\b\b\b\b\b\b\b\b\b\b\b\b\b",
      "\r51/51 [==============================] - 0s 5ms/step - loss: 121022.4609 - mae: 80.6117 - val_loss: 536926.3125 - val_mae: 148.1043\n",
      "Epoch 100/100\n\r 1/51 [..............................] - ETA: 0s - loss: 47394.2031 - mae: 72.3449",
      "\b\b\b\b\b\b\b\b\b\b\b\b\b\b\b\b\b\b\b\b\b\b\b\b\b\b\b\b\b\b\b\b\b\b\b\b\b\b\b\b\b\b\b\b\b\b\b\b\b\b\b\b\b\b\b\b\b\b\b\b\b\b\b\b\b\b\b\b\b\b\b\b\b\b\b\b\b\b\b\b\b\b\r13/51 [======>.......................] - ETA: 0s - loss: 32569.4062 - mae: 65.5079",
      "\b\b\b\b\b\b\b\b\b\b\b\b\b\b\b\b\b\b\b\b\b\b\b\b\b\b\b\b\b\b\b\b\b\b\b\b\b\b\b\b\b\b\b\b\b\b\b\b\b\b\b\b\b\b\b\b\b\b\b\b\b\b\b\b\b\b\b\b\b\b\b\b\b\b\b\b\b\b\b\b\b\b",
      "\r27/51 [==============>...............] - ETA: 0s - loss: 90224.8984 - mae: 79.3893",
      "\b\b\b\b\b\b\b\b\b\b\b\b\b\b\b\b\b\b\b\b\b\b\b\b\b\b\b\b\b\b\b\b\b\b\b\b\b\b\b\b\b\b\b\b\b\b\b\b\b\b\b\b\b\b\b\b\b\b\b\b\b\b\b\b\b\b\b\b\b\b\b\b\b\b\b\b\b\b\b\b\b\b\r40/51 [======================>.......] - ETA: 0s - loss: 119582.3359 - mae: 82.2663",
      "\b\b\b\b\b\b\b\b\b\b\b\b\b\b\b\b\b\b\b\b\b\b\b\b\b\b\b\b\b\b\b\b\b\b\b\b\b\b\b\b\b\b\b\b\b\b\b\b\b\b\b\b\b\b\b\b\b\b\b\b\b\b\b\b\b\b\b\b\b\b\b\b\b\b\b\b\b\b\b\b\b\b\b",
      "\r51/51 [==============================] - 0s 5ms/step - loss: 131013.2031 - mae: 82.1393 - val_loss: 529541.4375 - val_mae: 142.8495\n",
      "\r 1/16 [>.............................] - ETA: 0s - loss: 78111.9766 - mae: 97.8733",
      "\b\b\b\b\b\b\b\b\b\b\b\b\b\b\b\b\b\b\b\b\b\b\b\b\b\b\b\b\b\b\b\b\b\b\b\b\b\b\b\b\b\b\b\b\b\b\b\b\b\b\b\b\b\b\b\b\b\b\b\b\b\b\b\b\b\b\b\b\b\b\b\b\b\b\b\b\b\b\b\b\b\b\r16/16 [==============================] - 0s 2ms/step - loss: 592448.0625 - mae: 158.1625\n"
     ],
     "output_type": "stream"
    },
    {
     "data": {
      "text/plain": "[592448.0625, 158.16250610351562]"
     },
     "metadata": {},
     "output_type": "execute_result",
     "execution_count": 14
    }
   ],
   "source": [
    "import tensorflow as tf\n",
    "from tensorflow.keras import models, layers\n",
    "from tensorflow.keras.layers import Dropout\n",
    "from tensorflow.keras import utils\n",
    "from sklearn.preprocessing import StandardScaler\n",
    "from sklearn.model_selection import train_test_split\n",
    "\n",
    "X_train, X_test, y_train, y_test = train_test_split(X, y, test_size=0.2, random_state=42)\n",
    "scaler = StandardScaler().fit(X_train)\n",
    "x_train_scaled = scaler.transform(X_train)\n",
    "x_test_scaled = scaler.transform(X_test)\n",
    "\n",
    "model = models.Sequential()\n",
    "model.add(layers.Dense(64, activation=tf.nn.relu, input_dim=X_train.shape[1]))\n",
    "model.add(layers.Dense(64, activation=tf.nn.relu))\n",
    "model.add(layers.Dense(32, activation=tf.nn.relu))\n",
    "model.add(layers.Dense(16, activation=tf.nn.relu))\n",
    "model.add(layers.Dense(1))\n",
    "\n",
    "\n",
    "model.compile(optimizer='rmsprop', loss='mse', metrics=['mae'])\n",
    "model.fit(x_train_scaled, y_train, validation_split=0.2, epochs=100)\n",
    "\n",
    "model.evaluate(x_test_scaled, y_test)"
   ],
   "metadata": {
    "collapsed": false,
    "pycharm": {
     "name": "#%%\n",
     "is_executing": false
    }
   }
  },
  {
   "cell_type": "markdown",
   "source": [
    "In conclusion, the neural net gives Mean Absolute error of 158 cases and Mean squared error of around 600,000\n"
   ],
   "metadata": {
    "collapsed": false
   }
  }
 ],
 "metadata": {
  "language_info": {
   "codemirror_mode": {
    "name": "ipython",
    "version": 2
   },
   "file_extension": ".py",
   "mimetype": "text/x-python",
   "name": "python",
   "nbconvert_exporter": "python",
   "pygments_lexer": "ipython2",
   "version": "2.7.6"
  },
  "kernelspec": {
   "name": "python3",
   "language": "python",
   "display_name": "Python 3"
  },
  "pycharm": {
   "stem_cell": {
    "cell_type": "raw",
    "source": [],
    "metadata": {
     "collapsed": false
    }
   }
  }
 },
 "nbformat": 4,
 "nbformat_minor": 0
}