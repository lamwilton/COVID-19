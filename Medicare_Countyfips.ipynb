{
 "cells": [
  {
   "cell_type": "markdown",
   "metadata": {
    "collapsed": true,
    "pycharm": {
     "name": "#%% md\n"
    }
   },
   "source": [
    "## Extracting unique zipcodes from the medicare 2017 data with the city and state\n",
    "Data For zip code to CountyFIPS https://www.huduser.gov/portal/datasets/usps_crosswalk.html"
   ]
  },
  {
   "cell_type": "code",
   "execution_count": 15,
   "outputs": [
    {
     "name": "stderr",
     "output_type": "stream",
     "text": [
      "c:\\users\\administrator\\pycharmprojects\\covid\\venv\\lib\\site-packages\\IPython\\core\\interactiveshell.py:3062: DtypeWarning: Columns (10) have mixed types.Specify dtype option on import or set low_memory=False.\n",
      "  has_raised = await self.run_ast_nodes(code_ast.body, cell_name,\n"
     ]
    },
    {
     "data": {
      "text/plain": "      Zip_Code         City State_Code\n0        21502   CUMBERLAND         MD\n1        60201     EVANSTON         IL\n2        43623       TOLEDO         OH\n3        15825   BROOKVILLE         PA\n4        44106    CLEVELAND         OH\n...        ...          ...        ...\n34030    78613       AUSTIN         TX\n34031    81656  WODDY CREEK         CO\n34032    98029      SEATTLE         WA\n34033    56137   HERON LAKE         MN\n34034    85246      GILBERT         AZ\n\n[34035 rows x 3 columns]",
      "text/html": "<div>\n<style scoped>\n    .dataframe tbody tr th:only-of-type {\n        vertical-align: middle;\n    }\n\n    .dataframe tbody tr th {\n        vertical-align: top;\n    }\n\n    .dataframe thead th {\n        text-align: right;\n    }\n</style>\n<table border=\"1\" class=\"dataframe\">\n  <thead>\n    <tr style=\"text-align: right;\">\n      <th></th>\n      <th>Zip_Code</th>\n      <th>City</th>\n      <th>State_Code</th>\n    </tr>\n  </thead>\n  <tbody>\n    <tr>\n      <th>0</th>\n      <td>21502</td>\n      <td>CUMBERLAND</td>\n      <td>MD</td>\n    </tr>\n    <tr>\n      <th>1</th>\n      <td>60201</td>\n      <td>EVANSTON</td>\n      <td>IL</td>\n    </tr>\n    <tr>\n      <th>2</th>\n      <td>43623</td>\n      <td>TOLEDO</td>\n      <td>OH</td>\n    </tr>\n    <tr>\n      <th>3</th>\n      <td>15825</td>\n      <td>BROOKVILLE</td>\n      <td>PA</td>\n    </tr>\n    <tr>\n      <th>4</th>\n      <td>44106</td>\n      <td>CLEVELAND</td>\n      <td>OH</td>\n    </tr>\n    <tr>\n      <th>...</th>\n      <td>...</td>\n      <td>...</td>\n      <td>...</td>\n    </tr>\n    <tr>\n      <th>34030</th>\n      <td>78613</td>\n      <td>AUSTIN</td>\n      <td>TX</td>\n    </tr>\n    <tr>\n      <th>34031</th>\n      <td>81656</td>\n      <td>WODDY CREEK</td>\n      <td>CO</td>\n    </tr>\n    <tr>\n      <th>34032</th>\n      <td>98029</td>\n      <td>SEATTLE</td>\n      <td>WA</td>\n    </tr>\n    <tr>\n      <th>34033</th>\n      <td>56137</td>\n      <td>HERON LAKE</td>\n      <td>MN</td>\n    </tr>\n    <tr>\n      <th>34034</th>\n      <td>85246</td>\n      <td>GILBERT</td>\n      <td>AZ</td>\n    </tr>\n  </tbody>\n</table>\n<p>34035 rows × 3 columns</p>\n</div>"
     },
     "execution_count": 15,
     "metadata": {},
     "output_type": "execute_result"
    }
   ],
   "source": [
    "import pandas as pd\n",
    "\n",
    "medicare_df = pd.read_csv(\"Medicare_2017.csv\", thousands=',')\n",
    "medicare_df = medicare_df[['Zip_Code', 'City', 'State_Code']]\n",
    "medicare_df['Zip_Code'] = medicare_df['Zip_Code'].astype(str).str.slice(stop=5)\n",
    "medicare_df = medicare_df.fillna(0)\n",
    "medicare_df.drop_duplicates(inplace=True)\n",
    "medicare_df.reset_index(inplace=True, drop=True)\n",
    "medicare_df"
   ],
   "metadata": {
    "collapsed": false,
    "pycharm": {
     "name": "#%%\n"
    }
   }
  },
  {
   "cell_type": "code",
   "execution_count": 17,
   "outputs": [],
   "source": [
    "medicare_df.to_csv(\"Zip_code_index_from_Medicare_2017.csv\", index=False)"
   ],
   "metadata": {
    "collapsed": false,
    "pycharm": {
     "name": "#%%\n"
    }
   }
  },
  {
   "cell_type": "code",
   "execution_count": null,
   "outputs": [],
   "source": [
    "\n"
   ],
   "metadata": {
    "collapsed": false,
    "pycharm": {
     "name": "#%%\n"
    }
   }
  }
 ],
 "metadata": {
  "kernelspec": {
   "display_name": "Python 3",
   "language": "python",
   "name": "python3"
  },
  "language_info": {
   "codemirror_mode": {
    "name": "ipython",
    "version": 2
   },
   "file_extension": ".py",
   "mimetype": "text/x-python",
   "name": "python",
   "nbconvert_exporter": "python",
   "pygments_lexer": "ipython2",
   "version": "2.7.6"
  }
 },
 "nbformat": 4,
 "nbformat_minor": 0
}